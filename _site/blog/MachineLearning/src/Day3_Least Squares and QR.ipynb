{
 "cells": [
  {
   "cell_type": "markdown",
   "metadata": {},
   "source": [
    "# Day3_Least Squares and QR"
   ]
  },
  {
   "cell_type": "code",
   "execution_count": 60,
   "metadata": {},
   "outputs": [],
   "source": [
    "import scipy\n",
    "from scipy import linalg, matrix\n",
    "from scipy.linalg import lu\n",
    "import numpy as np"
   ]
  },
  {
   "cell_type": "code",
   "execution_count": 61,
   "metadata": {},
   "outputs": [],
   "source": [
    "import matplotlib.pyplot as plt\n",
    "%matplotlib inline"
   ]
  },
  {
   "cell_type": "markdown",
   "metadata": {},
   "source": [
    "## Matrix Operation"
   ]
  },
  {
   "cell_type": "markdown",
   "metadata": {},
   "source": [
    "### Scaling"
   ]
  },
  {
   "cell_type": "code",
   "execution_count": 103,
   "metadata": {},
   "outputs": [],
   "source": [
    "A = matrix([1,0]).T"
   ]
  },
  {
   "cell_type": "code",
   "execution_count": 104,
   "metadata": {},
   "outputs": [],
   "source": [
    "scale = matrix([[1/2, 0], [0, 1/2]])"
   ]
  },
  {
   "cell_type": "code",
   "execution_count": 105,
   "metadata": {},
   "outputs": [
    {
     "data": {
      "text/plain": [
       "matrix([[ 0.5],\n",
       "        [ 0. ]])"
      ]
     },
     "execution_count": 105,
     "metadata": {},
     "output_type": "execute_result"
    }
   ],
   "source": [
    "scale*A"
   ]
  },
  {
   "cell_type": "markdown",
   "metadata": {},
   "source": [
    "### Rotation"
   ]
  },
  {
   "cell_type": "code",
   "execution_count": 106,
   "metadata": {
    "scrolled": true
   },
   "outputs": [],
   "source": [
    "A = matrix([1,0]).T"
   ]
  },
  {
   "cell_type": "code",
   "execution_count": 107,
   "metadata": {},
   "outputs": [],
   "source": [
    "rotation = matrix([[0, -1], [1, 0]]) # 90도 회전"
   ]
  },
  {
   "cell_type": "code",
   "execution_count": 108,
   "metadata": {},
   "outputs": [
    {
     "data": {
      "text/plain": [
       "matrix([[0],\n",
       "        [1]])"
      ]
     },
     "execution_count": 108,
     "metadata": {},
     "output_type": "execute_result"
    }
   ],
   "source": [
    "rotation*A"
   ]
  },
  {
   "cell_type": "markdown",
   "metadata": {},
   "source": [
    "### Reflection"
   ]
  },
  {
   "cell_type": "code",
   "execution_count": 109,
   "metadata": {
    "scrolled": true
   },
   "outputs": [],
   "source": [
    "A = matrix([1,0]).T"
   ]
  },
  {
   "cell_type": "code",
   "execution_count": 110,
   "metadata": {},
   "outputs": [],
   "source": [
    "reflection = matrix([[-1, 0], [0, -1]])"
   ]
  },
  {
   "cell_type": "code",
   "execution_count": 111,
   "metadata": {},
   "outputs": [
    {
     "data": {
      "text/plain": [
       "matrix([[-1],\n",
       "        [ 0]])"
      ]
     },
     "execution_count": 111,
     "metadata": {},
     "output_type": "execute_result"
    }
   ],
   "source": [
    "reflection*A"
   ]
  },
  {
   "cell_type": "markdown",
   "metadata": {},
   "source": [
    "### Vector Plot"
   ]
  },
  {
   "cell_type": "code",
   "execution_count": 131,
   "metadata": {},
   "outputs": [],
   "source": [
    "def plot_vector(vector) :\n",
    "    origin = matrix([0, 0]).T\n",
    "    plt.figure(figsize=(5,5))\n",
    "    plt.quiver(*origin, *vector, angles='xy', scale_units='xy', scale=1)\n",
    "    plt.xlim(-5, 5)\n",
    "    plt.ylim(-5, 5)\n",
    "    plt.show()"
   ]
  },
  {
   "cell_type": "code",
   "execution_count": 132,
   "metadata": {},
   "outputs": [
    {
     "data": {
      "image/png": "[encoded data removed]",
      "text/plain": [
       "<matplotlib.figure.Figure at 0x215f814c5f8>"
      ]
     },
     "metadata": {},
     "output_type": "display_data"
    }
   ],
   "source": [
    "vector = matrix([2, 2]).T\n",
    "plot_vector(vector)"
   ]
  },
  {
   "cell_type": "code",
   "execution_count": 133,
   "metadata": {},
   "outputs": [
    {
     "data": {
      "image/png": "[encoded data removed]",
      "text/plain": [
       "<matplotlib.figure.Figure at 0x215f7f10278>"
      ]
     },
     "metadata": {},
     "output_type": "display_data"
    }
   ],
   "source": [
    "vector_new = rotation*scale*vector\n",
    "plot_vector(vector_new)"
   ]
  },
  {
   "cell_type": "markdown",
   "metadata": {},
   "source": [
    "## Linear Independence"
   ]
  },
  {
   "cell_type": "code",
   "execution_count": 197,
   "metadata": {},
   "outputs": [],
   "source": [
    "vector1 = matrix([1, 2, 3]).T\n",
    "vector2 = matrix([2, 4, 6]).T"
   ]
  },
  {
   "cell_type": "code",
   "execution_count": 204,
   "metadata": {},
   "outputs": [
    {
     "data": {
      "text/plain": [
       "matrix([[ True]], dtype=bool)"
      ]
     },
     "execution_count": 204,
     "metadata": {},
     "output_type": "execute_result"
    }
   ],
   "source": [
    "(sum(sum(vector1/vector2)/3 == (vector1/vector2)) == 3)"
   ]
  },
  {
   "cell_type": "markdown",
   "metadata": {},
   "source": [
    "## Least Squares"
   ]
  },
  {
   "cell_type": "code",
   "execution_count": 186,
   "metadata": {},
   "outputs": [],
   "source": [
    "A = matrix([[1, 2], [1,3], [0,0]])\n",
    "b = matrix([4,5,6]).T"
   ]
  },
  {
   "cell_type": "code",
   "execution_count": 190,
   "metadata": {},
   "outputs": [],
   "source": [
    "x, error, _, _ = linalg.lstsq(A, b)"
   ]
  },
  {
   "cell_type": "code",
   "execution_count": 195,
   "metadata": {},
   "outputs": [
    {
     "data": {
      "text/plain": [
       "array([[ 2.],\n",
       "       [ 1.]])"
      ]
     },
     "execution_count": 195,
     "metadata": {},
     "output_type": "execute_result"
    }
   ],
   "source": [
    "x"
   ]
  },
  {
   "cell_type": "code",
   "execution_count": 194,
   "metadata": {},
   "outputs": [
    {
     "data": {
      "text/plain": [
       "matrix([[ 4.],\n",
       "        [ 5.],\n",
       "        [ 0.]])"
      ]
     },
     "execution_count": 194,
     "metadata": {},
     "output_type": "execute_result"
    }
   ],
   "source": [
    "A*np.asmatrix(x)"
   ]
  },
  {
   "cell_type": "code",
   "execution_count": 192,
   "metadata": {},
   "outputs": [
    {
     "data": {
      "text/plain": [
       "array([ 36.])"
      ]
     },
     "execution_count": 192,
     "metadata": {},
     "output_type": "execute_result"
    }
   ],
   "source": [
    "error"
   ]
  },
  {
   "cell_type": "markdown",
   "metadata": {},
   "source": [
    "## QR-Factorization"
   ]
  },
  {
   "cell_type": "code",
   "execution_count": 205,
   "metadata": {},
   "outputs": [],
   "source": [
    "A = matrix([[-1, -1, 1], [1, 3, 3], [-1, -1, 5], [1, 3, 7]])"
   ]
  },
  {
   "cell_type": "code",
   "execution_count": 206,
   "metadata": {},
   "outputs": [
    {
     "data": {
      "text/plain": [
       "matrix([[-1, -1,  1],\n",
       "        [ 1,  3,  3],\n",
       "        [-1, -1,  5],\n",
       "        [ 1,  3,  7]])"
      ]
     },
     "execution_count": 206,
     "metadata": {},
     "output_type": "execute_result"
    }
   ],
   "source": [
    "A"
   ]
  },
  {
   "cell_type": "code",
   "execution_count": 207,
   "metadata": {},
   "outputs": [],
   "source": [
    "Q, R = linalg.qr(A)"
   ]
  },
  {
   "cell_type": "code",
   "execution_count": 208,
   "metadata": {},
   "outputs": [
    {
     "data": {
      "text/plain": [
       "matrix([[-0.5, -0.5,  0.5,  0.5],\n",
       "        [ 0.5, -0.5,  0.5, -0.5],\n",
       "        [-0.5, -0.5, -0.5, -0.5],\n",
       "        [ 0.5, -0.5, -0.5,  0.5]])"
      ]
     },
     "execution_count": 208,
     "metadata": {},
     "output_type": "execute_result"
    }
   ],
   "source": [
    "Q = np.asmatrix(Q)\n",
    "Q"
   ]
  },
  {
   "cell_type": "code",
   "execution_count": 209,
   "metadata": {
    "scrolled": true
   },
   "outputs": [
    {
     "data": {
      "text/plain": [
       "matrix([[ 2.,  4.,  2.],\n",
       "        [ 0., -2., -8.],\n",
       "        [ 0.,  0., -4.],\n",
       "        [ 0.,  0.,  0.]])"
      ]
     },
     "execution_count": 209,
     "metadata": {},
     "output_type": "execute_result"
    }
   ],
   "source": [
    "R = np.asmatrix(R)\n",
    "R"
   ]
  },
  {
   "cell_type": "code",
   "execution_count": 210,
   "metadata": {},
   "outputs": [
    {
     "data": {
      "text/plain": [
       "matrix([[-1., -1.,  1.],\n",
       "        [ 1.,  3.,  3.],\n",
       "        [-1., -1.,  5.],\n",
       "        [ 1.,  3.,  7.]])"
      ]
     },
     "execution_count": 210,
     "metadata": {},
     "output_type": "execute_result"
    }
   ],
   "source": [
    "Q*R"
   ]
  },
  {
   "cell_type": "markdown",
   "metadata": {},
   "source": [
    "## Applications"
   ]
  },
  {
   "cell_type": "markdown",
   "metadata": {},
   "source": [
    "@Solubility Data\n",
    "\n",
    "Tetko et al. (2001) and Huuskonen (2000) investigated a set of compounds with corresponding experimental solubility values using complex sets of descriptors. They used linear regression and neural network models to estimate the relationship between chemical structure and solubility. For our analyses, we will use 1267 compounds and a set of more understandable descriptors that fall into one of three groups: 208 binary \"fingerprints\" that indicate the presence or absence of a particular chemical sub-structure, 16 count descriptors (such as the number of bonds or the number of Bromine atoms) and 4 continuous descriptors (such as molecular weight or surface area).\n",
    "\n",
    "1267 observation (951+316)\n",
    "\n",
    "228 mixed variables\n",
    "\n",
    "www.rdocumentation.org/packages/AppliedPredictiveModeling/versions/1.1-6/topics/solubility"
   ]
  },
  {
   "cell_type": "code",
   "execution_count": 211,
   "metadata": {},
   "outputs": [
    {
     "name": "stdout",
     "output_type": "stream",
     "text": [
      "Data Loaded\n"
     ]
    }
   ],
   "source": [
    "import pandas as pd\n",
    "from sklearn import linear_model\n",
    "\n",
    "data = {}\n",
    "f_list = [\"solTestX\", \"solTestY\", \"solTrainX\", \"solTrainY\"]\n",
    "\n",
    "for i in f_list :\n",
    "    data[i] = pd.read_csv(i+\".csv\", index_col=0)\n",
    "    \n",
    "print(\"Data Loaded\")"
   ]
  },
  {
   "cell_type": "code",
   "execution_count": 212,
   "metadata": {},
   "outputs": [
    {
     "name": "stdout",
     "output_type": "stream",
     "text": [
      "train data :  (951, 228)\n",
      "train label :  (951, 1)\n",
      "test data :  (316, 228)\n",
      "test label :  (316, 1)\n"
     ]
    }
   ],
   "source": [
    "train_data = data[\"solTrainX\"]\n",
    "train_label = data[\"solTrainY\"]\n",
    "test_data = data[\"solTestX\"]\n",
    "test_label = data[\"solTestY\"]\n",
    "\n",
    "print(\"train data : \", train_data.shape)\n",
    "print(\"train label : \", train_label.shape)\n",
    "print(\"test data : \", test_data.shape)\n",
    "print(\"test label : \", test_label.shape)\n",
    "\n",
    "arr = train_data.columns"
   ]
  },
  {
   "cell_type": "code",
   "execution_count": 213,
   "metadata": {},
   "outputs": [
    {
     "data": {
      "text/html": [
       "<div>\n",
       "<style>\n",
       "    .dataframe thead tr:only-child th {\n",
       "        text-align: right;\n",
       "    }\n",
       "\n",
       "    .dataframe thead th {\n",
       "        text-align: left;\n",
       "    }\n",
       "\n",
       "    .dataframe tbody tr th {\n",
       "        vertical-align: top;\n",
       "    }\n",
       "</style>\n",
       "<table border=\"1\" class=\"dataframe\">\n",
       "  <thead>\n",
       "    <tr style=\"text-align: right;\">\n",
       "      <th></th>\n",
       "      <th>FP001</th>\n",
       "      <th>FP002</th>\n",
       "      <th>FP003</th>\n",
       "      <th>FP004</th>\n",
       "      <th>FP005</th>\n",
       "      <th>FP006</th>\n",
       "      <th>FP007</th>\n",
       "      <th>FP008</th>\n",
       "      <th>FP009</th>\n",
       "      <th>FP010</th>\n",
       "      <th>...</th>\n",
       "      <th>NumCarbon</th>\n",
       "      <th>NumNitrogen</th>\n",
       "      <th>NumOxygen</th>\n",
       "      <th>NumSulfer</th>\n",
       "      <th>NumChlorine</th>\n",
       "      <th>NumHalogen</th>\n",
       "      <th>NumRings</th>\n",
       "      <th>HydrophilicFactor</th>\n",
       "      <th>SurfaceArea1</th>\n",
       "      <th>SurfaceArea2</th>\n",
       "    </tr>\n",
       "  </thead>\n",
       "  <tbody>\n",
       "    <tr>\n",
       "      <th>20</th>\n",
       "      <td>1</td>\n",
       "      <td>0</td>\n",
       "      <td>0</td>\n",
       "      <td>1</td>\n",
       "      <td>0</td>\n",
       "      <td>0</td>\n",
       "      <td>0</td>\n",
       "      <td>0</td>\n",
       "      <td>1</td>\n",
       "      <td>1</td>\n",
       "      <td>...</td>\n",
       "      <td>2</td>\n",
       "      <td>0</td>\n",
       "      <td>2</td>\n",
       "      <td>0</td>\n",
       "      <td>1</td>\n",
       "      <td>1</td>\n",
       "      <td>0</td>\n",
       "      <td>0.492</td>\n",
       "      <td>37.30</td>\n",
       "      <td>37.30</td>\n",
       "    </tr>\n",
       "    <tr>\n",
       "      <th>21</th>\n",
       "      <td>1</td>\n",
       "      <td>0</td>\n",
       "      <td>1</td>\n",
       "      <td>1</td>\n",
       "      <td>0</td>\n",
       "      <td>1</td>\n",
       "      <td>0</td>\n",
       "      <td>0</td>\n",
       "      <td>0</td>\n",
       "      <td>0</td>\n",
       "      <td>...</td>\n",
       "      <td>3</td>\n",
       "      <td>1</td>\n",
       "      <td>2</td>\n",
       "      <td>0</td>\n",
       "      <td>0</td>\n",
       "      <td>0</td>\n",
       "      <td>0</td>\n",
       "      <td>1.317</td>\n",
       "      <td>52.32</td>\n",
       "      <td>52.32</td>\n",
       "    </tr>\n",
       "    <tr>\n",
       "      <th>23</th>\n",
       "      <td>0</td>\n",
       "      <td>1</td>\n",
       "      <td>0</td>\n",
       "      <td>0</td>\n",
       "      <td>1</td>\n",
       "      <td>0</td>\n",
       "      <td>0</td>\n",
       "      <td>0</td>\n",
       "      <td>0</td>\n",
       "      <td>1</td>\n",
       "      <td>...</td>\n",
       "      <td>6</td>\n",
       "      <td>0</td>\n",
       "      <td>2</td>\n",
       "      <td>0</td>\n",
       "      <td>0</td>\n",
       "      <td>0</td>\n",
       "      <td>1</td>\n",
       "      <td>0.846</td>\n",
       "      <td>40.46</td>\n",
       "      <td>40.46</td>\n",
       "    </tr>\n",
       "    <tr>\n",
       "      <th>25</th>\n",
       "      <td>0</td>\n",
       "      <td>0</td>\n",
       "      <td>1</td>\n",
       "      <td>0</td>\n",
       "      <td>0</td>\n",
       "      <td>1</td>\n",
       "      <td>0</td>\n",
       "      <td>0</td>\n",
       "      <td>0</td>\n",
       "      <td>0</td>\n",
       "      <td>...</td>\n",
       "      <td>5</td>\n",
       "      <td>2</td>\n",
       "      <td>0</td>\n",
       "      <td>0</td>\n",
       "      <td>0</td>\n",
       "      <td>0</td>\n",
       "      <td>1</td>\n",
       "      <td>0.984</td>\n",
       "      <td>24.06</td>\n",
       "      <td>24.06</td>\n",
       "    </tr>\n",
       "    <tr>\n",
       "      <th>28</th>\n",
       "      <td>1</td>\n",
       "      <td>1</td>\n",
       "      <td>0</td>\n",
       "      <td>1</td>\n",
       "      <td>1</td>\n",
       "      <td>1</td>\n",
       "      <td>0</td>\n",
       "      <td>1</td>\n",
       "      <td>0</td>\n",
       "      <td>0</td>\n",
       "      <td>...</td>\n",
       "      <td>6</td>\n",
       "      <td>2</td>\n",
       "      <td>1</td>\n",
       "      <td>0</td>\n",
       "      <td>0</td>\n",
       "      <td>0</td>\n",
       "      <td>1</td>\n",
       "      <td>0.843</td>\n",
       "      <td>55.98</td>\n",
       "      <td>55.98</td>\n",
       "    </tr>\n",
       "  </tbody>\n",
       "</table>\n",
       "<p>5 rows × 228 columns</p>\n",
       "</div>"
      ],
      "text/plain": [
       "    FP001  FP002  FP003  FP004  FP005  FP006  FP007  FP008  FP009  FP010  \\\n",
       "20      1      0      0      1      0      0      0      0      1      1   \n",
       "21      1      0      1      1      0      1      0      0      0      0   \n",
       "23      0      1      0      0      1      0      0      0      0      1   \n",
       "25      0      0      1      0      0      1      0      0      0      0   \n",
       "28      1      1      0      1      1      1      0      1      0      0   \n",
       "\n",
       "        ...       NumCarbon  NumNitrogen  NumOxygen  NumSulfer  NumChlorine  \\\n",
       "20      ...               2            0          2          0            1   \n",
       "21      ...               3            1          2          0            0   \n",
       "23      ...               6            0          2          0            0   \n",
       "25      ...               5            2          0          0            0   \n",
       "28      ...               6            2          1          0            0   \n",
       "\n",
       "    NumHalogen  NumRings  HydrophilicFactor  SurfaceArea1  SurfaceArea2  \n",
       "20           1         0              0.492         37.30         37.30  \n",
       "21           0         0              1.317         52.32         52.32  \n",
       "23           0         1              0.846         40.46         40.46  \n",
       "25           0         1              0.984         24.06         24.06  \n",
       "28           0         1              0.843         55.98         55.98  \n",
       "\n",
       "[5 rows x 228 columns]"
      ]
     },
     "execution_count": 213,
     "metadata": {},
     "output_type": "execute_result"
    }
   ],
   "source": [
    "data[\"solTestX\"].head()"
   ]
  },
  {
   "cell_type": "code",
   "execution_count": 246,
   "metadata": {},
   "outputs": [
    {
     "data": {
      "text/html": [
       "<div>\n",
       "<style>\n",
       "    .dataframe thead tr:only-child th {\n",
       "        text-align: right;\n",
       "    }\n",
       "\n",
       "    .dataframe thead th {\n",
       "        text-align: left;\n",
       "    }\n",
       "\n",
       "    .dataframe tbody tr th {\n",
       "        vertical-align: top;\n",
       "    }\n",
       "</style>\n",
       "<table border=\"1\" class=\"dataframe\">\n",
       "  <thead>\n",
       "    <tr style=\"text-align: right;\">\n",
       "      <th></th>\n",
       "      <th>x</th>\n",
       "    </tr>\n",
       "  </thead>\n",
       "  <tbody>\n",
       "    <tr>\n",
       "      <th>1</th>\n",
       "      <td>0.93</td>\n",
       "    </tr>\n",
       "    <tr>\n",
       "      <th>2</th>\n",
       "      <td>0.85</td>\n",
       "    </tr>\n",
       "    <tr>\n",
       "      <th>3</th>\n",
       "      <td>0.81</td>\n",
       "    </tr>\n",
       "    <tr>\n",
       "      <th>4</th>\n",
       "      <td>0.74</td>\n",
       "    </tr>\n",
       "    <tr>\n",
       "      <th>5</th>\n",
       "      <td>0.61</td>\n",
       "    </tr>\n",
       "  </tbody>\n",
       "</table>\n",
       "</div>"
      ],
      "text/plain": [
       "      x\n",
       "1  0.93\n",
       "2  0.85\n",
       "3  0.81\n",
       "4  0.74\n",
       "5  0.61"
      ]
     },
     "execution_count": 246,
     "metadata": {},
     "output_type": "execute_result"
    }
   ],
   "source": [
    "data[\"solTestY\"].head()"
   ]
  },
  {
   "cell_type": "code",
   "execution_count": 220,
   "metadata": {},
   "outputs": [
    {
     "data": {
      "text/plain": [
       "LinearRegression(copy_X=True, fit_intercept=True, n_jobs=1, normalize=False)"
      ]
     },
     "execution_count": 220,
     "metadata": {},
     "output_type": "execute_result"
    }
   ],
   "source": [
    "model = linear_model.LinearRegression()\n",
    "model.fit(train_data, train_label)"
   ]
  },
  {
   "cell_type": "code",
   "execution_count": 228,
   "metadata": {},
   "outputs": [],
   "source": [
    "predict_label = model.predict(test_data)"
   ]
  },
  {
   "cell_type": "code",
   "execution_count": 251,
   "metadata": {},
   "outputs": [
    {
     "data": {
      "image/png": "[encoded data removed]",
      "text/plain": [
       "<matplotlib.figure.Figure at 0x215fb1cee80>"
      ]
     },
     "metadata": {},
     "output_type": "display_data"
    }
   ],
   "source": [
    "plt.scatter(predict_label, test_label.values)\n",
    "\n",
    "plt.title('Predict & Real', fontdict={'size':15})\n",
    "plt.xlabel('Real')\n",
    "plt.ylabel('Predict')\n",
    "\n",
    "plt.xlim(-10, 3) \n",
    "plt.ylim(-10, 3)\n",
    "\n",
    "plt.plot(test_label, test_label, 'r-') \n",
    "plt.show()"
   ]
  },
  {
   "cell_type": "code",
   "execution_count": 231,
   "metadata": {},
   "outputs": [
    {
     "name": "stdout",
     "output_type": "stream",
     "text": [
      "R2 Score =  0.842905621876\n"
     ]
    }
   ],
   "source": [
    "from sklearn import metrics\n",
    "print(\"R2 Score = \", metrics.r2_score(predict_label, test_label))"
   ]
  },
  {
   "cell_type": "code",
   "execution_count": 240,
   "metadata": {
    "scrolled": false
   },
   "outputs": [
    {
     "data": {
      "text/plain": [
       "array([[  2.25633815e-01,   9.78081747e-02,  -1.11170744e-01,\n",
       "         -4.51897913e-01,  -4.34225202e-01,   6.79230364e-02,\n",
       "         -7.57787871e-02,   2.90590908e-02,  -5.78940294e-01,\n",
       "          6.62882405e-01,   1.39489100e-01,  -1.15812541e-01,\n",
       "         -4.66803216e-01,   4.92224645e-01,  -3.87955761e-01,\n",
       "          7.08993864e-02,  -1.73365118e-01,  -4.83347467e-01,\n",
       "          1.13418263e-01,  -1.03645477e-02,   1.07869864e-01,\n",
       "         -4.24774238e-02,  -4.69876755e-01,  -5.58804565e-01,\n",
       "          2.64076886e-01,   3.39241208e-01,   2.14498523e-03,\n",
       "          5.88892802e-02,  -5.50683429e-02,  -1.84285090e-01,\n",
       "          2.31169806e-01,  -1.34080567e+00,   8.93020980e-01,\n",
       "         -3.77451127e-01,  -1.71922623e-01,  -2.11431327e-02,\n",
       "          6.76135720e-02,   2.45230928e-01,  -2.07237267e-01,\n",
       "          6.23388955e-01,  -2.61059386e-01,  -8.18857881e-02,\n",
       "          5.39851352e-01,  -4.21540007e-01,   1.15979832e-01,\n",
       "         -1.61295086e-01,   6.37115261e-02,   3.35818159e-01,\n",
       "          4.77903488e-03,  -1.41145171e-01,   2.78532209e-01,\n",
       "         -2.18216238e-01,   2.02610985e-01,  -3.08945443e-02,\n",
       "         -2.76877004e-01,  -2.94950639e-01,  -3.37933441e-02,\n",
       "          1.64631309e-01,  -1.40128296e-01,   2.88677397e-01,\n",
       "         -6.19864887e-02,  -1.96206695e-01,   9.89106555e-01,\n",
       "          2.51498212e-01,  -2.14786388e-01,   1.81493271e-01,\n",
       "         -2.43825902e-01,   1.73637671e-01,  -4.12540803e-02,\n",
       "          4.64596315e-02,   1.55819452e-01,   7.57871539e-01,\n",
       "         -5.99307502e-01,   2.34455657e-01,   1.91893543e-01,\n",
       "          4.48250725e-01,   4.02645673e-02,  -3.13271912e-01,\n",
       "          5.26622033e-01,   1.38880350e-01,  -4.09692922e-01,\n",
       "         -9.51800825e-02,  -5.28147888e-01,   4.11216257e-01,\n",
       "         -4.22363904e-01,  -1.44708012e-02,  -4.65918603e-01,\n",
       "          2.46556871e-01,   2.67141470e-01,  -1.91673579e-01,\n",
       "          2.64643082e-01,   4.19910850e-02,   2.39496844e-01,\n",
       "         -2.45947218e-01,   1.62156678e-02,  -2.29423741e-01,\n",
       "         -4.10151066e-01,  -2.94425794e-01,   9.51606754e-02,\n",
       "         -4.97520597e-01,  -1.72710212e-01,   1.10025682e-03,\n",
       "         -1.72540461e-01,  -2.05926183e-01,  -1.67430109e-01,\n",
       "         -5.82425611e-02,   3.95559191e-01,  -2.03412029e-01,\n",
       "          7.10574134e-01,   2.80569810e-01,  -6.11644777e-01,\n",
       "          1.97914833e-01,   1.41094486e-01,  -9.62046868e-02,\n",
       "         -2.73946408e-01,  -1.00663837e-01,   3.66229521e-01,\n",
       "         -1.69240649e-01,   4.26502328e-01,  -1.23874343e-01,\n",
       "         -1.33216538e-01,   1.71947653e-01,  -7.21472961e-03,\n",
       "          2.16311002e-01,  -6.47385409e-02,  -5.58109370e-01,\n",
       "         -5.01702956e-01,  -1.96759085e-01,  -7.24169132e-02,\n",
       "         -3.93632241e-01,   1.60339454e-01,  -1.03715467e-01,\n",
       "         -2.89860069e-01,  -1.28668637e-01,   2.29915428e-01,\n",
       "          2.63150264e-02,  -2.82043899e-01,  -4.92838117e-02,\n",
       "         -3.67195949e-01,   1.07806209e-01,   2.28867461e-01,\n",
       "          6.28416168e-01,   7.97087580e-01,   4.68054626e-01,\n",
       "         -4.00645633e-01,  -1.57726207e-01,   1.63829813e-01,\n",
       "         -2.49129476e-01,  -4.39989848e-02,   1.78918396e-02,\n",
       "          1.94111415e-01,  -3.79750053e-01,   3.88410823e-03,\n",
       "         -7.55157812e-01,   2.32073528e-01,  -4.29512681e-01,\n",
       "         -5.76434645e-01,   2.58008691e-01,   2.21783907e-01,\n",
       "          5.78338252e-02,  -3.58823213e-01,   2.88283201e-02,\n",
       "          3.66592815e-01,   6.54511288e-01,   3.72727191e-01,\n",
       "         -3.58457848e-03,  -5.62497928e-01,  -3.05519849e-02,\n",
       "         -7.61004324e-02,  -2.13826994e-01,   3.75686740e-01,\n",
       "         -3.05497487e-01,   4.63524620e-01,  -1.37221365e-01,\n",
       "          6.79565202e-02,   6.27573128e-01,  -9.10801467e-02,\n",
       "          2.92683448e-01,  -1.33748326e-01,  -6.08198318e-01,\n",
       "          4.44955229e-01,   6.12626142e-02,   4.15899834e-01,\n",
       "          3.74223093e-01,  -2.00210113e-01,  -1.92099547e-01,\n",
       "          5.78091304e-01,   1.79696999e-01,  -3.86328224e-01,\n",
       "          4.72742966e-02,   2.12427915e-01,  -2.59312223e-01,\n",
       "          1.27564129e-01,   2.10008244e-01,   2.85532297e-02,\n",
       "          4.57935645e-01,   5.36343137e-02,   4.58392737e-02,\n",
       "         -9.08237439e-02,  -1.07459887e-01,  -4.34357419e-01,\n",
       "          6.33658800e-01,   4.32684919e-01,  -2.42687372e-01,\n",
       "          1.61420844e-01,  -7.48995025e-02,   9.32779274e-02,\n",
       "         -7.01368433e-01,  -4.52004593e-03,   1.41807450e+10,\n",
       "         -1.18039381e+10,  -3.13727077e+09,   7.60463878e+08,\n",
       "          1.47993437e-01,  -2.00343790e-01,   1.02192869e-01,\n",
       "         -2.16241033e-01,  -1.10434742e+10,   9.35386980e-02,\n",
       "          1.03673094e+00,   1.26052758e+00,   1.09616625e-01,\n",
       "         -3.99852850e-01,   4.72790988e-01,   2.37680690e+09,\n",
       "          9.30178862e-02,  -2.01466746e-02,  -1.14435389e-03]])"
      ]
     },
     "execution_count": 240,
     "metadata": {},
     "output_type": "execute_result"
    }
   ],
   "source": [
    "model.coef_"
   ]
  },
  {
   "cell_type": "code",
   "execution_count": 242,
   "metadata": {},
   "outputs": [
    {
     "data": {
      "text/plain": [
       "array([ -2.37680690e+09])"
      ]
     },
     "execution_count": 242,
     "metadata": {},
     "output_type": "execute_result"
    }
   ],
   "source": [
    "model.intercept_"
   ]
  },
  {
   "cell_type": "code",
   "execution_count": 247,
   "metadata": {},
   "outputs": [
    {
     "name": "stdout",
     "output_type": "stream",
     "text": [
      "Formula : \n",
      "\n",
      "x  =  0.225633815314 * FP001 + 0.0978081746931 * FP002 + -0.111170744124 * FP003 + -0.451897912685 * FP004 + -0.434225201554 * FP005 + 0.0679230364387 * FP006 + -0.0757787870995 * FP007 + 0.0290590908435 * FP008 + -0.578940293766 * FP009 + 0.662882405166 * FP010 + 0.139489099518 * FP011 + -0.115812540674 * FP012 + -0.466803216376 * FP013 + 0.492224645201 * FP014 + -0.387955761165 * FP015 + 0.0708993863904 * FP016 + -0.173365118087 * FP017 + -0.483347466601 * FP018 + 0.113418262761 * FP019 + -0.0103645476795 * FP020 + 0.107869864179 * FP021 + -0.0424774238465 * FP022 + -0.469876755089 * FP023 + -0.558804565223 * FP024 + 0.264076886233 * FP025 + 0.339241208169 * FP026 + 0.00214498522704 * FP027 + 0.0588892802284 * FP028 + -0.0550683428724 * FP029 + -0.184285089662 * FP030 + 0.23116980566 * FP031 + -1.34080566535 * FP032 + 0.893020979774 * FP033 + -0.377451127215 * FP034 + -0.171922623476 * FP035 + -0.0211431327374 * FP036 + 0.0676135719768 * FP037 + 0.245230928254 * FP038 + -0.207237267444 * FP039 + 0.623388955496 * FP040 + -0.261059386004 * FP041 + -0.0818857880594 * FP042 + 0.539851352297 * FP043 + -0.421540007136 * FP044 + 0.11597983243 * FP045 + -0.161295086451 * FP046 + 0.0637115261387 * FP047 + 0.335818159089 * FP048 + 0.00477903488381 * FP049 + -0.141145171361 * FP050 + 0.278532209328 * FP051 + -0.218216238351 * FP052 + 0.202610985343 * FP053 + -0.0308945443029 * FP054 + -0.276877003519 * FP055 + -0.294950638721 * FP056 + -0.0337933441264 * FP057 + 0.164631309029 * FP058 + -0.140128295848 * FP059 + 0.2886773968 * FP060 + -0.0619864887413 * FP061 + -0.196206695425 * FP062 + 0.989106554759 * FP063 + 0.251498211746 * FP064 + -0.214786387678 * FP065 + 0.181493270604 * FP066 + -0.243825902414 * FP067 + 0.173637671028 * FP068 + -0.0412540803407 * FP069 + 0.0464596315368 * FP070 + 0.155819452014 * FP071 + 0.757871538784 * FP072 + -0.599307501972 * FP073 + 0.234455657081 * FP074 + 0.191893542645 * FP075 + 0.448250725477 * FP076 + 0.0402645672701 * FP077 + -0.313271912014 * FP078 + 0.526622033251 * FP079 + 0.138880350143 * FP080 + -0.409692922478 * FP081 + -0.0951800825056 * FP082 + -0.528147887901 * FP083 + 0.411216257326 * FP084 + -0.422363903715 * FP085 + -0.0144708012388 * FP086 + -0.465918603255 * FP087 + 0.246556871212 * FP088 + 0.267141470004 * FP089 + -0.191673579018 * FP090 + 0.264643082494 * FP091 + 0.0419910849762 * FP092 + 0.239496843685 * FP093 + -0.245947218334 * FP094 + 0.0162156677723 * FP095 + -0.229423740828 * FP096 + -0.41015106553 * FP097 + -0.294425793996 * FP098 + 0.095160675382 * FP099 + -0.49752059686 * FP100 + -0.172710212208 * FP101 + 0.00110025682216 * FP102 + -0.172540460605 * FP103 + -0.205926182826 * FP104 + -0.167430108508 * FP105 + -0.0582425611211 * FP106 + 0.395559191249 * FP107 + -0.2034120287 * FP108 + 0.71057413408 * FP109 + 0.280569810151 * FP110 + -0.611644776743 * FP111 + 0.197914832996 * FP112 + 0.141094486025 * FP113 + -0.0962046867745 * FP114 + -0.273946408197 * FP115 + -0.100663837236 * FP116 + 0.3662295213 * FP117 + -0.169240649041 * FP118 + 0.426502327583 * FP119 + -0.12387434265 * FP120 + -0.133216538147 * FP121 + 0.17194765264 * FP122 + -0.00721472960719 * FP123 + 0.216311002323 * FP124 + -0.0647385408771 * FP125 + -0.558109370188 * FP126 + -0.501702956334 * FP127 + -0.196759084962 * FP128 + -0.0724169131676 * FP129 + -0.39363224106 * FP130 + 0.160339453759 * FP131 + -0.103715467402 * FP132 + -0.289860069456 * FP133 + -0.128668637438 * FP134 + 0.229915428152 * FP135 + 0.0263150263513 * FP136 + -0.282043898561 * FP137 + -0.0492838116935 * FP138 + -0.367195949038 * FP139 + 0.107806208549 * FP140 + 0.228867460765 * FP141 + 0.628416167994 * FP142 + 0.797087579607 * FP143 + 0.468054626247 * FP144 + -0.400645632545 * FP145 + -0.157726206848 * FP146 + 0.163829813322 * FP147 + -0.249129476267 * FP148 + -0.0439989847862 * FP149 + 0.0178918396421 * FP150 + 0.194111414869 * FP151 + -0.379750052842 * FP152 + 0.00388410823444 * FP153 + -0.755157812151 * FP154 + 0.232073527735 * FP155 + -0.429512681422 * FP156 + -0.576434644758 * FP157 + 0.258008691334 * FP158 + 0.221783907313 * FP159 + 0.0578338251961 * FP160 + -0.358823213275 * FP161 + 0.0288283200626 * FP162 + 0.366592815489 * FP163 + 0.654511288484 * FP164 + 0.372727190579 * FP165 + -0.00358457848071 * FP166 + -0.562497928332 * FP167 + -0.0305519848861 * FP168 + -0.0761004324401 * FP169 + -0.213826994098 * FP170 + 0.375686740137 * FP171 + -0.305497486768 * FP172 + 0.463524620448 * FP173 + -0.137221365279 * FP174 + 0.0679565201862 * FP175 + 0.627573127711 * FP176 + -0.0910801466995 * FP177 + 0.29268344824 * FP178 + -0.133748325583 * FP179 + -0.608198317582 * FP180 + 0.44495522922 * FP181 + 0.0612626141924 * FP182 + 0.415899834489 * FP183 + 0.374223093093 * FP184 + -0.200210113077 * FP185 + -0.192099546927 * FP186 + 0.57809130397 * FP187 + 0.179696999254 * FP188 + -0.386328223957 * FP189 + 0.0472742966437 * FP190 + 0.2124279145 * FP191 + -0.259312223005 * FP192 + 0.127564128622 * FP193 + 0.210008244269 * FP194 + 0.0285532296999 * FP195 + 0.457935645319 * FP196 + 0.0536343137242 * FP197 + 0.0458392737278 * FP198 + -0.0908237439139 * FP199 + -0.107459887206 * FP200 + -0.434357418891 * FP201 + 0.633658800453 * FP202 + 0.432684918805 * FP203 + -0.242687371669 * FP204 + 0.161420844022 * FP205 + -0.0748995024739 * FP206 + 0.0932779274225 * FP207 + -0.701368433086 * FP208 + -0.00452004592868 * MolWeight + 14180745013.0 * NumAtoms + -11803938117.3 * NumNonHAtoms + -3137270774.06 * NumBonds + 760463877.931 * NumNonHBonds + 0.147993437153 * NumMultBonds + -0.200343790278 * NumRotBonds + 0.102192868926 * NumDblBonds + -0.216241033152 * NumAromaticBonds + -11043474238.9 * NumHydrogen + 0.0935386979639 * NumCarbon + 1.03673093561 * NumNitrogen + 1.26052757825 * NumOxygen + 0.109616625422 * NumSulfer + -0.399852849776 * NumChlorine + 0.472790987575 * NumHalogen + 2376806896.11 * NumRings + 0.0930178861578 * HydrophilicFactor + -0.0201466746099 * SurfaceArea1 + -0.00114435388956 * SurfaceArea2 + -2376806896.19\n"
     ]
    }
   ],
   "source": [
    "col_x = train_data.columns\n",
    "col_y = train_label.columns\n",
    "formul = \"\"\n",
    "for i in range(0, len(model.coef_.reshape(-1))) :\n",
    "    if model.coef_.reshape(-1)[i] != 0 :\n",
    "        formul += str(model.coef_.reshape(-1)[i]) + \" * \" + col_x[i] + \" + \"\n",
    "\n",
    "print(\"Formula : \\n\")\n",
    "print(col_y[0], \" = \", formul[:-3], '+', model.intercept_[0])"
   ]
  }
 ],
 "metadata": {
  "kernelspec": {
   "display_name": "Python 3",
   "language": "python",
   "name": "python3"
  },
  "language_info": {
   "codemirror_mode": {
    "name": "ipython",
    "version": 3
   },
   "file_extension": ".py",
   "mimetype": "text/x-python",
   "name": "python",
   "nbconvert_exporter": "python",
   "pygments_lexer": "ipython3",
   "version": "3.6.6"
  }
 },
 "nbformat": 4,
 "nbformat_minor": 2
}
