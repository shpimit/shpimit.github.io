{
 "cells": [
  {
   "cell_type": "markdown",
   "metadata": {},
   "source": [
    "## **네이버 영화제목 뽑기**"
   ]
  },
  {
   "cell_type": "code",
   "execution_count": 1,
   "metadata": {},
   "outputs": [
    {
     "data": {
      "text/plain": [
       "50"
      ]
     },
     "execution_count": 1,
     "metadata": {},
     "output_type": "execute_result"
    }
   ],
   "source": [
    "import urllib.request   # import 모듈이름\n",
    "from bs4 import BeautifulSoup\n",
    "\n",
    "url = 'https://movie.naver.com/movie/sdb/rank/rmovie.nhn'\n",
    "\n",
    "html = urllib.request.urlopen(url)\n",
    "\n",
    "soup = BeautifulSoup(html, 'html.parser')\n",
    "tags = soup.findAll('div', attrs={'class':'tit3'})\n",
    "\n",
    "len(tags)"
   ]
  },
  {
   "cell_type": "code",
   "execution_count": 2,
   "metadata": {},
   "outputs": [
    {
     "data": {
      "text/plain": [
       "[<div class=\"tit3\">\n",
       " <a href=\"/movie/bi/mi/basic.nhn?code=153687\" title=\"공작\">공작</a>\n",
       " </div>, <div class=\"tit3\">\n",
       " <a href=\"/movie/bi/mi/basic.nhn?code=167697\" title=\"신과함께-인과 연\">신과함께-인과 연</a>\n",
       " </div>, <div class=\"tit3\">\n",
       " <a href=\"/movie/bi/mi/basic.nhn?code=154222\" title=\"미션 임파서블: 폴아웃\">미션 임파서블: 폴아웃</a>\n",
       " </div>, <div class=\"tit3\">\n",
       " <a href=\"/movie/bi/mi/basic.nhn?code=164115\" title=\"맘마미아!2\">맘마미아!2</a>\n",
       " </div>, <div class=\"tit3\">\n",
       " <a href=\"/movie/bi/mi/basic.nhn?code=175322\" title=\"마녀\">마녀</a>\n",
       " </div>, <div class=\"tit3\">\n",
       " <a href=\"/movie/bi/mi/basic.nhn?code=109906\" title=\"인랑\">인랑</a>\n",
       " </div>, <div class=\"tit3\">\n",
       " <a href=\"/movie/bi/mi/basic.nhn?code=173019\" title=\"명탐정 코난 : 제로의 집행인\">명탐정 코난 : 제로의 집행인</a>\n",
       " </div>, <div class=\"tit3\">\n",
       " <a href=\"/movie/bi/mi/basic.nhn?code=169015\" title=\"목격자\">목격자</a>\n",
       " </div>, <div class=\"tit3\">\n",
       " <a href=\"/movie/bi/mi/basic.nhn?code=172174\" title=\"어느 가족\">어느 가족</a>\n",
       " </div>, <div class=\"tit3\">\n",
       " <a href=\"/movie/bi/mi/basic.nhn?code=136990\" title=\"인크레더블 2\">인크레더블 2</a>\n",
       " </div>, <div class=\"tit3\">\n",
       " <a href=\"/movie/bi/mi/basic.nhn?code=169643\" title=\"몬스터 호텔 3\">몬스터 호텔 3</a>\n",
       " </div>, <div class=\"tit3\">\n",
       " <a href=\"/movie/bi/mi/basic.nhn?code=152661\" title=\"메가로돈\">메가로돈</a>\n",
       " </div>, <div class=\"tit3\">\n",
       " <a href=\"/movie/bi/mi/basic.nhn?code=164151\" title=\"변산\">변산</a>\n",
       " </div>, <div class=\"tit3\">\n",
       " <a href=\"/movie/bi/mi/basic.nhn?code=66751\" title=\"노인을 위한 나라는 없다\">노인을 위한 나라는 없다</a>\n",
       " </div>, <div class=\"tit3\">\n",
       " <a href=\"/movie/bi/mi/basic.nhn?code=175727\" title=\"극장판 헬로카봇 : 백악기 시대\">극장판 헬로카봇 : 백악기 시대</a>\n",
       " </div>, <div class=\"tit3\">\n",
       " <a href=\"/movie/bi/mi/basic.nhn?code=160375\" title=\"스카이스크래퍼\">스카이스크래퍼</a>\n",
       " </div>, <div class=\"tit3\">\n",
       " <a href=\"/movie/bi/mi/basic.nhn?code=132996\" title=\"물괴\">물괴</a>\n",
       " </div>, <div class=\"tit3\">\n",
       " <a href=\"/movie/bi/mi/basic.nhn?code=140652\" title=\"너의 결혼식\">너의 결혼식</a>\n",
       " </div>, <div class=\"tit3\">\n",
       " <a href=\"/movie/bi/mi/basic.nhn?code=174805\" title=\"신비아파트: 금빛 도깨비와 비밀의 동굴\">신비아파트: 금빛 도깨비와 비밀의 동굴</a>\n",
       " </div>, <div class=\"tit3\">\n",
       " <a href=\"/movie/bi/mi/basic.nhn?code=136315\" title=\"어벤져스: 인피니티 워\">어벤져스: 인피니티 워</a>\n",
       " </div>, <div class=\"tit3\">\n",
       " <a href=\"/movie/bi/mi/basic.nhn?code=71151\" title=\"아이 엠 러브\">아이 엠 러브</a>\n",
       " </div>, <div class=\"tit3\">\n",
       " <a href=\"/movie/bi/mi/basic.nhn?code=164106\" title=\"협상\">협상</a>\n",
       " </div>, <div class=\"tit3\">\n",
       " <a href=\"/movie/bi/mi/basic.nhn?code=85579\" title=\"신과함께-죄와 벌\">신과함께-죄와 벌</a>\n",
       " </div>, <div class=\"tit3\">\n",
       " <a href=\"/movie/bi/mi/basic.nhn?code=172160\" title=\"메멘토모리\">메멘토모리</a>\n",
       " </div>, <div class=\"tit3\">\n",
       " <a href=\"/movie/bi/mi/basic.nhn?code=154223\" title=\"더 스퀘어\">더 스퀘어</a>\n",
       " </div>, <div class=\"tit3\">\n",
       " <a href=\"/movie/bi/mi/basic.nhn?code=172010\" title=\"상류사회\">상류사회</a>\n",
       " </div>, <div class=\"tit3\">\n",
       " <a href=\"/movie/bi/mi/basic.nhn?code=158178\" title=\"독전\">독전</a>\n",
       " </div>, <div class=\"tit3\">\n",
       " <a href=\"/movie/bi/mi/basic.nhn?code=175317\" title=\"컨저링 : 마녀의 인형\">컨저링 : 마녀의 인형</a>\n",
       " </div>, <div class=\"tit3\">\n",
       " <a href=\"/movie/bi/mi/basic.nhn?code=162870\" title=\"주피터스 문\">주피터스 문</a>\n",
       " </div>, <div class=\"tit3\">\n",
       " <a href=\"/movie/bi/mi/basic.nhn?code=144330\" title=\"앤트맨과 와스프\">앤트맨과 와스프</a>\n",
       " </div>, <div class=\"tit3\">\n",
       " <a href=\"/movie/bi/mi/basic.nhn?code=155710\" title=\"오장군의 발톱\">오장군의 발톱</a>\n",
       " </div>, <div class=\"tit3\">\n",
       " <a href=\"/movie/bi/mi/basic.nhn?code=173484\" title=\"룸싸롱 맛있는 서비스\">룸싸롱 맛있는 서비스</a>\n",
       " </div>, <div class=\"tit3\">\n",
       " <a href=\"/movie/bi/mi/basic.nhn?code=149236\" title=\"데드풀 2\">데드풀 2</a>\n",
       " </div>, <div class=\"tit3\">\n",
       " <a href=\"/movie/bi/mi/basic.nhn?code=167331\" title=\"델마\">델마</a>\n",
       " </div>, <div class=\"tit3\">\n",
       " <a href=\"/movie/bi/mi/basic.nhn?code=144504\" title=\"22\">22</a>\n",
       " </div>, <div class=\"tit3\">\n",
       " <a href=\"/movie/bi/mi/basic.nhn?code=163533\" title=\"안시성\">안시성</a>\n",
       " </div>, <div class=\"tit3\">\n",
       " <a href=\"/movie/bi/mi/basic.nhn?code=169240\" title=\"아일라\">아일라</a>\n",
       " </div>, <div class=\"tit3\">\n",
       " <a href=\"/movie/bi/mi/basic.nhn?code=66381\" title=\"맘마미아!\">맘마미아!</a>\n",
       " </div>, <div class=\"tit3\">\n",
       " <a href=\"/movie/bi/mi/basic.nhn?code=167668\" title=\"워킹 데드 나잇\">워킹 데드 나잇</a>\n",
       " </div>, <div class=\"tit3\">\n",
       " <a href=\"/movie/bi/mi/basic.nhn?code=152694\" title=\"킬링 디어\">킬링 디어</a>\n",
       " </div>, <div class=\"tit3\">\n",
       " <a href=\"/movie/bi/mi/basic.nhn?code=177485\" title=\"그루지:죽은 자의 저주\">그루지:죽은 자의 저주</a>\n",
       " </div>, <div class=\"tit3\">\n",
       " <a href=\"/movie/bi/mi/basic.nhn?code=171499\" title=\"마일 22\">마일 22</a>\n",
       " </div>, <div class=\"tit3\">\n",
       " <a href=\"/movie/bi/mi/basic.nhn?code=154285\" title=\"쥬라기 월드: 폴른 킹덤\">쥬라기 월드: 폴른 킹덤</a>\n",
       " </div>, <div class=\"tit3\">\n",
       " <a href=\"/movie/bi/mi/basic.nhn?code=172344\" title=\"신은 죽지 않았다 3: 어둠 속의 빛\">신은 죽지 않았다 3: 어둠 속의 빛</a>\n",
       " </div>, <div class=\"tit3\">\n",
       " <a href=\"/movie/bi/mi/basic.nhn?code=168669\" title=\"카운터스\">카운터스</a>\n",
       " </div>, <div class=\"tit3\">\n",
       " <a href=\"/movie/bi/mi/basic.nhn?code=152644\" title=\"더 시크릿 하우스\">더 시크릿 하우스</a>\n",
       " </div>, <div class=\"tit3\">\n",
       " <a href=\"/movie/bi/mi/basic.nhn?code=158555\" title=\"나를 기억해\">나를 기억해</a>\n",
       " </div>, <div class=\"tit3\">\n",
       " <a href=\"/movie/bi/mi/basic.nhn?code=119428\" title=\"베놈\">베놈</a>\n",
       " </div>, <div class=\"tit3\">\n",
       " <a href=\"/movie/bi/mi/basic.nhn?code=162908\" title=\"비트윈 랜드 앤 씨\">비트윈 랜드 앤 씨</a>\n",
       " </div>, <div class=\"tit3\">\n",
       " <a href=\"/movie/bi/mi/basic.nhn?code=162981\" title=\"명당\">명당</a>\n",
       " </div>]"
      ]
     },
     "execution_count": 2,
     "metadata": {},
     "output_type": "execute_result"
    }
   ],
   "source": [
    "tags"
   ]
  },
  {
   "cell_type": "markdown",
   "metadata": {},
   "source": [
    "### 앵커의 href 속성값 뽑아오기"
   ]
  },
  {
   "cell_type": "code",
   "execution_count": 3,
   "metadata": {},
   "outputs": [
    {
     "name": "stdout",
     "output_type": "stream",
     "text": [
      "https://movie.naver.com/movie/bi/mi/basic.nhn?code=153687\n",
      "https://movie.naver.com/movie/bi/mi/basic.nhn?code=167697\n",
      "https://movie.naver.com/movie/bi/mi/basic.nhn?code=154222\n",
      "https://movie.naver.com/movie/bi/mi/basic.nhn?code=164115\n",
      "https://movie.naver.com/movie/bi/mi/basic.nhn?code=175322\n",
      "https://movie.naver.com/movie/bi/mi/basic.nhn?code=109906\n",
      "https://movie.naver.com/movie/bi/mi/basic.nhn?code=173019\n",
      "https://movie.naver.com/movie/bi/mi/basic.nhn?code=169015\n",
      "https://movie.naver.com/movie/bi/mi/basic.nhn?code=172174\n",
      "https://movie.naver.com/movie/bi/mi/basic.nhn?code=136990\n",
      "https://movie.naver.com/movie/bi/mi/basic.nhn?code=169643\n",
      "https://movie.naver.com/movie/bi/mi/basic.nhn?code=152661\n",
      "https://movie.naver.com/movie/bi/mi/basic.nhn?code=164151\n",
      "https://movie.naver.com/movie/bi/mi/basic.nhn?code=66751\n",
      "https://movie.naver.com/movie/bi/mi/basic.nhn?code=175727\n",
      "https://movie.naver.com/movie/bi/mi/basic.nhn?code=160375\n",
      "https://movie.naver.com/movie/bi/mi/basic.nhn?code=132996\n",
      "https://movie.naver.com/movie/bi/mi/basic.nhn?code=140652\n",
      "https://movie.naver.com/movie/bi/mi/basic.nhn?code=174805\n",
      "https://movie.naver.com/movie/bi/mi/basic.nhn?code=136315\n",
      "https://movie.naver.com/movie/bi/mi/basic.nhn?code=71151\n",
      "https://movie.naver.com/movie/bi/mi/basic.nhn?code=164106\n",
      "https://movie.naver.com/movie/bi/mi/basic.nhn?code=85579\n",
      "https://movie.naver.com/movie/bi/mi/basic.nhn?code=172160\n",
      "https://movie.naver.com/movie/bi/mi/basic.nhn?code=154223\n",
      "https://movie.naver.com/movie/bi/mi/basic.nhn?code=172010\n",
      "https://movie.naver.com/movie/bi/mi/basic.nhn?code=158178\n",
      "https://movie.naver.com/movie/bi/mi/basic.nhn?code=175317\n",
      "https://movie.naver.com/movie/bi/mi/basic.nhn?code=162870\n",
      "https://movie.naver.com/movie/bi/mi/basic.nhn?code=144330\n",
      "https://movie.naver.com/movie/bi/mi/basic.nhn?code=155710\n",
      "https://movie.naver.com/movie/bi/mi/basic.nhn?code=173484\n",
      "https://movie.naver.com/movie/bi/mi/basic.nhn?code=149236\n",
      "https://movie.naver.com/movie/bi/mi/basic.nhn?code=167331\n",
      "https://movie.naver.com/movie/bi/mi/basic.nhn?code=144504\n",
      "https://movie.naver.com/movie/bi/mi/basic.nhn?code=163533\n",
      "https://movie.naver.com/movie/bi/mi/basic.nhn?code=169240\n",
      "https://movie.naver.com/movie/bi/mi/basic.nhn?code=66381\n",
      "https://movie.naver.com/movie/bi/mi/basic.nhn?code=167668\n",
      "https://movie.naver.com/movie/bi/mi/basic.nhn?code=152694\n",
      "https://movie.naver.com/movie/bi/mi/basic.nhn?code=177485\n",
      "https://movie.naver.com/movie/bi/mi/basic.nhn?code=171499\n",
      "https://movie.naver.com/movie/bi/mi/basic.nhn?code=154285\n",
      "https://movie.naver.com/movie/bi/mi/basic.nhn?code=172344\n",
      "https://movie.naver.com/movie/bi/mi/basic.nhn?code=168669\n",
      "https://movie.naver.com/movie/bi/mi/basic.nhn?code=152644\n",
      "https://movie.naver.com/movie/bi/mi/basic.nhn?code=158555\n",
      "https://movie.naver.com/movie/bi/mi/basic.nhn?code=119428\n",
      "https://movie.naver.com/movie/bi/mi/basic.nhn?code=162908\n",
      "https://movie.naver.com/movie/bi/mi/basic.nhn?code=162981\n"
     ]
    }
   ],
   "source": [
    "url_header = 'https://movie.naver.com'    \n",
    "for tag in tags : \n",
    "    # []을 이용한 형식은 자바 스크립트 문법을 이용한 기법이다.\n",
    "    print(url_header + tag.a['href'])"
   ]
  },
  {
   "cell_type": "code",
   "execution_count": null,
   "metadata": {},
   "outputs": [],
   "source": []
  }
 ],
 "metadata": {
  "kernelspec": {
   "display_name": "Python 3",
   "language": "python",
   "name": "python3"
  },
  "language_info": {
   "codemirror_mode": {
    "name": "ipython",
    "version": 3
   },
   "file_extension": ".py",
   "mimetype": "text/x-python",
   "name": "python",
   "nbconvert_exporter": "python",
   "pygments_lexer": "ipython3",
   "version": "3.6.6"
  }
 },
 "nbformat": 4,
 "nbformat_minor": 2
}
