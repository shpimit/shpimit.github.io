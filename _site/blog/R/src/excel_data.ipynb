{
 "cells": [
  {
   "cell_type": "code",
   "execution_count": 1,
   "metadata": {},
   "outputs": [
    {
     "name": "stdout",
     "output_type": "stream",
     "text": [
      "package 'readxl' successfully unpacked and MD5 sums checked\n",
      "\n",
      "The downloaded binary packages are in\n",
      "\tC:\\Users\\shpim\\AppData\\Local\\Temp\\Rtmp4OMpo8\\downloaded_packages\n"
     ]
    }
   ],
   "source": [
    "install.packages(\"readxl\")\n",
    "library(readxl)"
   ]
  },
  {
   "cell_type": "code",
   "execution_count": 2,
   "metadata": {},
   "outputs": [],
   "source": [
    "df_ex1 <- read_excel(\"../data/excel_exam.xlsx\")"
   ]
  },
  {
   "cell_type": "code",
   "execution_count": 3,
   "metadata": {},
   "outputs": [
    {
     "data": {
      "text/html": [
       "20"
      ],
      "text/latex": [
       "20"
      ],
      "text/markdown": [
       "20"
      ],
      "text/plain": [
       "[1] 20"
      ]
     },
     "metadata": {},
     "output_type": "display_data"
    }
   ],
   "source": [
    "nrow(df_ex1) # 마지막 행번호"
   ]
  },
  {
   "cell_type": "code",
   "execution_count": 4,
   "metadata": {},
   "outputs": [
    {
     "data": {
      "text/html": [
       "5"
      ],
      "text/latex": [
       "5"
      ],
      "text/markdown": [
       "5"
      ],
      "text/plain": [
       "[1] 5"
      ]
     },
     "metadata": {},
     "output_type": "display_data"
    }
   ],
   "source": [
    "ncol(df_ex1)"
   ]
  },
  {
   "cell_type": "code",
   "execution_count": 5,
   "metadata": {},
   "outputs": [
    {
     "data": {
      "text/html": [
       "<ol class=list-inline>\n",
       "\t<li>20</li>\n",
       "\t<li>5</li>\n",
       "</ol>\n"
      ],
      "text/latex": [
       "\\begin{enumerate*}\n",
       "\\item 20\n",
       "\\item 5\n",
       "\\end{enumerate*}\n"
      ],
      "text/markdown": [
       "1. 20\n",
       "2. 5\n",
       "\n",
       "\n"
      ],
      "text/plain": [
       "[1] 20  5"
      ]
     },
     "metadata": {},
     "output_type": "display_data"
    }
   ],
   "source": [
    "dim(df_ex1)  # 행렬 정보"
   ]
  },
  {
   "cell_type": "code",
   "execution_count": 6,
   "metadata": {},
   "outputs": [
    {
     "name": "stdout",
     "output_type": "stream",
     "text": [
      "Classes 'tbl_df', 'tbl' and 'data.frame':\t20 obs. of  5 variables:\n",
      " $ id     : num  1 2 3 4 5 6 7 8 9 10 ...\n",
      " $ class  : num  1 1 1 1 2 2 2 2 3 3 ...\n",
      " $ math   : num  50 60 45 30 25 50 80 90 20 50 ...\n",
      " $ english: num  98 97 86 98 80 89 90 78 98 98 ...\n",
      " $ science: num  50 60 78 58 65 98 45 25 15 45 ...\n"
     ]
    }
   ],
   "source": [
    "str(df_ex1)"
   ]
  },
  {
   "cell_type": "code",
   "execution_count": 7,
   "metadata": {},
   "outputs": [
    {
     "data": {
      "text/plain": [
       "       id            class        math          english        science     \n",
       " Min.   : 1.00   Min.   :1   Min.   :20.00   Min.   :56.0   Min.   :12.00  \n",
       " 1st Qu.: 5.75   1st Qu.:2   1st Qu.:45.75   1st Qu.:78.0   1st Qu.:45.00  \n",
       " Median :10.50   Median :3   Median :54.00   Median :86.5   Median :62.50  \n",
       " Mean   :10.50   Mean   :3   Mean   :57.45   Mean   :84.9   Mean   :59.45  \n",
       " 3rd Qu.:15.25   3rd Qu.:4   3rd Qu.:75.75   3rd Qu.:98.0   3rd Qu.:78.00  \n",
       " Max.   :20.00   Max.   :5   Max.   :90.00   Max.   :98.0   Max.   :98.00  "
      ]
     },
     "metadata": {},
     "output_type": "display_data"
    }
   ],
   "source": [
    "summary(df_ex1)"
   ]
  },
  {
   "cell_type": "code",
   "execution_count": 8,
   "metadata": {},
   "outputs": [
    {
     "data": {
      "text/html": [
       "<table>\n",
       "<thead><tr><th scope=col>id</th><th scope=col>class</th><th scope=col>math</th><th scope=col>english</th><th scope=col>science</th></tr></thead>\n",
       "<tbody>\n",
       "\t<tr><td> 1</td><td>1 </td><td>50</td><td>98</td><td>50</td></tr>\n",
       "\t<tr><td> 2</td><td>1 </td><td>60</td><td>97</td><td>60</td></tr>\n",
       "\t<tr><td> 3</td><td>1 </td><td>45</td><td>86</td><td>78</td></tr>\n",
       "\t<tr><td> 4</td><td>1 </td><td>30</td><td>98</td><td>58</td></tr>\n",
       "\t<tr><td> 5</td><td>2 </td><td>25</td><td>80</td><td>65</td></tr>\n",
       "\t<tr><td> 6</td><td>2 </td><td>50</td><td>89</td><td>98</td></tr>\n",
       "\t<tr><td> 7</td><td>2 </td><td>80</td><td>90</td><td>45</td></tr>\n",
       "\t<tr><td> 8</td><td>2 </td><td>90</td><td>78</td><td>25</td></tr>\n",
       "\t<tr><td> 9</td><td>3 </td><td>20</td><td>98</td><td>15</td></tr>\n",
       "\t<tr><td>10</td><td>3 </td><td>50</td><td>98</td><td>45</td></tr>\n",
       "\t<tr><td>11</td><td>3 </td><td>65</td><td>65</td><td>65</td></tr>\n",
       "\t<tr><td>12</td><td>3 </td><td>45</td><td>85</td><td>32</td></tr>\n",
       "\t<tr><td>13</td><td>4 </td><td>46</td><td>98</td><td>65</td></tr>\n",
       "\t<tr><td>14</td><td>4 </td><td>48</td><td>87</td><td>12</td></tr>\n",
       "\t<tr><td>15</td><td>4 </td><td>75</td><td>56</td><td>78</td></tr>\n",
       "\t<tr><td>16</td><td>4 </td><td>58</td><td>98</td><td>65</td></tr>\n",
       "\t<tr><td>17</td><td>5 </td><td>65</td><td>68</td><td>98</td></tr>\n",
       "\t<tr><td>18</td><td>5 </td><td>80</td><td>78</td><td>90</td></tr>\n",
       "\t<tr><td>19</td><td>5 </td><td>89</td><td>68</td><td>87</td></tr>\n",
       "\t<tr><td>20</td><td>5 </td><td>78</td><td>83</td><td>58</td></tr>\n",
       "</tbody>\n",
       "</table>\n"
      ],
      "text/latex": [
       "\\begin{tabular}{r|lllll}\n",
       " id & class & math & english & science\\\\\n",
       "\\hline\n",
       "\t  1 & 1  & 50 & 98 & 50\\\\\n",
       "\t  2 & 1  & 60 & 97 & 60\\\\\n",
       "\t  3 & 1  & 45 & 86 & 78\\\\\n",
       "\t  4 & 1  & 30 & 98 & 58\\\\\n",
       "\t  5 & 2  & 25 & 80 & 65\\\\\n",
       "\t  6 & 2  & 50 & 89 & 98\\\\\n",
       "\t  7 & 2  & 80 & 90 & 45\\\\\n",
       "\t  8 & 2  & 90 & 78 & 25\\\\\n",
       "\t  9 & 3  & 20 & 98 & 15\\\\\n",
       "\t 10 & 3  & 50 & 98 & 45\\\\\n",
       "\t 11 & 3  & 65 & 65 & 65\\\\\n",
       "\t 12 & 3  & 45 & 85 & 32\\\\\n",
       "\t 13 & 4  & 46 & 98 & 65\\\\\n",
       "\t 14 & 4  & 48 & 87 & 12\\\\\n",
       "\t 15 & 4  & 75 & 56 & 78\\\\\n",
       "\t 16 & 4  & 58 & 98 & 65\\\\\n",
       "\t 17 & 5  & 65 & 68 & 98\\\\\n",
       "\t 18 & 5  & 80 & 78 & 90\\\\\n",
       "\t 19 & 5  & 89 & 68 & 87\\\\\n",
       "\t 20 & 5  & 78 & 83 & 58\\\\\n",
       "\\end{tabular}\n"
      ],
      "text/markdown": [
       "\n",
       "id | class | math | english | science | \n",
       "|---|---|---|---|---|---|---|---|---|---|---|---|---|---|---|---|---|---|---|---|\n",
       "|  1 | 1  | 50 | 98 | 50 | \n",
       "|  2 | 1  | 60 | 97 | 60 | \n",
       "|  3 | 1  | 45 | 86 | 78 | \n",
       "|  4 | 1  | 30 | 98 | 58 | \n",
       "|  5 | 2  | 25 | 80 | 65 | \n",
       "|  6 | 2  | 50 | 89 | 98 | \n",
       "|  7 | 2  | 80 | 90 | 45 | \n",
       "|  8 | 2  | 90 | 78 | 25 | \n",
       "|  9 | 3  | 20 | 98 | 15 | \n",
       "| 10 | 3  | 50 | 98 | 45 | \n",
       "| 11 | 3  | 65 | 65 | 65 | \n",
       "| 12 | 3  | 45 | 85 | 32 | \n",
       "| 13 | 4  | 46 | 98 | 65 | \n",
       "| 14 | 4  | 48 | 87 | 12 | \n",
       "| 15 | 4  | 75 | 56 | 78 | \n",
       "| 16 | 4  | 58 | 98 | 65 | \n",
       "| 17 | 5  | 65 | 68 | 98 | \n",
       "| 18 | 5  | 80 | 78 | 90 | \n",
       "| 19 | 5  | 89 | 68 | 87 | \n",
       "| 20 | 5  | 78 | 83 | 58 | \n",
       "\n",
       "\n"
      ],
      "text/plain": [
       "   id class math english science\n",
       "1   1 1     50   98      50     \n",
       "2   2 1     60   97      60     \n",
       "3   3 1     45   86      78     \n",
       "4   4 1     30   98      58     \n",
       "5   5 2     25   80      65     \n",
       "6   6 2     50   89      98     \n",
       "7   7 2     80   90      45     \n",
       "8   8 2     90   78      25     \n",
       "9   9 3     20   98      15     \n",
       "10 10 3     50   98      45     \n",
       "11 11 3     65   65      65     \n",
       "12 12 3     45   85      32     \n",
       "13 13 4     46   98      65     \n",
       "14 14 4     48   87      12     \n",
       "15 15 4     75   56      78     \n",
       "16 16 4     58   98      65     \n",
       "17 17 5     65   68      98     \n",
       "18 18 5     80   78      90     \n",
       "19 19 5     89   68      87     \n",
       "20 20 5     78   83      58     "
      ]
     },
     "metadata": {},
     "output_type": "display_data"
    }
   ],
   "source": [
    "df_ex1"
   ]
  },
  {
   "cell_type": "code",
   "execution_count": 9,
   "metadata": {},
   "outputs": [
    {
     "data": {
      "text/html": [
       "<table>\n",
       "<thead><tr><th scope=col>id</th><th scope=col>class</th><th scope=col>math</th><th scope=col>english</th><th scope=col>science</th><th scope=col>hap</th></tr></thead>\n",
       "<tbody>\n",
       "\t<tr><td>1  </td><td>1  </td><td>50 </td><td>98 </td><td>50 </td><td>198</td></tr>\n",
       "\t<tr><td>2  </td><td>1  </td><td>60 </td><td>97 </td><td>60 </td><td>217</td></tr>\n",
       "\t<tr><td>3  </td><td>1  </td><td>45 </td><td>86 </td><td>78 </td><td>209</td></tr>\n",
       "\t<tr><td>4  </td><td>1  </td><td>30 </td><td>98 </td><td>58 </td><td>186</td></tr>\n",
       "\t<tr><td>5  </td><td>2  </td><td>25 </td><td>80 </td><td>65 </td><td>170</td></tr>\n",
       "\t<tr><td>6  </td><td>2  </td><td>50 </td><td>89 </td><td>98 </td><td>237</td></tr>\n",
       "</tbody>\n",
       "</table>\n"
      ],
      "text/latex": [
       "\\begin{tabular}{r|llllll}\n",
       " id & class & math & english & science & hap\\\\\n",
       "\\hline\n",
       "\t 1   & 1   & 50  & 98  & 50  & 198\\\\\n",
       "\t 2   & 1   & 60  & 97  & 60  & 217\\\\\n",
       "\t 3   & 1   & 45  & 86  & 78  & 209\\\\\n",
       "\t 4   & 1   & 30  & 98  & 58  & 186\\\\\n",
       "\t 5   & 2   & 25  & 80  & 65  & 170\\\\\n",
       "\t 6   & 2   & 50  & 89  & 98  & 237\\\\\n",
       "\\end{tabular}\n"
      ],
      "text/markdown": [
       "\n",
       "id | class | math | english | science | hap | \n",
       "|---|---|---|---|---|---|\n",
       "| 1   | 1   | 50  | 98  | 50  | 198 | \n",
       "| 2   | 1   | 60  | 97  | 60  | 217 | \n",
       "| 3   | 1   | 45  | 86  | 78  | 209 | \n",
       "| 4   | 1   | 30  | 98  | 58  | 186 | \n",
       "| 5   | 2   | 25  | 80  | 65  | 170 | \n",
       "| 6   | 2   | 50  | 89  | 98  | 237 | \n",
       "\n",
       "\n"
      ],
      "text/plain": [
       "  id class math english science hap\n",
       "1 1  1     50   98      50      198\n",
       "2 2  1     60   97      60      217\n",
       "3 3  1     45   86      78      209\n",
       "4 4  1     30   98      58      186\n",
       "5 5  2     25   80      65      170\n",
       "6 6  2     50   89      98      237"
      ]
     },
     "metadata": {},
     "output_type": "display_data"
    }
   ],
   "source": [
    "df_ex2 <- df_ex1\n",
    "# 파생변수만들기\n",
    "hap <- df_ex2$math + df_ex2$english + df_ex2$science\n",
    "df_ex2$hap <- hap\n",
    "head(df_ex2)"
   ]
  },
  {
   "cell_type": "code",
   "execution_count": 10,
   "metadata": {},
   "outputs": [],
   "source": [
    "avg <- df_ex2$hap / 3\n",
    "avg <- round(avg,2)\n",
    "df_ex2$avg <- avg"
   ]
  },
  {
   "cell_type": "code",
   "execution_count": 11,
   "metadata": {},
   "outputs": [],
   "source": [
    "df_ex2$math <- as.integer(df_ex2$math)         # 모두 integer 처리 한다(형변환)\n",
    "write.csv(df_ex2, file=\"../data/df_ex2.csv\")   # 저장하기\n",
    "save(df_ex2, file=\"../data/df_rda1.rda\")       # rdata로 저장 및 불러오기"
   ]
  },
  {
   "cell_type": "code",
   "execution_count": 12,
   "metadata": {},
   "outputs": [
    {
     "data": {
      "text/html": [
       "<table>\n",
       "<thead><tr><th scope=col>id</th><th scope=col>class</th><th scope=col>math</th><th scope=col>english</th><th scope=col>science</th><th scope=col>hap</th><th scope=col>avg</th></tr></thead>\n",
       "<tbody>\n",
       "\t<tr><td> 1   </td><td>1    </td><td>50   </td><td>98   </td><td>50   </td><td>198  </td><td>66.00</td></tr>\n",
       "\t<tr><td> 2   </td><td>1    </td><td>60   </td><td>97   </td><td>60   </td><td>217  </td><td>72.33</td></tr>\n",
       "\t<tr><td> 3   </td><td>1    </td><td>45   </td><td>86   </td><td>78   </td><td>209  </td><td>69.67</td></tr>\n",
       "\t<tr><td> 4   </td><td>1    </td><td>30   </td><td>98   </td><td>58   </td><td>186  </td><td>62.00</td></tr>\n",
       "\t<tr><td> 5   </td><td>2    </td><td>25   </td><td>80   </td><td>65   </td><td>170  </td><td>56.67</td></tr>\n",
       "\t<tr><td> 6   </td><td>2    </td><td>50   </td><td>89   </td><td>98   </td><td>237  </td><td>79.00</td></tr>\n",
       "\t<tr><td> 7   </td><td>2    </td><td>80   </td><td>90   </td><td>45   </td><td>215  </td><td>71.67</td></tr>\n",
       "\t<tr><td> 8   </td><td>2    </td><td>90   </td><td>78   </td><td>25   </td><td>193  </td><td>64.33</td></tr>\n",
       "\t<tr><td> 9   </td><td>3    </td><td>20   </td><td>98   </td><td>15   </td><td>133  </td><td>44.33</td></tr>\n",
       "\t<tr><td>10   </td><td>3    </td><td>50   </td><td>98   </td><td>45   </td><td>193  </td><td>64.33</td></tr>\n",
       "\t<tr><td>11   </td><td>3    </td><td>65   </td><td>65   </td><td>65   </td><td>195  </td><td>65.00</td></tr>\n",
       "\t<tr><td>12   </td><td>3    </td><td>45   </td><td>85   </td><td>32   </td><td>162  </td><td>54.00</td></tr>\n",
       "\t<tr><td>13   </td><td>4    </td><td>46   </td><td>98   </td><td>65   </td><td>209  </td><td>69.67</td></tr>\n",
       "\t<tr><td>14   </td><td>4    </td><td>48   </td><td>87   </td><td>12   </td><td>147  </td><td>49.00</td></tr>\n",
       "\t<tr><td>15   </td><td>4    </td><td>75   </td><td>56   </td><td>78   </td><td>209  </td><td>69.67</td></tr>\n",
       "\t<tr><td>16   </td><td>4    </td><td>58   </td><td>98   </td><td>65   </td><td>221  </td><td>73.67</td></tr>\n",
       "\t<tr><td>17   </td><td>5    </td><td>65   </td><td>68   </td><td>98   </td><td>231  </td><td>77.00</td></tr>\n",
       "\t<tr><td>18   </td><td>5    </td><td>80   </td><td>78   </td><td>90   </td><td>248  </td><td>82.67</td></tr>\n",
       "\t<tr><td>19   </td><td>5    </td><td>89   </td><td>68   </td><td>87   </td><td>244  </td><td>81.33</td></tr>\n",
       "\t<tr><td>20   </td><td>5    </td><td>78   </td><td>83   </td><td>58   </td><td>219  </td><td>73.00</td></tr>\n",
       "</tbody>\n",
       "</table>\n"
      ],
      "text/latex": [
       "\\begin{tabular}{r|lllllll}\n",
       " id & class & math & english & science & hap & avg\\\\\n",
       "\\hline\n",
       "\t  1    & 1     & 50    & 98    & 50    & 198   & 66.00\\\\\n",
       "\t  2    & 1     & 60    & 97    & 60    & 217   & 72.33\\\\\n",
       "\t  3    & 1     & 45    & 86    & 78    & 209   & 69.67\\\\\n",
       "\t  4    & 1     & 30    & 98    & 58    & 186   & 62.00\\\\\n",
       "\t  5    & 2     & 25    & 80    & 65    & 170   & 56.67\\\\\n",
       "\t  6    & 2     & 50    & 89    & 98    & 237   & 79.00\\\\\n",
       "\t  7    & 2     & 80    & 90    & 45    & 215   & 71.67\\\\\n",
       "\t  8    & 2     & 90    & 78    & 25    & 193   & 64.33\\\\\n",
       "\t  9    & 3     & 20    & 98    & 15    & 133   & 44.33\\\\\n",
       "\t 10    & 3     & 50    & 98    & 45    & 193   & 64.33\\\\\n",
       "\t 11    & 3     & 65    & 65    & 65    & 195   & 65.00\\\\\n",
       "\t 12    & 3     & 45    & 85    & 32    & 162   & 54.00\\\\\n",
       "\t 13    & 4     & 46    & 98    & 65    & 209   & 69.67\\\\\n",
       "\t 14    & 4     & 48    & 87    & 12    & 147   & 49.00\\\\\n",
       "\t 15    & 4     & 75    & 56    & 78    & 209   & 69.67\\\\\n",
       "\t 16    & 4     & 58    & 98    & 65    & 221   & 73.67\\\\\n",
       "\t 17    & 5     & 65    & 68    & 98    & 231   & 77.00\\\\\n",
       "\t 18    & 5     & 80    & 78    & 90    & 248   & 82.67\\\\\n",
       "\t 19    & 5     & 89    & 68    & 87    & 244   & 81.33\\\\\n",
       "\t 20    & 5     & 78    & 83    & 58    & 219   & 73.00\\\\\n",
       "\\end{tabular}\n"
      ],
      "text/markdown": [
       "\n",
       "id | class | math | english | science | hap | avg | \n",
       "|---|---|---|---|---|---|---|---|---|---|---|---|---|---|---|---|---|---|---|---|\n",
       "|  1    | 1     | 50    | 98    | 50    | 198   | 66.00 | \n",
       "|  2    | 1     | 60    | 97    | 60    | 217   | 72.33 | \n",
       "|  3    | 1     | 45    | 86    | 78    | 209   | 69.67 | \n",
       "|  4    | 1     | 30    | 98    | 58    | 186   | 62.00 | \n",
       "|  5    | 2     | 25    | 80    | 65    | 170   | 56.67 | \n",
       "|  6    | 2     | 50    | 89    | 98    | 237   | 79.00 | \n",
       "|  7    | 2     | 80    | 90    | 45    | 215   | 71.67 | \n",
       "|  8    | 2     | 90    | 78    | 25    | 193   | 64.33 | \n",
       "|  9    | 3     | 20    | 98    | 15    | 133   | 44.33 | \n",
       "| 10    | 3     | 50    | 98    | 45    | 193   | 64.33 | \n",
       "| 11    | 3     | 65    | 65    | 65    | 195   | 65.00 | \n",
       "| 12    | 3     | 45    | 85    | 32    | 162   | 54.00 | \n",
       "| 13    | 4     | 46    | 98    | 65    | 209   | 69.67 | \n",
       "| 14    | 4     | 48    | 87    | 12    | 147   | 49.00 | \n",
       "| 15    | 4     | 75    | 56    | 78    | 209   | 69.67 | \n",
       "| 16    | 4     | 58    | 98    | 65    | 221   | 73.67 | \n",
       "| 17    | 5     | 65    | 68    | 98    | 231   | 77.00 | \n",
       "| 18    | 5     | 80    | 78    | 90    | 248   | 82.67 | \n",
       "| 19    | 5     | 89    | 68    | 87    | 244   | 81.33 | \n",
       "| 20    | 5     | 78    | 83    | 58    | 219   | 73.00 | \n",
       "\n",
       "\n"
      ],
      "text/plain": [
       "   id class math english science hap avg  \n",
       "1   1 1     50   98      50      198 66.00\n",
       "2   2 1     60   97      60      217 72.33\n",
       "3   3 1     45   86      78      209 69.67\n",
       "4   4 1     30   98      58      186 62.00\n",
       "5   5 2     25   80      65      170 56.67\n",
       "6   6 2     50   89      98      237 79.00\n",
       "7   7 2     80   90      45      215 71.67\n",
       "8   8 2     90   78      25      193 64.33\n",
       "9   9 3     20   98      15      133 44.33\n",
       "10 10 3     50   98      45      193 64.33\n",
       "11 11 3     65   65      65      195 65.00\n",
       "12 12 3     45   85      32      162 54.00\n",
       "13 13 4     46   98      65      209 69.67\n",
       "14 14 4     48   87      12      147 49.00\n",
       "15 15 4     75   56      78      209 69.67\n",
       "16 16 4     58   98      65      221 73.67\n",
       "17 17 5     65   68      98      231 77.00\n",
       "18 18 5     80   78      90      248 82.67\n",
       "19 19 5     89   68      87      244 81.33\n",
       "20 20 5     78   83      58      219 73.00"
      ]
     },
     "metadata": {},
     "output_type": "display_data"
    }
   ],
   "source": [
    "rm(df_ex2)\n",
    "load(\"../data/df_rda1.rda\")\n",
    "df_ex2"
   ]
  },
  {
   "cell_type": "code",
   "execution_count": 13,
   "metadata": {},
   "outputs": [
    {
     "name": "stdout",
     "output_type": "stream",
     "text": [
      "Classes 'tbl_df', 'tbl' and 'data.frame':\t20 obs. of  7 variables:\n",
      " $ id     : num  1 2 3 4 5 6 7 8 9 10 ...\n",
      " $ class  : num  1 1 1 1 2 2 2 2 3 3 ...\n",
      " $ math   : int  50 60 45 30 25 50 80 90 20 50 ...\n",
      " $ english: num  98 97 86 98 80 89 90 78 98 98 ...\n",
      " $ science: num  50 60 78 58 65 98 45 25 15 45 ...\n",
      " $ hap    : num  198 217 209 186 170 237 215 193 133 193 ...\n",
      " $ avg    : num  66 72.3 69.7 62 56.7 ...\n",
      "'data.frame':\t20 obs. of  7 variables:\n",
      " $ id     : num  1 2 3 4 5 6 7 8 9 10 ...\n",
      " $ class  : num  1 1 1 1 2 2 2 2 3 3 ...\n",
      " $ math   : int  50 60 45 30 25 50 80 90 20 50 ...\n",
      " $ english: num  98 97 86 98 80 89 90 78 98 98 ...\n",
      " $ science: num  50 60 78 58 65 98 45 25 15 45 ...\n",
      " $ hap    : num  198 217 209 186 170 237 215 193 133 193 ...\n",
      " $ avg    : num  66 72.3 69.7 62 56.7 ...\n"
     ]
    }
   ],
   "source": [
    "str(df_ex2)\n",
    "df_ex3 <- as.data.frame(df_ex2)\n",
    "str(df_ex3)"
   ]
  },
  {
   "cell_type": "code",
   "execution_count": 14,
   "metadata": {},
   "outputs": [
    {
     "data": {
      "text/html": [
       "<table>\n",
       "<thead><tr><th scope=col>id</th><th scope=col>class</th><th scope=col>math</th><th scope=col>english</th><th scope=col>science</th><th scope=col>hap</th><th scope=col>avg</th></tr></thead>\n",
       "<tbody>\n",
       "\t<tr><td> 1   </td><td>1    </td><td>50   </td><td>98   </td><td>50   </td><td>198  </td><td>66.00</td></tr>\n",
       "\t<tr><td> 2   </td><td>1    </td><td>60   </td><td>97   </td><td>60   </td><td>217  </td><td>72.33</td></tr>\n",
       "\t<tr><td> 3   </td><td>1    </td><td>45   </td><td>86   </td><td>78   </td><td>209  </td><td>69.67</td></tr>\n",
       "\t<tr><td> 4   </td><td>1    </td><td>30   </td><td>98   </td><td>58   </td><td>186  </td><td>62.00</td></tr>\n",
       "\t<tr><td> 5   </td><td>2    </td><td>25   </td><td>80   </td><td>65   </td><td>170  </td><td>56.67</td></tr>\n",
       "\t<tr><td> 6   </td><td>2    </td><td>50   </td><td>89   </td><td>98   </td><td>237  </td><td>79.00</td></tr>\n",
       "\t<tr><td> 7   </td><td>2    </td><td>80   </td><td>90   </td><td>45   </td><td>215  </td><td>71.67</td></tr>\n",
       "\t<tr><td> 8   </td><td>2    </td><td>90   </td><td>78   </td><td>25   </td><td>193  </td><td>64.33</td></tr>\n",
       "\t<tr><td> 9   </td><td>3    </td><td>20   </td><td>98   </td><td>15   </td><td>133  </td><td>44.33</td></tr>\n",
       "\t<tr><td>10   </td><td>3    </td><td>50   </td><td>98   </td><td>45   </td><td>193  </td><td>64.33</td></tr>\n",
       "\t<tr><td>11   </td><td>3    </td><td>65   </td><td>65   </td><td>65   </td><td>195  </td><td>65.00</td></tr>\n",
       "\t<tr><td>12   </td><td>3    </td><td>45   </td><td>85   </td><td>32   </td><td>162  </td><td>54.00</td></tr>\n",
       "\t<tr><td>13   </td><td>4    </td><td>46   </td><td>98   </td><td>65   </td><td>209  </td><td>69.67</td></tr>\n",
       "\t<tr><td>14   </td><td>4    </td><td>48   </td><td>87   </td><td>12   </td><td>147  </td><td>49.00</td></tr>\n",
       "\t<tr><td>15   </td><td>4    </td><td>75   </td><td>56   </td><td>78   </td><td>209  </td><td>69.67</td></tr>\n",
       "\t<tr><td>16   </td><td>4    </td><td>58   </td><td>98   </td><td>65   </td><td>221  </td><td>73.67</td></tr>\n",
       "\t<tr><td>17   </td><td>5    </td><td>65   </td><td>68   </td><td>98   </td><td>231  </td><td>77.00</td></tr>\n",
       "\t<tr><td>18   </td><td>5    </td><td>80   </td><td>78   </td><td>90   </td><td>248  </td><td>82.67</td></tr>\n",
       "\t<tr><td>19   </td><td>5    </td><td>89   </td><td>68   </td><td>87   </td><td>244  </td><td>81.33</td></tr>\n",
       "\t<tr><td>20   </td><td>5    </td><td>78   </td><td>83   </td><td>58   </td><td>219  </td><td>73.00</td></tr>\n",
       "</tbody>\n",
       "</table>\n"
      ],
      "text/latex": [
       "\\begin{tabular}{r|lllllll}\n",
       " id & class & math & english & science & hap & avg\\\\\n",
       "\\hline\n",
       "\t  1    & 1     & 50    & 98    & 50    & 198   & 66.00\\\\\n",
       "\t  2    & 1     & 60    & 97    & 60    & 217   & 72.33\\\\\n",
       "\t  3    & 1     & 45    & 86    & 78    & 209   & 69.67\\\\\n",
       "\t  4    & 1     & 30    & 98    & 58    & 186   & 62.00\\\\\n",
       "\t  5    & 2     & 25    & 80    & 65    & 170   & 56.67\\\\\n",
       "\t  6    & 2     & 50    & 89    & 98    & 237   & 79.00\\\\\n",
       "\t  7    & 2     & 80    & 90    & 45    & 215   & 71.67\\\\\n",
       "\t  8    & 2     & 90    & 78    & 25    & 193   & 64.33\\\\\n",
       "\t  9    & 3     & 20    & 98    & 15    & 133   & 44.33\\\\\n",
       "\t 10    & 3     & 50    & 98    & 45    & 193   & 64.33\\\\\n",
       "\t 11    & 3     & 65    & 65    & 65    & 195   & 65.00\\\\\n",
       "\t 12    & 3     & 45    & 85    & 32    & 162   & 54.00\\\\\n",
       "\t 13    & 4     & 46    & 98    & 65    & 209   & 69.67\\\\\n",
       "\t 14    & 4     & 48    & 87    & 12    & 147   & 49.00\\\\\n",
       "\t 15    & 4     & 75    & 56    & 78    & 209   & 69.67\\\\\n",
       "\t 16    & 4     & 58    & 98    & 65    & 221   & 73.67\\\\\n",
       "\t 17    & 5     & 65    & 68    & 98    & 231   & 77.00\\\\\n",
       "\t 18    & 5     & 80    & 78    & 90    & 248   & 82.67\\\\\n",
       "\t 19    & 5     & 89    & 68    & 87    & 244   & 81.33\\\\\n",
       "\t 20    & 5     & 78    & 83    & 58    & 219   & 73.00\\\\\n",
       "\\end{tabular}\n"
      ],
      "text/markdown": [
       "\n",
       "id | class | math | english | science | hap | avg | \n",
       "|---|---|---|---|---|---|---|---|---|---|---|---|---|---|---|---|---|---|---|---|\n",
       "|  1    | 1     | 50    | 98    | 50    | 198   | 66.00 | \n",
       "|  2    | 1     | 60    | 97    | 60    | 217   | 72.33 | \n",
       "|  3    | 1     | 45    | 86    | 78    | 209   | 69.67 | \n",
       "|  4    | 1     | 30    | 98    | 58    | 186   | 62.00 | \n",
       "|  5    | 2     | 25    | 80    | 65    | 170   | 56.67 | \n",
       "|  6    | 2     | 50    | 89    | 98    | 237   | 79.00 | \n",
       "|  7    | 2     | 80    | 90    | 45    | 215   | 71.67 | \n",
       "|  8    | 2     | 90    | 78    | 25    | 193   | 64.33 | \n",
       "|  9    | 3     | 20    | 98    | 15    | 133   | 44.33 | \n",
       "| 10    | 3     | 50    | 98    | 45    | 193   | 64.33 | \n",
       "| 11    | 3     | 65    | 65    | 65    | 195   | 65.00 | \n",
       "| 12    | 3     | 45    | 85    | 32    | 162   | 54.00 | \n",
       "| 13    | 4     | 46    | 98    | 65    | 209   | 69.67 | \n",
       "| 14    | 4     | 48    | 87    | 12    | 147   | 49.00 | \n",
       "| 15    | 4     | 75    | 56    | 78    | 209   | 69.67 | \n",
       "| 16    | 4     | 58    | 98    | 65    | 221   | 73.67 | \n",
       "| 17    | 5     | 65    | 68    | 98    | 231   | 77.00 | \n",
       "| 18    | 5     | 80    | 78    | 90    | 248   | 82.67 | \n",
       "| 19    | 5     | 89    | 68    | 87    | 244   | 81.33 | \n",
       "| 20    | 5     | 78    | 83    | 58    | 219   | 73.00 | \n",
       "\n",
       "\n"
      ],
      "text/plain": [
       "   id class math english science hap avg  \n",
       "1   1 1     50   98      50      198 66.00\n",
       "2   2 1     60   97      60      217 72.33\n",
       "3   3 1     45   86      78      209 69.67\n",
       "4   4 1     30   98      58      186 62.00\n",
       "5   5 2     25   80      65      170 56.67\n",
       "6   6 2     50   89      98      237 79.00\n",
       "7   7 2     80   90      45      215 71.67\n",
       "8   8 2     90   78      25      193 64.33\n",
       "9   9 3     20   98      15      133 44.33\n",
       "10 10 3     50   98      45      193 64.33\n",
       "11 11 3     65   65      65      195 65.00\n",
       "12 12 3     45   85      32      162 54.00\n",
       "13 13 4     46   98      65      209 69.67\n",
       "14 14 4     48   87      12      147 49.00\n",
       "15 15 4     75   56      78      209 69.67\n",
       "16 16 4     58   98      65      221 73.67\n",
       "17 17 5     65   68      98      231 77.00\n",
       "18 18 5     80   78      90      248 82.67\n",
       "19 19 5     89   68      87      244 81.33\n",
       "20 20 5     78   83      58      219 73.00"
      ]
     },
     "metadata": {},
     "output_type": "display_data"
    }
   ],
   "source": [
    "df_ex3"
   ]
  },
  {
   "cell_type": "code",
   "execution_count": 15,
   "metadata": {},
   "outputs": [
    {
     "data": {
      "text/html": [
       "<table>\n",
       "<thead><tr><th scope=col>1</th><th scope=col>1__1</th><th scope=col>50</th><th scope=col>98</th><th scope=col>50__1</th></tr></thead>\n",
       "<tbody>\n",
       "\t<tr><td>2 </td><td>1 </td><td>60</td><td>97</td><td>60</td></tr>\n",
       "\t<tr><td>3 </td><td>2 </td><td>25</td><td>80</td><td>65</td></tr>\n",
       "\t<tr><td>4 </td><td>2 </td><td>50</td><td>89</td><td>98</td></tr>\n",
       "\t<tr><td>5 </td><td>3 </td><td>20</td><td>98</td><td>15</td></tr>\n",
       "\t<tr><td>6 </td><td>3 </td><td>50</td><td>98</td><td>45</td></tr>\n",
       "\t<tr><td>7 </td><td>4 </td><td>46</td><td>98</td><td>65</td></tr>\n",
       "</tbody>\n",
       "</table>\n"
      ],
      "text/latex": [
       "\\begin{tabular}{r|lllll}\n",
       " 1 & 1\\_\\_1 & 50 & 98 & 50\\_\\_1\\\\\n",
       "\\hline\n",
       "\t 2  & 1  & 60 & 97 & 60\\\\\n",
       "\t 3  & 2  & 25 & 80 & 65\\\\\n",
       "\t 4  & 2  & 50 & 89 & 98\\\\\n",
       "\t 5  & 3  & 20 & 98 & 15\\\\\n",
       "\t 6  & 3  & 50 & 98 & 45\\\\\n",
       "\t 7  & 4  & 46 & 98 & 65\\\\\n",
       "\\end{tabular}\n"
      ],
      "text/markdown": [
       "\n",
       "1 | 1__1 | 50 | 98 | 50__1 | \n",
       "|---|---|---|---|---|---|\n",
       "| 2  | 1  | 60 | 97 | 60 | \n",
       "| 3  | 2  | 25 | 80 | 65 | \n",
       "| 4  | 2  | 50 | 89 | 98 | \n",
       "| 5  | 3  | 20 | 98 | 15 | \n",
       "| 6  | 3  | 50 | 98 | 45 | \n",
       "| 7  | 4  | 46 | 98 | 65 | \n",
       "\n",
       "\n"
      ],
      "text/plain": [
       "  1 1__1 50 98 50__1\n",
       "1 2 1    60 97 60   \n",
       "2 3 2    25 80 65   \n",
       "3 4 2    50 89 98   \n",
       "4 5 3    20 98 15   \n",
       "5 6 3    50 98 45   \n",
       "6 7 4    46 98 65   "
      ]
     },
     "metadata": {},
     "output_type": "display_data"
    }
   ],
   "source": [
    "df_ex10 <- read_excel(\"../data/excel_exam_novar.xlsx\") # 1행의 타이블 없는 데이터\n",
    "head(df_ex10)"
   ]
  },
  {
   "cell_type": "code",
   "execution_count": 16,
   "metadata": {},
   "outputs": [
    {
     "data": {
      "text/html": [
       "<table>\n",
       "<thead><tr><th scope=col>X__1</th><th scope=col>X__2</th><th scope=col>X__3</th><th scope=col>X__4</th><th scope=col>X__5</th></tr></thead>\n",
       "<tbody>\n",
       "\t<tr><td>1 </td><td>1 </td><td>50</td><td>98</td><td>50</td></tr>\n",
       "\t<tr><td>2 </td><td>1 </td><td>60</td><td>97</td><td>60</td></tr>\n",
       "\t<tr><td>3 </td><td>2 </td><td>25</td><td>80</td><td>65</td></tr>\n",
       "\t<tr><td>4 </td><td>2 </td><td>50</td><td>89</td><td>98</td></tr>\n",
       "\t<tr><td>5 </td><td>3 </td><td>20</td><td>98</td><td>15</td></tr>\n",
       "\t<tr><td>6 </td><td>3 </td><td>50</td><td>98</td><td>45</td></tr>\n",
       "\t<tr><td>7 </td><td>4 </td><td>46</td><td>98</td><td>65</td></tr>\n",
       "\t<tr><td>8 </td><td>4 </td><td>48</td><td>87</td><td>12</td></tr>\n",
       "</tbody>\n",
       "</table>\n"
      ],
      "text/latex": [
       "\\begin{tabular}{r|lllll}\n",
       " X\\_\\_1 & X\\_\\_2 & X\\_\\_3 & X\\_\\_4 & X\\_\\_5\\\\\n",
       "\\hline\n",
       "\t 1  & 1  & 50 & 98 & 50\\\\\n",
       "\t 2  & 1  & 60 & 97 & 60\\\\\n",
       "\t 3  & 2  & 25 & 80 & 65\\\\\n",
       "\t 4  & 2  & 50 & 89 & 98\\\\\n",
       "\t 5  & 3  & 20 & 98 & 15\\\\\n",
       "\t 6  & 3  & 50 & 98 & 45\\\\\n",
       "\t 7  & 4  & 46 & 98 & 65\\\\\n",
       "\t 8  & 4  & 48 & 87 & 12\\\\\n",
       "\\end{tabular}\n"
      ],
      "text/markdown": [
       "\n",
       "X__1 | X__2 | X__3 | X__4 | X__5 | \n",
       "|---|---|---|---|---|---|---|---|\n",
       "| 1  | 1  | 50 | 98 | 50 | \n",
       "| 2  | 1  | 60 | 97 | 60 | \n",
       "| 3  | 2  | 25 | 80 | 65 | \n",
       "| 4  | 2  | 50 | 89 | 98 | \n",
       "| 5  | 3  | 20 | 98 | 15 | \n",
       "| 6  | 3  | 50 | 98 | 45 | \n",
       "| 7  | 4  | 46 | 98 | 65 | \n",
       "| 8  | 4  | 48 | 87 | 12 | \n",
       "\n",
       "\n"
      ],
      "text/plain": [
       "  X__1 X__2 X__3 X__4 X__5\n",
       "1 1    1    50   98   50  \n",
       "2 2    1    60   97   60  \n",
       "3 3    2    25   80   65  \n",
       "4 4    2    50   89   98  \n",
       "5 5    3    20   98   15  \n",
       "6 6    3    50   98   45  \n",
       "7 7    4    46   98   65  \n",
       "8 8    4    48   87   12  "
      ]
     },
     "metadata": {},
     "output_type": "display_data"
    }
   ],
   "source": [
    "df_ex10 <- read_excel(\"../data/excel_exam_novar.xlsx\", col_names = F)\n",
    "df_ex10"
   ]
  },
  {
   "cell_type": "code",
   "execution_count": 17,
   "metadata": {},
   "outputs": [
    {
     "data": {
      "image/png": "[encoded data removed]",
      "text/plain": [
       "Plot with title \"Histogram of df_ex2$math\""
      ]
     },
     "metadata": {},
     "output_type": "display_data",
     "source": "R display func"
    }
   ],
   "source": [
    "hist(df_ex2$math)"
   ]
  },
  {
   "cell_type": "code",
   "execution_count": 18,
   "metadata": {},
   "outputs": [
    {
     "name": "stdout",
     "output_type": "stream",
     "text": [
      "[1] 1\n",
      "[1] 2\n",
      "[1] 3\n",
      "[1] 4\n",
      "[1] 5\n"
     ]
    }
   ],
   "source": [
    "i=0\n",
    "while(i<5) {\n",
    "     i <- i+1\n",
    "     print(i)\n",
    "}"
   ]
  },
  {
   "cell_type": "code",
   "execution_count": 19,
   "metadata": {},
   "outputs": [
    {
     "name": "stdout",
     "output_type": "stream",
     "text": [
      "1 x 10 = 10 \n",
      "2 x 10 = 20 \n",
      "3 x 10 = 30 \n",
      "4 x 10 = 40 \n",
      "5 x 10 = 50 \n",
      "6 x 10 = 60 \n",
      "7 x 10 = 70 \n",
      "8 x 10 = 80 \n",
      "9 x 10 = 90 \n",
      "10 x 10 = 100 \n"
     ]
    }
   ],
   "source": [
    "# 반복문\n",
    "i <- c(1:10)\n",
    "for(n in i) {\n",
    "    cat(n, 'x', 10, '=', n*10, '\\n')\n",
    "}"
   ]
  },
  {
   "cell_type": "code",
   "execution_count": 20,
   "metadata": {},
   "outputs": [
    {
     "name": "stdout",
     "output_type": "stream",
     "text": [
      "3 4 25"
     ]
    }
   ],
   "source": [
    "pythagoras <- function(a,b) {\n",
    "  c <- a^2 + b^2\n",
    "  cat(a,b,c)\n",
    "}\n",
    "pythagoras(3,4)"
   ]
  },
  {
   "cell_type": "markdown",
   "metadata": {},
   "source": [
    "## 데이터 중 결측지 제거 함수 만들기"
   ]
  },
  {
   "cell_type": "code",
   "execution_count": 21,
   "metadata": {},
   "outputs": [
    {
     "data": {
      "text/html": [
       "&lt;NA&gt;"
      ],
      "text/latex": [
       "<NA>"
      ],
      "text/markdown": [
       "&lt;NA&gt;"
      ],
      "text/plain": [
       "[1] NA"
      ]
     },
     "metadata": {},
     "output_type": "display_data"
    }
   ],
   "source": [
    "na_data <- c(1,2,NA,3,4,NA,5,6,6)\n",
    "sum(na_data)"
   ]
  },
  {
   "cell_type": "code",
   "execution_count": 22,
   "metadata": {},
   "outputs": [
    {
     "name": "stdout",
     "output_type": "stream",
     "text": [
      "[1] 1 2 0 3 4 0 5 6 6\n"
     ]
    }
   ],
   "source": [
    "fn_na <- function(a) {\n",
    "  value <-ifelse(!is.na(a),a,0)\n",
    "  print(value)\n",
    "}\n",
    "na_data1 <- fn_na(na_data)"
   ]
  },
  {
   "cell_type": "code",
   "execution_count": 23,
   "metadata": {},
   "outputs": [
    {
     "data": {
      "text/html": [
       "27"
      ],
      "text/latex": [
       "27"
      ],
      "text/markdown": [
       "27"
      ],
      "text/plain": [
       "[1] 27"
      ]
     },
     "metadata": {},
     "output_type": "display_data"
    }
   ],
   "source": [
    "sum(na_data1)"
   ]
  },
  {
   "cell_type": "code",
   "execution_count": null,
   "metadata": {},
   "outputs": [],
   "source": []
  }
 ],
 "metadata": {
  "kernelspec": {
   "display_name": "R",
   "language": "R",
   "name": "ir"
  },
  "language_info": {
   "codemirror_mode": "r",
   "file_extension": ".r",
   "mimetype": "text/x-r-source",
   "name": "R",
   "pygments_lexer": "r",
   "version": "3.4.3"
  }
 },
 "nbformat": 4,
 "nbformat_minor": 2
}
