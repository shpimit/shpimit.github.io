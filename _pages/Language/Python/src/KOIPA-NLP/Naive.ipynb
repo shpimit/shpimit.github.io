{
 "cells": [
  {
   "cell_type": "code",
   "execution_count": 1,
   "metadata": {},
   "outputs": [],
   "source": [
    "trainingSet = [\n",
    "    (1, \"Chinese Beijing Chinese\", \"yes\"),\n",
    "    (2, \"Chinese Chinese Shanghai\", \"yes\"),\n",
    "    (3, \"Chinese Macao\", \"yes\"),\n",
    "    (4, \"Tokyo Japan Chinese\", \"no\")\n",
    "]\n",
    "testSet = [\n",
    "    (5, \"Chinese Chinese Chinese Tokyo Japan\")\n",
    "]"
   ]
  },
  {
   "cell_type": "code",
   "execution_count": 2,
   "metadata": {},
   "outputs": [],
   "source": [
    "traningSetYes = [d for d in trainingSet if d[2] == \"yes\"]\n",
    "traningSetNo  = [d for d in trainingSet if d[2] == \"no\"]"
   ]
  },
  {
   "cell_type": "code",
   "execution_count": 3,
   "metadata": {},
   "outputs": [],
   "source": [
    "nYes = len(traningSetYes)\n",
    "nNo = len(traningSetNo)\n",
    "N = nYes + nNo\n",
    "\n",
    "priorYes = nYes / N\n",
    "priorNo = 1 - priorYes"
   ]
  },
  {
   "cell_type": "code",
   "execution_count": 4,
   "metadata": {},
   "outputs": [
    {
     "data": {
      "text/plain": [
       "(0.75, 0.25)"
      ]
     },
     "execution_count": 4,
     "metadata": {},
     "output_type": "execute_result"
    }
   ],
   "source": [
    "priorYes, priorNo"
   ]
  },
  {
   "cell_type": "code",
   "execution_count": 5,
   "metadata": {},
   "outputs": [],
   "source": [
    "from collections import defaultdict\n",
    "\n",
    "tokensYes = defaultdict(int)\n",
    "tokensNo = defaultdict(int)\n",
    "\n",
    "for d in traningSetYes:\n",
    "    for t in d[1].lower().split():\n",
    "        tokensYes[t] += 1\n",
    "        \n",
    "for d in traningSetNo:\n",
    "    for t in d[1].lower().split():\n",
    "        tokensNo[t] += 1\n",
    "\n",
    "vocaburary = list(set(list(tokensYes.keys()) + list(tokensNo.keys())))"
   ]
  },
  {
   "cell_type": "code",
   "execution_count": 6,
   "metadata": {},
   "outputs": [
    {
     "data": {
      "text/plain": [
       "(defaultdict(int, {'chinese': 5, 'beijing': 1, 'shanghai': 1, 'macao': 1}),\n",
       " defaultdict(int, {'tokyo': 1, 'japan': 1, 'chinese': 1}),\n",
       " ['japan', 'macao', 'tokyo', 'chinese', 'beijing', 'shanghai'])"
      ]
     },
     "execution_count": 6,
     "metadata": {},
     "output_type": "execute_result"
    }
   ],
   "source": [
    "tokensYes, tokensNo, vocaburary"
   ]
  },
  {
   "cell_type": "code",
   "execution_count": 7,
   "metadata": {},
   "outputs": [
    {
     "name": "stdout",
     "output_type": "stream",
     "text": [
      "japan\n",
      "YES | log(0+1/8+6)=-2.6391\n",
      " NO | log(1+1/3+6)=-1.5041\n",
      "macao\n",
      "YES | log(1+1/8+6)=-1.9459\n",
      " NO | log(0+1/3+6)=-2.1972\n",
      "tokyo\n",
      "YES | log(0+1/8+6)=-2.6391\n",
      " NO | log(1+1/3+6)=-1.5041\n",
      "chinese\n",
      "YES | log(5+1/8+6)=-0.8473\n",
      " NO | log(1+1/3+6)=-1.5041\n",
      "beijing\n",
      "YES | log(1+1/8+6)=-1.9459\n",
      " NO | log(0+1/3+6)=-2.1972\n",
      "shanghai\n",
      "YES | log(1+1/8+6)=-1.9459\n",
      " NO | log(0+1/3+6)=-2.1972\n"
     ]
    }
   ],
   "source": [
    "from math import log\n",
    "\n",
    "cpYes = defaultdict(float)\n",
    "cpNo  = defaultdict(float)\n",
    "B = len(vocaburary)\n",
    "sumYes = sum(tokensYes.values())\n",
    "sumNo  = sum(tokensNo.values())\n",
    "\n",
    "for t in vocaburary:\n",
    "    cpYes[t] += log((tokensYes[t] + 1) / (sumYes + B))\n",
    "    cpNo[t]  += log((tokensNo[t] + 1) / (sumNo + B))\n",
    "    print(t)\n",
    "    print(\"YES | log({0}+1/{1}+{2})={3:.4F}\".format(tokensYes[t], sumYes, B, cpYes[t] ))\n",
    "    print(\" NO | log({0}+1/{1}+{2})={3:.4F}\".format(tokensNo[t],  sumNo,  B, cpNo[t] ))\n",
    "    "
   ]
  },
  {
   "cell_type": "markdown",
   "metadata": {},
   "source": [
    "from math import exp\n",
    "\n",
    "for d in testSet:\n",
    "    scoreYes = log(priorYes)\n",
    "    scoreNo  = log(priorNo)\n",
    "    \n",
    "    for t in d[1].lower().split():\n",
    "        scoreYes += cpYes[t]\n",
    "        scoreNo  += cpNo[t]\n",
    "    \n",
    "    if scoreYes > scoreNo:\n",
    "        print(\"Yes\")\n",
    "    else:\n",
    "        print(\"No\")\n",
    "    print(exp(scoreYes), exp(scoreNo))"
   ]
  },
  {
   "cell_type": "code",
   "execution_count": 8,
   "metadata": {},
   "outputs": [],
   "source": [
    "testSet = [\n",
    "    (5, \"Chinese Tokyo Japan\")\n",
    "]"
   ]
  },
  {
   "cell_type": "code",
   "execution_count": 9,
   "metadata": {},
   "outputs": [
    {
     "name": "stdout",
     "output_type": "stream",
     "text": [
      "No\n",
      "0.0016399416909620987 0.0027434842249657062\n"
     ]
    }
   ],
   "source": [
    "from math import exp\n",
    "\n",
    "for d in testSet:\n",
    "    scoreYes = log(priorYes)\n",
    "    scoreNo  = log(priorNo)\n",
    "    \n",
    "    for t in d[1].lower().split():\n",
    "        scoreYes += cpYes[t]\n",
    "        scoreNo  += cpNo[t]\n",
    "    \n",
    "    if scoreYes > scoreNo:\n",
    "        print(\"Yes\")\n",
    "    else:\n",
    "        print(\"No\")\n",
    "    print(exp(scoreYes), exp(scoreNo))"
   ]
  },
  {
   "cell_type": "markdown",
   "metadata": {},
   "source": [
    "# Smoothing을 바꿈"
   ]
  },
  {
   "cell_type": "code",
   "execution_count": 10,
   "metadata": {},
   "outputs": [
    {
     "name": "stdout",
     "output_type": "stream",
     "text": [
      "japan\n",
      "YES | log(0+1/8+6)=-2.8904\n",
      " NO | log(1+1/3+6)=-0.9808\n",
      "macao\n",
      "YES | log(1+1/8+6)=-1.7918\n",
      " NO | log(0+1/3+6)=-2.0794\n",
      "tokyo\n",
      "YES | log(0+1/8+6)=-2.8904\n",
      " NO | log(1+1/3+6)=-0.9808\n",
      "chinese\n",
      "YES | log(5+1/8+6)=-0.4925\n",
      " NO | log(1+1/3+6)=-0.9808\n",
      "beijing\n",
      "YES | log(1+1/8+6)=-1.7918\n",
      " NO | log(0+1/3+6)=-2.0794\n",
      "shanghai\n",
      "YES | log(1+1/8+6)=-1.7918\n",
      " NO | log(0+1/3+6)=-2.0794\n"
     ]
    }
   ],
   "source": [
    "cpYes = defaultdict(float)\n",
    "cpNo  = defaultdict(float)\n",
    "K = 0.5\n",
    "B = len(vocaburary)\n",
    "sumYes = sum(tokensYes.values())\n",
    "sumNo  = sum(tokensNo.values())\n",
    "\n",
    "for t in vocaburary:\n",
    "    cpYes[t] += log((tokensYes[t] + K) / (sumYes + K*2))\n",
    "    cpNo[t]  += log((tokensNo[t] + K) / (sumNo + K*2))\n",
    "    print(t)\n",
    "    print(\"YES | log({0}+1/{1}+{2})={3:.4F}\".format(tokensYes[t], sumYes, B, cpYes[t] ))\n",
    "    print(\" NO | log({0}+1/{1}+{2})={3:.4F}\".format(tokensNo[t],  sumNo,  B, cpNo[t] ))"
   ]
  },
  {
   "cell_type": "code",
   "execution_count": 11,
   "metadata": {},
   "outputs": [],
   "source": [
    "testSet = [\n",
    "    (5, \"Chinese Chinese Chinese Tokyo Japan\")\n",
    "]"
   ]
  },
  {
   "cell_type": "code",
   "execution_count": 12,
   "metadata": {},
   "outputs": [
    {
     "name": "stdout",
     "output_type": "stream",
     "text": [
      "No\n",
      "0.0005282953563989228 0.0018539428710937502\n"
     ]
    }
   ],
   "source": [
    "for d in testSet:\n",
    "    scoreYes = log(priorYes)\n",
    "    scoreNo  = log(priorNo)\n",
    "    \n",
    "    for t in d[1].lower().split():\n",
    "        scoreYes += cpYes[t]\n",
    "        scoreNo  += cpNo[t]\n",
    "    \n",
    "    if scoreYes > scoreNo:\n",
    "        print(\"Yes\")\n",
    "    else:\n",
    "        print(\"No\")\n",
    "    print(exp(scoreYes), exp(scoreNo))"
   ]
  }
 ],
 "metadata": {
  "kernelspec": {
   "display_name": "Python 3",
   "language": "python",
   "name": "python3"
  },
  "language_info": {
   "codemirror_mode": {
    "name": "ipython",
    "version": 3
   },
   "file_extension": ".py",
   "mimetype": "text/x-python",
   "name": "python",
   "nbconvert_exporter": "python",
   "pygments_lexer": "ipython3",
   "version": "3.7.3"
  }
 },
 "nbformat": 4,
 "nbformat_minor": 2
}
