{
 "cells": [
  {
   "cell_type": "code",
   "execution_count": 3,
   "metadata": {},
   "outputs": [],
   "source": [
    "import numpy as np\n",
    "\n",
    "C = np.array([[1,1,0,0,0,0,0],\n",
    "              [0,0,1,1,1,0,0],\n",
    "              [0,1,0,0,0,1,0],\n",
    "              [0,0,1,0,0,0,1],\n",
    "              [0,0,0,1,1,0,1],\n",
    "              [1,0,1,0,1,1,1]])"
   ]
  },
  {
   "cell_type": "code",
   "execution_count": 4,
   "metadata": {},
   "outputs": [
    {
     "data": {
      "text/plain": [
       "array([[1, 1, 0, 0, 0, 0, 0],\n",
       "       [0, 0, 1, 1, 1, 0, 0],\n",
       "       [0, 1, 0, 0, 0, 1, 0],\n",
       "       [0, 0, 1, 0, 0, 0, 1],\n",
       "       [0, 0, 0, 1, 1, 0, 1],\n",
       "       [1, 0, 1, 0, 1, 1, 1]])"
      ]
     },
     "execution_count": 4,
     "metadata": {},
     "output_type": "execute_result"
    }
   ],
   "source": [
    "C"
   ]
  },
  {
   "cell_type": "code",
   "execution_count": 7,
   "metadata": {},
   "outputs": [
    {
     "data": {
      "text/html": [
       "<div>\n",
       "<style scoped>\n",
       "    .dataframe tbody tr th:only-of-type {\n",
       "        vertical-align: middle;\n",
       "    }\n",
       "\n",
       "    .dataframe tbody tr th {\n",
       "        vertical-align: top;\n",
       "    }\n",
       "\n",
       "    .dataframe thead th {\n",
       "        text-align: right;\n",
       "    }\n",
       "</style>\n",
       "<table border=\"1\" class=\"dataframe\">\n",
       "  <thead>\n",
       "    <tr style=\"text-align: right;\">\n",
       "      <th></th>\n",
       "      <th>cute</th>\n",
       "      <th>kitty</th>\n",
       "      <th>eat</th>\n",
       "      <th>rice</th>\n",
       "      <th>cake</th>\n",
       "      <th>hamster</th>\n",
       "      <th>bread</th>\n",
       "    </tr>\n",
       "  </thead>\n",
       "  <tbody>\n",
       "    <tr>\n",
       "      <th>A</th>\n",
       "      <td>1</td>\n",
       "      <td>1</td>\n",
       "      <td>0</td>\n",
       "      <td>0</td>\n",
       "      <td>0</td>\n",
       "      <td>0</td>\n",
       "      <td>0</td>\n",
       "    </tr>\n",
       "    <tr>\n",
       "      <th>B</th>\n",
       "      <td>0</td>\n",
       "      <td>0</td>\n",
       "      <td>1</td>\n",
       "      <td>1</td>\n",
       "      <td>1</td>\n",
       "      <td>0</td>\n",
       "      <td>0</td>\n",
       "    </tr>\n",
       "    <tr>\n",
       "      <th>C</th>\n",
       "      <td>0</td>\n",
       "      <td>1</td>\n",
       "      <td>0</td>\n",
       "      <td>0</td>\n",
       "      <td>0</td>\n",
       "      <td>1</td>\n",
       "      <td>0</td>\n",
       "    </tr>\n",
       "    <tr>\n",
       "      <th>D</th>\n",
       "      <td>0</td>\n",
       "      <td>0</td>\n",
       "      <td>1</td>\n",
       "      <td>0</td>\n",
       "      <td>0</td>\n",
       "      <td>0</td>\n",
       "      <td>1</td>\n",
       "    </tr>\n",
       "    <tr>\n",
       "      <th>E</th>\n",
       "      <td>0</td>\n",
       "      <td>0</td>\n",
       "      <td>0</td>\n",
       "      <td>1</td>\n",
       "      <td>1</td>\n",
       "      <td>0</td>\n",
       "      <td>1</td>\n",
       "    </tr>\n",
       "    <tr>\n",
       "      <th>F</th>\n",
       "      <td>1</td>\n",
       "      <td>0</td>\n",
       "      <td>1</td>\n",
       "      <td>0</td>\n",
       "      <td>1</td>\n",
       "      <td>1</td>\n",
       "      <td>1</td>\n",
       "    </tr>\n",
       "  </tbody>\n",
       "</table>\n",
       "</div>"
      ],
      "text/plain": [
       "   cute  kitty  eat  rice  cake  hamster  bread\n",
       "A     1      1    0     0     0        0      0\n",
       "B     0      0    1     1     1        0      0\n",
       "C     0      1    0     0     0        1      0\n",
       "D     0      0    1     0     0        0      1\n",
       "E     0      0    0     1     1        0      1\n",
       "F     1      0    1     0     1        1      1"
      ]
     },
     "execution_count": 7,
     "metadata": {},
     "output_type": "execute_result"
    }
   ],
   "source": [
    "import pandas as pd\n",
    "\n",
    "I = ['A','B','C','D','E','F']\n",
    "pd.DataFrame(C, columns=['cute','kitty','eat','rice','cake','hamster','bread'], index=I)"
   ]
  },
  {
   "cell_type": "markdown",
   "metadata": {},
   "source": [
    "```\n",
    "1. SVD => U, Sigma, Vt (M, N)/(N, M) N개의 문성와 M개의 단어\n",
    "2. U.Sigma, U[:,:K].Sigma[:K] => Latent Sematic 차원에서 어느 문서가 중요한지\n",
    "3. Sigma.Vt, Sigma[:K].Vt[:K,:] => Latent Sematic 차원에서 어느 단어가 중요한지\n",
    "4. 2-> 각 문서가 어는 문서와 유사한지(on Latent Semantic Dimensions)\n",
    "5. 3-> 각 단어 가 어는 문서와 유사한지(on Latent Semantic Dimensions)\n",
    "```"
   ]
  },
  {
   "cell_type": "code",
   "execution_count": 8,
   "metadata": {},
   "outputs": [],
   "source": [
    "U, Sigma, V = np.linalg.svd(C, full_matrices=False)"
   ]
  },
  {
   "cell_type": "code",
   "execution_count": 9,
   "metadata": {},
   "outputs": [
    {
     "data": {
      "text/plain": [
       "((6, 6), (6,), (6, 7))"
      ]
     },
     "execution_count": 9,
     "metadata": {},
     "output_type": "execute_result"
    }
   ],
   "source": [
    "U.shape, Sigma.shape, V.shape"
   ]
  },
  {
   "cell_type": "code",
   "execution_count": 10,
   "metadata": {},
   "outputs": [
    {
     "data": {
      "text/plain": [
       "(6, 6)"
      ]
     },
     "execution_count": 10,
     "metadata": {},
     "output_type": "execute_result"
    }
   ],
   "source": [
    "np.diag(Sigma).shape"
   ]
  },
  {
   "cell_type": "code",
   "execution_count": 13,
   "metadata": {},
   "outputs": [
    {
     "data": {
      "text/html": [
       "<div>\n",
       "<style scoped>\n",
       "    .dataframe tbody tr th:only-of-type {\n",
       "        vertical-align: middle;\n",
       "    }\n",
       "\n",
       "    .dataframe tbody tr th {\n",
       "        vertical-align: top;\n",
       "    }\n",
       "\n",
       "    .dataframe thead th {\n",
       "        text-align: right;\n",
       "    }\n",
       "</style>\n",
       "<table border=\"1\" class=\"dataframe\">\n",
       "  <thead>\n",
       "    <tr style=\"text-align: right;\">\n",
       "      <th></th>\n",
       "      <th>cute</th>\n",
       "      <th>kitty</th>\n",
       "      <th>eat</th>\n",
       "      <th>rice</th>\n",
       "      <th>cake</th>\n",
       "      <th>hamster</th>\n",
       "      <th>bread</th>\n",
       "    </tr>\n",
       "  </thead>\n",
       "  <tbody>\n",
       "    <tr>\n",
       "      <th>A</th>\n",
       "      <td>1.0</td>\n",
       "      <td>1.0</td>\n",
       "      <td>0.0</td>\n",
       "      <td>-0.0</td>\n",
       "      <td>-0.0</td>\n",
       "      <td>-0.0</td>\n",
       "      <td>0.0</td>\n",
       "    </tr>\n",
       "    <tr>\n",
       "      <th>B</th>\n",
       "      <td>-0.0</td>\n",
       "      <td>0.0</td>\n",
       "      <td>1.0</td>\n",
       "      <td>1.0</td>\n",
       "      <td>1.0</td>\n",
       "      <td>0.0</td>\n",
       "      <td>0.0</td>\n",
       "    </tr>\n",
       "    <tr>\n",
       "      <th>C</th>\n",
       "      <td>-0.0</td>\n",
       "      <td>1.0</td>\n",
       "      <td>-0.0</td>\n",
       "      <td>0.0</td>\n",
       "      <td>-0.0</td>\n",
       "      <td>1.0</td>\n",
       "      <td>-0.0</td>\n",
       "    </tr>\n",
       "    <tr>\n",
       "      <th>D</th>\n",
       "      <td>-0.0</td>\n",
       "      <td>0.0</td>\n",
       "      <td>1.0</td>\n",
       "      <td>0.0</td>\n",
       "      <td>0.0</td>\n",
       "      <td>-0.0</td>\n",
       "      <td>1.0</td>\n",
       "    </tr>\n",
       "    <tr>\n",
       "      <th>E</th>\n",
       "      <td>-0.0</td>\n",
       "      <td>0.0</td>\n",
       "      <td>0.0</td>\n",
       "      <td>1.0</td>\n",
       "      <td>1.0</td>\n",
       "      <td>0.0</td>\n",
       "      <td>1.0</td>\n",
       "    </tr>\n",
       "    <tr>\n",
       "      <th>F</th>\n",
       "      <td>1.0</td>\n",
       "      <td>-0.0</td>\n",
       "      <td>1.0</td>\n",
       "      <td>-0.0</td>\n",
       "      <td>1.0</td>\n",
       "      <td>1.0</td>\n",
       "      <td>1.0</td>\n",
       "    </tr>\n",
       "  </tbody>\n",
       "</table>\n",
       "</div>"
      ],
      "text/plain": [
       "   cute  kitty  eat  rice  cake  hamster  bread\n",
       "A   1.0    1.0  0.0  -0.0  -0.0     -0.0    0.0\n",
       "B  -0.0    0.0  1.0   1.0   1.0      0.0    0.0\n",
       "C  -0.0    1.0 -0.0   0.0  -0.0      1.0   -0.0\n",
       "D  -0.0    0.0  1.0   0.0   0.0     -0.0    1.0\n",
       "E  -0.0    0.0  0.0   1.0   1.0      0.0    1.0\n",
       "F   1.0   -0.0  1.0  -0.0   1.0      1.0    1.0"
      ]
     },
     "execution_count": 13,
     "metadata": {},
     "output_type": "execute_result"
    }
   ],
   "source": [
    "Col =['cute','kitty','eat','rice','cake','hamster','bread']\n",
    "\n",
    "pd.DataFrame(np.round(U.dot(np.diag(Sigma)).dot(V)),columns=Col, index=I)"
   ]
  },
  {
   "cell_type": "code",
   "execution_count": 14,
   "metadata": {},
   "outputs": [
    {
     "data": {
      "text/plain": [
       "(2, 2)"
      ]
     },
     "execution_count": 14,
     "metadata": {},
     "output_type": "execute_result"
    }
   ],
   "source": [
    "np.diag(Sigma[:2]).shape"
   ]
  },
  {
   "cell_type": "code",
   "execution_count": 15,
   "metadata": {},
   "outputs": [
    {
     "data": {
      "text/plain": [
       "(6, 6)"
      ]
     },
     "execution_count": 15,
     "metadata": {},
     "output_type": "execute_result"
    }
   ],
   "source": [
    "U.shape"
   ]
  },
  {
   "cell_type": "code",
   "execution_count": 16,
   "metadata": {},
   "outputs": [
    {
     "data": {
      "text/plain": [
       "((6, 2), (2, 7))"
      ]
     },
     "execution_count": 16,
     "metadata": {},
     "output_type": "execute_result"
    }
   ],
   "source": [
    "U[:,:2].shape, V[:2].shape"
   ]
  },
  {
   "cell_type": "code",
   "execution_count": 17,
   "metadata": {},
   "outputs": [
    {
     "data": {
      "text/html": [
       "<div>\n",
       "<style scoped>\n",
       "    .dataframe tbody tr th:only-of-type {\n",
       "        vertical-align: middle;\n",
       "    }\n",
       "\n",
       "    .dataframe tbody tr th {\n",
       "        vertical-align: top;\n",
       "    }\n",
       "\n",
       "    .dataframe thead th {\n",
       "        text-align: right;\n",
       "    }\n",
       "</style>\n",
       "<table border=\"1\" class=\"dataframe\">\n",
       "  <thead>\n",
       "    <tr style=\"text-align: right;\">\n",
       "      <th></th>\n",
       "      <th>cute</th>\n",
       "      <th>kitty</th>\n",
       "      <th>eat</th>\n",
       "      <th>rice</th>\n",
       "      <th>cake</th>\n",
       "      <th>hamster</th>\n",
       "      <th>bread</th>\n",
       "    </tr>\n",
       "  </thead>\n",
       "  <tbody>\n",
       "    <tr>\n",
       "      <th>A</th>\n",
       "      <td>1.0</td>\n",
       "      <td>1.0</td>\n",
       "      <td>0.0</td>\n",
       "      <td>-0.0</td>\n",
       "      <td>-0.0</td>\n",
       "      <td>1.0</td>\n",
       "      <td>0.0</td>\n",
       "    </tr>\n",
       "    <tr>\n",
       "      <th>B</th>\n",
       "      <td>0.0</td>\n",
       "      <td>-0.0</td>\n",
       "      <td>1.0</td>\n",
       "      <td>1.0</td>\n",
       "      <td>1.0</td>\n",
       "      <td>0.0</td>\n",
       "      <td>1.0</td>\n",
       "    </tr>\n",
       "    <tr>\n",
       "      <th>C</th>\n",
       "      <td>1.0</td>\n",
       "      <td>1.0</td>\n",
       "      <td>0.0</td>\n",
       "      <td>-0.0</td>\n",
       "      <td>-0.0</td>\n",
       "      <td>1.0</td>\n",
       "      <td>0.0</td>\n",
       "    </tr>\n",
       "    <tr>\n",
       "      <th>D</th>\n",
       "      <td>0.0</td>\n",
       "      <td>-0.0</td>\n",
       "      <td>0.0</td>\n",
       "      <td>0.0</td>\n",
       "      <td>1.0</td>\n",
       "      <td>0.0</td>\n",
       "      <td>0.0</td>\n",
       "    </tr>\n",
       "    <tr>\n",
       "      <th>E</th>\n",
       "      <td>0.0</td>\n",
       "      <td>-0.0</td>\n",
       "      <td>1.0</td>\n",
       "      <td>1.0</td>\n",
       "      <td>1.0</td>\n",
       "      <td>0.0</td>\n",
       "      <td>1.0</td>\n",
       "    </tr>\n",
       "    <tr>\n",
       "      <th>F</th>\n",
       "      <td>1.0</td>\n",
       "      <td>1.0</td>\n",
       "      <td>1.0</td>\n",
       "      <td>0.0</td>\n",
       "      <td>1.0</td>\n",
       "      <td>1.0</td>\n",
       "      <td>1.0</td>\n",
       "    </tr>\n",
       "  </tbody>\n",
       "</table>\n",
       "</div>"
      ],
      "text/plain": [
       "   cute  kitty  eat  rice  cake  hamster  bread\n",
       "A   1.0    1.0  0.0  -0.0  -0.0      1.0    0.0\n",
       "B   0.0   -0.0  1.0   1.0   1.0      0.0    1.0\n",
       "C   1.0    1.0  0.0  -0.0  -0.0      1.0    0.0\n",
       "D   0.0   -0.0  0.0   0.0   1.0      0.0    0.0\n",
       "E   0.0   -0.0  1.0   1.0   1.0      0.0    1.0\n",
       "F   1.0    1.0  1.0   0.0   1.0      1.0    1.0"
      ]
     },
     "execution_count": 17,
     "metadata": {},
     "output_type": "execute_result"
    }
   ],
   "source": [
    "pd.DataFrame(np.round(U[:,:2].dot(np.diag(Sigma[:2])).dot(V[:2])),columns=Col, index=I)"
   ]
  },
  {
   "cell_type": "code",
   "execution_count": 18,
   "metadata": {},
   "outputs": [
    {
     "data": {
      "text/html": [
       "<div>\n",
       "<style scoped>\n",
       "    .dataframe tbody tr th:only-of-type {\n",
       "        vertical-align: middle;\n",
       "    }\n",
       "\n",
       "    .dataframe tbody tr th {\n",
       "        vertical-align: top;\n",
       "    }\n",
       "\n",
       "    .dataframe thead th {\n",
       "        text-align: right;\n",
       "    }\n",
       "</style>\n",
       "<table border=\"1\" class=\"dataframe\">\n",
       "  <thead>\n",
       "    <tr style=\"text-align: right;\">\n",
       "      <th></th>\n",
       "      <th>cute</th>\n",
       "      <th>kitty</th>\n",
       "      <th>eat</th>\n",
       "      <th>rice</th>\n",
       "      <th>cake</th>\n",
       "      <th>hamster</th>\n",
       "      <th>bread</th>\n",
       "    </tr>\n",
       "  </thead>\n",
       "  <tbody>\n",
       "    <tr>\n",
       "      <th>A</th>\n",
       "      <td>0.589715</td>\n",
       "      <td>0.675476</td>\n",
       "      <td>0.096266</td>\n",
       "      <td>-0.303633</td>\n",
       "      <td>-0.051656</td>\n",
       "      <td>0.589715</td>\n",
       "      <td>0.096266</td>\n",
       "    </tr>\n",
       "    <tr>\n",
       "      <th>B</th>\n",
       "      <td>0.044610</td>\n",
       "      <td>-0.303633</td>\n",
       "      <td>0.691663</td>\n",
       "      <td>0.646125</td>\n",
       "      <td>0.842552</td>\n",
       "      <td>0.044610</td>\n",
       "      <td>0.691663</td>\n",
       "    </tr>\n",
       "    <tr>\n",
       "      <th>C</th>\n",
       "      <td>0.589715</td>\n",
       "      <td>0.675476</td>\n",
       "      <td>0.096266</td>\n",
       "      <td>-0.303633</td>\n",
       "      <td>-0.051656</td>\n",
       "      <td>0.589715</td>\n",
       "      <td>0.096266</td>\n",
       "    </tr>\n",
       "    <tr>\n",
       "      <th>D</th>\n",
       "      <td>0.200321</td>\n",
       "      <td>-0.007790</td>\n",
       "      <td>0.490414</td>\n",
       "      <td>0.344348</td>\n",
       "      <td>0.548564</td>\n",
       "      <td>0.200321</td>\n",
       "      <td>0.490414</td>\n",
       "    </tr>\n",
       "    <tr>\n",
       "      <th>E</th>\n",
       "      <td>0.044610</td>\n",
       "      <td>-0.303633</td>\n",
       "      <td>0.691663</td>\n",
       "      <td>0.646125</td>\n",
       "      <td>0.842552</td>\n",
       "      <td>0.044610</td>\n",
       "      <td>0.691663</td>\n",
       "    </tr>\n",
       "    <tr>\n",
       "      <th>F</th>\n",
       "      <td>0.816352</td>\n",
       "      <td>0.503954</td>\n",
       "      <td>0.965017</td>\n",
       "      <td>0.392853</td>\n",
       "      <td>0.957228</td>\n",
       "      <td>0.816352</td>\n",
       "      <td>0.965017</td>\n",
       "    </tr>\n",
       "  </tbody>\n",
       "</table>\n",
       "</div>"
      ],
      "text/plain": [
       "       cute     kitty       eat      rice      cake   hamster     bread\n",
       "A  0.589715  0.675476  0.096266 -0.303633 -0.051656  0.589715  0.096266\n",
       "B  0.044610 -0.303633  0.691663  0.646125  0.842552  0.044610  0.691663\n",
       "C  0.589715  0.675476  0.096266 -0.303633 -0.051656  0.589715  0.096266\n",
       "D  0.200321 -0.007790  0.490414  0.344348  0.548564  0.200321  0.490414\n",
       "E  0.044610 -0.303633  0.691663  0.646125  0.842552  0.044610  0.691663\n",
       "F  0.816352  0.503954  0.965017  0.392853  0.957228  0.816352  0.965017"
      ]
     },
     "execution_count": 18,
     "metadata": {},
     "output_type": "execute_result"
    }
   ],
   "source": [
    "pd.DataFrame(U[:,:2].dot(np.diag(Sigma[:2])).dot(V[:2]),columns=Col, index=I) "
   ]
  },
  {
   "cell_type": "code",
   "execution_count": 19,
   "metadata": {},
   "outputs": [
    {
     "data": {
      "text/html": [
       "<div>\n",
       "<style scoped>\n",
       "    .dataframe tbody tr th:only-of-type {\n",
       "        vertical-align: middle;\n",
       "    }\n",
       "\n",
       "    .dataframe tbody tr th {\n",
       "        vertical-align: top;\n",
       "    }\n",
       "\n",
       "    .dataframe thead th {\n",
       "        text-align: right;\n",
       "    }\n",
       "</style>\n",
       "<table border=\"1\" class=\"dataframe\">\n",
       "  <thead>\n",
       "    <tr style=\"text-align: right;\">\n",
       "      <th></th>\n",
       "      <th>0</th>\n",
       "      <th>1</th>\n",
       "      <th>2</th>\n",
       "      <th>3</th>\n",
       "      <th>4</th>\n",
       "      <th>5</th>\n",
       "      <th>6</th>\n",
       "    </tr>\n",
       "  </thead>\n",
       "  <tbody>\n",
       "    <tr>\n",
       "      <th>0</th>\n",
       "      <td>1.000000e+00</td>\n",
       "      <td>1.000000e+00</td>\n",
       "      <td>2.589093e-16</td>\n",
       "      <td>-5.026436e-17</td>\n",
       "      <td>-1.956608e-16</td>\n",
       "      <td>-1.269952e-16</td>\n",
       "      <td>2.586652e-16</td>\n",
       "    </tr>\n",
       "    <tr>\n",
       "      <th>1</th>\n",
       "      <td>-2.615345e-16</td>\n",
       "      <td>4.981863e-16</td>\n",
       "      <td>1.000000e+00</td>\n",
       "      <td>1.000000e+00</td>\n",
       "      <td>1.000000e+00</td>\n",
       "      <td>7.535571e-16</td>\n",
       "      <td>4.728302e-16</td>\n",
       "    </tr>\n",
       "    <tr>\n",
       "      <th>2</th>\n",
       "      <td>-1.382397e-15</td>\n",
       "      <td>1.000000e+00</td>\n",
       "      <td>-6.544914e-16</td>\n",
       "      <td>6.746307e-16</td>\n",
       "      <td>-9.979993e-17</td>\n",
       "      <td>1.000000e+00</td>\n",
       "      <td>-2.661574e-16</td>\n",
       "    </tr>\n",
       "    <tr>\n",
       "      <th>3</th>\n",
       "      <td>-2.541553e-16</td>\n",
       "      <td>2.721308e-16</td>\n",
       "      <td>1.000000e+00</td>\n",
       "      <td>4.218548e-16</td>\n",
       "      <td>1.546724e-16</td>\n",
       "      <td>-1.075396e-16</td>\n",
       "      <td>1.000000e+00</td>\n",
       "    </tr>\n",
       "    <tr>\n",
       "      <th>4</th>\n",
       "      <td>-1.659528e-16</td>\n",
       "      <td>4.095335e-16</td>\n",
       "      <td>3.384808e-16</td>\n",
       "      <td>1.000000e+00</td>\n",
       "      <td>1.000000e+00</td>\n",
       "      <td>2.801495e-16</td>\n",
       "      <td>1.000000e+00</td>\n",
       "    </tr>\n",
       "    <tr>\n",
       "      <th>5</th>\n",
       "      <td>1.000000e+00</td>\n",
       "      <td>-1.368360e-15</td>\n",
       "      <td>1.000000e+00</td>\n",
       "      <td>-2.687597e-16</td>\n",
       "      <td>1.000000e+00</td>\n",
       "      <td>1.000000e+00</td>\n",
       "      <td>1.000000e+00</td>\n",
       "    </tr>\n",
       "  </tbody>\n",
       "</table>\n",
       "</div>"
      ],
      "text/plain": [
       "              0             1             2             3             4  \\\n",
       "0  1.000000e+00  1.000000e+00  2.589093e-16 -5.026436e-17 -1.956608e-16   \n",
       "1 -2.615345e-16  4.981863e-16  1.000000e+00  1.000000e+00  1.000000e+00   \n",
       "2 -1.382397e-15  1.000000e+00 -6.544914e-16  6.746307e-16 -9.979993e-17   \n",
       "3 -2.541553e-16  2.721308e-16  1.000000e+00  4.218548e-16  1.546724e-16   \n",
       "4 -1.659528e-16  4.095335e-16  3.384808e-16  1.000000e+00  1.000000e+00   \n",
       "5  1.000000e+00 -1.368360e-15  1.000000e+00 -2.687597e-16  1.000000e+00   \n",
       "\n",
       "              5             6  \n",
       "0 -1.269952e-16  2.586652e-16  \n",
       "1  7.535571e-16  4.728302e-16  \n",
       "2  1.000000e+00 -2.661574e-16  \n",
       "3 -1.075396e-16  1.000000e+00  \n",
       "4  2.801495e-16  1.000000e+00  \n",
       "5  1.000000e+00  1.000000e+00  "
      ]
     },
     "execution_count": 19,
     "metadata": {},
     "output_type": "execute_result"
    }
   ],
   "source": [
    "pd.DataFrame(U.dot(np.diag(Sigma)).dot(V))"
   ]
  },
  {
   "cell_type": "code",
   "execution_count": 20,
   "metadata": {},
   "outputs": [
    {
     "data": {
      "text/plain": [
       "array([[1, 1, 0, 0, 0, 0, 0],\n",
       "       [0, 0, 1, 1, 1, 0, 0],\n",
       "       [0, 1, 0, 0, 0, 1, 0],\n",
       "       [0, 0, 1, 0, 0, 0, 1],\n",
       "       [0, 0, 0, 1, 1, 0, 1],\n",
       "       [1, 0, 1, 0, 1, 1, 1]])"
      ]
     },
     "execution_count": 20,
     "metadata": {},
     "output_type": "execute_result"
    }
   ],
   "source": [
    "C"
   ]
  },
  {
   "cell_type": "code",
   "execution_count": 21,
   "metadata": {},
   "outputs": [
    {
     "data": {
      "text/plain": [
       "array([[2, 1, 1, 0, 1, 1, 1],\n",
       "       [1, 2, 0, 0, 0, 1, 0],\n",
       "       [1, 0, 3, 1, 2, 1, 2],\n",
       "       [0, 0, 1, 2, 2, 0, 1],\n",
       "       [1, 0, 2, 2, 3, 1, 2],\n",
       "       [1, 1, 1, 0, 1, 2, 1],\n",
       "       [1, 0, 2, 1, 2, 1, 3]])"
      ]
     },
     "execution_count": 21,
     "metadata": {},
     "output_type": "execute_result"
    }
   ],
   "source": [
    "C.T.dot(C)"
   ]
  },
  {
   "cell_type": "code",
   "execution_count": 22,
   "metadata": {},
   "outputs": [
    {
     "name": "stdout",
     "output_type": "stream",
     "text": [
      "[[1.         0.5        0.40824829 0.         0.40824829 0.5\n",
      "  0.40824829]\n",
      " [0.5        1.         0.         0.         0.         0.5\n",
      "  0.        ]\n",
      " [0.40824829 0.         1.         0.40824829 0.66666667 0.40824829\n",
      "  0.66666667]\n",
      " [0.         0.         0.40824829 1.         0.81649658 0.\n",
      "  0.40824829]\n",
      " [0.40824829 0.         0.66666667 0.81649658 1.         0.40824829\n",
      "  0.66666667]\n",
      " [0.5        0.5        0.40824829 0.         0.40824829 1.\n",
      "  0.40824829]\n",
      " [0.40824829 0.         0.66666667 0.40824829 0.66666667 0.40824829\n",
      "  1.        ]]\n"
     ]
    }
   ],
   "source": [
    "Ct = C.T\n",
    "print(Ct.dot(Ct.T) / (np.linalg.norm(Ct, axis=1).reshape(Ct.shape[0],1) * np.linalg.norm(Ct, axis=1).T.reshape(1, Ct.shape[0])))"
   ]
  },
  {
   "cell_type": "code",
   "execution_count": 23,
   "metadata": {},
   "outputs": [
    {
     "name": "stdout",
     "output_type": "stream",
     "text": [
      "[[ 0.58971512  0.67547606  0.09626579 -0.30363284 -0.05165575  0.58971512\n",
      "   0.09626579]\n",
      " [ 0.04461004 -0.30363284  0.69166313  0.64612533  0.84255179  0.04461004\n",
      "   0.69166313]\n",
      " [ 0.58971512  0.67547606  0.09626579 -0.30363284 -0.05165575  0.58971512\n",
      "   0.09626579]\n",
      " [ 0.20032134 -0.00778976  0.49041403  0.34434801  0.54856423  0.20032134\n",
      "   0.49041403]\n",
      " [ 0.04461004 -0.30363284  0.69166313  0.64612533  0.84255179  0.04461004\n",
      "   0.69166313]\n",
      " [ 0.81635189  0.50395418  0.96501749  0.39285293  0.95722773  0.81635189\n",
      "   0.96501749]]\n"
     ]
    }
   ],
   "source": [
    "CC = U[:,:2].dot(np.diag(Sigma[:2])).dot(V[:2])\n",
    "print(CC)"
   ]
  },
  {
   "cell_type": "code",
   "execution_count": 24,
   "metadata": {},
   "outputs": [
    {
     "data": {
      "text/plain": [
       "array([[2, 1, 1, 0, 1, 1, 1],\n",
       "       [1, 2, 0, 0, 0, 1, 0],\n",
       "       [1, 0, 3, 1, 2, 1, 2],\n",
       "       [0, 0, 1, 2, 2, 0, 1],\n",
       "       [1, 0, 2, 2, 3, 1, 2],\n",
       "       [1, 1, 1, 0, 1, 2, 1],\n",
       "       [1, 0, 2, 1, 2, 1, 3]])"
      ]
     },
     "execution_count": 24,
     "metadata": {},
     "output_type": "execute_result"
    }
   ],
   "source": [
    "C.T.dot(C)"
   ]
  },
  {
   "cell_type": "code",
   "execution_count": 25,
   "metadata": {},
   "outputs": [
    {
     "name": "stdout",
     "output_type": "stream",
     "text": [
      "[[ 1.          0.85575466  0.61080519  0.06618906  0.46981441  1.\n",
      "   0.61080519]\n",
      " [ 0.85575466  1.          0.11304632 -0.45960567 -0.05468082  0.85575466\n",
      "   0.11304632]\n",
      " [ 0.61080519  0.11304632  1.          0.83047325  0.98592173  0.61080519\n",
      "   1.        ]\n",
      " [ 0.06618906 -0.45960567  0.83047325  1.          0.91192597  0.06618906\n",
      "   0.83047325]\n",
      " [ 0.46981441 -0.05468082  0.98592173  0.91192597  1.          0.46981441\n",
      "   0.98592173]\n",
      " [ 1.          0.85575466  0.61080519  0.06618906  0.46981441  1.\n",
      "   0.61080519]\n",
      " [ 0.61080519  0.11304632  1.          0.83047325  0.98592173  0.61080519\n",
      "   1.        ]]\n"
     ]
    }
   ],
   "source": [
    "CCt = CC.T\n",
    "\n",
    "print(CCt.dot(CCt.T) / (np.linalg.norm(CCt, axis=1).reshape(CCt.shape[0],1) * np.linalg.norm(CCt, axis=1).T.reshape(1, CCt.shape[0])))"
   ]
  },
  {
   "cell_type": "code",
   "execution_count": 26,
   "metadata": {},
   "outputs": [
    {
     "data": {
      "text/html": [
       "<div>\n",
       "<style scoped>\n",
       "    .dataframe tbody tr th:only-of-type {\n",
       "        vertical-align: middle;\n",
       "    }\n",
       "\n",
       "    .dataframe tbody tr th {\n",
       "        vertical-align: top;\n",
       "    }\n",
       "\n",
       "    .dataframe thead th {\n",
       "        text-align: right;\n",
       "    }\n",
       "</style>\n",
       "<table border=\"1\" class=\"dataframe\">\n",
       "  <thead>\n",
       "    <tr style=\"text-align: right;\">\n",
       "      <th></th>\n",
       "      <th>0</th>\n",
       "      <th>1</th>\n",
       "    </tr>\n",
       "  </thead>\n",
       "  <tbody>\n",
       "    <tr>\n",
       "      <th>A</th>\n",
       "      <td>0.349553</td>\n",
       "      <td>1.069114</td>\n",
       "    </tr>\n",
       "    <tr>\n",
       "      <th>B</th>\n",
       "      <td>1.314749</td>\n",
       "      <td>-0.672143</td>\n",
       "    </tr>\n",
       "    <tr>\n",
       "      <th>C</th>\n",
       "      <td>0.349553</td>\n",
       "      <td>1.069114</td>\n",
       "    </tr>\n",
       "    <tr>\n",
       "      <th>D</th>\n",
       "      <td>0.980358</td>\n",
       "      <td>-0.140448</td>\n",
       "    </tr>\n",
       "    <tr>\n",
       "      <th>E</th>\n",
       "      <td>1.314749</td>\n",
       "      <td>-0.672143</td>\n",
       "    </tr>\n",
       "    <tr>\n",
       "      <th>F</th>\n",
       "      <td>2.049621</td>\n",
       "      <td>0.564819</td>\n",
       "    </tr>\n",
       "  </tbody>\n",
       "</table>\n",
       "</div>"
      ],
      "text/plain": [
       "          0         1\n",
       "A  0.349553  1.069114\n",
       "B  1.314749 -0.672143\n",
       "C  0.349553  1.069114\n",
       "D  0.980358 -0.140448\n",
       "E  1.314749 -0.672143\n",
       "F  2.049621  0.564819"
      ]
     },
     "execution_count": 26,
     "metadata": {},
     "output_type": "execute_result"
    }
   ],
   "source": [
    "pd.DataFrame(U[:,:2].dot(np.diag(Sigma[:2])),index=I)"
   ]
  },
  {
   "cell_type": "code",
   "execution_count": null,
   "metadata": {},
   "outputs": [],
   "source": []
  }
 ],
 "metadata": {
  "kernelspec": {
   "display_name": "Python 3",
   "language": "python",
   "name": "python3"
  },
  "language_info": {
   "codemirror_mode": {
    "name": "ipython",
    "version": 3
   },
   "file_extension": ".py",
   "mimetype": "text/x-python",
   "name": "python",
   "nbconvert_exporter": "python",
   "pygments_lexer": "ipython3",
   "version": "3.7.3"
  }
 },
 "nbformat": 4,
 "nbformat_minor": 2
}
