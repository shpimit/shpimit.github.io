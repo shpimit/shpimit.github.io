{
 "cells": [
  {
   "cell_type": "code",
   "execution_count": 1,
   "metadata": {},
   "outputs": [],
   "source": [
    "sentence = \"the little yellow dog barked at the cat.\""
   ]
  },
  {
   "cell_type": "code",
   "execution_count": 2,
   "metadata": {},
   "outputs": [
    {
     "data": {
      "text/plain": [
       "[('the', 'DT'),\n",
       " ('little', 'JJ'),\n",
       " ('yellow', 'JJ'),\n",
       " ('dog', 'NN'),\n",
       " ('barked', 'VBD'),\n",
       " ('at', 'IN'),\n",
       " ('the', 'DT'),\n",
       " ('cat', 'NN'),\n",
       " ('.', '.')]"
      ]
     },
     "execution_count": 2,
     "metadata": {},
     "output_type": "execute_result"
    }
   ],
   "source": [
    "from nltk import word_tokenize, pos_tag\n",
    "\n",
    "pos_tag(word_tokenize(sentence))"
   ]
  },
  {
   "cell_type": "code",
   "execution_count": 3,
   "metadata": {},
   "outputs": [
    {
     "name": "stdout",
     "output_type": "stream",
     "text": [
      "DT: determiner\n",
      "    all an another any both del each either every half la many much nary\n",
      "    neither no some such that the them these this those\n"
     ]
    }
   ],
   "source": [
    "from nltk.help import upenn_tagset\n",
    "\n",
    "upenn_tagset(\"DT\")"
   ]
  },
  {
   "cell_type": "code",
   "execution_count": 4,
   "metadata": {},
   "outputs": [],
   "source": [
    "tagged = pos_tag(word_tokenize(sentence))"
   ]
  },
  {
   "cell_type": "code",
   "execution_count": 5,
   "metadata": {},
   "outputs": [],
   "source": [
    "from nltk.chunk.regexp import RegexpParser\n",
    "\n",
    "# ? => 있거나 없거나(1개)\n",
    "# * => 없거나 여려개 있거나 (0~n)\n",
    "# + => 1개 이상 있거나 (1~n)\n",
    "# DT + NN\n",
    "# NN\n",
    "# NNP\n",
    "# DT + NNP\n",
    "# NP: {<DT>?<JJ.*>*<NN.*>}\n",
    "rules = RegexpParser(\"\"\"\n",
    "NP: {<DT>?<JJ.*>+<NN.*>}\n",
    "NP: {<DT>?<NN.*>}\n",
    "\"\"\")\n",
    "\n",
    "parseTree = rules.parse(tagged)\n",
    "\n",
    "parseTree.draw()"
   ]
  },
  {
   "cell_type": "code",
   "execution_count": null,
   "metadata": {},
   "outputs": [],
   "source": [
    "from konlpy.tag import Kkma\n",
    "\n",
    "sentence = \"내 친구가 잠을 많이 잔다.\"\n",
    "tagged = Kkma().pos(sentence)"
   ]
  },
  {
   "cell_type": "code",
   "execution_count": 10,
   "metadata": {},
   "outputs": [
    {
     "data": {
      "text/plain": [
       "[('내', 'NP'),\n",
       " ('친구', 'NNG'),\n",
       " ('가', 'JKS'),\n",
       " ('잠', 'NNG'),\n",
       " ('을', 'JKO'),\n",
       " ('많이', 'MAG'),\n",
       " ('자', 'VV'),\n",
       " ('ㄴ다', 'EFN'),\n",
       " ('.', 'SF')]"
      ]
     },
     "execution_count": 10,
     "metadata": {},
     "output_type": "execute_result"
    }
   ],
   "source": [
    "tagged"
   ]
  },
  {
   "cell_type": "code",
   "execution_count": 13,
   "metadata": {},
   "outputs": [
    {
     "name": "stdout",
     "output_type": "stream",
     "text": [
      "(S\n",
      "  (NP 내/NP 친구/NNG 가/JKS)\n",
      "  (NP 잠/NNG 을/JKO)\n",
      "  (VP 많이/MAG 자/VV ㄴ다/EFN)\n",
      "  ./SF)\n"
     ]
    }
   ],
   "source": [
    "rules = RegexpParser(\"\"\"\n",
    "    NP: {<N.*>+<JK.*>}\n",
    "    VP: {<MA.*>*<VV.*><EF.*>}\n",
    "\"\"\")\n",
    "\n",
    "rules.parse(tagged).pprint()\n",
    "\n",
    "rules.parse(tagged).draw()\n",
    "\n",
    "# parseTree = rules.parse(tagged)\n",
    "\n",
    "# parseTree.draw()"
   ]
  },
  {
   "cell_type": "code",
   "execution_count": 11,
   "metadata": {},
   "outputs": [
    {
     "data": {
      "text/plain": [
       "{'EC': '연결 어미',\n",
       " 'ECD': '의존적 연결 어미',\n",
       " 'ECE': '대등 연결 어미',\n",
       " 'ECS': '보조적 연결 어미',\n",
       " 'EF': '종결 어미',\n",
       " 'EFA': '청유형 종결 어미',\n",
       " 'EFI': '감탄형 종결 어미',\n",
       " 'EFN': '평서형 종결 어미',\n",
       " 'EFO': '명령형 종결 어미',\n",
       " 'EFQ': '의문형 종결 어미',\n",
       " 'EFR': '존칭형 종결 어미',\n",
       " 'EP': '선어말 어미',\n",
       " 'EPH': '존칭 선어말 어미',\n",
       " 'EPP': '공손 선어말 어미',\n",
       " 'EPT': '시제 선어말 어미',\n",
       " 'ET': '전성 어미',\n",
       " 'ETD': '관형형 전성 어미',\n",
       " 'ETN': '명사형 전성 어미',\n",
       " 'IC': '감탄사',\n",
       " 'JC': '접속 조사',\n",
       " 'JK': '조사',\n",
       " 'JKC': '보격 조사',\n",
       " 'JKG': '관형격 조사',\n",
       " 'JKI': '호격 조사',\n",
       " 'JKM': '부사격 조사',\n",
       " 'JKO': '목적격 조사',\n",
       " 'JKQ': '인용격 조사',\n",
       " 'JKS': '주격 조사',\n",
       " 'JX': '보조사',\n",
       " 'MA': '부사',\n",
       " 'MAC': '접속 부사',\n",
       " 'MAG': '일반 부사',\n",
       " 'MD': '관형사',\n",
       " 'MDN': '수 관형사',\n",
       " 'MDT': '일반 관형사',\n",
       " 'NN': '명사',\n",
       " 'NNB': '일반 의존 명사',\n",
       " 'NNG': '보통명사',\n",
       " 'NNM': '단위 의존 명사',\n",
       " 'NNP': '고유명사',\n",
       " 'NP': '대명사',\n",
       " 'NR': '수사',\n",
       " 'OH': '한자',\n",
       " 'OL': '외국어',\n",
       " 'ON': '숫자',\n",
       " 'SE': '줄임표',\n",
       " 'SF': '마침표, 물음표, 느낌표',\n",
       " 'SO': '붙임표(물결,숨김,빠짐)',\n",
       " 'SP': '쉼표,가운뎃점,콜론,빗금',\n",
       " 'SS': '따옴표,괄호표,줄표',\n",
       " 'SW': '기타기호 (논리수학기호,화폐기호)',\n",
       " 'UN': '명사추정범주',\n",
       " 'VA': '형용사',\n",
       " 'VC': '지정사',\n",
       " 'VCN': \"부정 지정사, 형용사 '아니다'\",\n",
       " 'VCP': \"긍정 지정사, 서술격 조사 '이다'\",\n",
       " 'VV': '동사',\n",
       " 'VX': '보조 용언',\n",
       " 'VXA': '보조 형용사',\n",
       " 'VXV': '보조 동사',\n",
       " 'XP': '접두사',\n",
       " 'XPN': '체언 접두사',\n",
       " 'XPV': '용언 접두사',\n",
       " 'XR': '어근',\n",
       " 'XSA': '형용사 파생 접미사',\n",
       " 'XSN': '명사파생 접미사',\n",
       " 'XSV': '동사 파생 접미사'}"
      ]
     },
     "execution_count": 11,
     "metadata": {},
     "output_type": "execute_result"
    }
   ],
   "source": [
    "Kkma().tagset"
   ]
  },
  {
   "cell_type": "code",
   "execution_count": 14,
   "metadata": {},
   "outputs": [
    {
     "name": "stdout",
     "output_type": "stream",
     "text": [
      "(NP the/DT little/JJ yellow/JJ dog/NN)\n",
      "(NP the/DT cat/NN)\n"
     ]
    }
   ],
   "source": [
    "for subtree in parseTree.subtrees():\n",
    "    if subtree.label() == \"NP\":\n",
    "        print(subtree)"
   ]
  },
  {
   "cell_type": "code",
   "execution_count": 11,
   "metadata": {},
   "outputs": [
    {
     "name": "stdout",
     "output_type": "stream",
     "text": [
      "(S\n",
      "  (NP I/PRP)\n",
      "  (VP\n",
      "    (VP (V shot/VBP) (NP (Det an/DT) (N elephant/NN)))\n",
      "    (PP (P in/IN) (NP (Det my/PRP$) (N pajamas/NN)))))\n"
     ]
    }
   ],
   "source": [
    "sentence = \"I shot an elephant in my pajamas\"\n",
    "# sentence = \"the dog saw a man in the park\"\n",
    "# sentence = \"the angry bear chased the frightened little squirrel\"\n",
    "# sentence = \"the littel bear saw the fine trout in the brook\"\n",
    "# pos_tag(word_tokenize(sentence))\n",
    "\n",
    "tagged = pos_tag(word_tokenize(sentence))\n",
    "\n",
    "rules = RegexpParser(\"\"\"\n",
    "    N: {<NN.*>}\n",
    "    V: {<VB.*>}    \n",
    "    Det: {<DT|PRP\\$>}\n",
    "    P: {<IN>}\n",
    "    NP : {<Det>?<PRP|N>}\n",
    "    PP : {<P><NP>}\n",
    "    VP : {<V><NP>}\n",
    "    VP : {<VP><PP>}\n",
    "\"\"\")\n",
    "\n",
    "rules.parse(tagged).pprint()\n",
    "\n",
    "rules.parse(tagged).draw()\n"
   ]
  },
  {
   "cell_type": "code",
   "execution_count": 14,
   "metadata": {},
   "outputs": [
    {
     "name": "stdout",
     "output_type": "stream",
     "text": [
      "JJ: adjective or numeral, ordinal\n",
      "    third ill-mannered pre-war regrettable oiled calamitous first separable\n",
      "    ectoplasmic battery-powered participatory fourth still-to-be-named\n",
      "    multilingual multi-disciplinary ...\n",
      "JJR: adjective, comparative\n",
      "    bleaker braver breezier briefer brighter brisker broader bumper busier\n",
      "    calmer cheaper choosier cleaner clearer closer colder commoner costlier\n",
      "    cozier creamier crunchier cuter ...\n",
      "JJS: adjective, superlative\n",
      "    calmest cheapest choicest classiest cleanest clearest closest commonest\n",
      "    corniest costliest crassest creepiest crudest cutest darkest deadliest\n",
      "    dearest deepest densest dinkiest ...\n"
     ]
    }
   ],
   "source": [
    "upenn_tagset(\"JJ.*\")"
   ]
  },
  {
   "cell_type": "code",
   "execution_count": 55,
   "metadata": {},
   "outputs": [
    {
     "name": "stdout",
     "output_type": "stream",
     "text": [
      "(S\n",
      "  (NP (Det the/DT) (Nom (Adj angry/JJ) (N bear/NN)))\n",
      "  (VP\n",
      "    (V chased/VBD)\n",
      "    (NP\n",
      "      (Det the/DT)\n",
      "      (Nom (Adj frightened/JJ) (Nom (Adj little/JJ) (N squirrel/NN))))))\n"
     ]
    }
   ],
   "source": [
    "sentence = \"the angry bear chased the frightened little squirrel\"\n",
    "# pos_tag(word_tokenize(sentence))\n",
    "\n",
    "tagged = pos_tag(word_tokenize(sentence))\n",
    "\n",
    "rules = RegexpParser(\"\"\"\n",
    "    N: {<NN.*>}\n",
    "    V: {<VB.*>}    \n",
    "    P: {<IN>}\n",
    "    Adj : {<JJ.*>}\n",
    "    Det: {<DT|PRP\\$>}\n",
    "    Nom : {<Adj><N>}    \n",
    "    Nom : {<Adj><Nom>}\n",
    "    NP : {<Det>?<PRP|Nom>}\n",
    "    NP : {<Det>?<N>$}    \n",
    "    NP : {<Det>?<N><PP>}    \n",
    "    NP : {<Det>?<N>}\n",
    "    PP : {<P><NP>}\n",
    "    VP : {<V><NP>}\n",
    "    VP : {<VP><PP>}\n",
    "\"\"\")\n",
    "\n",
    "rules.parse(tagged).pprint()\n",
    "\n",
    "rules.parse(tagged).draw()"
   ]
  },
  {
   "cell_type": "code",
   "execution_count": 51,
   "metadata": {},
   "outputs": [
    {
     "name": "stdout",
     "output_type": "stream",
     "text": [
      "(S\n",
      "  (NP (Det the/DT) (N dog/NN))\n",
      "  (VP\n",
      "    (V saw/VBD)\n",
      "    (NP\n",
      "      (Det a/DT)\n",
      "      (N man/NN)\n",
      "      (PP (P in/IN) (NP (Det the/DT) (N park/NN))))))\n"
     ]
    }
   ],
   "source": [
    "sentence = \"the dog saw a man in the park\"\n",
    "\n",
    "tagged = pos_tag(word_tokenize(sentence))\n",
    "\n",
    "rules = RegexpParser(\"\"\"\n",
    "    N: {<NN.*>}\n",
    "    V: {<VB.*>}    \n",
    "    P: {<IN>}\n",
    "    Adj : {<JJ.*>}\n",
    "    Det: {<DT|PRP\\$>}\n",
    "    Nom : {<Adj><N>}    \n",
    "    Nom : {<Adj><Nom>}\n",
    "    NP : {<Det>?<N>$} \n",
    "    NP : {<Det>?<PRP|Nom>}\n",
    "    PP : {<P><NP>}    \n",
    "    NP : {<Det>?<N><PP>}  \n",
    "    NP : {<Det>?<N>}    \n",
    "    VP : {<V><NP>}\n",
    "    VP : {<VP><PP>}\n",
    "\"\"\")\n",
    "\n",
    "rules.parse(tagged).pprint()\n",
    "\n",
    "rules.parse(tagged).draw()"
   ]
  },
  {
   "cell_type": "code",
   "execution_count": 54,
   "metadata": {},
   "outputs": [
    {
     "name": "stdout",
     "output_type": "stream",
     "text": [
      "(S\n",
      "  (NP (Det the/DT) (N littel/NN))\n",
      "  (NP (N bear/NN))\n",
      "  (VP (V saw/VBD) (NP (Det the/DT) (Nom (Adj fine/JJ) (N fat/NN))))\n",
      "  (NP (N trout/NN) (PP (P in/IN) (NP (Det the/DT) (N brook/NN)))))\n"
     ]
    }
   ],
   "source": [
    "sentence = \"the littel bear saw the fine fat trout in the brook\"\n",
    "\n",
    "tagged = pos_tag(word_tokenize(sentence))\n",
    "\n",
    "rules = RegexpParser(\"\"\"\n",
    "    N: {<NN.*>}\n",
    "    V: {<VB.*>}    \n",
    "    P: {<IN>}\n",
    "    Adj : {<JJ.*>}\n",
    "    Det: {<DT|PRP\\$>}\n",
    "    Nom : {<Adj><N>}    \n",
    "    Nom : {<Adj><Nom>}\n",
    "    NP : {<Det>?<N>$} \n",
    "    NP : {<Det>?<PRP|Nom>}\n",
    "    PP : {<P><NP>}    \n",
    "    NP : {<Det>?<N><PP>}  \n",
    "    NP : {<Det>?<N>}    \n",
    "    VP : {<V><NP>}\n",
    "    VP : {<VP><PP>}\n",
    "\"\"\")\n",
    "\n",
    "rules.parse(tagged).pprint()\n",
    "\n",
    "rules.parse(tagged).draw()"
   ]
  },
  {
   "cell_type": "code",
   "execution_count": 56,
   "metadata": {},
   "outputs": [],
   "source": [
    "from nltk.help import brown_tagset"
   ]
  },
  {
   "cell_type": "code",
   "execution_count": 57,
   "metadata": {},
   "outputs": [
    {
     "name": "stdout",
     "output_type": "stream",
     "text": [
      "(S\n",
      "  (NP (Det the/DT) (N littel/NN))\n",
      "  (NP (N bear/NN))\n",
      "  (VP (V saw/VBD) (NP (Det the/DT) (Nom (Adj fine/JJ) (N fat/NN))))\n",
      "  (NP (N trout/NN) (PP (P in/IN) (NP (Det the/DT) (N brook/NN)))))\n"
     ]
    }
   ],
   "source": [
    "sentence = \"the littel bear saw the fine fat trout in the brook\"\n",
    "\n",
    "tagged = pos_tag(word_tokenize(sentence))\n",
    "\n",
    "rules = RegexpParser(\"\"\"\n",
    "    N: {<NN.*>}\n",
    "    V: {<VB.*>}    \n",
    "    P: {<IN>}\n",
    "    Adj : {<JJ.*>}\n",
    "    Det: {<DT|PRP\\$>}\n",
    "    Nom : {<Adj><N>}    \n",
    "    Nom : {<Adj><Nom>}\n",
    "    NP : {<Det>?<N>$} \n",
    "    NP : {<Det>?<PRP|Nom>}\n",
    "    PP : {<P><NP>}    \n",
    "    NP : {<Det>?<N><PP>}  \n",
    "    NP : {<Det>?<N>}    \n",
    "    VP : {<V><NP>}\n",
    "    VP : {<VP><PP>}\n",
    "\"\"\")\n",
    "\n",
    "rules.parse(tagged).pprint()\n",
    "\n",
    "rules.parse(tagged).draw()"
   ]
  },
  {
   "cell_type": "code",
   "execution_count": 58,
   "metadata": {},
   "outputs": [
    {
     "name": "stdout",
     "output_type": "stream",
     "text": [
      "Collecting wordcloud\n",
      "  Downloading https://files.pythonhosted.org/packages/23/4e/1254d26ce5d36facdcbb5820e7e434328aed68e99938c75c9d4e2fee5efb/wordcloud-1.5.0-cp37-cp37m-win_amd64.whl (153kB)\n",
      "Requirement already satisfied: pillow in c:\\users\\shpim\\anaconda3\\lib\\site-packages (from wordcloud) (5.2.0)\n",
      "Requirement already satisfied: numpy>=1.6.1 in c:\\users\\shpim\\anaconda3\\lib\\site-packages (from wordcloud) (1.15.1)\n",
      "Installing collected packages: wordcloud\n",
      "Successfully installed wordcloud-1.5.0\n"
     ]
    }
   ],
   "source": [
    "!pip install wordcloud"
   ]
  },
  {
   "cell_type": "code",
   "execution_count": 59,
   "metadata": {},
   "outputs": [],
   "source": [
    "from konlpy.corpus import kolaw\n",
    "\n",
    "corpus = kolaw.open(kolaw.fileids()[0]).read()"
   ]
  },
  {
   "cell_type": "code",
   "execution_count": 60,
   "metadata": {},
   "outputs": [],
   "source": [
    "from konlpy.tag import Kkma"
   ]
  },
  {
   "cell_type": "code",
   "execution_count": 72,
   "metadata": {},
   "outputs": [],
   "source": [
    "tokens = [_[0] for _ in Kkma().pos(corpus) if len(_[0]) > 1 and not _[1].startswith(\"E\")]"
   ]
  },
  {
   "cell_type": "code",
   "execution_count": 73,
   "metadata": {},
   "outputs": [],
   "source": [
    "from nltk import Text\n",
    "\n",
    "textObj = Text(tokens)"
   ]
  },
  {
   "cell_type": "code",
   "execution_count": 74,
   "metadata": {},
   "outputs": [
    {
     "data": {
      "text/plain": [
       "[('법률', 121),\n",
       " ('정하', 88),\n",
       " ('대통령', 84),\n",
       " ('의하', 83),\n",
       " ('국가', 73),\n",
       " ('헌법', 69),\n",
       " ('국민', 69),\n",
       " ('또는', 69),\n",
       " ('으로', 57),\n",
       " ('국회', 55),\n",
       " ('아니하', 53),\n",
       " ('관하', 53),\n",
       " ('회의', 42),\n",
       " ('모든', 37),\n",
       " ('위하', 33),\n",
       " ('가지', 32),\n",
       " ('필요', 31),\n",
       " ('위원', 31),\n",
       " ('국무', 30),\n",
       " ('기타', 26)]"
      ]
     },
     "execution_count": 74,
     "metadata": {},
     "output_type": "execute_result"
    }
   ],
   "source": [
    "textObj.vocab().most_common(20)"
   ]
  },
  {
   "cell_type": "code",
   "execution_count": 75,
   "metadata": {},
   "outputs": [],
   "source": [
    "from wordcloud import WordCloud\n",
    "\n",
    "path = 'C:/Windows/Fonts/malgun.ttf'\n",
    "\n",
    "wc = WordCloud(font_path=path, max_words=20)"
   ]
  },
  {
   "cell_type": "code",
   "execution_count": 76,
   "metadata": {},
   "outputs": [
    {
     "data": {
      "image/png": "[encoded data removed]",
      "text/plain": [
       "<PIL.Image.Image image mode=RGB size=400x200 at 0x213FA2F5710>"
      ]
     },
     "execution_count": 76,
     "metadata": {},
     "output_type": "execute_result"
    }
   ],
   "source": [
    "wc.generate_from_frequencies(textObj.vocab())\n",
    "wc.to_image()"
   ]
  },
  {
   "cell_type": "code",
   "execution_count": 77,
   "metadata": {},
   "outputs": [],
   "source": [
    "wc = WordCloud(font_path=path, max_words=20, background_color=\"white\")"
   ]
  },
  {
   "cell_type": "code",
   "execution_count": 78,
   "metadata": {},
   "outputs": [
    {
     "data": {
      "image/png": "[encoded data removed]",
      "text/plain": [
       "<PIL.Image.Image image mode=RGB size=400x200 at 0x213FA2F8400>"
      ]
     },
     "execution_count": 78,
     "metadata": {},
     "output_type": "execute_result"
    }
   ],
   "source": [
    "wc.generate_from_frequencies(textObj.vocab())\n",
    "wc.to_image()"
   ]
  },
  {
   "cell_type": "code",
   "execution_count": 79,
   "metadata": {},
   "outputs": [],
   "source": [
    "tokens = [_[0] for _ in Kkma().pos(corpus) if len(_[0]) > 1 and _[1].startswith(\"NN\")]"
   ]
  },
  {
   "cell_type": "code",
   "execution_count": 80,
   "metadata": {},
   "outputs": [
    {
     "data": {
      "text/plain": [
       "[('법률', 121),\n",
       " ('대통령', 84),\n",
       " ('국가', 73),\n",
       " ('헌법', 69),\n",
       " ('국민', 69),\n",
       " ('국회', 55),\n",
       " ('회의', 42),\n",
       " ('필요', 31),\n",
       " ('위원', 31),\n",
       " ('국무', 30),\n",
       " ('기타', 26),\n",
       " ('선거', 26),\n",
       " ('보장', 24),\n",
       " ('정부', 23),\n",
       " ('사항', 23),\n",
       " ('의원', 23),\n",
       " ('자유', 21),\n",
       " ('권리', 21),\n",
       " ('모든', 21),\n",
       " ('의무', 20)]"
      ]
     },
     "execution_count": 80,
     "metadata": {},
     "output_type": "execute_result"
    }
   ],
   "source": [
    "textObj = Text(tokens)\n",
    "textObj.vocab().most_common(20)"
   ]
  },
  {
   "cell_type": "code",
   "execution_count": 81,
   "metadata": {},
   "outputs": [],
   "source": [
    "wc = WordCloud(font_path=path, max_words=40, background_color=\"white\")"
   ]
  },
  {
   "cell_type": "code",
   "execution_count": 82,
   "metadata": {},
   "outputs": [
    {
     "data": {
      "image/png": "[encoded data removed]",
      "text/plain": [
       "<PIL.Image.Image image mode=RGB size=400x200 at 0x213FBBC6EF0>"
      ]
     },
     "execution_count": 82,
     "metadata": {},
     "output_type": "execute_result"
    }
   ],
   "source": [
    "wc.generate_from_frequencies(textObj.vocab())\n",
    "wc.to_image()"
   ]
  },
  {
   "cell_type": "code",
   "execution_count": 89,
   "metadata": {},
   "outputs": [],
   "source": [
    "import os\n",
    "\n",
    "corpus = \"\"\n",
    "\n",
    "for _ in  os.listdir(\"../data\"):\n",
    "    if _.endswith(\".txt\") and _.startswith(\"경제\"):\n",
    "        with open(\"../data/\"+_, encoding=\"utf-8\") as f:\n",
    "            corpus += f.read()\n",
    "            \n",
    "tokens = [_[0] for _ in Kkma().pos(corpus) if len(_[0]) > 1 and _[1].startswith(\"NN\")]            "
   ]
  },
  {
   "cell_type": "code",
   "execution_count": 90,
   "metadata": {},
   "outputs": [
    {
     "data": {
      "text/plain": [
       "[('조사', 71),\n",
       " ('지진', 71),\n",
       " ('뉴스', 56),\n",
       " ('포항', 41),\n",
       " ('관련', 39),\n",
       " ('기자', 39),\n",
       " ('지열', 39),\n",
       " ('정부', 39),\n",
       " ('추가', 38),\n",
       " ('기업', 37),\n",
       " ('서울', 36),\n",
       " ('중국', 36),\n",
       " ('수수료', 35),\n",
       " ('현대', 34),\n",
       " ('공장', 32),\n",
       " ('미국', 32),\n",
       " ('보험', 31),\n",
       " ('연합', 27),\n",
       " ('사업', 26),\n",
       " ('업계', 25)]"
      ]
     },
     "execution_count": 90,
     "metadata": {},
     "output_type": "execute_result"
    }
   ],
   "source": [
    "from nltk import Text\n",
    "\n",
    "textObj = Text(tokens)\n",
    "textObj.vocab().most_common(20)"
   ]
  },
  {
   "cell_type": "code",
   "execution_count": 91,
   "metadata": {},
   "outputs": [],
   "source": [
    "wc = WordCloud(font_path=path, max_words=40, background_color=\"white\")"
   ]
  },
  {
   "cell_type": "code",
   "execution_count": 92,
   "metadata": {},
   "outputs": [
    {
     "data": {
      "image/png": "[encoded data removed]",
      "text/plain": [
       "<PIL.Image.Image image mode=RGB size=400x200 at 0x213FBBC6940>"
      ]
     },
     "execution_count": 92,
     "metadata": {},
     "output_type": "execute_result"
    }
   ],
   "source": [
    "wc.generate_from_frequencies(textObj.vocab())\n",
    "wc.to_image()"
   ]
  },
  {
   "cell_type": "code",
   "execution_count": 93,
   "metadata": {},
   "outputs": [],
   "source": [
    "corpus = \"\"\n",
    "\n",
    "for _ in  os.listdir(\"../data\"):\n",
    "    if _.endswith(\".txt\") and _.startswith(\"생활문화\"):\n",
    "        with open(\"../data/\"+_, encoding=\"utf-8\") as f:\n",
    "            corpus += f.read()\n",
    "            \n",
    "tokens = [_[0] for _ in Kkma().pos(corpus) if len(_[0]) > 1 and _[1].startswith(\"NN\")]   "
   ]
  },
  {
   "cell_type": "code",
   "execution_count": 95,
   "metadata": {},
   "outputs": [],
   "source": [
    "textObj = Text(tokens)"
   ]
  },
  {
   "cell_type": "code",
   "execution_count": 96,
   "metadata": {},
   "outputs": [
    {
     "data": {
      "image/png": "[encoded data removed]",
      "text/plain": [
       "<PIL.Image.Image image mode=RGB size=400x200 at 0x213FA367FD0>"
      ]
     },
     "execution_count": 96,
     "metadata": {},
     "output_type": "execute_result"
    }
   ],
   "source": [
    "termList = textObj.vocab()\n",
    "\n",
    "wc.generate_from_frequencies(termList)\n",
    "wc.to_image()"
   ]
  },
  {
   "cell_type": "markdown",
   "metadata": {},
   "source": [
    "[모델작업](http://www.cs.virginia.edu/~hw5x/Course/IR2015/_site/lectures/"
   ]
  },
  {
   "cell_type": "code",
   "execution_count": null,
   "metadata": {},
   "outputs": [],
   "source": []
  }
 ],
 "metadata": {
  "kernelspec": {
   "display_name": "Python 3",
   "language": "python",
   "name": "python3"
  },
  "language_info": {
   "codemirror_mode": {
    "name": "ipython",
    "version": 3
   },
   "file_extension": ".py",
   "mimetype": "text/x-python",
   "name": "python",
   "nbconvert_exporter": "python",
   "pygments_lexer": "ipython3",
   "version": "3.6.8"
  }
 },
 "nbformat": 4,
 "nbformat_minor": 2
}
