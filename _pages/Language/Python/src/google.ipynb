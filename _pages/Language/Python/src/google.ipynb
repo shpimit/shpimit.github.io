{
 "cells": [
  {
   "cell_type": "code",
   "execution_count": 1,
   "metadata": {},
   "outputs": [],
   "source": [
    "import requests"
   ]
  },
  {
   "cell_type": "code",
   "execution_count": 6,
   "metadata": {},
   "outputs": [],
   "source": [
    "header = {'user-agent':'Mozilla/5.0 (Windows NT 10.0; Win64; x64) AppleWebKit/537.36 (KHTML, like Gecko) Chrome/72.0.3626.119 Safari/537.36'}"
   ]
  },
  {
   "cell_type": "code",
   "execution_count": 7,
   "metadata": {},
   "outputs": [],
   "source": [
    "def getDownload(url, param = None, retries = 3):\n",
    "    resp = None\n",
    "    try:\n",
    "        resp = requests.get(url, params = param, headers = header)\n",
    "        resp.raise_for_status()\n",
    "    except requests.exceptions.HTTPError as e:\n",
    "        if 500 <= resp.status_code < 600 and retries > 0:\n",
    "            print('Retries : {0}'.format(retries))\n",
    "            return getDownload(url, param, retries -1)\n",
    "        else:\n",
    "            print(resp.status_code)\n",
    "            print(resp.reason)\n",
    "            print(resp.request.headers)\n",
    "            \n",
    "    return resp"
   ]
  },
  {
   "cell_type": "code",
   "execution_count": 8,
   "metadata": {},
   "outputs": [
    {
     "data": {
      "text/plain": [
       "bytes"
      ]
     },
     "execution_count": 8,
     "metadata": {},
     "output_type": "execute_result"
    }
   ],
   "source": [
    "html = getDownload(\"http://www.google.com/search\", {\"q\":\"파이썬\"})\n",
    "type(html.content)"
   ]
  },
  {
   "cell_type": "code",
   "execution_count": 5,
   "metadata": {},
   "outputs": [
    {
     "name": "stdout",
     "output_type": "stream",
     "text": [
      "Requirement already satisfied: beautifulsoup4 in c:\\anaconda3\\lib\\site-packages (4.6.3)\n"
     ]
    }
   ],
   "source": [
    "!pip install beautifulsoup4"
   ]
  },
  {
   "cell_type": "code",
   "execution_count": 26,
   "metadata": {},
   "outputs": [],
   "source": [
    "html = \"\"\"\n",
    "<html>\n",
    "    <head>\n",
    "    </head>\n",
    "    <body>\n",
    "        <div id=\"result\">\n",
    "            <p class=\"row\">\n",
    "                <a href=\"/?\" class=\"red\">Go to page!</a>\n",
    "                <a href=\"/?\" class=\"blue\">Go to page2</a>\n",
    "            </p>\n",
    "        </div>\n",
    "    </body>\n",
    "</html>\n",
    "\"\"\""
   ]
  },
  {
   "cell_type": "code",
   "execution_count": 28,
   "metadata": {},
   "outputs": [
    {
     "data": {
      "text/plain": [
       "'\\n'"
      ]
     },
     "execution_count": 28,
     "metadata": {},
     "output_type": "execute_result"
    }
   ],
   "source": [
    "from bs4 import BeautifulSoup\n",
    "\n",
    "dom = BeautifulSoup(html, \"lxml\")\n",
    "dom.html.head.text"
   ]
  },
  {
   "cell_type": "code",
   "execution_count": 18,
   "metadata": {},
   "outputs": [
    {
     "data": {
      "text/plain": [
       "{'href': '/?'}"
      ]
     },
     "execution_count": 18,
     "metadata": {},
     "output_type": "execute_result"
    }
   ],
   "source": [
    "dom.html.body.div.p.a.attrs"
   ]
  },
  {
   "cell_type": "code",
   "execution_count": 19,
   "metadata": {},
   "outputs": [
    {
     "data": {
      "text/plain": [
       "'/?'"
      ]
     },
     "execution_count": 19,
     "metadata": {},
     "output_type": "execute_result"
    }
   ],
   "source": [
    "dom.html.body.div.p.a[\"href\"]"
   ]
  },
  {
   "cell_type": "code",
   "execution_count": 20,
   "metadata": {},
   "outputs": [
    {
     "data": {
      "text/plain": [
       "'a'"
      ]
     },
     "execution_count": 20,
     "metadata": {},
     "output_type": "execute_result"
    }
   ],
   "source": [
    "dom.a.name"
   ]
  },
  {
   "cell_type": "code",
   "execution_count": 21,
   "metadata": {},
   "outputs": [
    {
     "data": {
      "text/plain": [
       "'\\n\\n\\nGo to page!\\n\\n\\n'"
      ]
     },
     "execution_count": 21,
     "metadata": {},
     "output_type": "execute_result"
    }
   ],
   "source": [
    "dom.body.text"
   ]
  },
  {
   "cell_type": "code",
   "execution_count": 22,
   "metadata": {},
   "outputs": [
    {
     "name": "stdout",
     "output_type": "stream",
     "text": [
      "\n",
      "\n",
      "\n",
      "Go to page!\n",
      "\n",
      "\n",
      "\n"
     ]
    }
   ],
   "source": [
    "print(dom.body.text)"
   ]
  },
  {
   "cell_type": "code",
   "execution_count": 25,
   "metadata": {},
   "outputs": [
    {
     "data": {
      "text/plain": [
       "<a href=\"/?\">Go to page!</a>"
      ]
     },
     "execution_count": 25,
     "metadata": {},
     "output_type": "execute_result"
    }
   ],
   "source": [
    "dom.a"
   ]
  },
  {
   "cell_type": "code",
   "execution_count": 29,
   "metadata": {},
   "outputs": [
    {
     "data": {
      "text/plain": [
       "{'href': '/?', 'class': ['red']}"
      ]
     },
     "execution_count": 29,
     "metadata": {},
     "output_type": "execute_result"
    }
   ],
   "source": [
    "dom.a.attrs"
   ]
  },
  {
   "cell_type": "code",
   "execution_count": 30,
   "metadata": {},
   "outputs": [
    {
     "data": {
      "text/plain": [
       "<a class=\"red\" href=\"/?\">Go to page!</a>"
      ]
     },
     "execution_count": 30,
     "metadata": {},
     "output_type": "execute_result"
    }
   ],
   "source": [
    "dom.find(\"a\")"
   ]
  },
  {
   "cell_type": "code",
   "execution_count": 31,
   "metadata": {},
   "outputs": [
    {
     "data": {
      "text/plain": [
       "[<a class=\"red\" href=\"/?\">Go to page!</a>,\n",
       " <a class=\"blue\" href=\"/?\">Go to page2</a>]"
      ]
     },
     "execution_count": 31,
     "metadata": {},
     "output_type": "execute_result"
    }
   ],
   "source": [
    "dom.find_all(\"a\")"
   ]
  },
  {
   "cell_type": "code",
   "execution_count": 33,
   "metadata": {},
   "outputs": [
    {
     "data": {
      "text/plain": [
       "<a class=\"blue\" href=\"/?\">Go to page2</a>"
      ]
     },
     "execution_count": 33,
     "metadata": {},
     "output_type": "execute_result"
    }
   ],
   "source": [
    "dom.find_all(\"a\")[1]"
   ]
  },
  {
   "cell_type": "code",
   "execution_count": 34,
   "metadata": {},
   "outputs": [
    {
     "name": "stdout",
     "output_type": "stream",
     "text": [
      "Variable        Type             Data/Info\n",
      "------------------------------------------\n",
      "BeautifulSoup   type             <class 'bs4.BeautifulSoup'>\n",
      "dom             BeautifulSoup    <html>\\n<head>\\n</head>\\n<...>/div>\\n</body>\\n</html>\\n\n",
      "getDownload     function         <function getDownload at 0x000001E9BF71B7B8>\n",
      "header          dict             n=1\n",
      "html            str              \\n<html>\\n    <head>\\n   <...>>\\n    </body>\\n</html>\\n\n",
      "requests        module           <module 'requests' from '<...>\\\\requests\\\\__init__.py'>\n"
     ]
    }
   ],
   "source": [
    "whos"
   ]
  },
  {
   "cell_type": "code",
   "execution_count": 35,
   "metadata": {},
   "outputs": [
    {
     "data": {
      "text/plain": [
       "bs4.element.ResultSet"
      ]
     },
     "execution_count": 35,
     "metadata": {},
     "output_type": "execute_result"
    }
   ],
   "source": [
    "type(dom.find_all(\"a\"))"
   ]
  },
  {
   "cell_type": "code",
   "execution_count": 36,
   "metadata": {},
   "outputs": [
    {
     "data": {
      "text/plain": [
       "<a class=\"blue\" href=\"/?\">Go to page2</a>"
      ]
     },
     "execution_count": 36,
     "metadata": {},
     "output_type": "execute_result"
    }
   ],
   "source": [
    "dom.find(\"a\",{\"class\":\"blue\"})"
   ]
  },
  {
   "cell_type": "code",
   "execution_count": 37,
   "metadata": {},
   "outputs": [
    {
     "data": {
      "text/plain": [
       "[<div id=\"result\">\n",
       " <p class=\"row\">\n",
       " <a class=\"red\" href=\"/?\">Go to page!</a>\n",
       " <a class=\"blue\" href=\"/?\">Go to page2</a>\n",
       " </p>\n",
       " </div>,\n",
       " <a class=\"red\" href=\"/?\">Go to page!</a>,\n",
       " <a class=\"blue\" href=\"/?\">Go to page2</a>]"
      ]
     },
     "execution_count": 37,
     "metadata": {},
     "output_type": "execute_result"
    }
   ],
   "source": [
    "dom.find_all({\"div\",\"a\"})"
   ]
  },
  {
   "cell_type": "code",
   "execution_count": 38,
   "metadata": {},
   "outputs": [
    {
     "data": {
      "text/plain": [
       "[<a class=\"blue\" href=\"/?\">Go to page2</a>]"
      ]
     },
     "execution_count": 38,
     "metadata": {},
     "output_type": "execute_result"
    }
   ],
   "source": [
    "dom.find_all({\"div\",\"a\"},{\"class\":\"blue\"})   ### and "
   ]
  },
  {
   "cell_type": "code",
   "execution_count": 40,
   "metadata": {},
   "outputs": [
    {
     "name": "stdout",
     "output_type": "stream",
     "text": [
      "<class 'bs4.element.Tag'>\n",
      "<class 'NoneType'>\n"
     ]
    }
   ],
   "source": [
    "print(type(dom.find(\"\",{\"class\":\"red\"})))\n",
    "print(type(dom.find(\"\",text=\"Go to page1\")))"
   ]
  },
  {
   "cell_type": "code",
   "execution_count": 41,
   "metadata": {},
   "outputs": [
    {
     "data": {
      "text/plain": [
       "[<a class=\"red\" href=\"/?\">Go to page!</a>]"
      ]
     },
     "execution_count": 41,
     "metadata": {},
     "output_type": "execute_result"
    }
   ],
   "source": [
    "dom.find_all(\"a\",limit=1)"
   ]
  },
  {
   "cell_type": "code",
   "execution_count": 42,
   "metadata": {},
   "outputs": [
    {
     "data": {
      "text/plain": [
       "[<a class=\"red\" href=\"/?\">Go to page!</a>,\n",
       " <a class=\"blue\" href=\"/?\">Go to page2</a>]"
      ]
     },
     "execution_count": 42,
     "metadata": {},
     "output_type": "execute_result"
    }
   ],
   "source": [
    "dom.find_all(\"\",{\"class\":{\"red\",\"blue\"}})   ### or"
   ]
  },
  {
   "cell_type": "code",
   "execution_count": 44,
   "metadata": {},
   "outputs": [],
   "source": [
    "html = getDownload(\"http://pythonscraping.com/pages/page3.html\")\n",
    "# html.text|context\n",
    "dom = BeautifulSoup(html.content,\"lxml\")"
   ]
  },
  {
   "cell_type": "code",
   "execution_count": 45,
   "metadata": {},
   "outputs": [
    {
     "name": "stdout",
     "output_type": "stream",
     "text": [
      "<html>\n",
      " <head>\n",
      "  <style>\n",
      "   img{\n",
      "\twidth:75px;\n",
      "}\n",
      "table{\n",
      "\twidth:50%;\n",
      "}\n",
      "td{\n",
      "\tmargin:10px;\n",
      "\tpadding:10px;\n",
      "}\n",
      ".wrapper{\n",
      "\twidth:800px;\n",
      "}\n",
      ".excitingNote{\n",
      "\tfont-style:italic;\n",
      "\tfont-weight:bold;\n",
      "}\n",
      "  </style>\n",
      " </head>\n",
      " <body>\n",
      "  <div id=\"wrapper\">\n",
      "   <img src=\"../img/gifts/logo.jpg\" style=\"float:left;\"/>\n",
      "   <h1>\n",
      "    Totally Normal Gifts\n",
      "   </h1>\n",
      "   <div id=\"content\">\n",
      "    Here is a collection of totally normal, totally reasonable gifts that your friends are sure to love! Our collection is\n",
      "hand-curated by well-paid, free-range Tibetan monks.\n",
      "    <p>\n",
      "     We haven't figured out how to make online shopping carts yet, but you can send us a check to:\n",
      "     <br/>\n",
      "     123 Main St.\n",
      "     <br/>\n",
      "     Abuja, Nigeria\n",
      "We will then send your totally amazing gift, pronto! Please include an extra $5.00 for gift wrapping.\n",
      "    </p>\n",
      "   </div>\n",
      "   <table id=\"giftList\">\n",
      "    <tr>\n",
      "     <th>\n",
      "      Item Title\n",
      "     </th>\n",
      "     <th>\n",
      "      Description\n",
      "     </th>\n",
      "     <th>\n",
      "      Cost\n",
      "     </th>\n",
      "     <th>\n",
      "      Image\n",
      "     </th>\n",
      "    </tr>\n",
      "    <tr class=\"gift\" id=\"gift1\">\n",
      "     <td>\n",
      "      Vegetable Basket\n",
      "     </td>\n",
      "     <td>\n",
      "      This vegetable basket is the perfect gift for your health conscious (or overweight) friends!\n",
      "      <span class=\"excitingNote\">\n",
      "       Now with super-colorful bell peppers!\n",
      "      </span>\n",
      "     </td>\n",
      "     <td>\n",
      "      $15.00\n",
      "     </td>\n",
      "     <td>\n",
      "      <img src=\"../img/gifts/img1.jpg\"/>\n",
      "     </td>\n",
      "    </tr>\n",
      "    <tr class=\"gift\" id=\"gift2\">\n",
      "     <td>\n",
      "      Russian Nesting Dolls\n",
      "     </td>\n",
      "     <td>\n",
      "      Hand-painted by trained monkeys, these exquisite dolls are priceless! And by \"priceless,\" we mean \"extremely expensive\"!\n",
      "      <span class=\"excitingNote\">\n",
      "       8 entire dolls per set! Octuple the presents!\n",
      "      </span>\n",
      "     </td>\n",
      "     <td>\n",
      "      $10,000.52\n",
      "     </td>\n",
      "     <td>\n",
      "      <img src=\"../img/gifts/img2.jpg\"/>\n",
      "     </td>\n",
      "    </tr>\n",
      "    <tr class=\"gift\" id=\"gift3\">\n",
      "     <td>\n",
      "      Fish Painting\n",
      "     </td>\n",
      "     <td>\n",
      "      If something seems fishy about this painting, it's because it's a fish!\n",
      "      <span class=\"excitingNote\">\n",
      "       Also hand-painted by trained monkeys!\n",
      "      </span>\n",
      "     </td>\n",
      "     <td>\n",
      "      $10,005.00\n",
      "     </td>\n",
      "     <td>\n",
      "      <img src=\"../img/gifts/img3.jpg\"/>\n",
      "     </td>\n",
      "    </tr>\n",
      "    <tr class=\"gift\" id=\"gift4\">\n",
      "     <td>\n",
      "      Dead Parrot\n",
      "     </td>\n",
      "     <td>\n",
      "      This is an ex-parrot!\n",
      "      <span class=\"excitingNote\">\n",
      "       Or maybe he's only resting?\n",
      "      </span>\n",
      "     </td>\n",
      "     <td>\n",
      "      $0.50\n",
      "     </td>\n",
      "     <td>\n",
      "      <img src=\"../img/gifts/img4.jpg\"/>\n",
      "     </td>\n",
      "    </tr>\n",
      "    <tr class=\"gift\" id=\"gift5\">\n",
      "     <td>\n",
      "      Mystery Box\n",
      "     </td>\n",
      "     <td>\n",
      "      If you love suprises, this mystery box is for you! Do not place on light-colored surfaces. May cause oil staining.\n",
      "      <span class=\"excitingNote\">\n",
      "       Keep your friends guessing!\n",
      "      </span>\n",
      "     </td>\n",
      "     <td>\n",
      "      $1.50\n",
      "     </td>\n",
      "     <td>\n",
      "      <img src=\"../img/gifts/img6.jpg\"/>\n",
      "     </td>\n",
      "    </tr>\n",
      "   </table>\n",
      "   <div id=\"footer\">\n",
      "    © Totally Normal Gifts, Inc.\n",
      "    <br/>\n",
      "    +234 (617) 863-0736\n",
      "   </div>\n",
      "  </div>\n",
      " </body>\n",
      "</html>\n",
      "\n"
     ]
    }
   ],
   "source": [
    "print(dom.prettify())"
   ]
  },
  {
   "cell_type": "code",
   "execution_count": 47,
   "metadata": {},
   "outputs": [],
   "source": [
    "node=dom.find(\"\",{\"id\":\"footer\"})"
   ]
  },
  {
   "cell_type": "code",
   "execution_count": 48,
   "metadata": {},
   "outputs": [
    {
     "data": {
      "text/plain": [
       "<div id=\"footer\">\n",
       "© Totally Normal Gifts, Inc. <br/>\n",
       "+234 (617) 863-0736\n",
       "</div>"
      ]
     },
     "execution_count": 48,
     "metadata": {},
     "output_type": "execute_result"
    }
   ],
   "source": [
    "node"
   ]
  },
  {
   "cell_type": "code",
   "execution_count": 49,
   "metadata": {},
   "outputs": [
    {
     "data": {
      "text/plain": [
       "<div id=\"wrapper\">\n",
       "<img src=\"../img/gifts/logo.jpg\" style=\"float:left;\"/>\n",
       "<h1>Totally Normal Gifts</h1>\n",
       "<div id=\"content\">Here is a collection of totally normal, totally reasonable gifts that your friends are sure to love! Our collection is\n",
       "hand-curated by well-paid, free-range Tibetan monks.<p>\n",
       "We haven't figured out how to make online shopping carts yet, but you can send us a check to:<br/>\n",
       "123 Main St.<br/>\n",
       "Abuja, Nigeria\n",
       "We will then send your totally amazing gift, pronto! Please include an extra $5.00 for gift wrapping.</p></div>\n",
       "<table id=\"giftList\">\n",
       "<tr><th>\n",
       "Item Title\n",
       "</th><th>\n",
       "Description\n",
       "</th><th>\n",
       "Cost\n",
       "</th><th>\n",
       "Image\n",
       "</th></tr>\n",
       "<tr class=\"gift\" id=\"gift1\"><td>\n",
       "Vegetable Basket\n",
       "</td><td>\n",
       "This vegetable basket is the perfect gift for your health conscious (or overweight) friends!\n",
       "<span class=\"excitingNote\">Now with super-colorful bell peppers!</span>\n",
       "</td><td>\n",
       "$15.00\n",
       "</td><td>\n",
       "<img src=\"../img/gifts/img1.jpg\"/>\n",
       "</td></tr>\n",
       "<tr class=\"gift\" id=\"gift2\"><td>\n",
       "Russian Nesting Dolls\n",
       "</td><td>\n",
       "Hand-painted by trained monkeys, these exquisite dolls are priceless! And by \"priceless,\" we mean \"extremely expensive\"! <span class=\"excitingNote\">8 entire dolls per set! Octuple the presents!</span>\n",
       "</td><td>\n",
       "$10,000.52\n",
       "</td><td>\n",
       "<img src=\"../img/gifts/img2.jpg\"/>\n",
       "</td></tr>\n",
       "<tr class=\"gift\" id=\"gift3\"><td>\n",
       "Fish Painting\n",
       "</td><td>\n",
       "If something seems fishy about this painting, it's because it's a fish! <span class=\"excitingNote\">Also hand-painted by trained monkeys!</span>\n",
       "</td><td>\n",
       "$10,005.00\n",
       "</td><td>\n",
       "<img src=\"../img/gifts/img3.jpg\"/>\n",
       "</td></tr>\n",
       "<tr class=\"gift\" id=\"gift4\"><td>\n",
       "Dead Parrot\n",
       "</td><td>\n",
       "This is an ex-parrot! <span class=\"excitingNote\">Or maybe he's only resting?</span>\n",
       "</td><td>\n",
       "$0.50\n",
       "</td><td>\n",
       "<img src=\"../img/gifts/img4.jpg\"/>\n",
       "</td></tr>\n",
       "<tr class=\"gift\" id=\"gift5\"><td>\n",
       "Mystery Box\n",
       "</td><td>\n",
       "If you love suprises, this mystery box is for you! Do not place on light-colored surfaces. May cause oil staining. <span class=\"excitingNote\">Keep your friends guessing!</span>\n",
       "</td><td>\n",
       "$1.50\n",
       "</td><td>\n",
       "<img src=\"../img/gifts/img6.jpg\"/>\n",
       "</td></tr>\n",
       "</table>\n",
       "<div id=\"footer\">\n",
       "© Totally Normal Gifts, Inc. <br/>\n",
       "+234 (617) 863-0736\n",
       "</div>\n",
       "</div>"
      ]
     },
     "execution_count": 49,
     "metadata": {},
     "output_type": "execute_result"
    }
   ],
   "source": [
    "node.find_parent()"
   ]
  },
  {
   "cell_type": "code",
   "execution_count": 50,
   "metadata": {},
   "outputs": [],
   "source": [
    "parent = node.find_parent()"
   ]
  },
  {
   "cell_type": "code",
   "execution_count": 51,
   "metadata": {},
   "outputs": [
    {
     "data": {
      "text/plain": [
       "('div', {'id': 'footer'}, 'div', {'id': 'wrapper'})"
      ]
     },
     "execution_count": 51,
     "metadata": {},
     "output_type": "execute_result"
    }
   ],
   "source": [
    "node.name, node.attrs, parent.name, parent.attrs"
   ]
  },
  {
   "cell_type": "code",
   "execution_count": 52,
   "metadata": {},
   "outputs": [],
   "source": [
    "parents = node.find_parents()"
   ]
  },
  {
   "cell_type": "code",
   "execution_count": 53,
   "metadata": {},
   "outputs": [
    {
     "data": {
      "text/plain": [
       "(11, 4)"
      ]
     },
     "execution_count": 53,
     "metadata": {},
     "output_type": "execute_result"
    }
   ],
   "source": [
    "len(parent), len(parents)"
   ]
  },
  {
   "cell_type": "code",
   "execution_count": 54,
   "metadata": {},
   "outputs": [
    {
     "data": {
      "text/plain": [
       "<div id=\"wrapper\">\n",
       "<img src=\"../img/gifts/logo.jpg\" style=\"float:left;\"/>\n",
       "<h1>Totally Normal Gifts</h1>\n",
       "<div id=\"content\">Here is a collection of totally normal, totally reasonable gifts that your friends are sure to love! Our collection is\n",
       "hand-curated by well-paid, free-range Tibetan monks.<p>\n",
       "We haven't figured out how to make online shopping carts yet, but you can send us a check to:<br/>\n",
       "123 Main St.<br/>\n",
       "Abuja, Nigeria\n",
       "We will then send your totally amazing gift, pronto! Please include an extra $5.00 for gift wrapping.</p></div>\n",
       "<table id=\"giftList\">\n",
       "<tr><th>\n",
       "Item Title\n",
       "</th><th>\n",
       "Description\n",
       "</th><th>\n",
       "Cost\n",
       "</th><th>\n",
       "Image\n",
       "</th></tr>\n",
       "<tr class=\"gift\" id=\"gift1\"><td>\n",
       "Vegetable Basket\n",
       "</td><td>\n",
       "This vegetable basket is the perfect gift for your health conscious (or overweight) friends!\n",
       "<span class=\"excitingNote\">Now with super-colorful bell peppers!</span>\n",
       "</td><td>\n",
       "$15.00\n",
       "</td><td>\n",
       "<img src=\"../img/gifts/img1.jpg\"/>\n",
       "</td></tr>\n",
       "<tr class=\"gift\" id=\"gift2\"><td>\n",
       "Russian Nesting Dolls\n",
       "</td><td>\n",
       "Hand-painted by trained monkeys, these exquisite dolls are priceless! And by \"priceless,\" we mean \"extremely expensive\"! <span class=\"excitingNote\">8 entire dolls per set! Octuple the presents!</span>\n",
       "</td><td>\n",
       "$10,000.52\n",
       "</td><td>\n",
       "<img src=\"../img/gifts/img2.jpg\"/>\n",
       "</td></tr>\n",
       "<tr class=\"gift\" id=\"gift3\"><td>\n",
       "Fish Painting\n",
       "</td><td>\n",
       "If something seems fishy about this painting, it's because it's a fish! <span class=\"excitingNote\">Also hand-painted by trained monkeys!</span>\n",
       "</td><td>\n",
       "$10,005.00\n",
       "</td><td>\n",
       "<img src=\"../img/gifts/img3.jpg\"/>\n",
       "</td></tr>\n",
       "<tr class=\"gift\" id=\"gift4\"><td>\n",
       "Dead Parrot\n",
       "</td><td>\n",
       "This is an ex-parrot! <span class=\"excitingNote\">Or maybe he's only resting?</span>\n",
       "</td><td>\n",
       "$0.50\n",
       "</td><td>\n",
       "<img src=\"../img/gifts/img4.jpg\"/>\n",
       "</td></tr>\n",
       "<tr class=\"gift\" id=\"gift5\"><td>\n",
       "Mystery Box\n",
       "</td><td>\n",
       "If you love suprises, this mystery box is for you! Do not place on light-colored surfaces. May cause oil staining. <span class=\"excitingNote\">Keep your friends guessing!</span>\n",
       "</td><td>\n",
       "$1.50\n",
       "</td><td>\n",
       "<img src=\"../img/gifts/img6.jpg\"/>\n",
       "</td></tr>\n",
       "</table>\n",
       "<div id=\"footer\">\n",
       "© Totally Normal Gifts, Inc. <br/>\n",
       "+234 (617) 863-0736\n",
       "</div>\n",
       "</div>"
      ]
     },
     "execution_count": 54,
     "metadata": {},
     "output_type": "execute_result"
    }
   ],
   "source": [
    "parents[0]"
   ]
  },
  {
   "cell_type": "code",
   "execution_count": 56,
   "metadata": {},
   "outputs": [
    {
     "data": {
      "text/plain": [
       "5"
      ]
     },
     "execution_count": 56,
     "metadata": {},
     "output_type": "execute_result"
    }
   ],
   "source": [
    "len(parent.find_all(recursive=False))"
   ]
  },
  {
   "cell_type": "code",
   "execution_count": 58,
   "metadata": {},
   "outputs": [
    {
     "data": {
      "text/plain": [
       "49"
      ]
     },
     "execution_count": 58,
     "metadata": {},
     "output_type": "execute_result"
    }
   ],
   "source": [
    "len(parent.find_all())"
   ]
  },
  {
   "cell_type": "code",
   "execution_count": 59,
   "metadata": {},
   "outputs": [
    {
     "name": "stdout",
     "output_type": "stream",
     "text": [
      "img\n",
      "h1\n",
      "div\n",
      "table\n",
      "div\n"
     ]
    }
   ],
   "source": [
    "for tag in parent.find_all(recursive=False):\n",
    "    print(tag.name)"
   ]
  },
  {
   "cell_type": "code",
   "execution_count": 60,
   "metadata": {},
   "outputs": [
    {
     "data": {
      "text/plain": [
       "'div'"
      ]
     },
     "execution_count": 60,
     "metadata": {},
     "output_type": "execute_result"
    }
   ],
   "source": [
    "parent.find_all(recursive=False)[2].name"
   ]
  },
  {
   "cell_type": "code",
   "execution_count": 61,
   "metadata": {},
   "outputs": [],
   "source": [
    "divNode = parent.find_all(recursive=False)[2]"
   ]
  },
  {
   "cell_type": "code",
   "execution_count": 65,
   "metadata": {},
   "outputs": [
    {
     "data": {
      "text/plain": [
       "'h1'"
      ]
     },
     "execution_count": 65,
     "metadata": {},
     "output_type": "execute_result"
    }
   ],
   "source": [
    "divNode.find_previous_sibling().name"
   ]
  },
  {
   "cell_type": "code",
   "execution_count": 63,
   "metadata": {},
   "outputs": [
    {
     "data": {
      "text/plain": [
       "'table'"
      ]
     },
     "execution_count": 63,
     "metadata": {},
     "output_type": "execute_result"
    }
   ],
   "source": [
    "divNode.find_next_sibling().name"
   ]
  },
  {
   "cell_type": "code",
   "execution_count": 67,
   "metadata": {},
   "outputs": [
    {
     "data": {
      "text/plain": [
       "'h1'"
      ]
     },
     "execution_count": 67,
     "metadata": {},
     "output_type": "execute_result"
    }
   ],
   "source": [
    "divNode.find_previous_siblings(limit=1)[0].name"
   ]
  },
  {
   "cell_type": "code",
   "execution_count": 72,
   "metadata": {},
   "outputs": [],
   "source": [
    "parent = node.find_parent()"
   ]
  },
  {
   "cell_type": "code",
   "execution_count": 79,
   "metadata": {},
   "outputs": [
    {
     "data": {
      "text/plain": [
       "<div id=\"content\">Here is a collection of totally normal, totally reasonable gifts that your friends are sure to love! Our collection is\n",
       "hand-curated by well-paid, free-range Tibetan monks.<p>\n",
       "We haven't figured out how to make online shopping carts yet, but you can send us a check to:<br/>\n",
       "123 Main St.<br/>\n",
       "Abuja, Nigeria\n",
       "We will then send your totally amazing gift, pronto! Please include an extra $5.00 for gift wrapping.</p></div>"
      ]
     },
     "execution_count": 79,
     "metadata": {},
     "output_type": "execute_result"
    }
   ],
   "source": [
    "divNode"
   ]
  },
  {
   "cell_type": "code",
   "execution_count": 80,
   "metadata": {},
   "outputs": [
    {
     "data": {
      "text/plain": [
       "'p'"
      ]
     },
     "execution_count": 80,
     "metadata": {},
     "output_type": "execute_result"
    }
   ],
   "source": [
    "node.find_previous_sibling().find_previous_sibling().find().name"
   ]
  },
  {
   "cell_type": "code",
   "execution_count": 84,
   "metadata": {},
   "outputs": [
    {
     "name": "stdout",
     "output_type": "stream",
     "text": [
      "tr\n",
      "tr\n",
      "tr\n",
      "tr\n",
      "tr\n"
     ]
    }
   ],
   "source": [
    "for tag in node.find_previous_sibling().find_all(\"\",{\"class\":\"gift\"}) :\n",
    "    print(tag.name)"
   ]
  },
  {
   "cell_type": "code",
   "execution_count": 93,
   "metadata": {},
   "outputs": [
    {
     "data": {
      "text/plain": [
       "<tr class=\"gift\" id=\"gift3\"><td>\n",
       "Fish Painting\n",
       "</td><td>\n",
       "If something seems fishy about this painting, it's because it's a fish! <span class=\"excitingNote\">Also hand-painted by trained monkeys!</span>\n",
       "</td><td>\n",
       "$10,005.00\n",
       "</td><td>\n",
       "<img src=\"../img/gifts/img3.jpg\"/>\n",
       "</td></tr>"
      ]
     },
     "execution_count": 93,
     "metadata": {},
     "output_type": "execute_result"
    }
   ],
   "source": [
    "node.find_previous_sibling().find_all(\"\",{\"class\":\"gift\"})[2]"
   ]
  },
  {
   "cell_type": "code",
   "execution_count": 96,
   "metadata": {},
   "outputs": [
    {
     "data": {
      "text/plain": [
       "5"
      ]
     },
     "execution_count": 96,
     "metadata": {},
     "output_type": "execute_result"
    }
   ],
   "source": [
    "len(node.find_parent().find_all(\"\",{\"class\":\"gift\"}))"
   ]
  },
  {
   "cell_type": "code",
   "execution_count": 97,
   "metadata": {},
   "outputs": [
    {
     "name": "stdout",
     "output_type": "stream",
     "text": [
      "$15.00\n",
      "$10,000.52\n",
      "$10,005.00\n",
      "$0.50\n",
      "$1.50\n"
     ]
    }
   ],
   "source": [
    "for tag in node.find_parent().find_all(\"\", {\"class\":\"gift\"}):\n",
    "    print(tag.find_all()[3].text.strip())"
   ]
  },
  {
   "cell_type": "code",
   "execution_count": 98,
   "metadata": {},
   "outputs": [],
   "source": [
    "html = getDownload(\"http://www.google.com/search\", {\"q\":\"파이썬\"})"
   ]
  },
  {
   "cell_type": "code",
   "execution_count": 112,
   "metadata": {},
   "outputs": [
    {
     "data": {
      "text/plain": [
       "'Welcome to Python.org'"
      ]
     },
     "execution_count": 112,
     "metadata": {},
     "output_type": "execute_result"
    }
   ],
   "source": [
    "dom = BeautifulSoup(html.text, \"lxml\")  ### Text\n",
    "# dom = BeautifulSoup(html.content, \"lxml\")   ### Binary\n",
    "dom.find_all(\"div\",{\"class\":\"r\"})[0].h3.text"
   ]
  },
  {
   "cell_type": "code",
   "execution_count": 113,
   "metadata": {},
   "outputs": [
    {
     "data": {
      "text/plain": [
       "10"
      ]
     },
     "execution_count": 113,
     "metadata": {},
     "output_type": "execute_result"
    }
   ],
   "source": [
    "len(dom.find_all(\"div\",{\"class\":\"r\"}))"
   ]
  },
  {
   "cell_type": "code",
   "execution_count": 114,
   "metadata": {},
   "outputs": [
    {
     "name": "stdout",
     "output_type": "stream",
     "text": [
      "Welcome to Python.org\n",
      "파이썬 자습서 — Python 3.7.2 documentation\n",
      "Python - 나무위키\n",
      "파이썬 - 위키백과, 우리 모두의 백과사전\n",
      "파이썬 입문 | 프로그래머스\n",
      "01-5 파이썬 둘러보기 - 점프 투 파이썬 - WikiDocs\n",
      "1. 파이썬 시작하기 - 왕초보를 위한 Python 2.7 - WikiDocs\n",
      "01-2 파이썬의 특징 - 점프 투 파이썬 - WikiDocs\n",
      "02-2 문자열 자료형 - 점프 투 파이썬 - WikiDocs\n",
      "Python & Ruby - 생활코딩\n"
     ]
    }
   ],
   "source": [
    "for tag in dom.find_all(\"div\",{\"class\":\"r\"}):\n",
    "    print(tag.h3.text)"
   ]
  },
  {
   "cell_type": "code",
   "execution_count": 116,
   "metadata": {},
   "outputs": [
    {
     "name": "stdout",
     "output_type": "stream",
     "text": [
      "Welcome to Python.orghttps://www.python.org/저장된 페이지유사한 페이지이 페이지 번역하기\n",
      "파이썬 자습서 — Python 3.7.2 documentationhttps://docs.python.org/ko/3/tutorial/index.html저장된 페이지\n",
      "Python - 나무위키https://namu.wiki/w/Python유사한 페이지\n",
      "파이썬 - 위키백과, 우리 모두의 백과사전https://ko.wikipedia.org/wiki/파이썬저장된 페이지유사한 페이지\n",
      "파이썬 입문 | 프로그래머스https://programmers.co.kr/learn/courses/2저장된 페이지\n",
      "01-5 파이썬 둘러보기 - 점프 투 파이썬 - WikiDocshttps://wikidocs.net/9저장된 페이지유사한 페이지\n",
      "1. 파이썬 시작하기 - 왕초보를 위한 Python 2.7 - WikiDocshttps://wikidocs.net/43저장된 페이지유사한 페이지\n",
      "01-2 파이썬의 특징 - 점프 투 파이썬 - WikiDocshttps://wikidocs.net/6저장된 페이지유사한 페이지\n",
      "02-2 문자열 자료형 - 점프 투 파이썬 - WikiDocshttps://wikidocs.net/13저장된 페이지유사한 페이지\n",
      "Python & Ruby - 생활코딩https://opentutorials.org/course/1750저장된 페이지유사한 페이지\n"
     ]
    }
   ],
   "source": [
    "dom = BeautifulSoup(html.content, \"lxml\")  \n",
    "for tag in dom.find_all(\"\",{\"class\":\"r\"}):\n",
    "    print(tag.text)"
   ]
  },
  {
   "cell_type": "code",
   "execution_count": 148,
   "metadata": {},
   "outputs": [],
   "source": [
    "html = getDownload(\"https://search.naver.com/search.naver\", {\"query\":\"파이썬\"})"
   ]
  },
  {
   "cell_type": "code",
   "execution_count": 149,
   "metadata": {},
   "outputs": [
    {
     "data": {
      "text/plain": [
       "5"
      ]
     },
     "execution_count": 149,
     "metadata": {},
     "output_type": "execute_result"
    }
   ],
   "source": [
    "dom = BeautifulSoup(html.content, \"lxml\")   ### Binary\n",
    "\n",
    "# <div class=\"blog section _blogBase _prs_blg\"> <div class=\"section_head\"> <h2>블로그</h2> </div> <ul class=\"type01\"> <li class=\"sh_blog_top\" id=\"sp_blog_1\"> <div class=\"thumb\"> <a href=\"https://blog.naver.com/urmyver?Redirect=Log&amp;logNo=221460054164\" class=\"sp_thmb thmb80\" target=\"_blank\" onclick=\"return goOtherCR(this,'a=blg_1st*i.img&amp;r=1&amp;i=90000003_0000000000000033900C4094&amp;u='+urlencode(urlexpand(this.href)));\"> <img src=\"https://search.pstatic.net/common/?src=http%3A%2F%2Fblogfiles.naver.net%2FMjAxOTAyMDdfMTI0%2FMDAxNTQ5NTE5NjgyOTA1.GkD30Cen8ofs-q-r4a4B5nUvmPy0pvE1xTg1zRXkQn8g.OrOskiMHMqyvn068exmvtnLTgpYIk9eI9w_VPYiDJVwg.JPEG.urmyver%2F%25BB%25F3%25B4%25E3_%25B9%25D7_%25C4%25C1%25BC%25B3%25C6%25C3_%25B9%25AE%25C0%25C7.jpg%231300x867&amp;type=n82_82\" width=\"82\" height=\"82\" alt=\"파이썬 기초 공부 방법\" class=\"sh_blog_thumbnail\" onerror=\"this.parentNode.parentNode.style.display='none';\"> <span class=\"thmb_v\"></span> <span class=\"thmb_bd\"></span> </a> </div> <dl> <dt> <a class=\"sh_blog_title _sp_each_url _sp_each_title\" href=\"https://blog.naver.com/urmyver?Redirect=Log&amp;logNo=221460054164\" target=\"_blank\" title=\"파이썬 기초 공부 방법 - 입문하는 초보들에게\" onclick=\"return goOtherCR(this,'a=blg_1st*i.tit&amp;r=1&amp;i=90000003_0000000000000033900C4094&amp;u='+urlencode(urlexpand(this.href)));\"><strong class=\"hl\">파이썬</strong> 기초 공부 방법 - 입문하는 초보들에게</a> </dt> <dd class=\"txt_inline\">2019.02.07. </dd> <dd class=\"sh_blog_passage\"><strong class=\"hl\">파이썬</strong>의 특징, 입문하는 초보들이 어떤 마인드를 가지고 어떻게 접근해서 공부를 할 것인지 간략하게 소개해보는 시간입니다. <strong class=\"hl\">파이썬</strong>이란? C언어의 문법과...</dd> <dd class=\"txt_block\"> <span class=\"inline\"> <a href=\"https://blog.naver.com/urmyver\" onclick=\"return goOtherCR(this,'a=blg_1st*i.blogname&amp;r=1&amp;i=90000003_0000000000000033900C4094&amp;u='+urlencode(urlexpand(this.href)));\" target=\"_blank\" class=\"txt84\">주들의 그리 대단하...</a> <a href=\"https://blog.naver.com/urmyver?Redirect=Log&amp;logNo=221460054164\" target=\"_blank\" onclick=\"return goOtherCR(this,'a=blg_1st*i.url&amp;r=1&amp;i=90000003_0000000000000033900C4094&amp;u='+urlencode(urlexpand(this.href)));\" class=\"url\">blog.naver.com/urmyver/221460054164</a> <span class=\"bar\"></span><a href=\"?query=%ED%8C%8C%EC%9D%B4%EC%8D%AC&amp;where=post&amp;sm=tab_brs&amp;post_blogurl=blog.naver.com%2Furmyver\" onclick=\"return goOtherCR(this,'a=blg_1st*i.similar&amp;r=1&amp;i=90000003_0000000000000033900C4094&amp;u='+urlencode(urlexpand(this.href)));\" class=\"txt84\">블로그 내 검색</a> </span> </dd> </dl> </li> <li class=\"sh_blog_top\" id=\"sp_blog_2\"> <div class=\"thumb\"> <a href=\"https://tjgus1668.blog.me/221462704457\" class=\"sp_thmb thmb80\" target=\"_blank\" onclick=\"return goOtherCR(this,'a=blg_1st*i.img&amp;r=2&amp;i=90000003_00000000000000339034B149&amp;u='+urlencode(urlexpand(this.href)));\"> <img src=\"https://search.pstatic.net/common/?src=http%3A%2F%2Fblogfiles.naver.net%2FMjAxOTAyMTFfMTQ4%2FMDAxNTQ5ODIxMDg0OTg5.i8NYYelRN6G7Sofxczs8QSLHTd98MfHvAO1K2kvvn4gg.A5vwMRL2C8zVvuRqjRmYu-O2uj-HVSZkx13hihfLIE0g.PNG.tjgus1668%2F3.png%23281x489&amp;type=n82_82\" width=\"82\" height=\"82\" alt=\"파이썬으로 디스코드 \" class=\"sh_blog_thumbnail\" onerror=\"this.parentNode.parentNode.style.display='none';\"> <span class=\"thmb_v\"></span> <span class=\"thmb_bd\"></span> </a> </div> <dl> <dt> <a class=\"sh_blog_title _sp_each_url _sp_each_title\" href=\"https://tjgus1668.blog.me/221462704457\" target=\"_blank\" title=\"파이썬으로 디스코드 봇 만들기\" onclick=\"return goOtherCR(this,'a=blg_1st*i.tit&amp;r=2&amp;i=90000003_00000000000000339034B149&amp;u='+urlencode(urlexpand(this.href)));\"><strong class=\"hl\">파이썬</strong>으로 디스코드 봇 만들기</a> </dt> <dd class=\"txt_inline\">2019.02.11. </dd> <dd class=\"sh_blog_passage\">내가 2018년 2월부터 4월까지 <strong class=\"hl\">파이썬</strong>으로 만들어온 디스코드 봇에 대해 서술하겠다. 우선 <strong class=\"hl\">파이썬</strong>과 디스코드가 뭔지 알아야 할 것 같다. <strong class=\"hl\">파이썬</strong>(Python)은...</dd> <dd class=\"txt_block\"> <span class=\"inline\"> <a href=\"https://tjgus1668.blog.me\" onclick=\"return goOtherCR(this,'a=blg_1st*i.blogname&amp;r=2&amp;i=90000003_00000000000000339034B149&amp;u='+urlencode(urlexpand(this.href)));\" target=\"_blank\" class=\"txt84\">Unnamed Blog</a> <a href=\"https://tjgus1668.blog.me/221462704457\" target=\"_blank\" onclick=\"return goOtherCR(this,'a=blg_1st*i.url&amp;r=2&amp;i=90000003_00000000000000339034B149&amp;u='+urlencode(urlexpand(this.href)));\" class=\"url\">tjgus1668.blog.me/221462704457</a> <span class=\"bar\"></span><a href=\"?query=%ED%8C%8C%EC%9D%B4%EC%8D%AC&amp;where=post&amp;sm=tab_brs&amp;post_blogurl=tjgus1668.blog.me\" onclick=\"return goOtherCR(this,'a=blg_1st*i.similar&amp;r=2&amp;i=90000003_00000000000000339034B149&amp;u='+urlencode(urlexpand(this.href)));\" class=\"txt84\">블로그 내 검색</a> </span> </dd> </dl> </li> <li class=\"sh_blog_top\" id=\"sp_blog_3\"> <div class=\"thumb\"> <a href=\"https://blog.naver.com/ridesafe?Redirect=Log&amp;logNo=221465766151\" class=\"sp_thmb thmb80\" target=\"_blank\" onclick=\"return goOtherCR(this,'a=blg_1st*i.img&amp;r=3&amp;i=90000003_000000000000003390636907&amp;u='+urlencode(urlexpand(this.href)));\"> <img src=\"https://search.pstatic.net/common/?src=http%3A%2F%2Fblogfiles.naver.net%2FMjAxOTAyMTRfMTg3%2FMDAxNTUwMTI3MTA0MzAx.udJF8i_eCjSKgc6kvRmHPdIkxlEn3JqSggAg40sbViYg.BCpBAYQe22zepd1hoEolBPsFNrEjhOrpdM5KZ-wPRXUg.JPEG.ridesafe%2F%25C6%25C4%25C0%25CC%25BD%25E3%25B4%25D9%25C0%25E7%25B4%25D9%25B4%25C9%25C7%25D1%25B1%25E2%25B4%25C9.jpg%23500x500&amp;type=n82_82\" width=\"82\" height=\"82\" alt=\"파이썬 웹구축부터 머\" class=\"sh_blog_thumbnail\" onerror=\"this.parentNode.parentNode.style.display='none';\"> <span class=\"thmb_v\"></span> <span class=\"thmb_bd\"></span> </a> </div> <dl> <dt> <a class=\"sh_blog_title _sp_each_url _sp_each_title\" href=\"https://blog.naver.com/ridesafe?Redirect=Log&amp;logNo=221465766151\" target=\"_blank\" title=\"파이썬 웹구축부터 머신러닝까지 다재다능한 코딩언어!\" onclick=\"return goOtherCR(this,'a=blg_1st*i.tit&amp;r=3&amp;i=90000003_000000000000003390636907&amp;u='+urlencode(urlexpand(this.href)));\"><strong class=\"hl\">파이썬</strong> 웹구축부터 머신러닝까지 다재다능한 코딩언어!</a> </dt> <dd class=\"txt_inline\">2019.02.14. </dd> <dd class=\"sh_blog_passage\"><strong class=\"hl\">파이썬</strong> 웹구축부터 머신러닝까지 다재다능한 코딩언어! 안녕하세요! IT쉽게... 언어로는 <strong class=\"hl\">파이썬</strong>이 가장 많이 쓰이고 있는대요! 최근에는 인공지능이나 빅데이터의...</dd> <dd class=\"txt_block\"> <span class=\"inline\"> <a href=\"https://blog.naver.com/ridesafe\" onclick=\"return goOtherCR(this,'a=blg_1st*i.blogname&amp;r=3&amp;i=90000003_000000000000003390636907&amp;u='+urlencode(urlexpand(this.href)));\" target=\"_blank\" class=\"txt84\">비비디 바비디 부</a> <a href=\"https://blog.naver.com/ridesafe?Redirect=Log&amp;logNo=221465766151\" target=\"_blank\" onclick=\"return goOtherCR(this,'a=blg_1st*i.url&amp;r=3&amp;i=90000003_000000000000003390636907&amp;u='+urlencode(urlexpand(this.href)));\" class=\"url\">blog.naver.com/ridesafe/221465766151</a> <span class=\"bar\"></span><a href=\"?query=%ED%8C%8C%EC%9D%B4%EC%8D%AC&amp;where=post&amp;sm=tab_brs&amp;post_blogurl=blog.naver.com%2Fridesafe\" onclick=\"return goOtherCR(this,'a=blg_1st*i.similar&amp;r=3&amp;i=90000003_000000000000003390636907&amp;u='+urlencode(urlexpand(this.href)));\" class=\"txt84\">블로그 내 검색</a> </span> </dd> </dl> </li> <li class=\"sh_blog_top\" id=\"sp_blog_4\"> <div class=\"thumb\"> <a href=\"https://blog.naver.com/tech-plus?Redirect=Log&amp;logNo=221403058110\" class=\"sp_thmb thmb80\" target=\"_blank\" onclick=\"return goOtherCR(this,'a=blg_1st*i.img&amp;r=4&amp;i=90000003_00000000000000338CA68FBE&amp;u='+urlencode(urlexpand(this.href)));\"> <img src=\"https://search.pstatic.net/common/?src=http%3A%2F%2Fblogfiles.naver.net%2FMjAxODExMjFfMjk2%2FMDAxNTQyNzc0OTQ3ODQ1.w8-seZgC10rzYnhAxeFh5Dcjqpys9e9VA__Cb0sbJHEg.4Lom3fFGX8uKu1iftGWy0nt2UAhlzgqAnOI9y4Gx0Rsg.JPEG.tech-plus%2F%25BB%25E7%25BA%25BB_-GettyImages-1054918068.jpg%23724x483&amp;type=n82_82\" width=\"82\" height=\"82\" alt=\"삼성이 챙기는 파이썬\" class=\"sh_blog_thumbnail\" onerror=\"this.parentNode.parentNode.style.display='none';\"> <span class=\"thmb_v\"></span> <span class=\"thmb_bd\"></span> </a> </div> <dl> <dt> <a class=\"sh_blog_title _sp_each_url _sp_each_title\" href=\"https://blog.naver.com/tech-plus?Redirect=Log&amp;logNo=221403058110\" target=\"_blank\" title=\"삼성이 챙기는 파이썬\" onclick=\"return goOtherCR(this,'a=blg_1st*i.tit&amp;r=4&amp;i=90000003_00000000000000338CA68FBE&amp;u='+urlencode(urlexpand(this.href)));\">삼성이 챙기는 <strong class=\"hl\">파이썬</strong></a> </dt> <dd class=\"txt_inline\">2018.11.21. </dd> <dd class=\"sh_blog_passage\">언어 ‘<strong class=\"hl\">파이썬</strong>’을 다룰 수 있어야 한다 삼성전자와 삼성SDS 등 삼성전자 계열사가 하반기 대졸 공채 직무적성검사 코딩 테스트에 <strong class=\"hl\">파이썬</strong>을...</dd> <dd class=\"txt_block\"> <span class=\"inline\"> <a href=\"https://blog.naver.com/tech-plus\" onclick=\"return goOtherCR(this,'a=blg_1st*i.blogname&amp;r=4&amp;i=90000003_00000000000000338CA68FBE&amp;u='+urlencode(urlexpand(this.href)));\" target=\"_blank\" class=\"txt84\">테크플러스</a> <span class=\"spcm ico_total ico_official\">공식</span> <a href=\"https://blog.naver.com/tech-plus?Redirect=Log&amp;logNo=221403058110\" target=\"_blank\" onclick=\"return goOtherCR(this,'a=blg_1st*i.url&amp;r=4&amp;i=90000003_00000000000000338CA68FBE&amp;u='+urlencode(urlexpand(this.href)));\" class=\"url\">blog.naver.com/te...</a> </span> </dd> </dl> </li> <li class=\"sh_blog_top\" id=\"sp_blog_5\"> <div class=\"thumb\"> <a href=\"http://blog.fastcampus.co.kr/221417096396\" class=\"sp_thmb thmb80\" target=\"_blank\" onclick=\"return goOtherCR(this,'a=blg_1st*i.img&amp;r=5&amp;i=90000003_00000000000000338D7CC4CC&amp;u='+urlencode(urlexpand(this.href)));\"> <img src=\"https://search.pstatic.net/common/?src=http%3A%2F%2Fblogfiles.naver.net%2FMjAxODEyMTRfMTI1%2FMDAxNTQ0Nzc4NTA1Nzkw.3WDSSXtosNe-FlX0bAikEKI7i6D8gyqC19VvIeVYiX8g.bU1JhUHHnzWpJg1nkVYy9nUpD9M7iwy-6k9UV6I1_awg.PNG.fastcampus%2F%25C6%25C4%25B5%25A5%25BA%25D0%25C0%25D4%25C1%25A4%25B9%25E6.png%23400x408&amp;type=n82_82\" width=\"82\" height=\"82\" alt=\"파이썬을 활용한 데이\" class=\"sh_blog_thumbnail\" onerror=\"this.parentNode.parentNode.style.display='none';\"> <span class=\"thmb_v\"></span> <span class=\"thmb_bd\"></span> </a> </div> <dl> <dt> <a class=\"sh_blog_title _sp_each_url _sp_each_title\" href=\"http://blog.fastcampus.co.kr/221417096396\" target=\"_blank\" title=\"파이썬을 활용한 데이터 분석 입문 CAMP_강사님 및 조교님 인터뷰\" onclick=\"return goOtherCR(this,'a=blg_1st*i.tit&amp;r=5&amp;i=90000003_00000000000000338D7CC4CC&amp;u='+urlencode(urlexpand(this.href)));\"><strong class=\"hl\">파이썬</strong>을 활용한 데이터 분석 입문 CAMP_강사님 및 조교님...</a> </dt> <dd class=\"txt_inline\">2018.12.11. </dd> <dd class=\"sh_blog_passage\"><strong class=\"hl\">파이썬</strong>을 활용한 데이터 분석 입문 4기를 수강했었는데요! 학교에서는 통계학과 쪽... 강사님께서 진행하고 계신 [<strong class=\"hl\">파이썬</strong>을 활용한 데이터 분석 입문 CAMP]는 어떤...</dd> <dd class=\"txt_block\"> <span class=\"inline\"> <a href=\"http://blog.fastcampus.co.kr\" onclick=\"return goOtherCR(this,'a=blg_1st*i.blogname&amp;r=5&amp;i=90000003_00000000000000338D7CC4CC&amp;u='+urlencode(urlexpand(this.href)));\" target=\"_blank\" class=\"txt84\">패스트캠퍼스 : FAST CAMPU...</a> <span class=\"spcm ico_total ico_official\">공식</span> <a href=\"http://blog.fastcampus.co.kr/221417096396\" target=\"_blank\" onclick=\"return goOtherCR(this,'a=blg_1st*i.url&amp;r=5&amp;i=90000003_00000000000000338D7CC4CC&amp;u='+urlencode(urlexpand(this.href)));\" class=\"url\">blog.fastcampus.co.k...</a> <span class=\"bar\"></span><a href=\"?query=%ED%8C%8C%EC%9D%B4%EC%8D%AC&amp;where=post&amp;sm=tab_brs&amp;post_blogurl=blog.fastcampus.co.kr\" onclick=\"return goOtherCR(this,'a=blg_1st*i.similar&amp;r=5&amp;i=90000003_00000000000000338D7CC4CC&amp;u='+urlencode(urlexpand(this.href)));\" class=\"txt84\">블로그 내 검색</a> </span> </dd> </dl> </li> </ul> <div class=\"section_more\"> <a href=\"?query=%ED%8C%8C%EC%9D%B4%EC%8D%AC&amp;where=post&amp;sm=tab_nmr&amp;nso=\" onclick=\"return goOtherCR(this,'a=blg_1st.more&amp;r=&amp;i=&amp;u='+urlencode(urlexpand(this.href)));\" class=\"go_more\">블로그 더보기</a> </div> </div>\n",
    "# <a class=\"sh_blog_title _sp_each_url _sp_each_title\" href=\"/p/crd/rd?m=1&amp;px=355&amp;py=923&amp;sx=355&amp;sy=223&amp;p=U45BUspVuFdssvXSOD0ssssstzC-502116&amp;q=%C6%C4%C0%CC%BD%E3&amp;ssc=tab.nx.all&amp;f=nexearch&amp;w=nexearch&amp;s=Cn+Qrqtk4GgBXr++w0CIkQ==&amp;time=1552049570372&amp;a=blg_1st*i.tit&amp;r=1&amp;i=90000003_0000000000000033900C4094&amp;u=https%3A//blog.naver.com/urmyver%3FRedirect%3DLog%26logNo%3D221460054164&amp;cr=2\" target=\"_blank\" title=\"파이썬 기초 공부 방법 - 입문하는 초보들에게\" onclick=\"return goOtherCR(this,'a=blg_1st*i.tit&amp;r=1&amp;i=90000003_0000000000000033900C4094&amp;u='+urlencode(urlexpand(this.href)));\" crurl=\"1\"><strong class=\"hl\">파이썬</strong> 기초 공부 방법 - 입문하는 초보들에게</a>\n",
    "dom.find_all(\"div\",{\"class\":\"blog section _blogBase _prs_blg\"})[0].find_all(\"a\",{\"class\":\"sh_blog_title _sp_each_url _sp_each_title\"})"
   ]
  },
  {
   "cell_type": "code",
   "execution_count": 150,
   "metadata": {},
   "outputs": [
    {
     "name": "stdout",
     "output_type": "stream",
     "text": [
      "파이썬 기초 공부 방법 - 입문하는 초보들에게\n",
      "파이썬으로 디스코드 봇 만들기\n",
      "파이썬 웹구축부터 머신러닝까지 다재다능한 코딩언어!\n",
      "삼성이 챙기는 파이썬\n",
      "파이썬을 활용한 데이터 분석 입문 CAMP_강사님 및 조교님...\n"
     ]
    }
   ],
   "source": [
    "for tag in dom.find_all(\"div\",{\"class\":\"blog section _blogBase _prs_blg\"})[0].find_all(\"a\",{\"class\":\"sh_blog_title _sp_each_url _sp_each_title\"}):\n",
    "    print(tag.text)"
   ]
  },
  {
   "cell_type": "code",
   "execution_count": 151,
   "metadata": {},
   "outputs": [
    {
     "name": "stdout",
     "output_type": "stream",
     "text": [
      "파이썬 기초 공부 방법 - 입문하는 초보들에게\n",
      "파이썬으로 디스코드 봇 만들기\n",
      "파이썬 웹구축부터 머신러닝까지 다재다능한 코딩언어!\n",
      "삼성이 챙기는 파이썬\n",
      "파이썬을 활용한 데이터 분석 입문 CAMP_강사님 및 조교님...\n"
     ]
    }
   ],
   "source": [
    "for tag in dom.find(\"div\",{\"class\":\"blog section _blogBase _prs_blg\"}).find_all(\"a\",{\"class\":\"sh_blog_title _sp_each_url _sp_each_title\"}):\n",
    "    print(tag.text)"
   ]
  },
  {
   "cell_type": "code",
   "execution_count": 129,
   "metadata": {},
   "outputs": [
    {
     "name": "stdout",
     "output_type": "stream",
     "text": [
      " 파이썬 기초 공부 방법 - 입문하는 초보들에게 \n",
      " 파이썬으로 디스코드 봇 만들기 \n",
      " 파이썬 웹구축부터 머신러닝까지 다재다능한 코딩언어! \n",
      " 삼성이 챙기는 파이썬 \n",
      " 파이썬을 활용한 데이터 분석 입문 CAMP_강사님 및 조교님... \n"
     ]
    }
   ],
   "source": [
    "for tag in dom.find_all(\"\", {\"class\":\"sh_blog_top\"}):\n",
    "    print(tag.find(\"dt\").text)"
   ]
  },
  {
   "cell_type": "code",
   "execution_count": 152,
   "metadata": {},
   "outputs": [],
   "source": [
    "html = getDownload(\"https://search.daum.net/search\", {\"q\":\"파이썬\"})"
   ]
  },
  {
   "cell_type": "code",
   "execution_count": 153,
   "metadata": {},
   "outputs": [
    {
     "name": "stdout",
     "output_type": "stream",
     "text": [
      "파이썬 프로그래밍 언어 기초 강좌\n",
      "파이썬 도큐멘테이션\n",
      "파이썬 으로 할 수 있는 일\n",
      "파이썬학원\n"
     ]
    }
   ],
   "source": [
    "dom = BeautifulSoup(html.content, \"lxml\")   ### Binary\n",
    "for tag in dom.find_all(\"div\",{\"id\":\"siteColl\"})[0].find_all(\"div\",{\"class\":\"wrap_tit\"}):\n",
    "    print(tag.text.strip())\n",
    "# html.content"
   ]
  },
  {
   "cell_type": "code",
   "execution_count": 154,
   "metadata": {},
   "outputs": [
    {
     "name": "stdout",
     "output_type": "stream",
     "text": [
      " 파이썬 프로그래밍 언어 기초 강좌 \n",
      "http://python.blog96.com/\n",
      " 파이썬 도큐멘테이션 \n",
      "http://python.flowdas.com/\n",
      " 파이썬 으로 할 수 있는 일 \n",
      "http://cyan91.tistory.com/\n",
      " 파이썬학원 \n",
      "http://www.kgitbankda.co.kr/\n"
     ]
    }
   ],
   "source": [
    "dom = BeautifulSoup(html.content, \"lxml\")   ### Binary\n",
    "for tag in dom.find(\"\",{\"id\":\"siteColl\"}).find_all(\"\",{\"class\":\"wrap_tit\"}):\n",
    "    print(tag.text)\n",
    "    print(tag.find(\"a\")[\"href\"])\n",
    "# for tag in dom.find_all(\"div\",{\"id\":\"siteColl\"})[0].find_all(\"div\",{\"class\":\"wrap_tit\"}):\n",
    "#     print(tag.text.strip())"
   ]
  },
  {
   "cell_type": "code",
   "execution_count": null,
   "metadata": {},
   "outputs": [],
   "source": []
  }
 ],
 "metadata": {
  "kernelspec": {
   "display_name": "Python 3",
   "language": "python",
   "name": "python3"
  },
  "language_info": {
   "codemirror_mode": {
    "name": "ipython",
    "version": 3
   },
   "file_extension": ".py",
   "mimetype": "text/x-python",
   "name": "python",
   "nbconvert_exporter": "python",
   "pygments_lexer": "ipython3",
   "version": "3.6.8"
  }
 },
 "nbformat": 4,
 "nbformat_minor": 2
}
