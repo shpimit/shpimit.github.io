{
 "cells": [
  {
   "cell_type": "code",
   "execution_count": 6,
   "metadata": {},
   "outputs": [],
   "source": [
    "%%loadFromPOM\n",
    "<repository>\n",
    "  <id>oss-sonatype-snapshots</id>\n",
    "  <url>https://oss.sonatype.org/content/repositories/snapshots/</url>\n",
    "</repository>\n",
    "\n",
    "\t\t<dependency>\n",
    "\t\t\t<!-- jsoup HTML parser library @ https://jsoup.org/ -->\n",
    "\t\t\t<groupId>org.jsoup</groupId>\n",
    "\t\t\t<artifactId>jsoup</artifactId>\n",
    "\t\t\t<version>1.11.3</version>\n",
    "\t\t</dependency>"
   ]
  },
  {
   "cell_type": "code",
   "execution_count": 9,
   "metadata": {},
   "outputs": [],
   "source": [
    "# https 통신\n",
    "import java.security.SecureRandom;\n",
    "import java.security.cert.X509Certificate;\n",
    "\n",
    "import javax.net.ssl.HttpsURLConnection;\n",
    "import javax.net.ssl.SSLContext;\n",
    "import javax.net.ssl.TrustManager;\n",
    "import javax.net.ssl.X509TrustManager;\n",
    "\n",
    "\n",
    "\n",
    "TrustManager[] trustAllCerts = new TrustManager[]{new X509TrustManager(){\n",
    "    public X509Certificate[] getAcceptedIssuers(){return new X509Certificate[0];}\n",
    "    public void checkClientTrusted(X509Certificate[] certs, String authType){}\n",
    "    public void checkServerTrusted(X509Certificate[] certs, String authType){}\n",
    "}};\n",
    "\n",
    "SSLContext sc = SSLContext.getInstance(\"TLS\");\n",
    "sc.init(null, trustAllCerts, new SecureRandom());\n",
    "HttpsURLConnection.setDefaultSSLSocketFactory(sc.getSocketFactory());\n",
    "\n",
    "\n",
    "// Document doc = Jsoup.connect(\"https://news.naver.com\").data(\"query\", \"Java\").userAgent(\"Mozilla\").cookie(\"auth\", \"token\").timeout(3000).post();\n",
    "\n",
    "\n",
    "// Elements newsHeadlines = doc.select(\".main_hotissu a\");\n",
    "// for (Element headline : newsHeadlines) {\n",
    "// //     log(\"%s\\n\\t%s\", headline.attr(\"title\"), headline.absUrl(\"href\"));\n",
    "//     System.out.println(headline.attr(\"title\"))    \n",
    "//     System.out.println(headline.absUrl(\"href\"))    \n",
    "// }"
   ]
  },
  {
   "cell_type": "code",
   "execution_count": 11,
   "metadata": {},
   "outputs": [
    {
     "ename": "EvalException",
     "evalue": "java.lang.RuntimeException: Unexpected error: java.security.InvalidAlgorithmParameterException: the trustAnchors parameter must be non-empty",
     "output_type": "error",
     "traceback": [
      "\u001b[1m\u001b[31m---------------------------------------------------------------------------\u001b[0m",
      "\u001b[1m\u001b[31mjavax.net.ssl.SSLException: java.lang.RuntimeException: Unexpected error: java.security.InvalidAlgorithmParameterException: the trustAnchors parameter must be non-empty\u001b[0m",
      "\u001b[1m\u001b[31m\tat java.base/sun.security.ssl.Alerts.getSSLException(Alerts.java:214)\u001b[0m",
      "\u001b[1m\u001b[31m\tat java.base/sun.security.ssl.SSLSocketImpl.fatal(SSLSocketImpl.java:1969)\u001b[0m",
      "\u001b[1m\u001b[31m\tat java.base/sun.security.ssl.SSLSocketImpl.fatal(SSLSocketImpl.java:1921)\u001b[0m",
      "\u001b[1m\u001b[31m\tat java.base/sun.security.ssl.SSLSocketImpl.handleException(SSLSocketImpl.java:1904)\u001b[0m",
      "\u001b[1m\u001b[31m\tat java.base/sun.security.ssl.SSLSocketImpl.startHandshake(SSLSocketImpl.java:1436)\u001b[0m",
      "\u001b[1m\u001b[31m\tat java.base/sun.security.ssl.SSLSocketImpl.startHandshake(SSLSocketImpl.java:1413)\u001b[0m",
      "\u001b[1m\u001b[31m\tat java.base/sun.net.www.protocol.https.HttpsClient.afterConnect(HttpsClient.java:567)\u001b[0m",
      "\u001b[1m\u001b[31m\tat java.base/sun.net.www.protocol.https.AbstractDelegateHttpsURLConnection.connect(AbstractDelegateHttpsURLConnection.java:185)\u001b[0m",
      "\u001b[1m\u001b[31m\tat java.base/sun.net.www.protocol.https.HttpsURLConnectionImpl.connect(HttpsURLConnectionImpl.java:154)\u001b[0m",
      "\u001b[1m\u001b[31m\tat org.jsoup.helper.HttpConnection$Response.execute(HttpConnection.java:425)\u001b[0m",
      "\u001b[1m\u001b[31m\tat org.jsoup.helper.HttpConnection$Response.execute(HttpConnection.java:410)\u001b[0m",
      "\u001b[1m\u001b[31m\tat org.jsoup.helper.HttpConnection.execute(HttpConnection.java:164)\u001b[0m",
      "\u001b[1m\u001b[31m\tat org.jsoup.helper.HttpConnection.get(HttpConnection.java:153)\u001b[0m",
      "\u001b[1m\u001b[31m\tat .(#27:1)\u001b[0m"
     ]
    }
   ],
   "source": [
    "import org.jsoup.Jsoup;\n",
    "import org.jsoup.nodes.Document;\n",
    "import org.jsoup.nodes.Element;\n",
    "import org.jsoup.select.Elements;\n",
    "\n",
    "Document doc = Jsoup.connect(\"https://movie.naver.com/movie/sdb/rank/rmovie.nhn\").get();\n",
    "System.out.println(doc.title())"
   ]
  },
  {
   "cell_type": "code",
   "execution_count": null,
   "metadata": {},
   "outputs": [],
   "source": []
  }
 ],
 "metadata": {
  "kernelspec": {
   "display_name": "Java",
   "language": "java",
   "name": "java"
  },
  "language_info": {
   "codemirror_mode": "java",
   "file_extension": ".java",
   "mimetype": "text/x-java-source",
   "name": "Java",
   "pygments_lexer": "java",
   "version": "9+181"
  }
 },
 "nbformat": 4,
 "nbformat_minor": 2
}
