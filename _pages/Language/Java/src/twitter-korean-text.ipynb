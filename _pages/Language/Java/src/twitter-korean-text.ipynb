{
 "cells": [
  {
   "cell_type": "markdown",
   "metadata": {},
   "source": [
    "## twitter-korean-text "
   ]
  },
  {
   "cell_type": "markdown",
   "metadata": {},
   "source": [
    "[트위터에서 만든 오픈소스 한국어 처리기](https://github.com/twitter/twitter-korean-text/)"
   ]
  },
  {
   "cell_type": "code",
   "execution_count": 2,
   "metadata": {},
   "outputs": [],
   "source": [
    "%%loadFromPOM\n",
    "<dependency>\n",
    "<groupId>com.twitter.penguin</groupId>\n",
    "<artifactId>korean-text</artifactId>\n",
    "<version>4.4</version>\n",
    "</dependency>"
   ]
  },
  {
   "cell_type": "code",
   "execution_count": 11,
   "metadata": {},
   "outputs": [
    {
     "name": "stdout",
     "output_type": "stream",
     "text": [
      "\n",
      "\n",
      "\n",
      "\n",
      "\n",
      "[]\n"
     ]
    }
   ],
   "source": [
    "import java.util.List;\n",
    "\n",
    "import com.twitter.penguin.korean.TwitterKoreanProcessorJava;\n",
    "import com.twitter.penguin.korean.phrase_extractor.KoreanPhraseExtractor;\n",
    "import com.twitter.penguin.korean.tokenizer.KoreanTokenizer;\n",
    "\n",
    "import scala.collection.Seq;\n",
    "\n",
    "String text = \"한국어를 처리하는 예시입니닼ㅋㅋㅋㅋㅋ #한국어\";\n",
    "\n",
    "// Normalize\n",
    "CharSequence normalized = TwitterKoreanProcessorJava.normalize(text);\n",
    "System.out.println(normalized);\n",
    "// 한국어를 처리하는 예시입니다ㅋㅋ #한국어\n",
    "\n",
    "\n",
    "// Tokenize\n",
    "Seq<KoreanTokenizer.KoreanToken> tokens = TwitterKoreanProcessorJava.tokenize(normalized);\n",
    "System.out.println(TwitterKoreanProcessorJava.tokensToJavaStringList(tokens));\n",
    "// [한국어, 를, 처리, 하는, 예시, 입니, 다, ㅋㅋ, #한국어]\n",
    "System.out.println(TwitterKoreanProcessorJava.tokensToJavaKoreanTokenList(tokens));\n",
    "// [한국어(Noun: 0, 3), 를(Josa: 3, 1),  (Space: 4, 1), 처리(Noun: 5, 2), 하는(Verb: 7, 2),  (Space: 9, 1), 예시(Noun: 10, 2), 입니(Adjective: 12, 2), 다(Eomi: 14, 1), ㅋㅋ(KoreanParticle: 15, 2),  (Space: 17, 1), #한국어(Hashtag: 18, 4)]\n",
    "\n",
    "\n",
    "// Stemming\n",
    "Seq<KoreanTokenizer.KoreanToken> stemmed = TwitterKoreanProcessorJava.stem(tokens);\n",
    "System.out.println(TwitterKoreanProcessorJava.tokensToJavaStringList(stemmed));\n",
    "// [한국어, 를, 처리, 하다, 예시, 이다, ㅋㅋ, #한국어]\n",
    "System.out.println(TwitterKoreanProcessorJava.tokensToJavaKoreanTokenList(stemmed));\n",
    "// [한국어(Noun: 0, 3), 를(Josa: 3, 1),  (Space: 4, 1), 처리(Noun: 5, 2), 하다(Verb: 7, 2),  (Space: 9, 1), 예시(Noun: 10, 2), 이다(Adjective: 12, 3), ㅋㅋ(KoreanParticle: 15, 2),  (Space: 17, 1), #한국어(Hashtag: 18, 4)]\n",
    "\n",
    "\n",
    "// Phrase extraction\n",
    "List<KoreanPhraseExtractor.KoreanPhrase> phrases = TwitterKoreanProcessorJava.extractPhrases(tokens, true, true);\n",
    "System.out.println(phrases);\n",
    "// [한국어(Noun: 0, 3), 처리(Noun: 5, 2), 처리하는 예시(Noun: 5, 7), 예시(Noun: 10, 2), #한국어(Hashtag: 18, 4)]\t\t\n"
   ]
  },
  {
   "cell_type": "code",
   "execution_count": null,
   "metadata": {},
   "outputs": [],
   "source": []
  }
 ],
 "metadata": {
  "kernelspec": {
   "display_name": "Java",
   "language": "java",
   "name": "java"
  },
  "language_info": {
   "codemirror_mode": "java",
   "file_extension": ".java",
   "mimetype": "text/x-java-source",
   "name": "Java",
   "pygments_lexer": "java",
   "version": "9+181"
  }
 },
 "nbformat": 4,
 "nbformat_minor": 2
}
