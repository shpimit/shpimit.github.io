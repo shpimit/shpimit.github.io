{
 "cells": [
  {
   "cell_type": "markdown",
   "metadata": {},
   "source": [
    "# 01_Tensor\n",
    "In this notebook, we will see how to create and manipulate torch Tensors."
   ]
  },
  {
   "cell_type": "code",
   "execution_count": 1,
   "metadata": {
    "ExecuteTime": {
     "end_time": "2017-08-07T06:25:48.811809Z",
     "start_time": "2017-08-07T06:25:48.323161Z"
    }
   },
   "outputs": [
    {
     "data": {
      "text/plain": [
       "<torch._C.Generator at 0x20bf9fdefb0>"
      ]
     },
     "execution_count": 1,
     "metadata": {},
     "output_type": "execute_result"
    }
   ],
   "source": [
    "from __future__ import print_function\n",
    "import numpy as np\n",
    "import torch \n",
    "torch.manual_seed(1)"
   ]
  },
  {
   "cell_type": "markdown",
   "metadata": {},
   "source": [
    "## Tensor is a matrix!\n",
    "Tensors are similar to NumPy’s ndarrays, with the addition being that Tensors can also be used on a GPU to accelerate computing.\n",
    "\n",
    "- 0-D Tensor: scalar\n",
    "- 1-D Tensor: vector\n",
    "- 2-D Tensor: matrix\n",
    "- 3-D Tensor: tensor\n",
    "- 4-D Tensor: tensor...\n",
    "\n",
    "Tensors can be created with the following function:<br />\n",
    "`torch.tensor(data, dtype=None, device=None, requires_grad=False)`\n",
    "\n",
    "- `data`: initial data for the tensor\n",
    "- `dtype`: the desired data type of returned tensor\n",
    "- `device`: the desired device of returned tensor\n",
    "- `requires_grad`: if autograd should record operations on the returned tensor (later on)"
   ]
  },
  {
   "cell_type": "code",
   "execution_count": 2,
   "metadata": {
    "scrolled": true
   },
   "outputs": [
    {
     "name": "stdout",
     "output_type": "stream",
     "text": [
      "tensor(3) tensor([3])\n"
     ]
    }
   ],
   "source": [
    "scalar = torch.tensor(3) # scalar\n",
    "vector = torch.tensor([3]) # vector\n",
    "print(scalar, vector)"
   ]
  },
  {
   "cell_type": "code",
   "execution_count": 3,
   "metadata": {},
   "outputs": [
    {
     "name": "stdout",
     "output_type": "stream",
     "text": [
      "torch.Size([]) torch.Size([1])\n"
     ]
    }
   ],
   "source": [
    "print(scalar.size(), vector.size()) # scalar is 0-dimensional"
   ]
  },
  {
   "cell_type": "code",
   "execution_count": 4,
   "metadata": {},
   "outputs": [
    {
     "name": "stdout",
     "output_type": "stream",
     "text": [
      "3\n"
     ]
    }
   ],
   "source": [
    "print(scalar.item()) # get the Python number from a scalar."
   ]
  },
  {
   "cell_type": "code",
   "execution_count": 5,
   "metadata": {
    "ExecuteTime": {
     "end_time": "2017-08-07T06:25:49.903875Z",
     "start_time": "2017-08-07T06:25:49.890816Z"
    },
    "scrolled": true
   },
   "outputs": [
    {
     "name": "stdout",
     "output_type": "stream",
     "text": [
      "tensor([[1, 2],\n",
      "        [3, 4]])\n"
     ]
    }
   ],
   "source": [
    "x = torch.tensor([[1,2],[3,4]]) # 2D Tensor\n",
    "print(x)"
   ]
  },
  {
   "cell_type": "code",
   "execution_count": 6,
   "metadata": {
    "ExecuteTime": {
     "end_time": "2017-08-07T06:25:50.515647Z",
     "start_time": "2017-08-07T06:25:50.505238Z"
    },
    "scrolled": false
   },
   "outputs": [
    {
     "name": "stdout",
     "output_type": "stream",
     "text": [
      "tensor([[[1, 2, 3],\n",
      "         [4, 5, 6],\n",
      "         [7, 8, 9]],\n",
      "\n",
      "        [[1, 2, 3],\n",
      "         [4, 5, 6],\n",
      "         [7, 8, 9]],\n",
      "\n",
      "        [[1, 2, 3],\n",
      "         [4, 5, 6],\n",
      "         [7, 8, 9]]])\n"
     ]
    }
   ],
   "source": [
    "y = torch.tensor([[[1,2,3],[4,5,6],[7,8,9]],[[1,2,3],[4,5,6],[7,8,9]],[[1,2,3],[4,5,6],[7,8,9]]]) # 3D Tensor\n",
    "print(y)"
   ]
  },
  {
   "cell_type": "markdown",
   "metadata": {},
   "source": [
    "### torch.dtype\n",
    "Below is a complete list of available torch.dtypes (data types) and their corresponding tensor types.\n",
    "<img src=\"images/dtype.png\" width=\"500\">"
   ]
  },
  {
   "cell_type": "code",
   "execution_count": 7,
   "metadata": {
    "scrolled": true
   },
   "outputs": [
    {
     "data": {
      "text/plain": [
       "torch.int64"
      ]
     },
     "execution_count": 7,
     "metadata": {},
     "output_type": "execute_result"
    }
   ],
   "source": [
    "y.dtype # infers data type from data"
   ]
  },
  {
   "cell_type": "markdown",
   "metadata": {},
   "source": [
    "### torch.device"
   ]
  },
  {
   "cell_type": "code",
   "execution_count": 8,
   "metadata": {},
   "outputs": [
    {
     "data": {
      "text/plain": [
       "device(type='cpu')"
      ]
     },
     "execution_count": 8,
     "metadata": {},
     "output_type": "execute_result"
    }
   ],
   "source": [
    "y.device"
   ]
  },
  {
   "cell_type": "code",
   "execution_count": 9,
   "metadata": {
    "scrolled": true
   },
   "outputs": [
    {
     "data": {
      "text/plain": [
       "device(type='cuda')"
      ]
     },
     "execution_count": 9,
     "metadata": {},
     "output_type": "execute_result"
    }
   ],
   "source": [
    "use_cuda = torch.cuda.is_available()\n",
    "device = torch.device(\"cuda\" if use_cuda else \"cpu\")\n",
    "device"
   ]
  },
  {
   "cell_type": "markdown",
   "metadata": {},
   "source": [
    "### torch.Size"
   ]
  },
  {
   "cell_type": "code",
   "execution_count": 10,
   "metadata": {},
   "outputs": [
    {
     "name": "stdout",
     "output_type": "stream",
     "text": [
      "torch.Size([3, 3, 3]) 27\n"
     ]
    }
   ],
   "source": [
    "print(y.size(), y.numel())"
   ]
  },
  {
   "cell_type": "markdown",
   "metadata": {
    "ExecuteTime": {
     "end_time": "2017-08-03T12:34:51.726159Z",
     "start_time": "2017-08-03T12:34:51.718763Z"
    }
   },
   "source": [
    "## A few other methods to create a Tensor\n",
    "There are some other tensor-creation operations\n",
    "<img src=\"images/creation_ops.png\" width=\"700\">"
   ]
  },
  {
   "cell_type": "code",
   "execution_count": 11,
   "metadata": {
    "ExecuteTime": {
     "end_time": "2017-08-07T06:25:51.175067Z",
     "start_time": "2017-08-07T06:25:51.165429Z"
    }
   },
   "outputs": [
    {
     "name": "stdout",
     "output_type": "stream",
     "text": [
      "tensor([[1., 1., 1.],\n",
      "        [1., 1., 1.],\n",
      "        [1., 1., 1.]])\n",
      "tensor([[0., 0., 0.],\n",
      "        [0., 0., 0.],\n",
      "        [0., 0., 0.]])\n",
      "tensor([[1., 0., 0.],\n",
      "        [0., 1., 0.],\n",
      "        [0., 0., 1.]])\n",
      "tensor([[0.7576, 0.2793, 0.4031],\n",
      "        [0.7347, 0.0293, 0.7999],\n",
      "        [0.3971, 0.7544, 0.5695]])\n",
      "tensor([[-0.6617, -0.0426, -1.3328],\n",
      "        [ 0.5161,  0.7455, -0.0751],\n",
      "        [-0.6919, -0.4043,  0.2222]])\n"
     ]
    }
   ],
   "source": [
    "print(torch.ones(3,3), torch.zeros(3,3), torch.eye(3,3), torch.rand(3,3), torch.randn(3,3), sep='\\n')"
   ]
  },
  {
   "cell_type": "code",
   "execution_count": 12,
   "metadata": {
    "ExecuteTime": {
     "end_time": "2017-08-07T06:25:51.655449Z",
     "start_time": "2017-08-07T06:25:51.648961Z"
    }
   },
   "outputs": [
    {
     "name": "stdout",
     "output_type": "stream",
     "text": [
      "tensor([0.0000, 0.5000, 1.0000, 1.5000, 2.0000, 2.5000])\n"
     ]
    }
   ],
   "source": [
    "print(torch.arange(0, 3, step=0.5)) # This is Vector, Not a Matrix, Don't Get Confused"
   ]
  },
  {
   "cell_type": "code",
   "execution_count": 13,
   "metadata": {
    "ExecuteTime": {
     "end_time": "2017-08-07T06:25:52.530553Z",
     "start_time": "2017-08-07T06:25:52.522735Z"
    }
   },
   "outputs": [
    {
     "name": "stdout",
     "output_type": "stream",
     "text": [
      "tensor([[5, 6],\n",
      "        [7, 8]], dtype=torch.int32)\n",
      "[[5 6]\n",
      " [7 8]]\n"
     ]
    }
   ],
   "source": [
    "x = np.array([[5,6],[7,8]])\n",
    "x_torch = torch.from_numpy(x) # Converting a NumPy arraty to a Torch tensor\n",
    "x_numpy = x_torch.numpy() # Converting a Torch tensor to a NumPy array\n",
    "print(x_torch, x_numpy, sep='\\n')"
   ]
  },
  {
   "cell_type": "code",
   "execution_count": 14,
   "metadata": {},
   "outputs": [
    {
     "name": "stdout",
     "output_type": "stream",
     "text": [
      "tensor([5.5000, 3.0000])\n",
      "tensor([[1., 1., 1.],\n",
      "        [1., 1., 1.],\n",
      "        [1., 1., 1.],\n",
      "        [1., 1., 1.],\n",
      "        [1., 1., 1.]])\n",
      "tensor([[ 0.5773, -1.7637,  0.2264],\n",
      "        [-0.2355,  0.3019, -0.2770],\n",
      "        [ 0.4771, -0.1103,  0.2913],\n",
      "        [ 0.5848,  0.2149, -0.4090],\n",
      "        [-0.1663,  0.6696,  0.1177]])\n"
     ]
    }
   ],
   "source": [
    "x = torch.tensor([5.5, 3])\n",
    "print(x)\n",
    "\n",
    "x = x.new_ones(5, 3)      # new_* methods take in sizes\n",
    "print(x)\n",
    "\n",
    "x = torch.randn_like(x, dtype=torch.float)    # override dtype!\n",
    "print(x)                                      # result has the same size"
   ]
  },
  {
   "cell_type": "markdown",
   "metadata": {},
   "source": [
    "## Slicing, Concatenating, and Masking Tensor\n",
    "PyTorch supports NumPy-style tensor indexing."
   ]
  },
  {
   "cell_type": "code",
   "execution_count": 15,
   "metadata": {
    "ExecuteTime": {
     "end_time": "2017-08-07T06:25:53.241768Z",
     "start_time": "2017-08-07T06:25:53.231854Z"
    }
   },
   "outputs": [
    {
     "name": "stdout",
     "output_type": "stream",
     "text": [
      "tensor([[1, 1, 1],\n",
      "        [2, 2, 2],\n",
      "        [3, 3, 3]])\n",
      "tensor([[1, 1, 1],\n",
      "        [2, 2, 2]])\n",
      "tensor([1, 2, 3])\n",
      "tensor([[0, 0, 0],\n",
      "        [2, 2, 2],\n",
      "        [3, 3, 3]])\n"
     ]
    }
   ],
   "source": [
    "x = torch.tensor([[1,1,1],[2,2,2],[3,3,3]])\n",
    "print(x)\n",
    "\n",
    "print(x[0:2,:])\n",
    "\n",
    "print(x[0:3,0])\n",
    "\n",
    "x[0,:] = torch.tensor([0,0,0])\n",
    "print(x)"
   ]
  },
  {
   "cell_type": "code",
   "execution_count": 16,
   "metadata": {
    "ExecuteTime": {
     "end_time": "2017-08-07T06:25:53.908358Z",
     "start_time": "2017-08-07T06:25:53.901740Z"
    },
    "scrolled": true
   },
   "outputs": [
    {
     "name": "stdout",
     "output_type": "stream",
     "text": [
      "(tensor([[0, 0, 0]]), tensor([[2, 2, 2]]), tensor([[3, 3, 3]]))\n",
      "torch.Size([1, 3])\n"
     ]
    }
   ],
   "source": [
    "split_x = torch.split(x, 1, dim=0) # Return Tuple of splited tesnors\n",
    "print(split_x)\n",
    "\n",
    "print(split_x[0].size())"
   ]
  },
  {
   "cell_type": "code",
   "execution_count": 17,
   "metadata": {
    "ExecuteTime": {
     "end_time": "2017-08-07T06:25:54.257571Z",
     "start_time": "2017-08-07T06:25:54.250946Z"
    }
   },
   "outputs": [
    {
     "name": "stdout",
     "output_type": "stream",
     "text": [
      "tensor([[0, 0, 0],\n",
      "        [2, 2, 2],\n",
      "        [3, 3, 3]])\n",
      "tensor([[[0, 0, 0],\n",
      "         [2, 2, 2],\n",
      "         [3, 3, 3]]])\n",
      "torch.Size([3, 3])\n",
      "torch.Size([1, 3, 3])\n"
     ]
    }
   ],
   "source": [
    "split_cat = torch.cat(split_x, dim=0) # concatentae Tensor\n",
    "split_stack = torch.stack(split_x, dim=1) # concatenate Tensor with New dimenstion\n",
    "print(split_cat, split_stack, sep='\\n')\n",
    "\n",
    "print(split_cat.size(), split_stack.size(), sep='\\n')"
   ]
  },
  {
   "cell_type": "code",
   "execution_count": 18,
   "metadata": {
    "ExecuteTime": {
     "end_time": "2017-08-07T06:25:54.970773Z",
     "start_time": "2017-08-07T06:25:54.957336Z"
    }
   },
   "outputs": [
    {
     "name": "stdout",
     "output_type": "stream",
     "text": [
      "tensor([[-0.3584,  0.6513, -1.0273],\n",
      "        [-0.7286, -0.7209,  1.1115]])\n",
      "tensor([[0, 0, 1],\n",
      "        [0, 1, 0]], dtype=torch.uint8)\n",
      "tensor([-1.0273, -0.7209])\n"
     ]
    }
   ],
   "source": [
    "# torch.masked_select(input, mask)\n",
    "\n",
    "x = torch.randn(2,3)\n",
    "\n",
    "mask = torch.ByteTensor([[0,0,1],[0,1,0]])\n",
    "\n",
    "out = torch.masked_select(x,mask) # Extracting Values with ByteType Index Tensor\n",
    "\n",
    "print(x, mask, out, sep='\\n')"
   ]
  },
  {
   "cell_type": "markdown",
   "metadata": {
    "ExecuteTime": {
     "end_time": "2017-08-03T13:05:51.955648Z",
     "start_time": "2017-08-03T13:05:51.948906Z"
    }
   },
   "source": [
    "## Reshaping on Dimension of Tensor"
   ]
  },
  {
   "cell_type": "code",
   "execution_count": 19,
   "metadata": {
    "ExecuteTime": {
     "end_time": "2017-08-07T06:25:55.730362Z",
     "start_time": "2017-08-07T06:25:55.716130Z"
    }
   },
   "outputs": [
    {
     "name": "stdout",
     "output_type": "stream",
     "text": [
      "tensor([[[0., 0.]],\n",
      "\n",
      "        [[0., 0.]]])\n"
     ]
    }
   ],
   "source": [
    "x  = torch.zeros(2, 1, 2)\n",
    "print(x)"
   ]
  },
  {
   "cell_type": "code",
   "execution_count": 20,
   "metadata": {
    "ExecuteTime": {
     "end_time": "2017-08-07T06:25:56.118363Z",
     "start_time": "2017-08-07T06:25:56.111824Z"
    }
   },
   "outputs": [
    {
     "name": "stdout",
     "output_type": "stream",
     "text": [
      "tensor([[0., 0.],\n",
      "        [0., 0.]])\n",
      "torch.Size([2, 2])\n"
     ]
    }
   ],
   "source": [
    "y = x.view(2,2) # Reahspe Tensor with view funciton\n",
    "print(y, y.size(), sep='\\n')"
   ]
  },
  {
   "cell_type": "code",
   "execution_count": 21,
   "metadata": {
    "ExecuteTime": {
     "end_time": "2017-08-07T06:25:56.526879Z",
     "start_time": "2017-08-07T06:25:56.519886Z"
    }
   },
   "outputs": [
    {
     "name": "stdout",
     "output_type": "stream",
     "text": [
      "tensor([0., 0., 0., 0.])\n",
      "torch.Size([4])\n"
     ]
    }
   ],
   "source": [
    "y = x.view(-1) # -1 is special \"Don't Care\" symbol \n",
    "print(y, y.size(), sep='\\n')"
   ]
  },
  {
   "cell_type": "code",
   "execution_count": 22,
   "metadata": {
    "ExecuteTime": {
     "end_time": "2017-08-07T06:25:56.899686Z",
     "start_time": "2017-08-07T06:25:56.892614Z"
    }
   },
   "outputs": [
    {
     "name": "stdout",
     "output_type": "stream",
     "text": [
      "tensor([[0., 0., 0., 0.]])\n",
      "torch.Size([1, 4])\n"
     ]
    }
   ],
   "source": [
    "y = x.view(-1,4)\n",
    "print(y, y.size(), sep='\\n')"
   ]
  },
  {
   "cell_type": "code",
   "execution_count": 23,
   "metadata": {},
   "outputs": [
    {
     "name": "stdout",
     "output_type": "stream",
     "text": [
      "tensor([[0., 0.],\n",
      "        [0., 0.]])\n",
      "torch.Size([2, 2])\n"
     ]
    }
   ],
   "source": [
    "y = x.squeeze()  # remove dimension of 1 \n",
    "print(y, y.size(), sep='\\n')"
   ]
  },
  {
   "cell_type": "code",
   "execution_count": 24,
   "metadata": {
    "ExecuteTime": {
     "end_time": "2017-08-07T06:25:57.326572Z",
     "start_time": "2017-08-07T06:25:57.319798Z"
    }
   },
   "outputs": [
    {
     "name": "stdout",
     "output_type": "stream",
     "text": [
      "tensor([[[0., 0.]],\n",
      "\n",
      "        [[0., 0.]]])\n",
      "torch.Size([2, 1, 2])\n"
     ]
    }
   ],
   "source": [
    "y.unsqueeze_(1)  # insert dimension of 1 / the methods with the tailing '_' are in-place functions\n",
    "print(y, y.size(), sep='\\n')"
   ]
  },
  {
   "cell_type": "markdown",
   "metadata": {},
   "source": [
    "## Tensor Operations"
   ]
  },
  {
   "cell_type": "markdown",
   "metadata": {},
   "source": [
    "### Arthmetic Operations\n",
    "PyTorch supports NumPy-style tensor operations"
   ]
  },
  {
   "cell_type": "code",
   "execution_count": 25,
   "metadata": {
    "ExecuteTime": {
     "end_time": "2017-08-07T06:25:58.504661Z",
     "start_time": "2017-08-07T06:25:58.491969Z"
    }
   },
   "outputs": [
    {
     "name": "stdout",
     "output_type": "stream",
     "text": [
      "tensor([[1., 2., 3.],\n",
      "        [4., 5., 6.]])\n",
      "tensor([[1., 2., 3.],\n",
      "        [4., 5., 6.]])\n"
     ]
    }
   ],
   "source": [
    "x1 = torch.tensor([[1,2,3],[4,5,6]], dtype=torch.float)\n",
    "x2 = torch.tensor([[1,2,3],[4,5,6]], dtype=torch.float)\n",
    "print(x1, x2, sep='\\n')"
   ]
  },
  {
   "cell_type": "code",
   "execution_count": 26,
   "metadata": {},
   "outputs": [
    {
     "name": "stdout",
     "output_type": "stream",
     "text": [
      "tensor([[ 2.,  4.,  6.],\n",
      "        [ 8., 10., 12.]])\n",
      "tensor([[ 2.,  4.,  6.],\n",
      "        [ 8., 10., 12.]])\n",
      "tensor([[ 2.,  4.,  6.],\n",
      "        [ 8., 10., 12.]])\n"
     ]
    }
   ],
   "source": [
    "print(x1 + x2 , x1.add(x2), torch.add(x1,x2), sep='\\n')"
   ]
  },
  {
   "cell_type": "code",
   "execution_count": 27,
   "metadata": {
    "ExecuteTime": {
     "end_time": "2017-08-07T06:25:59.151399Z",
     "start_time": "2017-08-07T06:25:59.144094Z"
    }
   },
   "outputs": [
    {
     "name": "stdout",
     "output_type": "stream",
     "text": [
      "tensor([[ 1.,  4.,  9.],\n",
      "        [16., 25., 36.]])\n",
      "tensor([[ 1.,  4.,  9.],\n",
      "        [16., 25., 36.]])\n",
      "tensor([[ 1.,  4.,  9.],\n",
      "        [16., 25., 36.]])\n"
     ]
    }
   ],
   "source": [
    "print(x1 * x2, x1.mul(x2), torch.mul(x1,x2), sep='\\n') # Element-wise multiplication"
   ]
  },
  {
   "cell_type": "code",
   "execution_count": 28,
   "metadata": {},
   "outputs": [
    {
     "name": "stdout",
     "output_type": "stream",
     "text": [
      "tensor([[1., 0., 1.],\n",
      "        [0., 1., 0.]])\n",
      "tensor([[0.5000, 1.0000, 1.5000],\n",
      "        [2.0000, 2.5000, 3.0000]])\n"
     ]
    }
   ],
   "source": [
    "print(x1 % 2,  x1 / 2, sep='\\n')"
   ]
  },
  {
   "cell_type": "code",
   "execution_count": 29,
   "metadata": {
    "ExecuteTime": {
     "end_time": "2017-08-07T06:25:59.375870Z",
     "start_time": "2017-08-07T06:25:59.369448Z"
    }
   },
   "outputs": [
    {
     "name": "stdout",
     "output_type": "stream",
     "text": [
      "tensor([[11., 12., 13.],\n",
      "        [14., 15., 16.]])\n",
      "tensor([[10., 20., 30.],\n",
      "        [40., 50., 60.]])\n"
     ]
    }
   ],
   "source": [
    "print(x1 + 10, x1 * 10, sep='\\n') # broadingcasting"
   ]
  },
  {
   "cell_type": "markdown",
   "metadata": {},
   "source": [
    "### Other useful math operations"
   ]
  },
  {
   "cell_type": "code",
   "execution_count": 30,
   "metadata": {
    "ExecuteTime": {
     "end_time": "2017-08-07T06:25:59.910756Z",
     "start_time": "2017-08-07T06:25:59.902649Z"
    }
   },
   "outputs": [
    {
     "name": "stdout",
     "output_type": "stream",
     "text": [
      "tensor([[ 1.,  4.,  9.],\n",
      "        [16., 25., 36.]])\n",
      "tensor([[ 1.,  4.,  9.],\n",
      "        [16., 25., 36.]])\n",
      "tensor([[ 1.,  4.,  9.],\n",
      "        [16., 25., 36.]])\n"
     ]
    }
   ],
   "source": [
    "print(x1.pow(2), torch.pow(x1,2), x1**2, sep='\\n') # elementwise Power operation"
   ]
  },
  {
   "cell_type": "code",
   "execution_count": 31,
   "metadata": {},
   "outputs": [
    {
     "name": "stdout",
     "output_type": "stream",
     "text": [
      "tensor([[1.0000, 1.4142, 1.7321],\n",
      "        [2.0000, 2.2361, 2.4495]])\n",
      "tensor([[0.0000, 0.6931, 1.0986],\n",
      "        [1.3863, 1.6094, 1.7918]])\n",
      "tensor([[0.0000, 0.3010, 0.4771],\n",
      "        [0.6021, 0.6990, 0.7782]])\n",
      "tensor([[0.0000, 1.0000, 1.5850],\n",
      "        [2.0000, 2.3219, 2.5850]])\n"
     ]
    }
   ],
   "source": [
    "# element-wise square root / logarithm to the base e, 10, 2\n",
    "print(x1.sqrt(), x1.log(), x1.log10(), x1.log2(), sep='\\n')"
   ]
  },
  {
   "cell_type": "code",
   "execution_count": 32,
   "metadata": {
    "ExecuteTime": {
     "end_time": "2017-08-07T06:26:00.586876Z",
     "start_time": "2017-08-07T06:26:00.578939Z"
    }
   },
   "outputs": [
    {
     "name": "stdout",
     "output_type": "stream",
     "text": [
      "tensor(21.)\n",
      "tensor(6.)\n",
      "tensor(1.)\n",
      "tensor(3.5000)\n",
      "tensor(1.8708)\n",
      "tensor([[1., 2., 3.],\n",
      "        [4., 5., 6.]])\n"
     ]
    }
   ],
   "source": [
    "# summation / maximum / minimum / mean / standard deviation / absolute value\n",
    "print(x1.sum(), x1.max(), x1.min(), x1.mean(), x1.std(), x1.abs(), sep='\\n')"
   ]
  },
  {
   "cell_type": "code",
   "execution_count": 33,
   "metadata": {
    "ExecuteTime": {
     "end_time": "2017-08-07T06:26:00.789320Z",
     "start_time": "2017-08-07T06:26:00.781938Z"
    }
   },
   "outputs": [
    {
     "name": "stdout",
     "output_type": "stream",
     "text": [
      "tensor([4., 5., 6.]) tensor([1, 1, 1])\n",
      "tensor([3., 6.]) tensor([2, 2])\n"
     ]
    }
   ],
   "source": [
    "value_along_row, index_along_row = x1.max(dim=0) # Find maximum index in the Tensor\n",
    "value_along_column, index_along_column = x1.max(dim=1)\n",
    "print(value_along_row, index_along_row)\n",
    "print(value_along_column, index_along_column)"
   ]
  },
  {
   "cell_type": "markdown",
   "metadata": {},
   "source": [
    "### Matrix operations"
   ]
  },
  {
   "cell_type": "code",
   "execution_count": 34,
   "metadata": {
    "ExecuteTime": {
     "end_time": "2017-08-07T06:26:01.201823Z",
     "start_time": "2017-08-07T06:26:01.184287Z"
    }
   },
   "outputs": [
    {
     "name": "stdout",
     "output_type": "stream",
     "text": [
      "tensor([[-3.9867,  3.9807,  0.1730,  0.9068, -0.7302],\n",
      "        [-0.3917, -0.0361, -0.2434,  0.0573,  1.5814],\n",
      "        [-1.6090, -1.6922, -0.2638, -1.1935, -0.5969]])\n",
      "tensor([[-3.9867,  3.9807,  0.1730,  0.9068, -0.7302],\n",
      "        [-0.3917, -0.0361, -0.2434,  0.0573,  1.5814],\n",
      "        [-1.6090, -1.6922, -0.2638, -1.1935, -0.5969]])\n"
     ]
    }
   ],
   "source": [
    "# torch.mm(mat1, mat2) -> matrix multiplication\n",
    "\n",
    "x1 = torch.randn(3,4)\n",
    "x2 = torch.randn(4,5)\n",
    "\n",
    "print(torch.mm(x1,x2), x1.mm(x2), sep='\\n')"
   ]
  },
  {
   "cell_type": "code",
   "execution_count": 35,
   "metadata": {
    "ExecuteTime": {
     "end_time": "2017-08-07T06:26:01.394828Z",
     "start_time": "2017-08-07T06:26:01.383884Z"
    }
   },
   "outputs": [
    {
     "name": "stdout",
     "output_type": "stream",
     "text": [
      "tensor([-0.6492,  0.7737, -2.6722])\n",
      "tensor([-0.6492,  0.7737, -2.6722])\n"
     ]
    }
   ],
   "source": [
    "# torch.mv(mat1, vector) -> matrix vector multiplication\n",
    "\n",
    "x = torch.randn(3,4)\n",
    "v = torch.randn(4)\n",
    "\n",
    "print(torch.mv(x,v), x.mv(v), sep='\\n')"
   ]
  },
  {
   "cell_type": "code",
   "execution_count": 36,
   "metadata": {
    "ExecuteTime": {
     "end_time": "2017-08-07T06:26:01.629750Z",
     "start_time": "2017-08-07T06:26:01.619859Z"
    },
    "scrolled": true
   },
   "outputs": [
    {
     "name": "stdout",
     "output_type": "stream",
     "text": [
      "torch.Size([10, 3, 5])\n"
     ]
    }
   ],
   "source": [
    "# torch.bmm(batch1, batch2) -> batch matrix multiplication\n",
    "\n",
    "x1 = torch.randn(10,3,4)\n",
    "x2 = torch.randn(10,4,5)\n",
    "\n",
    "print(torch.bmm(x1,x2).size())"
   ]
  },
  {
   "cell_type": "code",
   "execution_count": 37,
   "metadata": {
    "ExecuteTime": {
     "end_time": "2017-08-07T06:26:01.882026Z",
     "start_time": "2017-08-07T06:26:01.871531Z"
    }
   },
   "outputs": [
    {
     "name": "stdout",
     "output_type": "stream",
     "text": [
      "tensor(10)\n"
     ]
    }
   ],
   "source": [
    "# torch.dot(tensor1,tensor2) -> dot product of two tensor\n",
    "\n",
    "x1 = torch.tensor([1,2,3,4])\n",
    "x2 = torch.tensor([1,1,1,1])\n",
    "\n",
    "print(torch.dot(x1, x2))"
   ]
  },
  {
   "cell_type": "code",
   "execution_count": 38,
   "metadata": {
    "ExecuteTime": {
     "end_time": "2017-08-07T06:26:02.082024Z",
     "start_time": "2017-08-07T06:26:02.073480Z"
    }
   },
   "outputs": [
    {
     "name": "stdout",
     "output_type": "stream",
     "text": [
      "tensor([[ 0.1169, -0.3601, -0.7640,  0.8946],\n",
      "        [ 1.4945,  0.3295, -0.2958, -0.7592],\n",
      "        [-0.4087, -0.1341,  0.8123,  2.0045]])\n",
      "tensor([[ 0.1169,  1.4945, -0.4087],\n",
      "        [-0.3601,  0.3295, -0.1341],\n",
      "        [-0.7640, -0.2958,  0.8123],\n",
      "        [ 0.8946, -0.7592,  2.0045]])\n"
     ]
    }
   ],
   "source": [
    "# torch.t(matrix) -> transposed matrix\n",
    "\n",
    "x1 = torch.randn(3,4)\n",
    "\n",
    "print(x1, x1.t(), sep='\\n')"
   ]
  },
  {
   "cell_type": "code",
   "execution_count": 39,
   "metadata": {
    "ExecuteTime": {
     "end_time": "2017-08-07T06:26:02.304739Z",
     "start_time": "2017-08-07T06:26:02.290349Z"
    }
   },
   "outputs": [
    {
     "name": "stdout",
     "output_type": "stream",
     "text": [
      "tensor([[ 8.7900,  9.9300,  9.8300,  5.4500,  3.1600],\n",
      "        [ 6.1100,  6.9100,  5.0400, -0.2700,  7.9800],\n",
      "        [-9.1500, -7.9300,  4.8600,  4.8500,  3.0100],\n",
      "        [ 9.5700,  1.6400,  8.8300,  0.7400,  5.8000],\n",
      "        [-3.4900,  4.0200,  9.8000, 10.0000,  4.2700],\n",
      "        [ 9.8400,  0.1500, -8.9900, -6.0200, -5.3100]])\n",
      "torch.Size([6, 5])\n"
     ]
    }
   ],
   "source": [
    "a = torch.Tensor([[8.79,  6.11, -9.15,  9.57, -3.49,  9.84],\n",
    "                  [9.93,  6.91, -7.93,  1.64,  4.02,  0.15],\n",
    "                  [9.83,  5.04,  4.86,  8.83,  9.80, -8.99],\n",
    "                  [5.45, -0.27,  4.85,  0.74, 10.00, -6.02],\n",
    "                  [3.16,  7.98,  3.01,  5.80,  4.27, -5.31]]).t()\n",
    "print(a, a.size(), sep='\\n')"
   ]
  },
  {
   "cell_type": "code",
   "execution_count": 40,
   "metadata": {
    "ExecuteTime": {
     "end_time": "2017-08-07T06:26:02.498952Z",
     "start_time": "2017-08-07T06:26:02.490591Z"
    }
   },
   "outputs": [
    {
     "name": "stdout",
     "output_type": "stream",
     "text": [
      "tensor([[-0.5911,  0.2632,  0.3554,  0.3143,  0.2299],\n",
      "        [-0.3976,  0.2438, -0.2224, -0.7535, -0.3636],\n",
      "        [-0.0335, -0.6003, -0.4508,  0.2334, -0.3055],\n",
      "        [-0.4297,  0.2362, -0.6859,  0.3319,  0.1649],\n",
      "        [-0.4697, -0.3509,  0.3874,  0.1587, -0.5183],\n",
      "        [ 0.2934,  0.5763, -0.0209,  0.3791, -0.6526]])\n",
      "tensor([27.4687, 22.6432,  8.5584,  5.9857,  2.0149])\n",
      "tensor([[-0.2514,  0.8148, -0.2606,  0.3967, -0.2180],\n",
      "        [-0.3968,  0.3587,  0.7008, -0.4507,  0.1402],\n",
      "        [-0.6922, -0.2489, -0.2208,  0.2513,  0.5891],\n",
      "        [-0.3662, -0.3686,  0.3859,  0.4342, -0.6265],\n",
      "        [-0.4076, -0.0980, -0.4933, -0.6227, -0.4396]])\n",
      "torch.Size([6, 5]) torch.Size([5]) torch.Size([5, 5])\n"
     ]
    }
   ],
   "source": [
    "u, s, v = torch.svd(a) # singular value decomposition\n",
    "print(u, s, v, sep='\\n')\n",
    "print(u.size(), s.size(), v.size())"
   ]
  },
  {
   "cell_type": "code",
   "execution_count": 41,
   "metadata": {
    "ExecuteTime": {
     "end_time": "2017-08-07T06:26:02.749028Z",
     "start_time": "2017-08-07T06:26:02.741997Z"
    },
    "scrolled": true
   },
   "outputs": [
    {
     "name": "stdout",
     "output_type": "stream",
     "text": [
      "tensor(1.4596e-05)\n"
     ]
    }
   ],
   "source": [
    "# Returns the p-norm of (first argument - second argument)\n",
    "print(torch.dist(a, torch.mm(torch.mm(u, torch.diag(s)), v.t())))"
   ]
  },
  {
   "cell_type": "code",
   "execution_count": null,
   "metadata": {},
   "outputs": [],
   "source": []
  }
 ],
 "metadata": {
  "kernelspec": {
   "display_name": "Python 3",
   "language": "python",
   "name": "python3"
  },
  "language_info": {
   "codemirror_mode": {
    "name": "ipython",
    "version": 3
   },
   "file_extension": ".py",
   "mimetype": "text/x-python",
   "name": "python",
   "nbconvert_exporter": "python",
   "pygments_lexer": "ipython3",
   "version": "3.7.3"
  }
 },
 "nbformat": 4,
 "nbformat_minor": 2
}
