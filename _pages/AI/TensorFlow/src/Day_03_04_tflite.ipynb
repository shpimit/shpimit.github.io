{
 "cells": [
  {
   "cell_type": "code",
   "execution_count": 1,
   "metadata": {},
   "outputs": [],
   "source": [
    "# Day_03_04_tflite.py\n",
    "import tensorflow as tf"
   ]
  },
  {
   "cell_type": "code",
   "execution_count": 2,
   "metadata": {},
   "outputs": [],
   "source": [
    "# 이번 파일에서 공통으로 사용하는 함수.\n",
    "# 컨버터 생성해서 파일로 저장. 다시 말해 모바일에서 사용할 수 있는 형태로 변환해서 저장.\n",
    "def model_common(inputs, outputs, model_path):\n",
    "    # 텐서플로 API만을 사용해서 저장할 수 있음을 보여준다.\n",
    "    # 4가지 방법 중에서 가장 기본.\n",
    "    with tf.Session() as sess:\n",
    "        sess.run(tf.global_variables_initializer())\n",
    "\n",
    "        # input_tensors: List of input tensors. Type and shape are computed using get_shape() and dtype.\n",
    "        # output_tensors: List of output tensors (only .name is used from this).\n",
    "        converter = tf.lite.TFLiteConverter.from_session(sess,\n",
    "                                                         input_tensors=inputs,\n",
    "                                                         output_tensors=outputs)\n",
    "        # 세션에 들어있는 모든 연산, 즉 모델 전체를 변환\n",
    "        # 반환값은 TFLite 형식의 Flatbuffer 또는 Graphviz 그래프\n",
    "        flat_data = converter.convert()\n",
    "\n",
    "        # 텍스트가 아니기 때문에 바이너리 형태로 저장. w(write), b(binary)\n",
    "        with open(model_path, 'wb') as f:\n",
    "            f.write(flat_data)"
   ]
  },
  {
   "cell_type": "code",
   "execution_count": 3,
   "metadata": {},
   "outputs": [],
   "source": [
    "# 입력 1개, 출력 1개\n",
    "def simple_model_1(model_path):\n",
    "    # 에러. 반드시 shape을 지정해야 함.\n",
    "    # x = tf.placeholder(tf.int32)\n",
    "\n",
    "    # 안드로이드에서 전달한 입력과 출력 변수가 플레이스 홀더와 연동\n",
    "    x = tf.placeholder(tf.int32, shape=[1])\n",
    "    out = x * 5\n",
    "\n",
    "    model_common([x], [out], model_path)\n",
    "\n",
    "    # 에러. 반드시 [] 형태로 전달해야 함.\n",
    "    # model_common(x, out, model_path)"
   ]
  },
  {
   "cell_type": "code",
   "execution_count": 4,
   "metadata": {},
   "outputs": [],
   "source": [
    "# 입력 2개짜리 1개, 출력 1개\n",
    "def simple_model_2(model_path):\n",
    "    x = tf.placeholder(tf.int32, shape=[2])\n",
    "    out = tf.reduce_sum(x * x)\n",
    "\n",
    "    model_common([x], [out], model_path)"
   ]
  },
  {
   "cell_type": "code",
   "execution_count": 5,
   "metadata": {},
   "outputs": [],
   "source": [
    "# 입력 1개짜리 2개, 출력 1개\n",
    "def simple_model_3(model_path):\n",
    "    # 에러. 반드시 shape을 지정해야 함.\n",
    "    # x1 = tf.placeholder(tf.int32, shape=[0])\n",
    "    # x2 = tf.placeholder(tf.int32, shape=[0])\n",
    "\n",
    "    x1 = tf.placeholder(tf.int32, shape=[1])\n",
    "    x2 = tf.placeholder(tf.int32, shape=[1])\n",
    "    out = tf.add(x1, x2)\n",
    "\n",
    "    # 입력에 2개 전달\n",
    "    model_common([x1, x2], [out], model_path)"
   ]
  },
  {
   "cell_type": "code",
   "execution_count": 6,
   "metadata": {},
   "outputs": [],
   "source": [
    "# 입력 1개짜리 2개, 출력 1개짜리 2개\n",
    "def simple_model_4(model_path):\n",
    "    x1 = tf.placeholder(tf.int32, shape=[1])\n",
    "    x2 = tf.placeholder(tf.int32, shape=[1])\n",
    "    out_1 = x1 + x2\n",
    "    out_2 = x1 * x2\n",
    "\n",
    "    # 입력에 2개, 출력에 2개 전달\n",
    "    model_common([x1, x2], [out_1, out_2], model_path)"
   ]
  },
  {
   "cell_type": "code",
   "execution_count": null,
   "metadata": {},
   "outputs": [],
   "source": [
    "simple_model_1('./models/simple_1.tflite')\n",
    "simple_model_2('./models/simple_2.tflite')\n",
    "simple_model_3('./models/simple_3.tflite')\n",
    "simple_model_4('./models/simple_4.tflite')"
   ]
  }
 ],
 "metadata": {
  "kernelspec": {
   "display_name": "Python 3",
   "language": "python",
   "name": "python3"
  },
  "language_info": {
   "codemirror_mode": {
    "name": "ipython",
    "version": 3
   },
   "file_extension": ".py",
   "mimetype": "text/x-python",
   "name": "python",
   "nbconvert_exporter": "python",
   "pygments_lexer": "ipython3",
   "version": "3.7.3"
  }
 },
 "nbformat": 4,
 "nbformat_minor": 2
}
