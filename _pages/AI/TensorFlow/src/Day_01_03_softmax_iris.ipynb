{
 "cells": [
  {
   "cell_type": "code",
   "execution_count": 1,
   "metadata": {},
   "outputs": [],
   "source": [
    "# Day_01_03_softmax_iris.py\n",
    "import tensorflow as tf\n",
    "import numpy as np"
   ]
  },
  {
   "cell_type": "markdown",
   "metadata": {},
   "source": [
    "# 문제\n",
    "* 70% 데이터로 학습하고 30% 데이터에 대해 정확도를 알려 주세요\n",
    "* train_set            test_set"
   ]
  },
  {
   "cell_type": "code",
   "execution_count": 2,
   "metadata": {},
   "outputs": [],
   "source": [
    "def get_iris():\n",
    "    # numpy는 모두 숫자이어야 해서\n",
    "    # iris = np.loadtxt('Data/iris.csv')\n",
    "    iris = np.loadtxt('Data/iris.csv',\n",
    "                      skiprows=1,\n",
    "                      delimiter=',')\n",
    "\n",
    "    # \"Setosa\"     → 1,0,0\n",
    "    # \"Versicolor\" → 0,1,0\n",
    "    # \"\"  → 0,0,1\n",
    "\n",
    "    # 앞쪽의 데이터 0부터~3이전까지\n",
    "    print(iris[:3])\n",
    "    # 마지막 자리부서 3개까지 앞으로\n",
    "    print(iris[-3:])\n",
    "\n",
    "    # 문제\n",
    "    # iris를 피처(x)와 타겟(y)으로 구분하세요\n",
    "    print(iris.shape)  #(150, 7)\n",
    "\n",
    "    np.random.seed(1)\n",
    "    np.random.shuffle(iris)\n",
    "\n",
    "    x = iris[:, :4]\n",
    "    print(x.shape)    # (150, 4)\n",
    "    y = iris[:, 4:]\n",
    "    print(y.shape)    # (150, 3)\n",
    "\n",
    "# ---------------------------------------------------------\n",
    "\n",
    "# 문제\n",
    "# 70% 데이터로 학습하고 30% 데이터에 대해 정확도를 알려 주세요\n",
    "# train_set            test_set\n",
    "    train_size = int(len(x) * 0.7)\n",
    "\n",
    "    x_train, x_test = x[:train_size], x[train_size:]\n",
    "    y_train, y_test = y[:train_size], y[train_size:]\n",
    "\n",
    "    print(x_train.shape, x_test.shape)\n",
    "    print(y_train.shape, y_test.shape)\n",
    "\n",
    "    return x_train, x_test, y_train, y_test"
   ]
  },
  {
   "cell_type": "code",
   "execution_count": 3,
   "metadata": {},
   "outputs": [],
   "source": [
    "def sotfmax_regression_iris():\n",
    "    x_train, x_test, y_train, y_test = get_iris()\n",
    "\n",
    "    w = tf.Variable(tf.random_uniform([4, 3]))\n",
    "    # bias는 class의 갯수만큼 정한다.\n",
    "    b = tf.Variable(tf.random_uniform([3]))\n",
    "\n",
    "    ph_x = tf.placeholder(tf.float32)\n",
    "\n",
    "    # (105, 3) = (105, 4) @  (4, 3)\n",
    "    z = tf.matmul(ph_x, w) + b\n",
    "    hx = tf.nn.softmax(z)\n",
    "\n",
    "    # tensorflow 2.0d에서 정리 될것,  logit=예측  label을 결과괌\n",
    "    # logit에 z를 하는것은 hx를 전달하지 않아도 됨, 자체적으로 함\n",
    "    # 우리의 결과는 ont-hot 백터가 아님으로  sparse_softmax_cross_entropy_with_logits\n",
    "    loss_i = tf.nn.sparse_softmax_cross_entropy_with_logits(logits=z, labels=y_train)\n",
    "    loss = tf.reduce_mean(loss_i)\n",
    "\n",
    "    optimizer = tf.train.GradientDescentOptimizer(learning_rate=0.1)\n",
    "    train = optimizer.minimize(loss=loss)\n",
    "\n",
    "    # sess로 변수의 값을 알수 있다.\n",
    "    sess = tf.Session()\n",
    "    sess.run(tf.global_variables_initializer())\n",
    "\n",
    "    for i in range(1000):\n",
    "        sess.run(train, feed_dict={ph_x: x_train})\n",
    "        print(i, sess.run(loss, {ph_x: x_train}))\n",
    "\n",
    "    preds = sess.run(hx, {ph_x: x_test})\n",
    "    preds_arg = np.argmax(preds, axis=1)  # 1: 수평, 0: 수직\n",
    "    test_arg  = np.argmax(y_test, axis=1)\n",
    "\n",
    "    # 파이썬의 list는 broadcasting기능이 없어서, numpy array로 변경\n",
    "    # grades = np.array(['Setosa', 'Versicolor', 'Virginica'])\n",
    "    # print(grades[preds_arg])\n",
    "    # print(preds)\n",
    "\n",
    "    # 1차 혼돈 : 데이터가 섞여 있지 않음으로 인한오류 → shuffle 필요 np.random.shuffle(iris)\n",
    "    # 2차 혼돈 : 돌릴때 마다 위치가 달라져서 ...np.random.seed(1)\n",
    "    print('acc: ', np.mean(preds_arg == test_arg))\n",
    "\n",
    "    print(preds_arg)\n",
    "    print(test_arg)\n",
    "\n",
    "    sess.close()"
   ]
  },
  {
   "cell_type": "code",
   "execution_count": null,
   "metadata": {},
   "outputs": [],
   "source": [
    "sotfmax_regression_iris()"
   ]
  }
 ],
 "metadata": {
  "kernelspec": {
   "display_name": "Python 3",
   "language": "python",
   "name": "python3"
  },
  "language_info": {
   "codemirror_mode": {
    "name": "ipython",
    "version": 3
   },
   "file_extension": ".py",
   "mimetype": "text/x-python",
   "name": "python",
   "nbconvert_exporter": "python",
   "pygments_lexer": "ipython3",
   "version": "3.7.3"
  }
 },
 "nbformat": 4,
 "nbformat_minor": 2
}
