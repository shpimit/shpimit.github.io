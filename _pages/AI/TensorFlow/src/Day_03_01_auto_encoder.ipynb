{
 "cells": [
  {
   "cell_type": "code",
   "execution_count": 1,
   "metadata": {},
   "outputs": [],
   "source": [
    "# Day_03_01_auto_encoder.py\n",
    "import tensorflow as tf\n",
    "import numpy as np\n",
    "import matplotlib.pyplot as plt\n",
    "from tensorflow.examples.tutorials.mnist import input_data"
   ]
  },
  {
   "cell_type": "code",
   "execution_count": 2,
   "metadata": {},
   "outputs": [],
   "source": [
    "def model_1(ph_x):\n",
    "    enc_w = tf.get_variable('enc_w1', shape=[784, 256], initializer=tf.initializers.glorot_normal())\n",
    "    enc_b = tf.Variable(tf.zeros([256]))\n",
    "\n",
    "    enc = tf.matmul(ph_x, enc_w) + enc_b\n",
    "    relu = tf.nn.relu(enc)\n",
    "\n",
    "    dec_w = tf.get_variable('dec_w1', shape=[256, 784], initializer=tf.initializers.glorot_normal())\n",
    "    dec_b = tf.Variable(tf.zeros([784]))\n",
    "\n",
    "    dec = tf.matmul(relu, dec_w) + dec_b\n",
    "    # 0~1을 벗어나면 noise가 나와서....\n",
    "    # return tf.nn.relu(dec)\n",
    "    return tf.nn.sigmoid(dec)"
   ]
  },
  {
   "cell_type": "markdown",
   "metadata": {},
   "source": [
    "# 문제\n",
    "## 1번 함수를 tf.layers로 수정하세요"
   ]
  },
  {
   "cell_type": "code",
   "execution_count": 3,
   "metadata": {},
   "outputs": [],
   "source": [
    "def model_2(ph_x):\n",
    "\n",
    "    output = tf.layers.dense(ph_x, 256, activation=tf.nn.relu)\n",
    "    return tf.layers.dense(output, 784, activation=tf.nn.sigmoid)"
   ]
  },
  {
   "cell_type": "code",
   "execution_count": 4,
   "metadata": {},
   "outputs": [],
   "source": [
    "def auto_encoder():\n",
    "    mnist = input_data.read_data_sets('mnist')\n",
    "\n",
    "    # ph_x = tf.placeholder(tf.float32)\n",
    "    # tf.layer를 사용할때는 shape을 지정 해준다.\n",
    "    # -1은 명확하게 존잰할때, None은 모를때 사용\n",
    "    ph_x = tf.placeholder(tf.float32, shape=[None, 784])\n",
    "\n",
    "    output = model_2(ph_x)\n",
    "\n",
    "    # loss_i = tf.nn.sparse_softmax_cross_entropy_with_logits(logits=z, labels=ph_y)\n",
    "    loss = tf.reduce_mean((ph_x - output) ** 2)\n",
    "\n",
    "    # 모델 정확도 높이기 위해 아님  ->  빨리 수렴한다.\n",
    "    # optimizer = tf.train.GradientDescentOptimizer(learning_rate=0.1)\n",
    "    optimizer = tf.train.AdamOptimizer(learning_rate=0.01)\n",
    "    train = optimizer.minimize(loss=loss)\n",
    "\n",
    "    # sess로 변수의 값을 알수 있다.\n",
    "    sess = tf.Session()\n",
    "    sess.run(tf.global_variables_initializer())\n",
    "\n",
    "    epochs = 10\n",
    "    batch_size = 100   # 출구를 몇개씩 조사할건지\n",
    "    n_iters = mnist.train.num_examples // batch_size # 550\n",
    "\n",
    "    # epcochs를 1번 돌고 념\n",
    "    for i in range(epochs):\n",
    "        c = 0\n",
    "        for j in range(n_iters):\n",
    "            xx, _ = mnist.train.next_batch(batch_size)\n",
    "\n",
    "            sess.run(train, feed_dict={ph_x: xx})\n",
    "            c += sess.run(loss, {ph_x: xx})\n",
    "\n",
    "        print(i, c/ n_iters)\n",
    "\n",
    "    # ---------------------------------------------------------------- #\n",
    "    sample_count = 10\n",
    "    samples = sess.run(output, {ph_x: mnist.test.images[:sample_count]})\n",
    "\n",
    "    _, ax = plt.subplots(2, sample_count, figsize=(sample_count, 2))\n",
    "\n",
    "    for i in range(sample_count):\n",
    "        ax[0, i].set_axis_off()\n",
    "        ax[1, i].set_axis_off()\n",
    "\n",
    "        ax[0][i].imshow(np.reshape(mnist.test.images[i], [28, 28]), cmap='gray')\n",
    "        ax[1][i].imshow(np.reshape(samples[i], [28, 28]), cmap='gray')\n",
    "\n",
    "        # ax[0][i].imshow(np.reshape(mnist.test.images[i], [28, 28]))\n",
    "        # ax[1][i].imshow(np.reshape(samples[i], [28, 28]))\n",
    "\n",
    "    plt.tight_layout()\n",
    "    plt.show()\n",
    "\n",
    "    sess.close()"
   ]
  },
  {
   "cell_type": "code",
   "execution_count": null,
   "metadata": {},
   "outputs": [],
   "source": [
    "auto_encoder()"
   ]
  }
 ],
 "metadata": {
  "kernelspec": {
   "display_name": "Python 3",
   "language": "python",
   "name": "python3"
  },
  "language_info": {
   "codemirror_mode": {
    "name": "ipython",
    "version": 3
   },
   "file_extension": ".py",
   "mimetype": "text/x-python",
   "name": "python",
   "nbconvert_exporter": "python",
   "pygments_lexer": "ipython3",
   "version": "3.7.3"
  }
 },
 "nbformat": 4,
 "nbformat_minor": 2
}
