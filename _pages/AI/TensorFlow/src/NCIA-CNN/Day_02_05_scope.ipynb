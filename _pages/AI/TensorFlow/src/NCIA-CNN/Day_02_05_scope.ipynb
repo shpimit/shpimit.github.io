{
 "cells": [
  {
   "cell_type": "code",
   "execution_count": 1,
   "metadata": {},
   "outputs": [],
   "source": [
    "# Day_02_05_scope.py\n",
    "import tensorflow as tf"
   ]
  },
  {
   "cell_type": "code",
   "execution_count": 2,
   "metadata": {},
   "outputs": [
    {
     "name": "stdout",
     "output_type": "stream",
     "text": [
      "WARNING:tensorflow:From C:\\Users\\shpim\\Anaconda3\\lib\\site-packages\\tensorflow\\python\\framework\\op_def_library.py:263: colocate_with (from tensorflow.python.framework.ops) is deprecated and will be removed in a future version.\n",
      "Instructions for updating:\n",
      "Colocations handled automatically by placer.\n",
      "<tf.Variable 'foo/bar/value:0' shape=(1,) dtype=float32_ref>\n",
      "foo/bar/value:0\n",
      " <tf.Variable 'deep:0' shape=(1,) dtype=float32_ref>\n",
      "[1] <tf.Variable 's_1/deep:0' shape=(1,) dtype=float32_ref>\n",
      "[2] <tf.Variable 's_2/deep:0' shape=(1,) dtype=float32_ref>\n",
      "[3] <tf.Variable 's_1/deep:0' shape=(1,) dtype=float32_ref>\n",
      "[4] <tf.Variable 's_1/deep:0' shape=(1,) dtype=float32_ref>\n",
      "[5] <tf.Variable 's_1/deep:0' shape=(1,) dtype=float32_ref>\n"
     ]
    }
   ],
   "source": [
    "with tf.variable_scope('foo'):\n",
    "    with tf.variable_scope('bar'):\n",
    "        v = tf.get_variable('value', shape=[1])\n",
    "        print(v)\n",
    "        print(v.name)\n",
    "\n",
    "def make_variable():\n",
    "    return tf.get_variable('deep', shape=[1])\n",
    "\n",
    "# make_variable()\n",
    "print('', make_variable())\n",
    "\n",
    "with tf.variable_scope('s_1'):\n",
    "    print('[1]', make_variable())\n",
    "\n",
    "with tf.variable_scope('s_2'):\n",
    "    print('[2]', make_variable())\n",
    "\n",
    "# 무지하게 중요함\n",
    "# 저쪽에서 만든 모델을 이쪽에서 갔다가 써야 한다.\n",
    "with tf.variable_scope('s_1', reuse=True):\n",
    "    print('[3]', make_variable())\n",
    "\n",
    "with tf.variable_scope('s_1') as scope:\n",
    "    scope.reuse_variables()\n",
    "    print('[4]', make_variable())\n",
    "\n",
    "with tf.variable_scope(scope) as scope:\n",
    "    print('[5]', make_variable())"
   ]
  },
  {
   "cell_type": "code",
   "execution_count": null,
   "metadata": {},
   "outputs": [],
   "source": []
  }
 ],
 "metadata": {
  "kernelspec": {
   "display_name": "Python 3",
   "language": "python",
   "name": "python3"
  },
  "language_info": {
   "codemirror_mode": {
    "name": "ipython",
    "version": 3
   },
   "file_extension": ".py",
   "mimetype": "text/x-python",
   "name": "python",
   "nbconvert_exporter": "python",
   "pygments_lexer": "ipython3",
   "version": "3.7.3"
  }
 },
 "nbformat": 4,
 "nbformat_minor": 2
}
