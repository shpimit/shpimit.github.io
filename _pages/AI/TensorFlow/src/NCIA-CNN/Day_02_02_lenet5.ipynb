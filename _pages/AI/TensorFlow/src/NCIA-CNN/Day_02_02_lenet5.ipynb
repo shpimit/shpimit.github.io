{
 "cells": [
  {
   "cell_type": "code",
   "execution_count": 1,
   "metadata": {},
   "outputs": [],
   "source": [
    "# Day_02_02_lenet5.py\n",
    "import tensorflow as tf\n",
    "from tensorflow.examples.tutorials.mnist import input_data"
   ]
  },
  {
   "cell_type": "code",
   "execution_count": 2,
   "metadata": {},
   "outputs": [
    {
     "name": "stdout",
     "output_type": "stream",
     "text": [
      "WARNING:tensorflow:From <ipython-input-2-be22c4ba2afa>:1: read_data_sets (from tensorflow.contrib.learn.python.learn.datasets.mnist) is deprecated and will be removed in a future version.\n",
      "Instructions for updating:\n",
      "Please use alternatives such as official/mnist/dataset.py from tensorflow/models.\n",
      "WARNING:tensorflow:From C:\\Users\\shpim\\Anaconda3\\lib\\site-packages\\tensorflow\\contrib\\learn\\python\\learn\\datasets\\mnist.py:260: maybe_download (from tensorflow.contrib.learn.python.learn.datasets.base) is deprecated and will be removed in a future version.\n",
      "Instructions for updating:\n",
      "Please write your own downloading logic.\n",
      "WARNING:tensorflow:From C:\\Users\\shpim\\Anaconda3\\lib\\site-packages\\tensorflow\\contrib\\learn\\python\\learn\\datasets\\mnist.py:262: extract_images (from tensorflow.contrib.learn.python.learn.datasets.mnist) is deprecated and will be removed in a future version.\n",
      "Instructions for updating:\n",
      "Please use tf.data to implement this functionality.\n",
      "Extracting mnist\\train-images-idx3-ubyte.gz\n",
      "WARNING:tensorflow:From C:\\Users\\shpim\\Anaconda3\\lib\\site-packages\\tensorflow\\contrib\\learn\\python\\learn\\datasets\\mnist.py:267: extract_labels (from tensorflow.contrib.learn.python.learn.datasets.mnist) is deprecated and will be removed in a future version.\n",
      "Instructions for updating:\n",
      "Please use tf.data to implement this functionality.\n",
      "Extracting mnist\\train-labels-idx1-ubyte.gz\n",
      "WARNING:tensorflow:From C:\\Users\\shpim\\Anaconda3\\lib\\site-packages\\tensorflow\\contrib\\learn\\python\\learn\\datasets\\mnist.py:110: dense_to_one_hot (from tensorflow.contrib.learn.python.learn.datasets.mnist) is deprecated and will be removed in a future version.\n",
      "Instructions for updating:\n",
      "Please use tf.one_hot on tensors.\n",
      "Extracting mnist\\t10k-images-idx3-ubyte.gz\n",
      "Extracting mnist\\t10k-labels-idx1-ubyte.gz\n",
      "WARNING:tensorflow:From C:\\Users\\shpim\\Anaconda3\\lib\\site-packages\\tensorflow\\contrib\\learn\\python\\learn\\datasets\\mnist.py:290: DataSet.__init__ (from tensorflow.contrib.learn.python.learn.datasets.mnist) is deprecated and will be removed in a future version.\n",
      "Instructions for updating:\n",
      "Please use alternatives such as official/mnist/dataset.py from tensorflow/models.\n"
     ]
    }
   ],
   "source": [
    "mnist = input_data.read_data_sets('mnist', one_hot=True)\n",
    "\n",
    "x = tf.placeholder(tf.float32)\n",
    "y = tf.placeholder(tf.float32)"
   ]
  },
  {
   "cell_type": "markdown",
   "metadata": {},
   "source": [
    "# 변수 생성\n",
    "## [문제 1] 변수 생성에 들어가는 숫자를 채우세요."
   ]
  },
  {
   "cell_type": "code",
   "execution_count": 3,
   "metadata": {},
   "outputs": [
    {
     "name": "stdout",
     "output_type": "stream",
     "text": [
      "WARNING:tensorflow:From C:\\Users\\shpim\\Anaconda3\\lib\\site-packages\\tensorflow\\python\\framework\\op_def_library.py:263: colocate_with (from tensorflow.python.framework.ops) is deprecated and will be removed in a future version.\n",
      "Instructions for updating:\n",
      "Colocations handled automatically by placer.\n"
     ]
    }
   ],
   "source": [
    "w1 = tf.Variable(tf.truncated_normal([5, 5, 1, 6], stddev=0.1))\n",
    "b1 = tf.Variable(tf.zeros([6]))\n",
    "\n",
    "w2 = tf.Variable(tf.truncated_normal([5, 5, 6, 16], stddev=0.1))\n",
    "b2 = tf.Variable(tf.ones([16]))\n",
    "\n",
    "w3 = tf.Variable(tf.truncated_normal([400, 120], stddev=0.1))\n",
    "b3 = tf.Variable(tf.ones([120]))\n",
    "\n",
    "w4 = tf.Variable(tf.truncated_normal([120, 84], stddev=0.1))\n",
    "b4 = tf.Variable(tf.ones([84]))\n",
    "\n",
    "w5 = tf.Variable(tf.truncated_normal([84, 10], stddev=0.1))\n",
    "b5 = tf.Variable(tf.ones([10]))"
   ]
  },
  {
   "cell_type": "markdown",
   "metadata": {},
   "source": [
    "# 모델 구성\n",
    "## [문제 2] padding을 'SAME'과 'VALID' 중에서 하나로 채우세요"
   ]
  },
  {
   "cell_type": "code",
   "execution_count": 4,
   "metadata": {},
   "outputs": [],
   "source": [
    "l1_conv = tf.nn.conv2d(x, w1, [1, 1, 1, 1], padding='SAME')\n",
    "l1_actv = tf.sigmoid(l1_conv + b1)\n",
    "l1_pool = tf.nn.avg_pool(l1_actv, [1, 2, 2, 1], [1, 2, 2, 1], padding='SAME')\n",
    "\n",
    "l2_conv = tf.nn.conv2d(l1_pool, w2, [1, 1, 1, 1], padding='VALID')\n",
    "l2_actv = tf.sigmoid(l2_conv + b2)\n",
    "l2_pool = tf.nn.avg_pool(l2_actv, [1, 2, 2, 1], [1, 2, 2, 1], padding='SAME')"
   ]
  },
  {
   "cell_type": "markdown",
   "metadata": {},
   "source": [
    "## [문제 3] 컨볼루션에서 FC로 넘어가는 아래 숫자를 채우세요."
   ]
  },
  {
   "cell_type": "code",
   "execution_count": 5,
   "metadata": {},
   "outputs": [
    {
     "name": "stdout",
     "output_type": "stream",
     "text": [
      "WARNING:tensorflow:From <ipython-input-5-7f648c4e9676>:12: softmax_cross_entropy_with_logits (from tensorflow.python.ops.nn_ops) is deprecated and will be removed in a future version.\n",
      "Instructions for updating:\n",
      "\n",
      "Future major versions of TensorFlow will allow gradients to flow\n",
      "into the labels input on backprop by default.\n",
      "\n",
      "See `tf.nn.softmax_cross_entropy_with_logits_v2`.\n",
      "\n"
     ]
    }
   ],
   "source": [
    "fc_layer = tf.reshape(l2_pool, [-1, 16 * 5 * 5])\n",
    "\n",
    "l3_fccd = tf.matmul(fc_layer, w3) + b3\n",
    "l3_actv = tf.nn.sigmoid(l3_fccd)\n",
    "\n",
    "l4_fccd = tf.matmul(l3_actv, w4) + b4\n",
    "l4_actv = tf.nn.sigmoid(l4_fccd)\n",
    "\n",
    "l5_fccd = tf.matmul(l4_actv, w5) + b5\n",
    "hypothesis = tf.nn.softmax(l5_fccd)\n",
    "\n",
    "cost_i = tf.nn.softmax_cross_entropy_with_logits(logits=l5_fccd, labels=y)\n",
    "cost = tf.reduce_mean(cost_i)\n",
    "\n",
    "optimizer = tf.train.GradientDescentOptimizer(0.1)\n",
    "train = optimizer.minimize(cost)"
   ]
  },
  {
   "cell_type": "code",
   "execution_count": null,
   "metadata": {},
   "outputs": [
    {
     "name": "stdout",
     "output_type": "stream",
     "text": [
      "   0 : 2.2818422317504883\n",
      " 100 : 2.2713959217071533\n",
      " 200 : 2.2786951065063477\n",
      " 300 : 2.292215347290039\n",
      " 400 : 2.2677502632141113\n",
      " 500 : 2.272775888442993\n",
      " 600 : 2.268866777420044\n",
      " 700 : 2.267876148223877\n",
      " 800 : 2.2883167266845703\n",
      " 900 : 2.280632257461548\n",
      "1000 : 2.2958552837371826\n",
      "1100 : 2.2911763191223145\n",
      "1200 : 2.297313928604126\n",
      "1300 : 2.3072381019592285\n",
      "1400 : 2.264820098876953\n",
      "1500 : 2.2895755767822266\n",
      "1600 : 2.2876973152160645\n",
      "1700 : 2.2688632011413574\n",
      "1800 : 2.294792413711548\n",
      "1900 : 2.287484884262085\n",
      "2000 : 2.293576240539551\n",
      "2100 : 2.273965835571289\n",
      "2200 : 2.290602684020996\n",
      "2300 : 2.290156364440918\n",
      "2400 : 2.2855215072631836\n",
      "2500 : 2.2856688499450684\n",
      "2600 : 2.2919280529022217\n",
      "2700 : 2.251497983932495\n",
      "2800 : 2.3022336959838867\n",
      "2900 : 2.269671678543091\n"
     ]
    }
   ],
   "source": [
    "sess = tf.Session()\n",
    "sess.run(tf.global_variables_initializer())\n",
    "\n",
    "batch_size = 128\n",
    "for step in range(10001):\n",
    "    xx, yy = mnist.train.next_batch(batch_size)\n",
    "\n",
    "    # [문제 4] 4차원 배열에 들어가는 숫자를 채우세요.\n",
    "    xx = xx.reshape(-1, 28, 28, 1)\n",
    "\n",
    "    sess.run(train, feed_dict={x: xx, y: yy})\n",
    "\n",
    "    if step % 100 == 0:\n",
    "        c = sess.run(cost, feed_dict={x: xx, y: yy})\n",
    "        print('{:-4} : {}'.format(step, c))"
   ]
  },
  {
   "cell_type": "markdown",
   "metadata": {},
   "source": [
    "## [문제 5] mnist 데이터셋에 포함된 test 셋에 대해서 정확도를 알려주세요."
   ]
  },
  {
   "cell_type": "code",
   "execution_count": null,
   "metadata": {},
   "outputs": [],
   "source": [
    "sess.close()"
   ]
  }
 ],
 "metadata": {
  "kernelspec": {
   "display_name": "Python 3",
   "language": "python",
   "name": "python3"
  },
  "language_info": {
   "codemirror_mode": {
    "name": "ipython",
    "version": 3
   },
   "file_extension": ".py",
   "mimetype": "text/x-python",
   "name": "python",
   "nbconvert_exporter": "python",
   "pygments_lexer": "ipython3",
   "version": "3.7.3"
  }
 },
 "nbformat": 4,
 "nbformat_minor": 2
}
