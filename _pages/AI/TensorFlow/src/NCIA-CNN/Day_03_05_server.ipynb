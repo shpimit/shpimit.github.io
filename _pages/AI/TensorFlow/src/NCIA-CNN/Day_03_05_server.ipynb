{
 "cells": [
  {
   "cell_type": "code",
   "execution_count": 1,
   "metadata": {},
   "outputs": [],
   "source": [
    "# Day_03_05_server.py\n",
    "# flask\n",
    "# from flask import Flask\n",
    "# import random\n",
    "#\n",
    "# # print(__name__)\n",
    "# app = Flask(__name__)\n",
    "#\n",
    "# @app.route('/')\n",
    "# def hello():\n",
    "#     return 'hello'\n",
    "#\n",
    "#\n",
    "# @app.route('/randoms')\n",
    "# def randoms():\n",
    "#     a = [random.randrange(100) for _ in range(10)]\n",
    "#\n",
    "#     # html은 전부 문자로 전달이 되어야 한다.\n",
    "#     return str(a)\n",
    "#\n",
    "# # debug=True는 자연스럽게 소스가 반영된다.\n",
    "# if __name__ == '__main__':\n",
    "#     app.run(debug=True)\n",
    "from flask import Flask\n",
    "import json"
   ]
  },
  {
   "cell_type": "code",
   "execution_count": null,
   "metadata": {},
   "outputs": [],
   "source": [
    "app = Flask(__name__)"
   ]
  },
  {
   "cell_type": "code",
   "execution_count": null,
   "metadata": {},
   "outputs": [],
   "source": [
    "# 루트 인터페이스. 서버 주소(127.0.0.1:5000)의 루트 폴더.\n",
    "@app.route('/')\n",
    "def index():\n",
    "    return 'home. nothing.'"
   ]
  },
  {
   "cell_type": "code",
   "execution_count": null,
   "metadata": {},
   "outputs": [],
   "source": [
    "# 루트 아래의 string 폴더에 접근할 때 보여줄 내용\n",
    "@app.route('/string')\n",
    "def send_string():\n",
    "    return '취미 : 서핑, 스노보드, 배드민턴'"
   ]
  },
  {
   "cell_type": "code",
   "execution_count": null,
   "metadata": {},
   "outputs": [],
   "source": [
    "# 사진은 앱에서 파일에 직접 접근하기 때문에 이름만 알려주면 된다.\n",
    "@app.route('/image')\n",
    "def send_image():\n",
    "    return 'book.jpg'"
   ]
  },
  {
   "cell_type": "code",
   "execution_count": null,
   "metadata": {},
   "outputs": [],
   "source": [
    "# 배열이나 사전 등의 프로그래밍 언어 객체는 문자열로 변환해서 전달해야 하고\n",
    "# json 또는 xml 등을 사용하게 된다. 여기서는 json 사용.\n",
    "@app.route('/array')\n",
    "def send_array():\n",
    "    items = [\n",
    "        {'id': 12, 'content': '세상은 호락호락하지 않다. 괜찮다. 나도 호락호락하지 않다.'},\n",
    "        {'id': 45, 'content': '공부를 많이 하면 공부가 늘고 걱정을 많이 하면 걱정이 는다.'},\n",
    "        {'id': 78, 'content': '참아야 한다고 배워 힘든 걸 참고 행복도 참게 되었다.'},\n",
    "    ]\n",
    "    return json.dumps(items)"
   ]
  },
  {
   "cell_type": "code",
   "execution_count": null,
   "metadata": {},
   "outputs": [],
   "source": [
    "# 파이썬애니웨어(www.pythonanywhere.com)에서 구동할 때는\n",
    "# 아래 코드를 사용해선 안 된다. 로컬에서 구동할 때만 사용한다.\n",
    "if __name__ == '__main__':\n",
    "    app.run(debug=True, host='192.168.10.6')"
   ]
  }
 ],
 "metadata": {
  "kernelspec": {
   "display_name": "Python 3",
   "language": "python",
   "name": "python3"
  },
  "language_info": {
   "codemirror_mode": {
    "name": "ipython",
    "version": 3
   },
   "file_extension": ".py",
   "mimetype": "text/x-python",
   "name": "python",
   "nbconvert_exporter": "python",
   "pygments_lexer": "ipython3",
   "version": "3.7.3"
  }
 },
 "nbformat": 4,
 "nbformat_minor": 2
}
