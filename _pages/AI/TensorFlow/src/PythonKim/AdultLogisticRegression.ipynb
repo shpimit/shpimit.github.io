{
 "cells": [
  {
   "cell_type": "code",
   "execution_count": 1,
   "metadata": {},
   "outputs": [],
   "source": [
    "import tensorflow as tf\n",
    "import numpy as np\n",
    "import pandas as pd"
   ]
  },
  {
   "cell_type": "code",
   "execution_count": 2,
   "metadata": {},
   "outputs": [],
   "source": [
    "adultlist = np.loadtxt('../data/adultpre.csv', delimiter = ',' , dtype = np.int32, skiprows=1)"
   ]
  },
  {
   "cell_type": "code",
   "execution_count": 3,
   "metadata": {},
   "outputs": [
    {
     "data": {
      "text/plain": [
       "(30162, 13)"
      ]
     },
     "execution_count": 3,
     "metadata": {},
     "output_type": "execute_result"
    }
   ],
   "source": [
    "adultlist.shape"
   ]
  },
  {
   "cell_type": "code",
   "execution_count": 4,
   "metadata": {},
   "outputs": [
    {
     "data": {
      "text/plain": [
       "array([[    0,    39,    13, ...,     1,     0,     1],\n",
       "       [    1,    50,    13, ...,     1,     2,     1],\n",
       "       [    2,    38,     9, ...,     1,     1,     1],\n",
       "       ...,\n",
       "       [32558,    58,     9, ...,     1,     1,     1],\n",
       "       [32559,    22,     9, ...,     1,     1,     1],\n",
       "       [32560,    52,     9, ...,     1,     2,     0]])"
      ]
     },
     "execution_count": 4,
     "metadata": {},
     "output_type": "execute_result"
    }
   ],
   "source": [
    "adultlist"
   ]
  },
  {
   "cell_type": "code",
   "execution_count": 5,
   "metadata": {},
   "outputs": [
    {
     "name": "stdout",
     "output_type": "stream",
     "text": [
      "WARNING:tensorflow:From C:\\Users\\shpim\\Anaconda3\\lib\\site-packages\\tensorflow\\python\\framework\\op_def_library.py:263: colocate_with (from tensorflow.python.framework.ops) is deprecated and will be removed in a future version.\n",
      "Instructions for updating:\n",
      "Colocations handled automatically by placer.\n"
     ]
    }
   ],
   "source": [
    "x_data = adultlist[:, 0:-1]\n",
    "y_data = adultlist[:, [-1]]\n",
    "\n",
    "# feed_dict에 feed될(to be fed) tensor를 위한 placeholder 설정\n",
    "X = tf.placeholder(tf.float32, shape=[None, 12])\n",
    "Y = tf.placeholder(tf.float32, shape=[None, 1])\n",
    "\n",
    "# tf.Variable(변수)에 random number를 각각 assign\n",
    "# (21113, 1) = (105, 4) @  (4, 3)\n",
    "W = tf.Variable(tf.random_normal([12, 1], mean=0.01, stddev=0.01), name='weight')\n",
    "# W = tf.get_variable('W1', shape=[12,1], initializer=tf.contrib.layers.xavier_initializer())\n",
    "b = tf.Variable(tf.random_normal([1]), name='bias')\n",
    "\n",
    "# logistic regression Hypothesis 설정(tf.sigmoid() == 0과 1 사이의 값을 만들기 위한 시그모이드 함수)\n",
    "hypothesis = tf.sigmoid(tf.matmul(X, W) + b)\n",
    "hypothesis = tf.clip_by_value(hypothesis, 1e-5, 1-(1e-5))"
   ]
  },
  {
   "cell_type": "code",
   "execution_count": 6,
   "metadata": {},
   "outputs": [
    {
     "data": {
      "text/plain": [
       "(30162, 12)"
      ]
     },
     "execution_count": 6,
     "metadata": {},
     "output_type": "execute_result"
    }
   ],
   "source": [
    "x_data.shape"
   ]
  },
  {
   "cell_type": "code",
   "execution_count": 7,
   "metadata": {},
   "outputs": [
    {
     "data": {
      "text/plain": [
       "(30162, 1)"
      ]
     },
     "execution_count": 7,
     "metadata": {},
     "output_type": "execute_result"
    }
   ],
   "source": [
    "y_data.shape"
   ]
  },
  {
   "cell_type": "code",
   "execution_count": 8,
   "metadata": {},
   "outputs": [],
   "source": [
    "train_size = int(len(x_data) * 0.7)"
   ]
  },
  {
   "cell_type": "code",
   "execution_count": 9,
   "metadata": {},
   "outputs": [
    {
     "data": {
      "text/plain": [
       "21113"
      ]
     },
     "execution_count": 9,
     "metadata": {},
     "output_type": "execute_result"
    }
   ],
   "source": [
    "train_size"
   ]
  },
  {
   "cell_type": "code",
   "execution_count": 10,
   "metadata": {},
   "outputs": [],
   "source": [
    "x_train, x_test = x_data[:train_size], x_data[train_size:]\n",
    "y_train, y_test = y_data[:train_size], y_data[train_size:]"
   ]
  },
  {
   "cell_type": "code",
   "execution_count": 11,
   "metadata": {},
   "outputs": [
    {
     "data": {
      "text/plain": [
       "(21113, 12)"
      ]
     },
     "execution_count": 11,
     "metadata": {},
     "output_type": "execute_result"
    }
   ],
   "source": [
    "x_train.shape"
   ]
  },
  {
   "cell_type": "code",
   "execution_count": 12,
   "metadata": {},
   "outputs": [
    {
     "data": {
      "text/plain": [
       "(21113, 1)"
      ]
     },
     "execution_count": 12,
     "metadata": {},
     "output_type": "execute_result"
    }
   ],
   "source": [
    "y_train.shape"
   ]
  },
  {
   "cell_type": "code",
   "execution_count": 13,
   "metadata": {},
   "outputs": [
    {
     "data": {
      "text/plain": [
       "array([[    0,    39,    13, ...,    40,     1,     0],\n",
       "       [    1,    50,    13, ...,    13,     1,     2],\n",
       "       [    2,    38,     9, ...,    40,     1,     1],\n",
       "       ...,\n",
       "       [22777,    28,     9, ...,    40,     1,     0],\n",
       "       [22778,    27,    10, ...,    40,     1,     1],\n",
       "       [22779,    27,     9, ...,     8,     1,     1]])"
      ]
     },
     "execution_count": 13,
     "metadata": {},
     "output_type": "execute_result"
    }
   ],
   "source": [
    "x_train"
   ]
  },
  {
   "cell_type": "code",
   "execution_count": 14,
   "metadata": {},
   "outputs": [],
   "source": [
    "# 2. Cost function 최소화\n",
    "\n",
    "#cost function(logistic regression에서, W와 b를 찾기 위한 cost)\n",
    "cost = -tf.reduce_mean(Y * tf.log(hypothesis) + (1 - Y) * tf.log(1 - hypothesis))\n",
    "# train =  tf.train.GradientDescentOptimizer(learning_rate=0.01).minimize(cost)\n",
    "train =  tf.train.AdamOptimizer(learning_rate=0.0001).minimize(cost)\n",
    "\n",
    "# 정확성 측정\n",
    "# tf.cast()의 첫 번째 파라미터 'if hypothesis > 0.5' then 1'  1 을 float32로 캐스팅(=1.0)\n",
    "predicted =  tf.cast(hypothesis > 0.5, dtype=tf.float32)\n",
    "accuracy = tf.reduce_mean(tf.cast(tf.equal(predicted, Y), dtype=tf.float32))"
   ]
  },
  {
   "cell_type": "code",
   "execution_count": 15,
   "metadata": {},
   "outputs": [
    {
     "name": "stdout",
     "output_type": "stream",
     "text": [
      "0 2.804402\n",
      "2000 0.59109\n",
      "4000 0.53209406\n",
      "6000 0.4924976\n",
      "8000 0.46705145\n",
      "10000 0.44986072\n",
      "12000 0.43711036\n",
      "14000 0.42699847\n",
      "16000 0.41884896\n",
      "18000 0.41230097\n",
      "20000 0.40700793\n",
      "22000 0.40270498\n",
      "24000 0.39920968\n",
      "26000 0.39638168\n",
      "28000 0.39403436\n",
      "30000 0.39194134\n",
      "32000 0.38996625\n",
      "34000 0.38807586\n",
      "\n",
      "Hypothesis:  [[0.7148025 ]\n",
      " [0.9743889 ]\n",
      " [0.5198188 ]\n",
      " ...\n",
      " [0.9377319 ]\n",
      " [0.98609424]\n",
      " [0.34649462]] \n",
      "Correct (Y):  [[1.]\n",
      " [1.]\n",
      " [1.]\n",
      " ...\n",
      " [1.]\n",
      " [1.]\n",
      " [0.]] \n",
      "Accuracy:  0.8108078\n"
     ]
    }
   ],
   "source": [
    "# 3. 학습을 통해 실행\n",
    "\n",
    "with tf.Session() as sess:     \n",
    "    sess.run(tf.global_variables_initializer())\n",
    "    feed = {X: x_train, Y: y_train}\n",
    "    for step in range(34001):\n",
    "        sess.run(train, feed_dict=feed)\n",
    "        if step % 2000 == 0:\n",
    "            print(step, sess.run(cost, feed_dict=feed))\n",
    "       \n",
    "    h, c, a = sess.run([hypothesis, predicted, accuracy], feed_dict={X: x_test, Y: y_test})\n",
    "    print(\"\\nHypothesis: \", h,\"\\nCorrect (Y): \", c, \"\\nAccuracy: \", a)"
   ]
  },
  {
   "cell_type": "code",
   "execution_count": 33,
   "metadata": {},
   "outputs": [],
   "source": [
    "epochs = 30000\n",
    "# epochs = 1"
   ]
  },
  {
   "cell_type": "code",
   "execution_count": 34,
   "metadata": {},
   "outputs": [],
   "source": [
    "# Hypothesis \n",
    "hypothesis = tf.nn.sigmoid(tf.add(tf.matmul(X, W), b)) \n",
    "  \n",
    "# Sigmoid Cross Entropy Cost Function \n",
    "cost = tf.reduce_mean(tf.nn.sigmoid_cross_entropy_with_logits(logits = hypothesis, labels = Y))\n",
    "  \n",
    "# Gradient Descent Optimizer \n",
    "# train = tf.train.GradientDescentOptimizer( learning_rate=0.0035).minimize(cost) \n",
    "train = tf.train.AdamOptimizer(learning_rate=0.0001).minimize(cost)\n",
    "  \n",
    "# Global Variables Initializer \n",
    "init = tf.global_variables_initializer() "
   ]
  },
  {
   "cell_type": "code",
   "execution_count": 35,
   "metadata": {},
   "outputs": [
    {
     "name": "stdout",
     "output_type": "stream",
     "text": [
      "Epoch: 5001 cost= 0.559699416 W= [[ 0.02466656]\n",
      " [ 0.10063773]\n",
      " [ 0.08433592]\n",
      " [ 0.07065304]\n",
      " [ 0.07668696]\n",
      " [ 0.08329215]\n",
      " [ 0.10808203]\n",
      " [-0.00470729]\n",
      " [ 0.06450351]\n",
      " [ 0.09892242]\n",
      " [ 0.06618963]\n",
      " [ 0.08709431]] b= [-1.7165184]\n",
      "Epoch: 10001 cost= 0.559698641 W= [[ 0.03104849]\n",
      " [ 0.13603379]\n",
      " [ 0.12706955]\n",
      " [ 0.08362817]\n",
      " [ 0.10308339]\n",
      " [ 0.1311587 ]\n",
      " [ 0.14870882]\n",
      " [-0.00452863]\n",
      " [ 0.0782023 ]\n",
      " [ 0.1292602 ]\n",
      " [ 0.10261149]\n",
      " [ 0.11465703]] b= [-1.6821399]\n",
      "Epoch: 15001 cost= 0.559698582 W= [[ 0.0373275 ]\n",
      " [ 0.1714619 ]\n",
      " [ 0.17216085]\n",
      " [ 0.0939889 ]\n",
      " [ 0.12899804]\n",
      " [ 0.18406302]\n",
      " [ 0.18657552]\n",
      " [-0.00392068]\n",
      " [ 0.08171138]\n",
      " [ 0.15912037]\n",
      " [ 0.13986918]\n",
      " [ 0.13950892]] b= [-1.6472172]\n",
      "Epoch: 20001 cost= 0.559698582 W= [[ 0.0439777 ]\n",
      " [ 0.20835505]\n",
      " [ 0.21868704]\n",
      " [ 0.10053502]\n",
      " [ 0.1524328 ]\n",
      " [ 0.22516043]\n",
      " [ 0.2093192 ]\n",
      " [-0.00375775]\n",
      " [ 0.08199652]\n",
      " [ 0.1899374 ]\n",
      " [ 0.16831692]\n",
      " [ 0.15684035]] b= [-1.6201214]\n",
      "Epoch: 25001 cost= 0.559698582 W= [[ 0.05182057]\n",
      " [ 0.24452528]\n",
      " [ 0.2538519 ]\n",
      " [ 0.1022907 ]\n",
      " [ 0.16463794]\n",
      " [ 0.23813461]\n",
      " [ 0.2145925 ]\n",
      " [-0.00374434]\n",
      " [ 0.08200569]\n",
      " [ 0.22035022]\n",
      " [ 0.17712292]\n",
      " [ 0.16178213]] b= [-1.6113964]\n",
      "Train Accuracy: 0.7535642\n",
      "Test Accuracy: 0.74527574\n"
     ]
    }
   ],
   "source": [
    "# with tf.Session() as sess:     \n",
    "#     sess.run(tf.global_variables_initializer())\n",
    "#     feed = {X: x_train, Y: y_train}\n",
    "#     for step in range(34001):\n",
    "#         sess.run(train, feed_dict=feed)\n",
    "#         if step % 2000 == 0:\n",
    "#             print(step, sess.run(cost, feed_dict=feed))\n",
    "       \n",
    "#     h, c, a = sess.run([hypothesis, predicted, accuracy], feed_dict={X: x_test, Y: y_test})\n",
    "#     print(\"\\nHypothesis: \", h,\"\\nCorrect (Y): \", c, \"\\nAccuracy: \", a)\n",
    "    \n",
    "\n",
    "cost_history = np.empty(shape=[1],dtype=float)\n",
    "\n",
    "with tf.Session() as sess:\n",
    "    sess.run(init)\n",
    "    \n",
    "    for epoch in range(epochs):\n",
    "        _, c = sess.run([train, cost], feed_dict={X: x_train, Y: y_train})\n",
    "        \n",
    "        if epoch % 5000 == 0 and epoch != 0: \n",
    "            print(\"Epoch:\", '%04d' % (epoch+1), \"cost=\", \"{:.9f}\".format(c),\"W=\", sess.run(W), \"b=\", sess.run(b))\n",
    "        cost_history = np.append(cost_history, c)\n",
    "        \n",
    "    # Calculate the correct predictions\n",
    "    correct_prediction = tf.to_float(tf.greater(hypothesis, 0.5))\n",
    "\n",
    "    # Calculate accuracy on the test set\n",
    "    accuracy = tf.reduce_mean(tf.to_float(tf.equal(Y, correct_prediction)))\n",
    "\n",
    "    print (\"Train Accuracy:\", accuracy.eval({X: x_train, Y: y_train}))\n",
    "    print (\"Test Accuracy:\", accuracy.eval({X: x_test, Y: y_test}))"
   ]
  },
  {
   "cell_type": "code",
   "execution_count": null,
   "metadata": {},
   "outputs": [],
   "source": []
  }
 ],
 "metadata": {
  "kernelspec": {
   "display_name": "Python 3",
   "language": "python",
   "name": "python3"
  },
  "language_info": {
   "codemirror_mode": {
    "name": "ipython",
    "version": 3
   },
   "file_extension": ".py",
   "mimetype": "text/x-python",
   "name": "python",
   "nbconvert_exporter": "python",
   "pygments_lexer": "ipython3",
   "version": "3.7.3"
  }
 },
 "nbformat": 4,
 "nbformat_minor": 2
}
