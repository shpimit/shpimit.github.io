{
 "cells": [
  {
   "cell_type": "code",
   "execution_count": 51,
   "metadata": {},
   "outputs": [],
   "source": [
    "import tensorflow as tf\n",
    "import pandas as pd\n",
    "import numpy as np"
   ]
  },
  {
   "cell_type": "code",
   "execution_count": 52,
   "metadata": {},
   "outputs": [],
   "source": [
    "col_names=['s1','c1','s2','c2','s3','c3','s4','c4','s5','c5','class' ]"
   ]
  },
  {
   "cell_type": "code",
   "execution_count": 12,
   "metadata": {},
   "outputs": [],
   "source": [
    "# df = pd.read_csv('../../data/poker-hand-training-true.data',1,',')\n",
    "# data = [df]\n",
    "poker_train=pd.read_table('../../data/poker-hand-training-true.data', sep=',', names=col_names)\n",
    "poker_test=pd.read_table('../../data/poker-hand-testing.data', sep=',', names=col_names)"
   ]
  },
  {
   "cell_type": "code",
   "execution_count": 14,
   "metadata": {},
   "outputs": [
    {
     "data": {
      "text/html": [
       "<div>\n",
       "<style scoped>\n",
       "    .dataframe tbody tr th:only-of-type {\n",
       "        vertical-align: middle;\n",
       "    }\n",
       "\n",
       "    .dataframe tbody tr th {\n",
       "        vertical-align: top;\n",
       "    }\n",
       "\n",
       "    .dataframe thead th {\n",
       "        text-align: right;\n",
       "    }\n",
       "</style>\n",
       "<table border=\"1\" class=\"dataframe\">\n",
       "  <thead>\n",
       "    <tr style=\"text-align: right;\">\n",
       "      <th></th>\n",
       "      <th>s1</th>\n",
       "      <th>c1</th>\n",
       "      <th>s2</th>\n",
       "      <th>c2</th>\n",
       "      <th>s3</th>\n",
       "      <th>c3</th>\n",
       "      <th>s4</th>\n",
       "      <th>c4</th>\n",
       "      <th>s5</th>\n",
       "      <th>c5</th>\n",
       "      <th>class</th>\n",
       "    </tr>\n",
       "  </thead>\n",
       "  <tbody>\n",
       "    <tr>\n",
       "      <th>0</th>\n",
       "      <td>1</td>\n",
       "      <td>10</td>\n",
       "      <td>1</td>\n",
       "      <td>11</td>\n",
       "      <td>1</td>\n",
       "      <td>13</td>\n",
       "      <td>1</td>\n",
       "      <td>12</td>\n",
       "      <td>1</td>\n",
       "      <td>1</td>\n",
       "      <td>9</td>\n",
       "    </tr>\n",
       "    <tr>\n",
       "      <th>1</th>\n",
       "      <td>2</td>\n",
       "      <td>11</td>\n",
       "      <td>2</td>\n",
       "      <td>13</td>\n",
       "      <td>2</td>\n",
       "      <td>10</td>\n",
       "      <td>2</td>\n",
       "      <td>12</td>\n",
       "      <td>2</td>\n",
       "      <td>1</td>\n",
       "      <td>9</td>\n",
       "    </tr>\n",
       "    <tr>\n",
       "      <th>2</th>\n",
       "      <td>3</td>\n",
       "      <td>12</td>\n",
       "      <td>3</td>\n",
       "      <td>11</td>\n",
       "      <td>3</td>\n",
       "      <td>13</td>\n",
       "      <td>3</td>\n",
       "      <td>10</td>\n",
       "      <td>3</td>\n",
       "      <td>1</td>\n",
       "      <td>9</td>\n",
       "    </tr>\n",
       "    <tr>\n",
       "      <th>3</th>\n",
       "      <td>4</td>\n",
       "      <td>10</td>\n",
       "      <td>4</td>\n",
       "      <td>11</td>\n",
       "      <td>4</td>\n",
       "      <td>1</td>\n",
       "      <td>4</td>\n",
       "      <td>13</td>\n",
       "      <td>4</td>\n",
       "      <td>12</td>\n",
       "      <td>9</td>\n",
       "    </tr>\n",
       "    <tr>\n",
       "      <th>4</th>\n",
       "      <td>4</td>\n",
       "      <td>1</td>\n",
       "      <td>4</td>\n",
       "      <td>13</td>\n",
       "      <td>4</td>\n",
       "      <td>12</td>\n",
       "      <td>4</td>\n",
       "      <td>11</td>\n",
       "      <td>4</td>\n",
       "      <td>10</td>\n",
       "      <td>9</td>\n",
       "    </tr>\n",
       "  </tbody>\n",
       "</table>\n",
       "</div>"
      ],
      "text/plain": [
       "   s1  c1  s2  c2  s3  c3  s4  c4  s5  c5  class\n",
       "0   1  10   1  11   1  13   1  12   1   1      9\n",
       "1   2  11   2  13   2  10   2  12   2   1      9\n",
       "2   3  12   3  11   3  13   3  10   3   1      9\n",
       "3   4  10   4  11   4   1   4  13   4  12      9\n",
       "4   4   1   4  13   4  12   4  11   4  10      9"
      ]
     },
     "execution_count": 14,
     "metadata": {},
     "output_type": "execute_result"
    }
   ],
   "source": [
    "poker_train.head()"
   ]
  },
  {
   "cell_type": "code",
   "execution_count": 15,
   "metadata": {},
   "outputs": [
    {
     "data": {
      "text/plain": [
       "(25010, 11)"
      ]
     },
     "execution_count": 15,
     "metadata": {},
     "output_type": "execute_result"
    }
   ],
   "source": [
    "poker_train.shape"
   ]
  },
  {
   "cell_type": "code",
   "execution_count": 16,
   "metadata": {},
   "outputs": [
    {
     "data": {
      "text/plain": [
       "(1000000, 11)"
      ]
     },
     "execution_count": 16,
     "metadata": {},
     "output_type": "execute_result"
    }
   ],
   "source": [
    "poker_test.shape"
   ]
  },
  {
   "cell_type": "code",
   "execution_count": 62,
   "metadata": {},
   "outputs": [],
   "source": [
    "x_data = np.loadtxt('../../data/poker-hand-training-true.data',skiprows=1,delimiter=',', dtype='int32')\n",
    "x_tdata = np.loadtxt('../../data/poker-hand-testing.data',skiprows=1,delimiter=',', dtype='int32')"
   ]
  },
  {
   "cell_type": "code",
   "execution_count": 63,
   "metadata": {},
   "outputs": [
    {
     "data": {
      "text/plain": [
       "array([[ 2, 11,  2, ...,  2,  1,  9],\n",
       "       [ 3, 12,  3, ...,  3,  1,  9],\n",
       "       [ 4, 10,  4, ...,  4, 12,  9],\n",
       "       ...,\n",
       "       [ 2,  1,  2, ...,  4, 13,  1],\n",
       "       [ 2, 12,  4, ...,  4,  9,  1],\n",
       "       [ 1,  7,  3, ...,  3,  7,  1]])"
      ]
     },
     "execution_count": 63,
     "metadata": {},
     "output_type": "execute_result"
    }
   ],
   "source": [
    "x_data"
   ]
  },
  {
   "cell_type": "code",
   "execution_count": 64,
   "metadata": {},
   "outputs": [
    {
     "data": {
      "text/plain": [
       "array([[ 3, 12,  3, ...,  2,  5,  1],\n",
       "       [ 1,  9,  4, ...,  3,  9,  1],\n",
       "       [ 1,  4,  3, ...,  3,  6,  1],\n",
       "       ...,\n",
       "       [ 1, 11,  4, ...,  2,  7,  1],\n",
       "       [ 3, 11,  1, ...,  2,  8,  1],\n",
       "       [ 2,  5,  2, ...,  3,  3,  2]])"
      ]
     },
     "execution_count": 64,
     "metadata": {},
     "output_type": "execute_result"
    }
   ],
   "source": [
    "x_tdata"
   ]
  },
  {
   "cell_type": "code",
   "execution_count": 65,
   "metadata": {},
   "outputs": [],
   "source": [
    "x_train = x_data[:, 0:-1]\n",
    "y_train = x_data[:, -1]"
   ]
  },
  {
   "cell_type": "code",
   "execution_count": 66,
   "metadata": {},
   "outputs": [],
   "source": [
    "x_test = x_tdata[:, 0:-1]\n",
    "y_test = x_tdata[:, -1]"
   ]
  },
  {
   "cell_type": "code",
   "execution_count": 78,
   "metadata": {},
   "outputs": [],
   "source": [
    "# 1. Classfication Model 생성\n",
    "\n",
    "W = tf.get_variable('W4', shape=[10,10], initializer=tf.initializers.glorot_normal())\n",
    "b = tf.Variable(tf.zeros([10]))\n",
    "\n",
    "# Classfication Model 설정\n",
    "ph_x = tf.placeholder(tf.float32, shape=[None, 10])\n",
    "z = tf.matmul(ph_x, W) + b\n",
    "hx = tf.nn.softmax(z)"
   ]
  },
  {
   "cell_type": "code",
   "execution_count": 84,
   "metadata": {},
   "outputs": [],
   "source": [
    "# 2. Cost function 최소화\n",
    "\n",
    "loss_i = tf.nn.sparse_softmax_cross_entropy_with_logits(logits=z, labels=tf.stop_gradient(y_train))\n",
    "loss = tf.reduce_mean(loss_i)\n",
    "\n",
    "optimizer = tf.train.AdamOptimizer(learning_rate=0.01)\n",
    "train = optimizer.minimize(loss=loss)"
   ]
  },
  {
   "cell_type": "code",
   "execution_count": 85,
   "metadata": {},
   "outputs": [
    {
     "name": "stdout",
     "output_type": "stream",
     "text": [
      "0 9.062801\n",
      "2000 0.98597187\n",
      "4000 0.9840787\n",
      "6000 0.9832058\n",
      "8000 0.982832\n",
      "10000 0.9825701\n",
      "acc:  0.5012085012085012\n",
      "[0 0 0 ... 0 0 0]\n"
     ]
    }
   ],
   "source": [
    "# 3. 학습을 통해 실행\n",
    "\n",
    "with tf.Session() as sess:     \n",
    "    sess.run(tf.global_variables_initializer())\n",
    "    for i in range(10001):\n",
    "        sess.run(train, feed_dict={ph_x: x_train})\n",
    "        if i % 2000 == 0:\n",
    "            print(i, sess.run(loss, {ph_x: x_train}))\n",
    "            \n",
    "            \n",
    "    preds = sess.run(hx, {ph_x: x_test})\n",
    "    preds_arg = np.argmax(preds, axis=1)  # 1: 수평, 0: 수직\n",
    "    print('acc: ', np.mean(preds_arg == y_test))\n",
    "    print(preds_arg)            "
   ]
  },
  {
   "cell_type": "code",
   "execution_count": null,
   "metadata": {},
   "outputs": [],
   "source": []
  }
 ],
 "metadata": {
  "kernelspec": {
   "display_name": "Python 3",
   "language": "python",
   "name": "python3"
  },
  "language_info": {
   "codemirror_mode": {
    "name": "ipython",
    "version": 3
   },
   "file_extension": ".py",
   "mimetype": "text/x-python",
   "name": "python",
   "nbconvert_exporter": "python",
   "pygments_lexer": "ipython3",
   "version": "3.7.3"
  }
 },
 "nbformat": 4,
 "nbformat_minor": 2
}
