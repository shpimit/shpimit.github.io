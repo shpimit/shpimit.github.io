{
 "cells": [
  {
   "cell_type": "code",
   "execution_count": 1,
   "metadata": {},
   "outputs": [],
   "source": [
    "import tensorflow as tf\n",
    "from tensorflow.python.framework import ops\n",
    "from tensorflow.examples.tutorials.mnist import input_data"
   ]
  },
  {
   "cell_type": "code",
   "execution_count": 2,
   "metadata": {},
   "outputs": [
    {
     "name": "stdout",
     "output_type": "stream",
     "text": [
      "WARNING:tensorflow:From <ipython-input-2-5165cac7585c>:2: read_data_sets (from tensorflow.contrib.learn.python.learn.datasets.mnist) is deprecated and will be removed in a future version.\n",
      "Instructions for updating:\n",
      "Please use alternatives such as official/mnist/dataset.py from tensorflow/models.\n",
      "WARNING:tensorflow:From C:\\Anaconda3\\lib\\site-packages\\tensorflow\\contrib\\learn\\python\\learn\\datasets\\mnist.py:260: maybe_download (from tensorflow.contrib.learn.python.learn.datasets.base) is deprecated and will be removed in a future version.\n",
      "Instructions for updating:\n",
      "Please write your own downloading logic.\n",
      "WARNING:tensorflow:From C:\\Anaconda3\\lib\\site-packages\\tensorflow\\contrib\\learn\\python\\learn\\datasets\\mnist.py:262: extract_images (from tensorflow.contrib.learn.python.learn.datasets.mnist) is deprecated and will be removed in a future version.\n",
      "Instructions for updating:\n",
      "Please use tf.data to implement this functionality.\n",
      "Extracting ../../data/fashion\\train-images-idx3-ubyte.gz\n",
      "WARNING:tensorflow:From C:\\Anaconda3\\lib\\site-packages\\tensorflow\\contrib\\learn\\python\\learn\\datasets\\mnist.py:267: extract_labels (from tensorflow.contrib.learn.python.learn.datasets.mnist) is deprecated and will be removed in a future version.\n",
      "Instructions for updating:\n",
      "Please use tf.data to implement this functionality.\n",
      "Extracting ../../data/fashion\\train-labels-idx1-ubyte.gz\n",
      "WARNING:tensorflow:From C:\\Anaconda3\\lib\\site-packages\\tensorflow\\contrib\\learn\\python\\learn\\datasets\\mnist.py:110: dense_to_one_hot (from tensorflow.contrib.learn.python.learn.datasets.mnist) is deprecated and will be removed in a future version.\n",
      "Instructions for updating:\n",
      "Please use tf.one_hot on tensors.\n",
      "Extracting ../../data/fashion\\t10k-images-idx3-ubyte.gz\n",
      "Extracting ../../data/fashion\\t10k-labels-idx1-ubyte.gz\n",
      "WARNING:tensorflow:From C:\\Anaconda3\\lib\\site-packages\\tensorflow\\contrib\\learn\\python\\learn\\datasets\\mnist.py:290: DataSet.__init__ (from tensorflow.contrib.learn.python.learn.datasets.mnist) is deprecated and will be removed in a future version.\n",
      "Instructions for updating:\n",
      "Please use alternatives such as official/mnist/dataset.py from tensorflow/models.\n"
     ]
    }
   ],
   "source": [
    "# Import Fashion MNIST\n",
    "fashion_mnist = input_data.read_data_sets('../../data/fashion', source_url='http://fashion-mnist.s3-website.eu-central-1.amazonaws.com/', one_hot=True)"
   ]
  },
  {
   "cell_type": "code",
   "execution_count": 3,
   "metadata": {},
   "outputs": [
    {
     "data": {
      "text/plain": [
       "'Training set (images) shape: (55000, 784)'"
      ]
     },
     "execution_count": 3,
     "metadata": {},
     "output_type": "execute_result"
    }
   ],
   "source": [
    "\"Training set (images) shape: {shape}\".format(shape=fashion_mnist.train.images.shape)"
   ]
  },
  {
   "cell_type": "code",
   "execution_count": 4,
   "metadata": {},
   "outputs": [
    {
     "data": {
      "text/plain": [
       "'Training set (labels) shape: (55000, 10)'"
      ]
     },
     "execution_count": 4,
     "metadata": {},
     "output_type": "execute_result"
    }
   ],
   "source": [
    "\"Training set (labels) shape: {shape}\".format(shape=fashion_mnist.train.labels.shape)"
   ]
  },
  {
   "cell_type": "code",
   "execution_count": 5,
   "metadata": {},
   "outputs": [
    {
     "data": {
      "text/plain": [
       "'Test set (images) shape: (10000, 784)'"
      ]
     },
     "execution_count": 5,
     "metadata": {},
     "output_type": "execute_result"
    }
   ],
   "source": [
    "\"Test set (images) shape: {shape}\".format(shape=fashion_mnist.test.images.shape)"
   ]
  },
  {
   "cell_type": "code",
   "execution_count": 6,
   "metadata": {},
   "outputs": [
    {
     "data": {
      "text/plain": [
       "'Test set (labels) shape: (10000, 10)'"
      ]
     },
     "execution_count": 6,
     "metadata": {},
     "output_type": "execute_result"
    }
   ],
   "source": [
    "\"Test set (labels) shape: {shape}\".format(shape=fashion_mnist.test.labels.shape)"
   ]
  },
  {
   "cell_type": "code",
   "execution_count": 7,
   "metadata": {},
   "outputs": [],
   "source": [
    "seed = 777\n",
    "tf.set_random_seed(seed)"
   ]
  },
  {
   "cell_type": "code",
   "execution_count": 8,
   "metadata": {},
   "outputs": [],
   "source": [
    "# Create dictionary of target classes\n",
    "label_dict = {\n",
    " 0: 'T-shirt/top',\n",
    " 1: 'Trouser',\n",
    " 2: 'Pullover',\n",
    " 3: 'Dress',\n",
    " 4: 'Coat',\n",
    " 5: 'Sandal',\n",
    " 6: 'Shirt',\n",
    " 7: 'Sneaker',\n",
    " 8: 'Bag',\n",
    " 9: 'Ankle boot'\n",
    "}"
   ]
  },
  {
   "cell_type": "code",
   "execution_count": 9,
   "metadata": {},
   "outputs": [],
   "source": [
    "# Import libraries\n",
    "import numpy as np\n",
    "import matplotlib.pyplot as plt\n",
    "import seaborn as sns"
   ]
  },
  {
   "cell_type": "code",
   "execution_count": 10,
   "metadata": {},
   "outputs": [
    {
     "name": "stdout",
     "output_type": "stream",
     "text": [
      "y = 3 (Dress)\n",
      "y = 7 (Sneaker)\n"
     ]
    },
    {
     "data": {
      "text/plain": [
       "<matplotlib.image.AxesImage at 0x207a279ddd8>"
      ]
     },
     "execution_count": 10,
     "metadata": {},
     "output_type": "execute_result"
    },
    {
     "data": {
      "image/png": "[encoded data removed]",
      "text/plain": [
       "<Figure size 432x288 with 1 Axes>"
      ]
     },
     "metadata": {
      "needs_background": "light"
     },
     "output_type": "display_data"
    }
   ],
   "source": [
    "# Sample 1\n",
    "\n",
    "# Get 28x28 image\n",
    "sample_1 = fashion_mnist.train.images[47].reshape(28,28)\n",
    "# Get corresponding integer label from one-hot encoded data\n",
    "sample_label_1 = np.where(fashion_mnist.train.labels[47] == 1)[0][0]\n",
    "# Plot sample\n",
    "print(\"y = {label_index} ({label})\".format(label_index=sample_label_1, label=label_dict[sample_label_1]))\n",
    "plt.imshow(sample_1, cmap='Greys')\n",
    "\n",
    "# Sample 2\n",
    "\n",
    "# Get 28x28 image\n",
    "sample_2 = fashion_mnist.train.images[23].reshape(28,28)\n",
    "# Get corresponding integer label from one-hot encoded data\n",
    "sample_label_2 = np.where(fashion_mnist.train.labels[23] == 1)[0][0]\n",
    "# Plot sample\n",
    "print(\"y = {label_index} ({label})\".format(label_index=sample_label_2, label=label_dict[sample_label_2]))\n",
    "plt.imshow(sample_2, cmap='Greys')"
   ]
  },
  {
   "cell_type": "code",
   "execution_count": 11,
   "metadata": {},
   "outputs": [],
   "source": [
    "# PlaceHolder 설정\n",
    "\n",
    "X = tf.placeholder(tf.float32)\n",
    "Y = tf.placeholder(tf.int32)\n",
    "\n",
    "ph_keep  = tf.placeholder(tf.float32)"
   ]
  },
  {
   "cell_type": "code",
   "execution_count": 12,
   "metadata": {},
   "outputs": [
    {
     "name": "stdout",
     "output_type": "stream",
     "text": [
      "WARNING:tensorflow:From C:\\Anaconda3\\lib\\site-packages\\tensorflow\\python\\framework\\op_def_library.py:263: colocate_with (from tensorflow.python.framework.ops) is deprecated and will be removed in a future version.\n",
      "Instructions for updating:\n",
      "Colocations handled automatically by placer.\n"
     ]
    }
   ],
   "source": [
    "# 모델 구성\n",
    "\n",
    "# 1번째 layer\n",
    "\n",
    "# [3,3 → Filter의미, ,1 → 흑백 channel 한개,  32] → 32개의 Filter\n",
    "w_conv_1 = tf.Variable(tf.truncated_normal([3, 3, 1, 32], stddev=0.1)) # channel의 1 → 32로 증가한다(두꺼워진다)\n",
    "b_conv_1 = tf.Variable(tf.constant(0.1, shape=[32]))\n",
    "\n",
    "l_conv_1 = tf.nn.conv2d(X, w_conv_1, strides=[1, 1, 1, 1], padding='SAME')\n",
    "l_relu_1 = tf.nn.relu(l_conv_1 + b_conv_1)\n",
    "l_pool_1 = tf.nn.max_pool(l_relu_1, ksize=[1, 2, 2, 1], strides=[1, 2, 2, 1], padding='SAME')"
   ]
  },
  {
   "cell_type": "code",
   "execution_count": 13,
   "metadata": {},
   "outputs": [],
   "source": [
    "# 2번째 layer\n",
    "\n",
    "w_conv_2 = tf.Variable(tf.truncated_normal([3, 3, 32, 64], stddev=0.1))\n",
    "b_conv_2 = tf.Variable(tf.constant(0.1, shape=[64]))\n",
    "\n",
    "l_conv_2 = tf.nn.conv2d(l_pool_1, w_conv_2, strides=[1, 1, 1, 1], padding='SAME')\n",
    "l_relu_2 = tf.nn.relu(l_conv_2 + b_conv_2)\n",
    "l_pool_2 = tf.nn.max_pool(l_relu_2, ksize=[1, 2, 2, 1], strides=[1, 2, 2, 1], padding='SAME')"
   ]
  },
  {
   "cell_type": "code",
   "execution_count": 14,
   "metadata": {},
   "outputs": [],
   "source": [
    "# 3번째 flat Layer\n",
    "\n",
    "l_flat   = tf.reshape(l_pool_2, [-1, 7 * 7 * 64])\n",
    "\n",
    "w_full_3 = tf.Variable(tf.truncated_normal([7 * 7 * 64, 256], stddev=0.1))\n",
    "b_full_3 = tf.Variable(tf.constant(0.1, shape=[256]))\n",
    "\n",
    "l_full_3 = tf.matmul(l_flat, w_full_3) + b_full_3\n",
    "l_relu_3 = tf.nn.relu(l_full_3)\n",
    "l_drop_3 = tf.nn.dropout(l_relu_3, rate=0.7)"
   ]
  },
  {
   "cell_type": "code",
   "execution_count": 15,
   "metadata": {},
   "outputs": [],
   "source": [
    "# last\n",
    "\n",
    "w_full_4 = tf.Variable(tf.truncated_normal([256, 10], stddev=0.1))\n",
    "b_full_4 = tf.Variable(tf.constant(0.1, shape=[10]))\n",
    "\n",
    "# (?, 10)\n",
    "logit  = tf.matmul(l_drop_3, w_full_4) + b_full_4\n",
    "H      = tf.nn.softmax(logit)"
   ]
  },
  {
   "cell_type": "code",
   "execution_count": 16,
   "metadata": {},
   "outputs": [],
   "source": [
    "# Hyper Parameter Setting\n",
    "\n",
    "learn_rate = 0.001\n",
    "epochs     = 30\n",
    "batch_size = 100\n",
    "batch_iter = fashion_mnist.train.num_examples // batch_size # 550"
   ]
  },
  {
   "cell_type": "code",
   "execution_count": 17,
   "metadata": {},
   "outputs": [],
   "source": [
    "# 2. Cost function 최소화\n",
    "\n",
    "cost = tf.reduce_mean(tf.nn.softmax_cross_entropy_with_logits_v2(logits=logit, labels=tf.stop_gradient(Y)))\n",
    "\n",
    "optimizer = tf.train.AdamOptimizer(learning_rate=learn_rate).minimize(cost)"
   ]
  },
  {
   "cell_type": "code",
   "execution_count": 18,
   "metadata": {},
   "outputs": [
    {
     "name": "stdout",
     "output_type": "stream",
     "text": [
      "Epoch 0 :   0.752968331\n",
      "Epoch 1 :   0.473504328\n",
      "Epoch 2 :   0.407256938\n",
      "Epoch 3 :   0.363817059\n",
      "Epoch 4 :   0.336101405\n",
      "Epoch 5 :   0.312511345\n",
      "Epoch 6 :   0.291114970\n",
      "Epoch 7 :   0.277305912\n",
      "Epoch 8 :   0.261455452\n",
      "Epoch 9 :   0.248495345\n",
      "Epoch 10 :   0.236782945\n",
      "Epoch 11 :   0.226472568\n",
      "Epoch 12 :   0.214668821\n",
      "Epoch 13 :   0.206678695\n",
      "Epoch 14 :   0.200193032\n",
      "Epoch 15 :   0.189207703\n",
      "Epoch 16 :   0.182487363\n",
      "Epoch 17 :   0.174237406\n",
      "Epoch 18 :   0.168794013\n",
      "Epoch 19 :   0.164780989\n",
      "Epoch 20 :   0.156279500\n",
      "Epoch 21 :   0.152919787\n",
      "Epoch 22 :   0.142511891\n",
      "Epoch 23 :   0.139932506\n",
      "Epoch 24 :   0.131243032\n",
      "Epoch 25 :   0.129838388\n",
      "Epoch 26 :   0.126334355\n",
      "Epoch 27 :   0.121839729\n",
      "Epoch 28 :   0.118605768\n",
      "Epoch 29 :   0.115274114\n"
     ]
    }
   ],
   "source": [
    "# Train\n",
    "\n",
    "sess = tf.Session()\n",
    "sess.run(tf.global_variables_initializer())\n",
    "\n",
    "# epcochs를 1번 돌고 념\n",
    "for i in range(epochs):\n",
    "    \n",
    "    total_cost = 0 #비용 전체의 합\n",
    "    \n",
    "    for j in range(batch_iter):\n",
    "        batch_xs, batch_ys = fashion_mnist.train.next_batch(batch_size)\n",
    "\n",
    "        batch_xs = batch_xs.reshape([-1, 28, 28, 1])\n",
    "\n",
    "        feed_data = {X: batch_xs, Y: batch_ys, ph_keep: 0.5}\n",
    "        _cost, _optimizer = sess.run([cost, optimizer], feed_dict=feed_data)\n",
    "        \n",
    "        total_cost += _cost        \n",
    "\n",
    "    # avg_cost : 평균비용\n",
    "    avg_cost = total_cost / batch_iter        \n",
    "#     print('{:.9f}'.format(avg_cost))\n",
    "    print('Epoch {0} :   {1:.9f}'.format(i, avg_cost))    "
   ]
  },
  {
   "cell_type": "code",
   "execution_count": 19,
   "metadata": {},
   "outputs": [
    {
     "name": "stdout",
     "output_type": "stream",
     "text": [
      "acc:  0.911\n",
      "[9 2 1 ... 8 1 5]\n"
     ]
    }
   ],
   "source": [
    "import numpy as np\n",
    "\n",
    "# 모델 테스트와 정확도 체크하기\n",
    "xx = fashion_mnist.test.images.reshape([-1, 28, 28, 1])\n",
    "\n",
    "preds = sess.run(H, {X: xx, ph_keep: 1.0})\n",
    "\n",
    "preds_arg = np.argmax(preds, axis=1)  # 1: 수평, 0: 수직\n",
    "test_arg  = np.argmax(fashion_mnist.test.labels, axis=1)\n",
    "\n",
    "print('acc: ', np.mean(preds_arg == test_arg))\n",
    "print(preds_arg)"
   ]
  },
  {
   "cell_type": "code",
   "execution_count": 20,
   "metadata": {},
   "outputs": [
    {
     "name": "stdout",
     "output_type": "stream",
     "text": [
      "\n",
      "라벨(Label) : [1]\n",
      "\n",
      "예측(Prediction) : [1]\n",
      "y = 1 (Trouser)\n"
     ]
    },
    {
     "data": {
      "text/plain": [
       "<matplotlib.image.AxesImage at 0x207a48fbeb8>"
      ]
     },
     "execution_count": 20,
     "metadata": {},
     "output_type": "execute_result"
    },
    {
     "data": {
      "image/png": "[encoded data removed]",
      "text/plain": [
       "<Figure size 432x288 with 1 Axes>"
      ]
     },
     "metadata": {
      "needs_background": "light"
     },
     "output_type": "display_data"
    }
   ],
   "source": [
    "import random\n",
    "\n",
    "# 임의의 그림 1개를 구하고, 예측하기\n",
    "randitem  = random.randint(0, fashion_mnist.test.num_examples -1)\n",
    "print('\\n라벨(Label) :', end=' ')\n",
    "print(sess.run(tf.argmax(fashion_mnist.test.labels[randitem:randitem+1], axis=1)))\n",
    "\n",
    "print('\\n예측(Prediction) :', end=' ')\n",
    "feed_data={X:fashion_mnist.test.images[randitem:randitem+1].reshape([-1, 28, 28, 1]), ph_keep:1.0}\n",
    "print(sess.run(tf.argmax(H, axis=1), feed_dict = feed_data))\n",
    "\n",
    "# plt.imshow(fashion_mnist.test.images[randitem:randitem+1].reshape(img_row, img_column), cmap='Greys', interpolation='nearest')\n",
    "# plt.show()\n",
    "\n",
    "# Get 28x28 image\n",
    "sample_1 = fashion_mnist.test.images[randitem].reshape(28,28)\n",
    "# Get corresponding integer label from one-hot encoded data\n",
    "sample_label_1 = np.where(fashion_mnist.test.labels[randitem] == 1)[0][0]\n",
    "# Plot sample\n",
    "print(\"y = {label_index} ({label})\".format(label_index=sample_label_1, label=label_dict[sample_label_1]))\n",
    "plt.imshow(sample_1, cmap='Greys')"
   ]
  },
  {
   "cell_type": "code",
   "execution_count": 21,
   "metadata": {},
   "outputs": [],
   "source": [
    "sess.close()"
   ]
  }
 ],
 "metadata": {
  "kernelspec": {
   "display_name": "Python 3",
   "language": "python",
   "name": "python3"
  },
  "language_info": {
   "codemirror_mode": {
    "name": "ipython",
    "version": 3
   },
   "file_extension": ".py",
   "mimetype": "text/x-python",
   "name": "python",
   "nbconvert_exporter": "python",
   "pygments_lexer": "ipython3",
   "version": "3.7.3"
  }
 },
 "nbformat": 4,
 "nbformat_minor": 2
}
