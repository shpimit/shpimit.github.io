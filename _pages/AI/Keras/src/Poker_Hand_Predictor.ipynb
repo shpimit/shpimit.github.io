{
 "cells": [
  {
   "cell_type": "code",
   "execution_count": 1,
   "metadata": {},
   "outputs": [
    {
     "name": "stderr",
     "output_type": "stream",
     "text": [
      "Using TensorFlow backend.\n"
     ]
    }
   ],
   "source": [
    "from __future__ import print_function\n",
    "import keras\n",
    "from keras.models import Sequential\n",
    "from keras.layers import Dense, Dropout\n",
    "from keras.optimizers import RMSprop\n",
    "import numpy as np\n",
    "import csv       \n",
    "import time\n",
    "import sys"
   ]
  },
  {
   "cell_type": "code",
   "execution_count": 2,
   "metadata": {},
   "outputs": [],
   "source": [
    "start_time = time.time()\n",
    "\n",
    "batch_size = 16\n",
    "num_classes = 10\n",
    "epochs = 100\n",
    "dropout_rate = 0.2\n",
    "nodes = 512"
   ]
  },
  {
   "cell_type": "code",
   "execution_count": 3,
   "metadata": {},
   "outputs": [],
   "source": [
    "def load_data(filename):\n",
    "    \"\"\"Loads in test and tranining data\"\"\"\n",
    "    label_data = []\n",
    "    data = []\n",
    "\n",
    "    csv_file = csv.reader(open(filename, 'r'))\n",
    "\n",
    "    for row in csv_file:\n",
    "        \n",
    "        if len(row) > 1:\n",
    "            \n",
    "            value = str(row[-1])\n",
    "    \n",
    "            # Adds out the class value\n",
    "            label_data.append(value)\n",
    "\n",
    "            # Removes the label and saves the data\n",
    "            del row[-1]\n",
    "            data.append(row)   \n",
    "\n",
    "    data = group(data)\n",
    "    return data, label_data  "
   ]
  },
  {
   "cell_type": "code",
   "execution_count": 4,
   "metadata": {},
   "outputs": [],
   "source": [
    "def group(_list):\n",
    "    \"\"\"Groups suit and card number into a unique ID by concat\"\"\"\n",
    "\n",
    "    total_list = []\n",
    "\n",
    "    for row in _list:\n",
    "\n",
    "        grouped_list = []\n",
    "\n",
    "        for x in range(1, len(row), 2):\n",
    "            grouped_list.append(row[x - 1] + row[x])\n",
    "\n",
    "        total_list.append(grouped_list)\n",
    "\n",
    "    return total_list"
   ]
  },
  {
   "cell_type": "code",
   "execution_count": 5,
   "metadata": {},
   "outputs": [],
   "source": [
    "x_test, y_test = load_data('../data/poker-hand-testing.data')\n",
    "x_train, y_train = load_data('../data/poker-hand-training-true.data')"
   ]
  },
  {
   "cell_type": "code",
   "execution_count": 6,
   "metadata": {},
   "outputs": [],
   "source": [
    "# convert class vectors to binary class matrices\n",
    "y_train = keras.utils.to_categorical(y_train, num_classes)\n",
    "y_test = keras.utils.to_categorical(y_test, num_classes)"
   ]
  },
  {
   "cell_type": "code",
   "execution_count": 7,
   "metadata": {},
   "outputs": [
    {
     "name": "stdout",
     "output_type": "stream",
     "text": [
      "WARNING:tensorflow:From C:\\Users\\shpim\\Anaconda3\\lib\\site-packages\\tensorflow\\python\\framework\\op_def_library.py:263: colocate_with (from tensorflow.python.framework.ops) is deprecated and will be removed in a future version.\n",
      "Instructions for updating:\n",
      "Colocations handled automatically by placer.\n",
      "WARNING:tensorflow:From C:\\Users\\shpim\\Anaconda3\\lib\\site-packages\\keras\\backend\\tensorflow_backend.py:3445: calling dropout (from tensorflow.python.ops.nn_ops) with keep_prob is deprecated and will be removed in a future version.\n",
      "Instructions for updating:\n",
      "Please use `rate` instead of `keep_prob`. Rate should be set to `rate = 1 - keep_prob`.\n"
     ]
    }
   ],
   "source": [
    "model = Sequential()\n",
    "model.add(Dense(nodes, activation='sigmoid', input_shape=(5,)))\n",
    "model.add(Dropout(dropout_rate))\n",
    "model.add(Dense(nodes, activation='sigmoid'))\n",
    "model.add(Dropout(dropout_rate))\n",
    "model.add(Dense(num_classes, activation='softmax'))"
   ]
  },
  {
   "cell_type": "code",
   "execution_count": 8,
   "metadata": {},
   "outputs": [
    {
     "name": "stdout",
     "output_type": "stream",
     "text": [
      "_________________________________________________________________\n",
      "Layer (type)                 Output Shape              Param #   \n",
      "=================================================================\n",
      "dense_1 (Dense)              (None, 512)               3072      \n",
      "_________________________________________________________________\n",
      "dropout_1 (Dropout)          (None, 512)               0         \n",
      "_________________________________________________________________\n",
      "dense_2 (Dense)              (None, 512)               262656    \n",
      "_________________________________________________________________\n",
      "dropout_2 (Dropout)          (None, 512)               0         \n",
      "_________________________________________________________________\n",
      "dense_3 (Dense)              (None, 10)                5130      \n",
      "=================================================================\n",
      "Total params: 270,858\n",
      "Trainable params: 270,858\n",
      "Non-trainable params: 0\n",
      "_________________________________________________________________\n"
     ]
    }
   ],
   "source": [
    "model.summary()"
   ]
  },
  {
   "cell_type": "code",
   "execution_count": 9,
   "metadata": {},
   "outputs": [],
   "source": [
    "model.compile(loss='binary_crossentropy',optimizer=RMSprop(0.001),metrics=['accuracy'])"
   ]
  },
  {
   "cell_type": "code",
   "execution_count": null,
   "metadata": {},
   "outputs": [
    {
     "name": "stdout",
     "output_type": "stream",
     "text": [
      "WARNING:tensorflow:From C:\\Users\\shpim\\Anaconda3\\lib\\site-packages\\tensorflow\\python\\ops\\math_ops.py:3066: to_int32 (from tensorflow.python.ops.math_ops) is deprecated and will be removed in a future version.\n",
      "Instructions for updating:\n",
      "Use tf.cast instead.\n",
      "Train on 25010 samples, validate on 1000000 samples\n",
      "Epoch 1/100\n",
      "25010/25010 [==============================] - 86s 3ms/step - loss: 0.1778 - acc: 0.9003 - val_loss: 0.1735 - val_acc: 0.9055\n",
      "Epoch 2/100\n",
      "25010/25010 [==============================] - 86s 3ms/step - loss: 0.1726 - acc: 0.9048 - val_loss: 0.1708 - val_acc: 0.9064\n",
      "Epoch 3/100\n",
      "25010/25010 [==============================] - 87s 3ms/step - loss: 0.1728 - acc: 0.9057 - val_loss: 0.1714 - val_acc: 0.9066\n",
      "Epoch 4/100\n",
      "25010/25010 [==============================] - 87s 3ms/step - loss: 0.1731 - acc: 0.9053 - val_loss: 0.1737 - val_acc: 0.9031\n",
      "Epoch 5/100\n",
      "25010/25010 [==============================] - 87s 3ms/step - loss: 0.1740 - acc: 0.9051 - val_loss: 0.1724 - val_acc: 0.9059\n",
      "Epoch 6/100\n",
      "25010/25010 [==============================] - 87s 3ms/step - loss: 0.1745 - acc: 0.9051 - val_loss: 0.1737 - val_acc: 0.9065\n",
      "Epoch 7/100\n",
      "25010/25010 [==============================] - 88s 4ms/step - loss: 0.1753 - acc: 0.9049 - val_loss: 0.1742 - val_acc: 0.9064\n",
      "Epoch 8/100\n",
      "25010/25010 [==============================] - 87s 3ms/step - loss: 0.1755 - acc: 0.9054 - val_loss: 0.1739 - val_acc: 0.9065\n",
      "Epoch 9/100\n",
      "25010/25010 [==============================] - 87s 3ms/step - loss: 0.1760 - acc: 0.9053 - val_loss: 0.1748 - val_acc: 0.9065\n",
      "Epoch 10/100\n",
      "25010/25010 [==============================] - 87s 3ms/step - loss: 0.1762 - acc: 0.9053 - val_loss: 0.1754 - val_acc: 0.9066\n",
      "Epoch 11/100\n",
      "25010/25010 [==============================] - 87s 3ms/step - loss: 0.1772 - acc: 0.9052 - val_loss: 0.1749 - val_acc: 0.9065\n",
      "Epoch 12/100\n",
      "25010/25010 [==============================] - 87s 3ms/step - loss: 0.1773 - acc: 0.9053 - val_loss: 0.1766 - val_acc: 0.9052\n",
      "Epoch 13/100\n",
      "25010/25010 [==============================] - 86s 3ms/step - loss: 0.1789 - acc: 0.9050 - val_loss: 0.1760 - val_acc: 0.9065\n",
      "Epoch 14/100\n",
      "25010/25010 [==============================] - 87s 3ms/step - loss: 0.1787 - acc: 0.9053 - val_loss: 0.1780 - val_acc: 0.9065\n",
      "Epoch 15/100\n",
      "25010/25010 [==============================] - 87s 3ms/step - loss: 0.1802 - acc: 0.9048 - val_loss: 0.1799 - val_acc: 0.9067\n",
      "Epoch 16/100\n",
      "25010/25010 [==============================] - 87s 3ms/step - loss: 0.1800 - acc: 0.9048 - val_loss: 0.1787 - val_acc: 0.9049\n",
      "Epoch 17/100\n",
      "25010/25010 [==============================] - 87s 3ms/step - loss: 0.1803 - acc: 0.9047 - val_loss: 0.1786 - val_acc: 0.9066\n",
      "Epoch 18/100\n",
      "25010/25010 [==============================] - 88s 4ms/step - loss: 0.1807 - acc: 0.9049 - val_loss: 0.1783 - val_acc: 0.9064\n",
      "Epoch 19/100\n",
      "25010/25010 [==============================] - 88s 4ms/step - loss: 0.1810 - acc: 0.9042 - val_loss: 0.1784 - val_acc: 0.9039\n",
      "Epoch 20/100\n",
      "25010/25010 [==============================] - 87s 3ms/step - loss: 0.1808 - acc: 0.9049 - val_loss: 0.1780 - val_acc: 0.9064\n",
      "Epoch 21/100\n",
      "25010/25010 [==============================] - 88s 4ms/step - loss: 0.1805 - acc: 0.9043 - val_loss: 0.1779 - val_acc: 0.9033\n",
      "Epoch 22/100\n",
      "25010/25010 [==============================] - 87s 3ms/step - loss: 0.1811 - acc: 0.9045 - val_loss: 0.1784 - val_acc: 0.9027\n",
      "Epoch 23/100\n",
      "25010/25010 [==============================] - 89s 4ms/step - loss: 0.1817 - acc: 0.9037 - val_loss: 0.1786 - val_acc: 0.9024\n",
      "Epoch 24/100\n",
      "25010/25010 [==============================] - 93s 4ms/step - loss: 0.1817 - acc: 0.9040 - val_loss: 0.1782 - val_acc: 0.9012\n",
      "Epoch 25/100\n",
      "25010/25010 [==============================] - 91s 4ms/step - loss: 0.1820 - acc: 0.9040 - val_loss: 0.1773 - val_acc: 0.9072\n",
      "Epoch 26/100\n",
      "25010/25010 [==============================] - 88s 4ms/step - loss: 0.1824 - acc: 0.9042 - val_loss: 0.1776 - val_acc: 0.9061\n",
      "Epoch 27/100\n",
      "25010/25010 [==============================] - 87s 3ms/step - loss: 0.1832 - acc: 0.9036 - val_loss: 0.1796 - val_acc: 0.9069\n",
      "Epoch 28/100\n",
      "25010/25010 [==============================] - 88s 4ms/step - loss: 0.1827 - acc: 0.9037 - val_loss: 0.1792 - val_acc: 0.9063\n",
      "Epoch 29/100\n",
      "25010/25010 [==============================] - 87s 3ms/step - loss: 0.1825 - acc: 0.9040 - val_loss: 0.1803 - val_acc: 0.9056\n",
      "Epoch 30/100\n",
      "24944/25010 [============================>.] - ETA: 0s - loss: 0.1823 - acc: 0.9035"
     ]
    }
   ],
   "source": [
    "try:\n",
    "    history = model.fit(np.array(x_train), np.array(y_train),\n",
    "                    batch_size=batch_size,\n",
    "                    epochs=epochs,\n",
    "                    verbose=1,\n",
    "                    validation_data=(np.array(x_test), np.array(y_test)))\n",
    "\n",
    "    score = model.evaluate(np.array(x_test), np.array(y_test), verbose=0)\n",
    "\n",
    "    print('Test loss:', score[0])\n",
    "    print('Test accuracy:', score[1])\n",
    "    print(\"--- %s seconds ---\" % (time.time() - start_time))\n",
    "\n",
    "except KeyboardInterrupt:\n",
    "    print('\\n## Close Signal ##')"
   ]
  },
  {
   "cell_type": "code",
   "execution_count": null,
   "metadata": {},
   "outputs": [],
   "source": []
  }
 ],
 "metadata": {
  "kernelspec": {
   "display_name": "Python 3",
   "language": "python",
   "name": "python3"
  },
  "language_info": {
   "codemirror_mode": {
    "name": "ipython",
    "version": 3
   },
   "file_extension": ".py",
   "mimetype": "text/x-python",
   "name": "python",
   "nbconvert_exporter": "python",
   "pygments_lexer": "ipython3",
   "version": "3.7.3"
  }
 },
 "nbformat": 4,
 "nbformat_minor": 2
}
