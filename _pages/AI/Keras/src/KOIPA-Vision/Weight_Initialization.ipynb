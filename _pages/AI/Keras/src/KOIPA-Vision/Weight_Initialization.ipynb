{
  "nbformat": 4,
  "nbformat_minor": 0,
  "metadata": {
    "colab": {
      "name": "Weight_Initialization.ipynb",
      "provenance": [],
      "collapsed_sections": [],
      "include_colab_link": true
    },
    "kernelspec": {
      "display_name": "Python 3",
      "language": "python",
      "name": "python3"
    },
    "language_info": {
      "codemirror_mode": {
        "name": "ipython",
        "version": 3
      },
      "file_extension": ".py",
      "mimetype": "text/x-python",
      "name": "python",
      "nbconvert_exporter": "python",
      "pygments_lexer": "ipython3",
      "version": "3.7.3"
    }
  },
  "cells": [
    {
      "cell_type": "markdown",
      "metadata": {
        "id": "view-in-github",
        "colab_type": "text"
      },
      "source": [
        "<a href=\"https://colab.research.google.com/github/shpimit/shpimit.github.io/blob/master/_pages/AI/Keras/src/KOIPA-Vision/Weight_Initialization.ipynb\" target=\"_parent\"><img src=\"https://colab.research.google.com/assets/colab-badge.svg\" alt=\"Open In Colab\"/></a>"
      ]
    },
    {
      "cell_type": "code",
      "metadata": {
        "colab_type": "code",
        "id": "vclJIQzE0KBy",
        "outputId": "762cf648-cf8b-4c3a-ede5-856daf11cffe",
        "colab": {
          "base_uri": "https://localhost:8080/",
          "height": 35
        }
      },
      "source": [
        "from __future__ import print_function\n",
        "\n",
        "import numpy as np\n",
        "import matplotlib.pyplot as plt\n",
        "import keras\n",
        "from keras.datasets import reuters\n",
        "from keras.models import Sequential\n",
        "from keras.layers import Dense, Activation, Dropout\n",
        "from keras.layers.noise import AlphaDropout\n",
        "from keras.preprocessing.text import Tokenizer\n",
        "\n",
        "max_words = 1000\n",
        "batch_size = 16\n",
        "epochs = 40\n",
        "plot = True"
      ],
      "execution_count": 0,
      "outputs": [
        {
          "output_type": "stream",
          "text": [
            "Using TensorFlow backend.\n"
          ],
          "name": "stderr"
        }
      ]
    },
    {
      "cell_type": "code",
      "metadata": {
        "colab_type": "code",
        "id": "Qeg0JIRB0KlY",
        "colab": {}
      },
      "source": [
        "def create_network(n_dense=6,\n",
        "                   dense_units=16,\n",
        "                   activation='selu',\n",
        "                   dropout=AlphaDropout,\n",
        "                   dropout_rate=0.1,\n",
        "                   kernel_initializer='lecun_normal',\n",
        "                   optimizer='adam',\n",
        "                   num_classes=1,\n",
        "                   max_words=max_words):\n",
        "    \"\"\"Generic function to create a fully-connected neural network.\n",
        "\n",
        "    # Arguments\n",
        "        n_dense: int > 0. Number of dense layers.\n",
        "        dense_units: int > 0. Number of dense units per layer.\n",
        "        dropout: keras.layers.Layer. A dropout layer to apply.\n",
        "        dropout_rate: 0 <= float <= 1. The rate of dropout.\n",
        "        kernel_initializer: str. The initializer for the weights.\n",
        "        optimizer: str/keras.optimizers.Optimizer. The optimizer to use.\n",
        "        num_classes: int > 0. The number of classes to predict.\n",
        "        max_words: int > 0. The maximum number of words per data point.\n",
        "\n",
        "    # Returns\n",
        "        A Keras model instance (compiled).\n",
        "    \"\"\"\n",
        "    model = Sequential()\n",
        "    model.add(Dense(dense_units, input_shape=(max_words,),\n",
        "                    kernel_initializer=kernel_initializer))\n",
        "    model.add(Activation(activation))\n",
        "    model.add(dropout(dropout_rate))\n",
        "\n",
        "    for i in range(n_dense - 1):\n",
        "        model.add(Dense(dense_units, kernel_initializer=kernel_initializer))\n",
        "        model.add(Activation(activation))\n",
        "        model.add(dropout(dropout_rate))\n",
        "\n",
        "    model.add(Dense(num_classes))\n",
        "    model.add(Activation('softmax'))\n",
        "    model.compile(loss='categorical_crossentropy',\n",
        "                  optimizer=optimizer,\n",
        "                  metrics=['accuracy'])\n",
        "    return model"
      ],
      "execution_count": 0,
      "outputs": []
    },
    {
      "cell_type": "code",
      "metadata": {
        "colab_type": "code",
        "id": "GbNiVkiq0Ovo",
        "colab": {}
      },
      "source": [
        "network1 = {\n",
        "    'n_dense': 6,\n",
        "    'dense_units': 16,\n",
        "    'activation': 'relu',\n",
        "    'dropout': Dropout,\n",
        "    'dropout_rate': 0.5,\n",
        "    'kernel_initializer': 'glorot_uniform',\n",
        "    'optimizer': 'sgd'\n",
        "}"
      ],
      "execution_count": 0,
      "outputs": []
    },
    {
      "cell_type": "code",
      "metadata": {
        "colab_type": "code",
        "id": "MgeRwZ7m0Ru3",
        "colab": {}
      },
      "source": [
        "network2 = {\n",
        "    'n_dense': 6,\n",
        "    'dense_units': 16,\n",
        "    'activation': 'selu',\n",
        "    'dropout': AlphaDropout,\n",
        "    'dropout_rate': 0.1,\n",
        "    'kernel_initializer': 'lecun_normal',\n",
        "    'optimizer': 'sgd'\n",
        "}"
      ],
      "execution_count": 0,
      "outputs": []
    },
    {
      "cell_type": "code",
      "metadata": {
        "colab_type": "code",
        "id": "CqHepCjI0TMH",
        "outputId": "c13e2dc4-2d3f-47b6-e7e7-2894031e5d8e",
        "colab": {
          "base_uri": "https://localhost:8080/",
          "height": 107
        }
      },
      "source": [
        "print('Loading data...')\n",
        "(x_train, y_train), (x_test, y_test) = reuters.load_data(num_words=max_words,\n",
        "                                                         test_split=0.2)\n",
        "print(len(x_train), 'train sequences')\n",
        "print(len(x_test), 'test sequences')"
      ],
      "execution_count": 0,
      "outputs": [
        {
          "output_type": "stream",
          "text": [
            "Loading data...\n",
            "Downloading data from https://s3.amazonaws.com/text-datasets/reuters.npz\n",
            "2113536/2110848 [==============================] - 0s 0us/step\n",
            "8982 train sequences\n",
            "2246 test sequences\n"
          ],
          "name": "stdout"
        }
      ]
    },
    {
      "cell_type": "code",
      "metadata": {
        "colab_type": "code",
        "id": "c_NsafCQ0V34",
        "outputId": "027ae918-f8e7-432b-cf98-cb376a26ddf2",
        "colab": {
          "base_uri": "https://localhost:8080/",
          "height": 89
        }
      },
      "source": [
        "num_classes = np.max(y_train) + 1\n",
        "print(num_classes, 'classes')\n",
        "\n",
        "print('Vectorizing sequence data...')\n",
        "tokenizer = Tokenizer(num_words=max_words)\n",
        "x_train = tokenizer.sequences_to_matrix(x_train, mode='binary')\n",
        "x_test = tokenizer.sequences_to_matrix(x_test, mode='binary')\n",
        "print('x_train shape:', x_train.shape)\n",
        "print('x_test shape:', x_test.shape)"
      ],
      "execution_count": 0,
      "outputs": [
        {
          "output_type": "stream",
          "text": [
            "46 classes\n",
            "Vectorizing sequence data...\n",
            "x_train shape: (8982, 1000)\n",
            "x_test shape: (2246, 1000)\n"
          ],
          "name": "stdout"
        }
      ]
    },
    {
      "cell_type": "code",
      "metadata": {
        "colab_type": "code",
        "id": "a51I-Gm50f-I",
        "outputId": "b7a9ff7f-0d86-41f4-c421-2ee473180813",
        "colab": {
          "base_uri": "https://localhost:8080/",
          "height": 71
        }
      },
      "source": [
        "print('Convert class vector to binary class matrix '\n",
        "      '(for use with categorical_crossentropy)')\n",
        "y_train = keras.utils.to_categorical(y_train, num_classes)\n",
        "y_test = keras.utils.to_categorical(y_test, num_classes)\n",
        "print('y_train shape:', y_train.shape)\n",
        "print('y_test shape:', y_test.shape)"
      ],
      "execution_count": 0,
      "outputs": [
        {
          "output_type": "stream",
          "text": [
            "Convert class vector to binary class matrix (for use with categorical_crossentropy)\n",
            "y_train shape: (8982, 46)\n",
            "y_test shape: (2246, 46)\n"
          ],
          "name": "stdout"
        }
      ]
    },
    {
      "cell_type": "code",
      "metadata": {
        "colab_type": "code",
        "id": "m31eMlLX0iQw",
        "outputId": "02bca76b-d90b-4adc-e412-b1f18123d51b",
        "colab": {
          "base_uri": "https://localhost:8080/",
          "height": 1000
        }
      },
      "source": [
        "print('\\nBuilding network 1...')\n",
        "\n",
        "model1 = create_network(num_classes=num_classes, **network1)\n",
        "history_model1 = model1.fit(x_train,\n",
        "                            y_train,\n",
        "                            batch_size=batch_size,\n",
        "                            epochs=epochs,\n",
        "                            verbose=1,\n",
        "                            validation_split=0.1)\n",
        "\n",
        "score_model1 = model1.evaluate(x_test,\n",
        "                               y_test,\n",
        "                               batch_size=batch_size,\n",
        "                               verbose=1)"
      ],
      "execution_count": 0,
      "outputs": [
        {
          "output_type": "stream",
          "text": [
            "\n",
            "Building network 1...\n",
            "WARNING:tensorflow:From /usr/local/lib/python3.6/dist-packages/keras/backend/tensorflow_backend.py:66: The name tf.get_default_graph is deprecated. Please use tf.compat.v1.get_default_graph instead.\n",
            "\n",
            "WARNING:tensorflow:From /usr/local/lib/python3.6/dist-packages/keras/backend/tensorflow_backend.py:541: The name tf.placeholder is deprecated. Please use tf.compat.v1.placeholder instead.\n",
            "\n",
            "WARNING:tensorflow:From /usr/local/lib/python3.6/dist-packages/keras/backend/tensorflow_backend.py:4432: The name tf.random_uniform is deprecated. Please use tf.random.uniform instead.\n",
            "\n",
            "WARNING:tensorflow:From /usr/local/lib/python3.6/dist-packages/keras/backend/tensorflow_backend.py:148: The name tf.placeholder_with_default is deprecated. Please use tf.compat.v1.placeholder_with_default instead.\n",
            "\n",
            "WARNING:tensorflow:From /usr/local/lib/python3.6/dist-packages/keras/backend/tensorflow_backend.py:3733: calling dropout (from tensorflow.python.ops.nn_ops) with keep_prob is deprecated and will be removed in a future version.\n",
            "Instructions for updating:\n",
            "Please use `rate` instead of `keep_prob`. Rate should be set to `rate = 1 - keep_prob`.\n",
            "WARNING:tensorflow:From /usr/local/lib/python3.6/dist-packages/keras/optimizers.py:793: The name tf.train.Optimizer is deprecated. Please use tf.compat.v1.train.Optimizer instead.\n",
            "\n",
            "WARNING:tensorflow:From /usr/local/lib/python3.6/dist-packages/keras/backend/tensorflow_backend.py:3576: The name tf.log is deprecated. Please use tf.math.log instead.\n",
            "\n",
            "WARNING:tensorflow:From /usr/local/lib/python3.6/dist-packages/tensorflow/python/ops/math_grad.py:1250: add_dispatch_support.<locals>.wrapper (from tensorflow.python.ops.array_ops) is deprecated and will be removed in a future version.\n",
            "Instructions for updating:\n",
            "Use tf.where in 2.0, which has the same broadcast rule as np.where\n",
            "Train on 8083 samples, validate on 899 samples\n",
            "Epoch 1/40\n",
            "8083/8083 [==============================] - 2s 201us/step - loss: 3.2607 - acc: 0.3339 - val_loss: 2.7121 - val_acc: 0.3315\n",
            "Epoch 2/40\n",
            "8083/8083 [==============================] - 1s 98us/step - loss: 2.6717 - acc: 0.3522 - val_loss: 2.5256 - val_acc: 0.3315\n",
            "Epoch 3/40\n",
            "8083/8083 [==============================] - 1s 100us/step - loss: 2.5370 - acc: 0.3525 - val_loss: 2.4146 - val_acc: 0.3315\n",
            "Epoch 4/40\n",
            "8083/8083 [==============================] - 1s 102us/step - loss: 2.4276 - acc: 0.3517 - val_loss: 2.2762 - val_acc: 0.3315\n",
            "Epoch 5/40\n",
            "8083/8083 [==============================] - 1s 100us/step - loss: 2.3437 - acc: 0.3652 - val_loss: 2.2006 - val_acc: 0.4661\n",
            "Epoch 6/40\n",
            "8083/8083 [==============================] - 1s 101us/step - loss: 2.2697 - acc: 0.4243 - val_loss: 2.1329 - val_acc: 0.4816\n",
            "Epoch 7/40\n",
            "8083/8083 [==============================] - 1s 101us/step - loss: 2.2481 - acc: 0.4586 - val_loss: 2.1089 - val_acc: 0.4994\n",
            "Epoch 8/40\n",
            "8083/8083 [==============================] - 1s 98us/step - loss: 2.1968 - acc: 0.4743 - val_loss: 2.0875 - val_acc: 0.5017\n",
            "Epoch 9/40\n",
            "8083/8083 [==============================] - 1s 100us/step - loss: 2.1725 - acc: 0.4837 - val_loss: 2.0682 - val_acc: 0.5072\n",
            "Epoch 10/40\n",
            "8083/8083 [==============================] - 1s 100us/step - loss: 2.1648 - acc: 0.4858 - val_loss: 2.0640 - val_acc: 0.5072\n",
            "Epoch 11/40\n",
            "8083/8083 [==============================] - 1s 102us/step - loss: 2.1353 - acc: 0.4907 - val_loss: 2.0564 - val_acc: 0.5061\n",
            "Epoch 12/40\n",
            "8083/8083 [==============================] - 1s 102us/step - loss: 2.1487 - acc: 0.4946 - val_loss: 2.0637 - val_acc: 0.5095\n",
            "Epoch 13/40\n",
            "8083/8083 [==============================] - 1s 99us/step - loss: 2.1299 - acc: 0.4975 - val_loss: 2.0522 - val_acc: 0.5139\n",
            "Epoch 14/40\n",
            "8083/8083 [==============================] - 1s 103us/step - loss: 2.1055 - acc: 0.5045 - val_loss: 2.0532 - val_acc: 0.5128\n",
            "Epoch 15/40\n",
            "8083/8083 [==============================] - 1s 101us/step - loss: 2.1049 - acc: 0.5066 - val_loss: 2.0529 - val_acc: 0.5206\n",
            "Epoch 16/40\n",
            "8083/8083 [==============================] - 1s 104us/step - loss: 2.1126 - acc: 0.5017 - val_loss: 2.0612 - val_acc: 0.5195\n",
            "Epoch 17/40\n",
            "8083/8083 [==============================] - 1s 103us/step - loss: 2.0916 - acc: 0.5088 - val_loss: 2.0436 - val_acc: 0.5139\n",
            "Epoch 18/40\n",
            "8083/8083 [==============================] - 1s 102us/step - loss: 2.0940 - acc: 0.5066 - val_loss: 2.0533 - val_acc: 0.5139\n",
            "Epoch 19/40\n",
            "8083/8083 [==============================] - 1s 100us/step - loss: 2.1010 - acc: 0.5109 - val_loss: 2.0673 - val_acc: 0.5139\n",
            "Epoch 20/40\n",
            "8083/8083 [==============================] - 1s 103us/step - loss: 2.0830 - acc: 0.5117 - val_loss: 2.0603 - val_acc: 0.5128\n",
            "Epoch 21/40\n",
            "8083/8083 [==============================] - 1s 102us/step - loss: 2.0760 - acc: 0.5148 - val_loss: 2.0567 - val_acc: 0.5161\n",
            "Epoch 22/40\n",
            "8083/8083 [==============================] - 1s 100us/step - loss: 2.0737 - acc: 0.5163 - val_loss: 2.0662 - val_acc: 0.5206\n",
            "Epoch 23/40\n",
            "8083/8083 [==============================] - 1s 99us/step - loss: 2.0688 - acc: 0.5145 - val_loss: 2.0584 - val_acc: 0.5228\n",
            "Epoch 24/40\n",
            "8083/8083 [==============================] - 1s 107us/step - loss: 2.0649 - acc: 0.5128 - val_loss: 2.0548 - val_acc: 0.5217\n",
            "Epoch 25/40\n",
            "8083/8083 [==============================] - 1s 99us/step - loss: 2.0595 - acc: 0.5171 - val_loss: 2.0626 - val_acc: 0.5206\n",
            "Epoch 26/40\n",
            "8083/8083 [==============================] - 1s 104us/step - loss: 2.0577 - acc: 0.5184 - val_loss: 2.0665 - val_acc: 0.5184\n",
            "Epoch 27/40\n",
            "8083/8083 [==============================] - 1s 104us/step - loss: 2.0527 - acc: 0.5148 - val_loss: 2.0695 - val_acc: 0.5095\n",
            "Epoch 28/40\n",
            "8083/8083 [==============================] - 1s 106us/step - loss: 2.0562 - acc: 0.5160 - val_loss: 2.0977 - val_acc: 0.5083\n",
            "Epoch 29/40\n",
            "8083/8083 [==============================] - 1s 103us/step - loss: 2.0524 - acc: 0.5112 - val_loss: 2.0659 - val_acc: 0.5161\n",
            "Epoch 30/40\n",
            "8083/8083 [==============================] - 1s 105us/step - loss: 2.0396 - acc: 0.5150 - val_loss: 2.0486 - val_acc: 0.5172\n",
            "Epoch 31/40\n",
            "8083/8083 [==============================] - 1s 102us/step - loss: 2.0398 - acc: 0.5140 - val_loss: 2.0431 - val_acc: 0.5217\n",
            "Epoch 32/40\n",
            "8083/8083 [==============================] - 1s 100us/step - loss: 2.0429 - acc: 0.5144 - val_loss: 2.0123 - val_acc: 0.5184\n",
            "Epoch 33/40\n",
            "8083/8083 [==============================] - 1s 102us/step - loss: 2.0268 - acc: 0.5027 - val_loss: 2.0408 - val_acc: 0.5150\n",
            "Epoch 34/40\n",
            "8083/8083 [==============================] - 1s 104us/step - loss: 2.0002 - acc: 0.5086 - val_loss: 2.0248 - val_acc: 0.5184\n",
            "Epoch 35/40\n",
            "8083/8083 [==============================] - 1s 103us/step - loss: 2.0016 - acc: 0.5019 - val_loss: 2.0240 - val_acc: 0.5139\n",
            "Epoch 36/40\n",
            "8083/8083 [==============================] - 1s 104us/step - loss: 2.0245 - acc: 0.5050 - val_loss: 2.0610 - val_acc: 0.5217\n",
            "Epoch 37/40\n",
            "8083/8083 [==============================] - 1s 102us/step - loss: 2.0187 - acc: 0.4952 - val_loss: 2.0403 - val_acc: 0.5083\n",
            "Epoch 38/40\n",
            "8083/8083 [==============================] - 1s 105us/step - loss: 2.0477 - acc: 0.5040 - val_loss: 2.1480 - val_acc: 0.5206\n",
            "Epoch 39/40\n",
            "8083/8083 [==============================] - 1s 108us/step - loss: 2.0741 - acc: 0.5154 - val_loss: 2.1015 - val_acc: 0.5161\n",
            "Epoch 40/40\n",
            "8083/8083 [==============================] - 1s 104us/step - loss: 2.0619 - acc: 0.5200 - val_loss: 2.1163 - val_acc: 0.5150\n",
            "2246/2246 [==============================] - 0s 41us/step\n"
          ],
          "name": "stdout"
        }
      ]
    },
    {
      "cell_type": "code",
      "metadata": {
        "colab_type": "code",
        "id": "rKASWpvg0lZY",
        "outputId": "850ea078-a8d1-4612-d80a-3d7897ab4830",
        "colab": {
          "base_uri": "https://localhost:8080/",
          "height": 1000
        }
      },
      "source": [
        "print('\\nBuilding network 2...')\n",
        "model2 = create_network(num_classes=num_classes, **network2)\n",
        "\n",
        "history_model2 = model2.fit(x_train,\n",
        "                            y_train,\n",
        "                            batch_size=batch_size,\n",
        "                            epochs=epochs,\n",
        "                            verbose=1,\n",
        "                            validation_split=0.1)\n",
        "\n",
        "score_model2 = model2.evaluate(x_test,\n",
        "                               y_test,\n",
        "                               batch_size=batch_size,\n",
        "                               verbose=1)"
      ],
      "execution_count": 0,
      "outputs": [
        {
          "output_type": "stream",
          "text": [
            "\n",
            "Building network 2...\n",
            "Train on 8083 samples, validate on 899 samples\n",
            "Epoch 1/40\n",
            "8083/8083 [==============================] - 1s 168us/step - loss: 2.8707 - acc: 0.2828 - val_loss: 2.5702 - val_acc: 0.3337\n",
            "Epoch 2/40\n",
            "8083/8083 [==============================] - 1s 115us/step - loss: 2.3227 - acc: 0.3887 - val_loss: 2.1701 - val_acc: 0.4127\n",
            "Epoch 3/40\n",
            "8083/8083 [==============================] - 1s 116us/step - loss: 2.0860 - acc: 0.4511 - val_loss: 1.9646 - val_acc: 0.4828\n",
            "Epoch 4/40\n",
            "8083/8083 [==============================] - 1s 116us/step - loss: 1.9804 - acc: 0.4818 - val_loss: 1.9197 - val_acc: 0.5350\n",
            "Epoch 5/40\n",
            "8083/8083 [==============================] - 1s 117us/step - loss: 1.9108 - acc: 0.5035 - val_loss: 1.8557 - val_acc: 0.5562\n",
            "Epoch 6/40\n",
            "8083/8083 [==============================] - 1s 119us/step - loss: 1.8507 - acc: 0.5157 - val_loss: 1.8400 - val_acc: 0.5706\n",
            "Epoch 7/40\n",
            "8083/8083 [==============================] - 1s 116us/step - loss: 1.8267 - acc: 0.5257 - val_loss: 1.8347 - val_acc: 0.5784\n",
            "Epoch 8/40\n",
            "8083/8083 [==============================] - 1s 116us/step - loss: 1.7875 - acc: 0.5367 - val_loss: 1.8818 - val_acc: 0.5729\n",
            "Epoch 9/40\n",
            "8083/8083 [==============================] - 1s 115us/step - loss: 1.7630 - acc: 0.5427 - val_loss: 1.8689 - val_acc: 0.5717\n",
            "Epoch 10/40\n",
            "8083/8083 [==============================] - 1s 118us/step - loss: 1.7594 - acc: 0.5474 - val_loss: 1.8507 - val_acc: 0.5717\n",
            "Epoch 11/40\n",
            "8083/8083 [==============================] - 1s 119us/step - loss: 1.7362 - acc: 0.5555 - val_loss: 1.8300 - val_acc: 0.5740\n",
            "Epoch 12/40\n",
            "8083/8083 [==============================] - 1s 118us/step - loss: 1.7143 - acc: 0.5582 - val_loss: 1.8124 - val_acc: 0.5851\n",
            "Epoch 13/40\n",
            "8083/8083 [==============================] - 1s 118us/step - loss: 1.6988 - acc: 0.5645 - val_loss: 1.7898 - val_acc: 0.5795\n",
            "Epoch 14/40\n",
            "8083/8083 [==============================] - 1s 118us/step - loss: 1.6840 - acc: 0.5696 - val_loss: 1.8041 - val_acc: 0.5818\n",
            "Epoch 15/40\n",
            "8083/8083 [==============================] - 1s 117us/step - loss: 1.6675 - acc: 0.5708 - val_loss: 1.7862 - val_acc: 0.5851\n",
            "Epoch 16/40\n",
            "8083/8083 [==============================] - 1s 116us/step - loss: 1.6676 - acc: 0.5759 - val_loss: 1.8059 - val_acc: 0.5951\n",
            "Epoch 17/40\n",
            "8083/8083 [==============================] - 1s 119us/step - loss: 1.6418 - acc: 0.5794 - val_loss: 1.7823 - val_acc: 0.5795\n",
            "Epoch 18/40\n",
            "8083/8083 [==============================] - 1s 117us/step - loss: 1.6510 - acc: 0.5780 - val_loss: 1.7916 - val_acc: 0.5940\n",
            "Epoch 19/40\n",
            "8083/8083 [==============================] - 1s 117us/step - loss: 1.6326 - acc: 0.5787 - val_loss: 1.7753 - val_acc: 0.5951\n",
            "Epoch 20/40\n",
            "8083/8083 [==============================] - 1s 117us/step - loss: 1.6236 - acc: 0.5844 - val_loss: 1.7973 - val_acc: 0.5996\n",
            "Epoch 21/40\n",
            "8083/8083 [==============================] - 1s 114us/step - loss: 1.6137 - acc: 0.5888 - val_loss: 1.7559 - val_acc: 0.6018\n",
            "Epoch 22/40\n",
            "8083/8083 [==============================] - 1s 116us/step - loss: 1.6029 - acc: 0.5909 - val_loss: 1.7742 - val_acc: 0.6240\n",
            "Epoch 23/40\n",
            "8083/8083 [==============================] - 1s 116us/step - loss: 1.5917 - acc: 0.5911 - val_loss: 1.7699 - val_acc: 0.6251\n",
            "Epoch 24/40\n",
            "8083/8083 [==============================] - 1s 117us/step - loss: 1.5901 - acc: 0.5940 - val_loss: 1.7847 - val_acc: 0.6107\n",
            "Epoch 25/40\n",
            "8083/8083 [==============================] - 1s 118us/step - loss: 1.5679 - acc: 0.5947 - val_loss: 1.8050 - val_acc: 0.6140\n",
            "Epoch 26/40\n",
            "8083/8083 [==============================] - 1s 118us/step - loss: 1.5559 - acc: 0.6025 - val_loss: 1.7912 - val_acc: 0.6251\n",
            "Epoch 27/40\n",
            "8083/8083 [==============================] - 1s 119us/step - loss: 1.5551 - acc: 0.6020 - val_loss: 1.7733 - val_acc: 0.6285\n",
            "Epoch 28/40\n",
            "8083/8083 [==============================] - 1s 121us/step - loss: 1.5519 - acc: 0.6051 - val_loss: 1.7471 - val_acc: 0.6218\n",
            "Epoch 29/40\n",
            "8083/8083 [==============================] - 1s 115us/step - loss: 1.5412 - acc: 0.6070 - val_loss: 1.7512 - val_acc: 0.6240\n",
            "Epoch 30/40\n",
            "8083/8083 [==============================] - 1s 115us/step - loss: 1.5228 - acc: 0.6123 - val_loss: 1.7520 - val_acc: 0.6396\n",
            "Epoch 31/40\n",
            "8083/8083 [==============================] - 1s 117us/step - loss: 1.5308 - acc: 0.6166 - val_loss: 1.7458 - val_acc: 0.6396\n",
            "Epoch 32/40\n",
            "8083/8083 [==============================] - 1s 114us/step - loss: 1.5173 - acc: 0.6182 - val_loss: 1.7591 - val_acc: 0.6307\n",
            "Epoch 33/40\n",
            "8083/8083 [==============================] - 1s 115us/step - loss: 1.5104 - acc: 0.6173 - val_loss: 1.7753 - val_acc: 0.6340\n",
            "Epoch 34/40\n",
            "8083/8083 [==============================] - 1s 115us/step - loss: 1.4936 - acc: 0.6228 - val_loss: 1.7430 - val_acc: 0.6396\n",
            "Epoch 35/40\n",
            "8083/8083 [==============================] - 1s 115us/step - loss: 1.4938 - acc: 0.6260 - val_loss: 1.6955 - val_acc: 0.6418\n",
            "Epoch 36/40\n",
            "8083/8083 [==============================] - 1s 116us/step - loss: 1.4896 - acc: 0.6248 - val_loss: 1.7454 - val_acc: 0.6407\n",
            "Epoch 37/40\n",
            "8083/8083 [==============================] - 1s 115us/step - loss: 1.4766 - acc: 0.6295 - val_loss: 1.6938 - val_acc: 0.6440\n",
            "Epoch 38/40\n",
            "8083/8083 [==============================] - 1s 116us/step - loss: 1.4694 - acc: 0.6336 - val_loss: 1.6610 - val_acc: 0.6485\n",
            "Epoch 39/40\n",
            "8083/8083 [==============================] - 1s 118us/step - loss: 1.4537 - acc: 0.6348 - val_loss: 1.6845 - val_acc: 0.6585\n",
            "Epoch 40/40\n",
            "8083/8083 [==============================] - 1s 116us/step - loss: 1.4470 - acc: 0.6361 - val_loss: 1.7515 - val_acc: 0.6429\n",
            "2246/2246 [==============================] - 0s 52us/step\n"
          ],
          "name": "stdout"
        }
      ]
    },
    {
      "cell_type": "code",
      "metadata": {
        "colab_type": "code",
        "id": "X53AE4pC0zbQ",
        "outputId": "ec60e9b4-844e-421e-c897-c9cfa3155a05",
        "colab": {
          "base_uri": "https://localhost:8080/",
          "height": 179
        }
      },
      "source": [
        "print('\\nNetwork 1 results')\n",
        "print('Hyperparameters:', network1)\n",
        "print('Test score:', score_model1[0])\n",
        "print('Test accuracy:', score_model1[1])\n",
        "print('Network 2 results')\n",
        "print('Hyperparameters:', network2)\n",
        "print('Test score:', score_model2[0])\n",
        "print('Test accuracy:', score_model2[1])\n"
      ],
      "execution_count": 0,
      "outputs": [
        {
          "output_type": "stream",
          "text": [
            "\n",
            "Network 1 results\n",
            "Hyperparameters: {'n_dense': 6, 'dense_units': 16, 'activation': 'relu', 'dropout': <class 'keras.layers.core.Dropout'>, 'dropout_rate': 0.5, 'kernel_initializer': 'glorot_uniform', 'optimizer': 'sgd'}\n",
            "Test score: 2.102726665014469\n",
            "Test accuracy: 0.5307212823061463\n",
            "Network 2 results\n",
            "Hyperparameters: {'n_dense': 6, 'dense_units': 16, 'activation': 'selu', 'dropout': <class 'keras.layers.noise.AlphaDropout'>, 'dropout_rate': 0.1, 'kernel_initializer': 'lecun_normal', 'optimizer': 'sgd'}\n",
            "Test score: 1.6901732902917497\n",
            "Test accuracy: 0.6451469279248483\n"
          ],
          "name": "stdout"
        }
      ]
    },
    {
      "cell_type": "code",
      "metadata": {
        "colab_type": "code",
        "id": "md8FHCIH0_PI",
        "outputId": "e9afed07-10be-4fc9-f5a1-edd5a7c7991c",
        "colab": {
          "base_uri": "https://localhost:8080/",
          "height": 283
        }
      },
      "source": [
        "plt.plot(range(epochs),\n",
        "         history_model1.history['val_loss'],\n",
        "         'g-',\n",
        "         label='Network 1 Val Loss')\n",
        "plt.plot(range(epochs),\n",
        "         history_model2.history['val_loss'],\n",
        "         'r-',\n",
        "         label='Network 2 Val Loss')\n",
        "plt.plot(range(epochs),\n",
        "         history_model1.history['loss'],\n",
        "         'g--',\n",
        "         label='Network 1 Loss')\n",
        "plt.plot(range(epochs),\n",
        "         history_model2.history['loss'],\n",
        "         'r--',\n",
        "         label='Network 2 Loss')\n",
        "plt.xlabel('Epochs')\n",
        "plt.ylabel('Loss')\n",
        "plt.legend()\n",
        "plt.show()"
      ],
      "execution_count": 0,
      "outputs": [
        {
          "output_type": "display_data",
          "data": {
            "image/png": "[encoded data removed]",
            "text/plain": [
              "<Figure size 432x288 with 1 Axes>"
            ]
          },
          "metadata": {
            "tags": []
          }
        }
      ]
    },
    {
      "cell_type": "code",
      "metadata": {
        "colab_type": "code",
        "id": "hmP31GT-1G7Y",
        "colab": {}
      },
      "source": [
        ""
      ],
      "execution_count": 0,
      "outputs": []
    }
  ]
}