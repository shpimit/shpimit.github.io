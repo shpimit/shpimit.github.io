{
 "cells": [
  {
   "cell_type": "code",
   "execution_count": 1,
   "metadata": {
    "colab": {
     "base_uri": "https://localhost:8080/",
     "height": 285
    },
    "colab_type": "code",
    "id": "TSbYTKBr16YH",
    "outputId": "e78456b7-5142-48a1-9a12-75e171a2e46d"
   },
   "outputs": [
    {
     "name": "stdout",
     "output_type": "stream",
     "text": [
      "Requirement already satisfied: flickrapi in c:\\users\\user\\appdata\\local\\continuum\\anaconda3\\lib\\site-packages (2.4.0)\n",
      "Requirement already satisfied: requests-oauthlib>=0.4.0 in c:\\users\\user\\appdata\\local\\continuum\\anaconda3\\lib\\site-packages (from flickrapi) (1.2.0)\n",
      "Requirement already satisfied: requests-toolbelt>=0.3.1 in c:\\users\\user\\appdata\\local\\continuum\\anaconda3\\lib\\site-packages (from flickrapi) (0.9.1)\n",
      "Requirement already satisfied: six>=1.5.2 in c:\\users\\user\\appdata\\local\\continuum\\anaconda3\\lib\\site-packages (from flickrapi) (1.12.0)\n",
      "Requirement already satisfied: requests>=2.2.1 in c:\\users\\user\\appdata\\local\\continuum\\anaconda3\\lib\\site-packages (from flickrapi) (2.22.0)\n",
      "Requirement already satisfied: oauthlib>=3.0.0 in c:\\users\\user\\appdata\\local\\continuum\\anaconda3\\lib\\site-packages (from requests-oauthlib>=0.4.0->flickrapi) (3.1.0)\n",
      "Requirement already satisfied: idna<2.9,>=2.5 in c:\\users\\user\\appdata\\local\\continuum\\anaconda3\\lib\\site-packages (from requests>=2.2.1->flickrapi) (2.8)\n",
      "Requirement already satisfied: certifi>=2017.4.17 in c:\\users\\user\\appdata\\local\\continuum\\anaconda3\\lib\\site-packages (from requests>=2.2.1->flickrapi) (2019.6.16)\n",
      "Requirement already satisfied: urllib3!=1.25.0,!=1.25.1,<1.26,>=1.21.1 in c:\\users\\user\\appdata\\local\\continuum\\anaconda3\\lib\\site-packages (from requests>=2.2.1->flickrapi) (1.24.2)\n",
      "Requirement already satisfied: chardet<3.1.0,>=3.0.2 in c:\\users\\user\\appdata\\local\\continuum\\anaconda3\\lib\\site-packages (from requests>=2.2.1->flickrapi) (3.0.4)\n",
      "Note: you may need to restart the kernel to use updated packages.\n"
     ]
    }
   ],
   "source": [
    "pip install flickrapi"
   ]
  },
  {
   "cell_type": "code",
   "execution_count": 2,
   "metadata": {
    "colab": {},
    "colab_type": "code",
    "id": "3X9PUHIz2XGf"
   },
   "outputs": [
    {
     "name": "stdout",
     "output_type": "stream",
     "text": [
      "{'page': 1,\n",
      " 'pages': 33990,\n",
      " 'perpage': 5,\n",
      " 'photo': [{'farm': 66,\n",
      "            'height_s': '240',\n",
      "            'id': '48747826683',\n",
      "            'isfamily': 0,\n",
      "            'isfriend': 0,\n",
      "            'ispublic': 1,\n",
      "            'owner': '57361659@N02',\n",
      "            'secret': 'cd6f70f50a',\n",
      "            'server': '65535',\n",
      "            'title': 'Beautiful Kitty',\n",
      "            'url_s': 'https://live.staticflickr.com/65535/48747826683_cd6f70f50a_m.jpg',\n",
      "            'width_s': '174'},\n",
      "           {'farm': 66,\n",
      "            'height_s': '180',\n",
      "            'id': '48748111971',\n",
      "            'isfamily': 0,\n",
      "            'isfriend': 0,\n",
      "            'ispublic': 1,\n",
      "            'owner': '81607599@N00',\n",
      "            'secret': '2036bf4339',\n",
      "            'server': '65535',\n",
      "            'title': 'Late night TV with Piper...',\n",
      "            'url_s': 'https://live.staticflickr.com/65535/48748111971_2036bf4339_m.jpg',\n",
      "            'width_s': '240'},\n",
      "           {'farm': 66,\n",
      "            'height_s': '240',\n",
      "            'id': '48747697118',\n",
      "            'isfamily': 0,\n",
      "            'isfriend': 0,\n",
      "            'ispublic': 1,\n",
      "            'owner': '80780290@N05',\n",
      "            'secret': '9ca0995378',\n",
      "            'server': '65535',\n",
      "            'title': 'Plus le monde est terrifiant, Plus faut que tu le '\n",
      "                     'dessines :  Masoom, Candy Kitten.',\n",
      "            'url_s': 'https://live.staticflickr.com/65535/48747697118_9ca0995378_m.jpg',\n",
      "            'width_s': '240'},\n",
      "           {'farm': 66,\n",
      "            'height_s': '127',\n",
      "            'id': '48747894436',\n",
      "            'isfamily': 0,\n",
      "            'isfriend': 0,\n",
      "            'ispublic': 1,\n",
      "            'owner': '130602894@N02',\n",
      "            'secret': '0f51c3d638',\n",
      "            'server': '65535',\n",
      "            'title': 'Look 1018 -  Cocktail Home Bar',\n",
      "            'url_s': 'https://live.staticflickr.com/65535/48747894436_0f51c3d638_m.jpg',\n",
      "            'width_s': '240'},\n",
      "           {'farm': 66,\n",
      "            'height_s': '179',\n",
      "            'id': '48748057927',\n",
      "            'isfamily': 0,\n",
      "            'isfriend': 0,\n",
      "            'ispublic': 1,\n",
      "            'owner': '153237179@N02',\n",
      "            'secret': '2f72b57b00',\n",
      "            'server': '65535',\n",
      "            'title': 'Lost 7 months old cat. She got out this morning in '\n",
      "                     '#Bankview SW Calgary (17th street and 24th ave). She is '\n",
      "                     'a grey/white tabby and will likely come to her name '\n",
      "                     'being called or food. Please contact me at 587 582 2552 '\n",
      "                     'if found. Pls RT share help to get Ziggy',\n",
      "            'url_s': 'https://live.staticflickr.com/65535/48748057927_2f72b57b00_m.jpg',\n",
      "            'width_s': '240'}],\n",
      " 'total': '169948'}\n"
     ]
    }
   ],
   "source": [
    "from flickrapi import FlickrAPI\n",
    "\n",
    "FLICKER_KEY = '505e8c2b05e8b5aa51766a43fc4bc7a7'\n",
    "FLICKER_SECRET = '46b3ef2f43b04ac6'\n",
    "\n",
    "flickr = FlickrAPI(FLICKER_KEY, FLICKER_SECRET, format='parsed-json')\n",
    "extras='url_s'\n",
    "# extras='url_sq,url_t,url_s,url_q,url_m,url_n,url_z,url_c,url_l,url_o'\n",
    "\n",
    "cats = flickr.photos.search(text='kitten',per_page=5, extras=extras)\n",
    "photos = cats['photos']\n",
    "\n",
    "from pprint import pprint\n",
    "pprint(photos)\n"
   ]
  },
  {
   "cell_type": "code",
   "execution_count": 3,
   "metadata": {},
   "outputs": [
    {
     "data": {
      "text/plain": [
       "1"
      ]
     },
     "execution_count": 3,
     "metadata": {},
     "output_type": "execute_result"
    }
   ],
   "source": [
    "cats['photos']['page']"
   ]
  },
  {
   "cell_type": "code",
   "execution_count": 4,
   "metadata": {
    "colab": {},
    "colab_type": "code",
    "id": "NRgnGMlv4ZiZ"
   },
   "outputs": [],
   "source": [
    "# import the necessary packages\n",
    "import numpy as np\n",
    "import urllib\n",
    "import cv2\n",
    "\n",
    "# METHOD #1 : OpenCV, NumPy, and urllib\n",
    "def url_to_image(url):\n",
    "# download the image, convert it to a NumPy array, and the read\n",
    "# it into OpenCV format\n",
    "    resp = urllib.request.urlopen(url)\n",
    "    image = np.asarray(bytearray(resp.read()), dtype='uint8')\n",
    "    image = cv2.imdecode(image, cv2.IMREAD_COLOR)\n",
    "    \n",
    "    return image"
   ]
  },
  {
   "cell_type": "code",
   "execution_count": 5,
   "metadata": {
    "colab": {
     "base_uri": "https://localhost:8080/",
     "height": 413
    },
    "colab_type": "code",
    "id": "CmMHVn-T4mvH",
    "outputId": "d13e6de1-7c29-48d5-fbca-0a17bf7a651e"
   },
   "outputs": [
    {
     "name": "stdout",
     "output_type": "stream",
     "text": [
      "downloading https://live.staticflickr.com/65535/48239557012_4408050887_m.jpg\n",
      "downloading https://live.staticflickr.com/65535/48239467791_c85039d01f_m.jpg\n"
     ]
    }
   ],
   "source": [
    "# from google.colab.patches import cv2_imshow\n",
    "\n",
    "# initialize the list of image URLs to download\n",
    "urls = [\n",
    "\t\"https://live.staticflickr.com/65535/48239557012_4408050887_m.jpg\",\n",
    "    \"https://live.staticflickr.com/65535/48239467791_c85039d01f_m.jpg\"\n",
    "]\n",
    " \n",
    "# loop over the image URLs\n",
    "for url in urls:\n",
    "    #download the imjage URL and display it\n",
    "    print(\"downloading %s\" % (url))\n",
    "    image = url_to_image(url)\n",
    "#     cv2_imshow(image)\n",
    "#     cv2.imshow(image)\n",
    "    cv2.imshow('object detection', image)\n",
    "    cv2.waitKey(0)\n",
    "    cv2.destroyAllWindows()"
   ]
  },
  {
   "cell_type": "code",
   "execution_count": null,
   "metadata": {
    "colab": {
     "base_uri": "https://localhost:8080/",
     "height": 126
    },
    "colab_type": "code",
    "id": "NAx3XCycvy6M",
    "outputId": "8db31c95-d54a-48b0-b237-81c6d4708cd3"
   },
   "outputs": [
    {
     "name": "stdout",
     "output_type": "stream",
     "text": [
      "Go to this URL in a browser: https://accounts.google.com/o/oauth2/auth?client_id=947318989803-6bn6qk8qdgf4n4g3pfee6491hc0brc4i.apps.googleusercontent.com&redirect_uri=urn%3Aietf%3Awg%3Aoauth%3A2.0%3Aoob&scope=email%20https%3A%2F%2Fwww.googleapis.com%2Fauth%2Fdocs.test%20https%3A%2F%2Fwww.googleapis.com%2Fauth%2Fdrive%20https%3A%2F%2Fwww.googleapis.com%2Fauth%2Fdrive.photos.readonly%20https%3A%2F%2Fwww.googleapis.com%2Fauth%2Fpeopleapi.readonly&response_type=code\n",
      "\n",
      "Enter your authorization code:\n",
      "··········\n",
      "Mounted at /content/gdrive\n"
     ]
    }
   ],
   "source": [
    "from google.colab import auth\n",
    "auth.authenticate_user()\n",
    "\n",
    "from google.colab import drive\n",
    "drive.mount('/content/gdrive')"
   ]
  },
  {
   "cell_type": "code",
   "execution_count": 7,
   "metadata": {
    "colab": {},
    "colab_type": "code",
    "id": "vRTC_DVY-0af"
   },
   "outputs": [],
   "source": [
    "# from google.colab.patches import cv2_imshow\n",
    "\n",
    "for i in range(5):\n",
    "  image_original_url = photos['photo'][i]['url_s']\n",
    "  image_temp = url_to_image(image_original_url)\n",
    "  file_name = 'C:/Users/user/datasets/cats_{}.jpg'.format(i)\n",
    "  cv2.imwrite(file_name, image_temp)\n",
    "#   cv2_imshow(image_temp)\n",
    "  cv2.imshow('object detection', image_temp)\n",
    "  cv2.waitKey(0)\n",
    "  cv2.destroyAllWindows()"
   ]
  },
  {
   "cell_type": "code",
   "execution_count": 8,
   "metadata": {
    "colab": {
     "base_uri": "https://localhost:8080/",
     "height": 35
    },
    "colab_type": "code",
    "id": "9jJ4EQ--ANlm",
    "outputId": "29fd236d-081c-4b12-a935-2b239168ab0c"
   },
   "outputs": [
    {
     "name": "stdout",
     "output_type": "stream",
     "text": [
      "(179, 240, 3)\n"
     ]
    }
   ],
   "source": [
    "print(image_temp.shape)"
   ]
  },
  {
   "cell_type": "code",
   "execution_count": 9,
   "metadata": {
    "colab": {},
    "colab_type": "code",
    "id": "uhw7LGI-qkSm"
   },
   "outputs": [],
   "source": [
    "def image_resize(image, x, y):\n",
    "  return cv2.resize(image, (x, y))"
   ]
  },
  {
   "cell_type": "code",
   "execution_count": 10,
   "metadata": {
    "colab": {},
    "colab_type": "code",
    "id": "8NsFNKmoq7u4"
   },
   "outputs": [],
   "source": [
    "resized = image_resize(image_temp, 224, 224)"
   ]
  },
  {
   "cell_type": "code",
   "execution_count": 11,
   "metadata": {
    "colab": {
     "base_uri": "https://localhost:8080/",
     "height": 259
    },
    "colab_type": "code",
    "id": "sA24rDnerC92",
    "outputId": "301b0a21-5dc6-4088-c14d-f7eff760e41c"
   },
   "outputs": [
    {
     "name": "stdout",
     "output_type": "stream",
     "text": [
      "(224, 224, 3)\n"
     ]
    }
   ],
   "source": [
    "print(resized.shape)\n",
    "cv2.imshow('object detection', resized)\n",
    "cv2.waitKey(0)\n",
    "cv2.destroyAllWindows()"
   ]
  },
  {
   "cell_type": "code",
   "execution_count": null,
   "metadata": {
    "colab": {},
    "colab_type": "code",
    "id": "MnQHsRocrxy7"
   },
   "outputs": [],
   "source": [
    "resized = np.expand_dims(resized, axis=0)"
   ]
  },
  {
   "cell_type": "code",
   "execution_count": 12,
   "metadata": {
    "colab": {
     "base_uri": "https://localhost:8080/",
     "height": 35
    },
    "colab_type": "code",
    "id": "pDBOY8wMr6ql",
    "outputId": "cc86d37d-7133-4cfe-8f74-010e13375b8a"
   },
   "outputs": [
    {
     "name": "stdout",
     "output_type": "stream",
     "text": [
      "(224, 224, 3)\n"
     ]
    }
   ],
   "source": [
    "print(resized.shape)"
   ]
  },
  {
   "cell_type": "code",
   "execution_count": 13,
   "metadata": {
    "colab": {
     "base_uri": "https://localhost:8080/",
     "height": 241
    },
    "colab_type": "code",
    "id": "hShvEK0ZrMR2",
    "outputId": "9d9cf48f-7285-4312-efb5-1026ef235487"
   },
   "outputs": [],
   "source": [
    "cv2.imshow('object detection', np.squeeze(resized))\n",
    "cv2.waitKey(0)\n",
    "cv2.destroyAllWindows()"
   ]
  },
  {
   "cell_type": "code",
   "execution_count": null,
   "metadata": {},
   "outputs": [],
   "source": []
  }
 ],
 "metadata": {
  "colab": {
   "collapsed_sections": [],
   "name": "Flicker_application_실습.ipynb",
   "provenance": [],
   "version": "0.3.2"
  },
  "kernelspec": {
   "display_name": "Python 3",
   "language": "python",
   "name": "python3"
  },
  "language_info": {
   "codemirror_mode": {
    "name": "ipython",
    "version": 3
   },
   "file_extension": ".py",
   "mimetype": "text/x-python",
   "name": "python",
   "nbconvert_exporter": "python",
   "pygments_lexer": "ipython3",
   "version": "3.7.3"
  }
 },
 "nbformat": 4,
 "nbformat_minor": 4
}
