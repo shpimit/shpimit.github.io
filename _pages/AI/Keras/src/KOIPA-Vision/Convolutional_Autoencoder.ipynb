{
 "cells": [
  {
   "cell_type": "code",
   "execution_count": 1,
   "metadata": {},
   "outputs": [
    {
     "name": "stderr",
     "output_type": "stream",
     "text": [
      "Using TensorFlow backend.\n"
     ]
    }
   ],
   "source": [
    "from keras.datasets import mnist\n",
    "import numpy as np\n",
    "\n",
    "(x_train,_), (x_test,_) = mnist.load_data()"
   ]
  },
  {
   "cell_type": "code",
   "execution_count": 2,
   "metadata": {},
   "outputs": [],
   "source": [
    "x_train = x_train.astype('float32') / 255                                   # (60000, 28, 28, 1)\n",
    "x_test  = x_test.astype('float32') / 255\n",
    "x_train = x_train.reshape((len(x_train), 28, 28, 1))       \n",
    "x_test  = x_test.reshape((len(x_test), 28, 28, 1))"
   ]
  },
  {
   "cell_type": "code",
   "execution_count": 4,
   "metadata": {},
   "outputs": [],
   "source": [
    "from keras.layers import Input, Dense, Conv2D, MaxPooling2D, UpSampling2D\n",
    "from keras.models import Model\n",
    "from keras import backend as K"
   ]
  },
  {
   "cell_type": "code",
   "execution_count": 6,
   "metadata": {},
   "outputs": [],
   "source": [
    "## Encoding\n",
    "\n",
    "input_img = Input(shape=(28, 28, 1))   # adapt this if using `channels_first\n",
    "\n",
    "x = Conv2D(16, (3, 3), activation='relu', padding='same')(input_img)\n",
    "# None, 28, 28, 16\n",
    "x = MaxPooling2D((2, 2), padding='same')(x)\n",
    "# None, 14, 14, 16\n",
    "x = Conv2D(8, (3, 3), activation='relu', padding='same')(x)\n",
    "# None, 14, 14, 8\n",
    "x = MaxPooling2D((2, 2), padding='same')(x)\n",
    "# None, 7, 7, 8\n",
    "x = Conv2D(8, (3, 3), activation='relu', padding='same')(x)\n",
    "# None, 7, 7, 8\n",
    "encoded = MaxPooling2D((2, 2), padding='same')(x)\n",
    "# None, 4, 4, 8"
   ]
  },
  {
   "cell_type": "code",
   "execution_count": 9,
   "metadata": {},
   "outputs": [],
   "source": [
    "## Decoding\n",
    "\n",
    "x = Conv2D(8, (3, 3), activation='relu', padding='same')(encoded)\n",
    "# None, 4, 4, 8\n",
    "x = UpSampling2D((2, 2))(x)                                        # 확장된 빈값은 평균값을 채운다.\n",
    "# None, 8, 8, 8\n",
    "x = Conv2D(8, (3, 3), activation='relu', padding='same')(x)\n",
    "# None, 8, 8, 8\n",
    "x = UpSampling2D((2, 2))(x)\n",
    "# None, 16, 16, 8\n",
    "x = Conv2D(16, (3, 3), activation='relu')(x)\n",
    "# None, 14, 14, 16\n",
    "x = UpSampling2D((2, 2))(x)\n",
    "# None, 28, 18, 16\n",
    "decoded = Conv2D(1, (3, 3), activation='sigmoid', padding='same')(x)\n",
    "# None, 28, 18, 1"
   ]
  },
  {
   "cell_type": "code",
   "execution_count": 10,
   "metadata": {},
   "outputs": [
    {
     "name": "stdout",
     "output_type": "stream",
     "text": [
      "WARNING:tensorflow:From C:\\Users\\user\\AppData\\Local\\Continuum\\anaconda3\\lib\\site-packages\\keras\\optimizers.py:793: The name tf.train.Optimizer is deprecated. Please use tf.compat.v1.train.Optimizer instead.\n",
      "\n",
      "WARNING:tensorflow:From C:\\Users\\user\\AppData\\Local\\Continuum\\anaconda3\\lib\\site-packages\\keras\\backend\\tensorflow_backend.py:3657: The name tf.log is deprecated. Please use tf.math.log instead.\n",
      "\n",
      "WARNING:tensorflow:From C:\\Users\\user\\AppData\\Local\\Continuum\\anaconda3\\lib\\site-packages\\tensorflow\\python\\ops\\nn_impl.py:180: add_dispatch_support.<locals>.wrapper (from tensorflow.python.ops.array_ops) is deprecated and will be removed in a future version.\n",
      "Instructions for updating:\n",
      "Use tf.where in 2.0, which has the same broadcast rule as np.where\n"
     ]
    }
   ],
   "source": [
    "autoencoder = Model(input_img, decoded)\n",
    "autoencoder.compile(optimizer='adadelta', loss='binary_crossentropy')"
   ]
  },
  {
   "cell_type": "code",
   "execution_count": 11,
   "metadata": {},
   "outputs": [
    {
     "name": "stdout",
     "output_type": "stream",
     "text": [
      "WARNING:tensorflow:From C:\\Users\\user\\AppData\\Local\\Continuum\\anaconda3\\lib\\site-packages\\keras\\backend\\tensorflow_backend.py:1033: The name tf.assign_add is deprecated. Please use tf.compat.v1.assign_add instead.\n",
      "\n",
      "Train on 60000 samples, validate on 10000 samples\n",
      "Epoch 1/50\n",
      "60000/60000 [==============================] - 53s 884us/step - loss: 0.2545 - val_loss: 0.1967\n",
      "Epoch 2/50\n",
      "60000/60000 [==============================] - 52s 874us/step - loss: 0.1788 - val_loss: 0.1679\n",
      "Epoch 3/50\n",
      "60000/60000 [==============================] - 52s 874us/step - loss: 0.1602 - val_loss: 0.1491\n",
      "Epoch 4/50\n",
      "60000/60000 [==============================] - 52s 873us/step - loss: 0.1502 - val_loss: 0.1427\n",
      "Epoch 5/50\n",
      "60000/60000 [==============================] - 52s 867us/step - loss: 0.1427 - val_loss: 0.1390\n",
      "Epoch 6/50\n",
      "60000/60000 [==============================] - 50s 838us/step - loss: 0.1368 - val_loss: 0.1293\n",
      "Epoch 7/50\n",
      "60000/60000 [==============================] - 50s 840us/step - loss: 0.1324 - val_loss: 0.1312\n",
      "Epoch 8/50\n",
      "60000/60000 [==============================] - 51s 842us/step - loss: 0.1295 - val_loss: 0.1280\n",
      "Epoch 9/50\n",
      "60000/60000 [==============================] - 52s 871us/step - loss: 0.1268 - val_loss: 0.1252\n",
      "Epoch 10/50\n",
      "60000/60000 [==============================] - 51s 853us/step - loss: 0.1248 - val_loss: 0.1245\n",
      "Epoch 11/50\n",
      "60000/60000 [==============================] - 50s 830us/step - loss: 0.1228 - val_loss: 0.1252\n",
      "Epoch 12/50\n",
      "60000/60000 [==============================] - 50s 831us/step - loss: 0.1215 - val_loss: 0.1208\n",
      "Epoch 13/50\n",
      "60000/60000 [==============================] - 49s 824us/step - loss: 0.1204 - val_loss: 0.1222\n",
      "Epoch 14/50\n",
      "60000/60000 [==============================] - 50s 833us/step - loss: 0.1191 - val_loss: 0.1191\n",
      "Epoch 15/50\n",
      "60000/60000 [==============================] - 50s 834us/step - loss: 0.1179 - val_loss: 0.1133\n",
      "Epoch 16/50\n",
      "60000/60000 [==============================] - 50s 835us/step - loss: 0.1170 - val_loss: 0.1163\n",
      "Epoch 17/50\n",
      "60000/60000 [==============================] - 51s 853us/step - loss: 0.1160 - val_loss: 0.1160\n",
      "Epoch 18/50\n",
      "60000/60000 [==============================] - 50s 839us/step - loss: 0.1147 - val_loss: 0.1140\n",
      "Epoch 19/50\n",
      "60000/60000 [==============================] - 50s 829us/step - loss: 0.1141 - val_loss: 0.1138\n",
      "Epoch 20/50\n",
      "60000/60000 [==============================] - 51s 845us/step - loss: 0.1134 - val_loss: 0.1130\n",
      "Epoch 21/50\n",
      "60000/60000 [==============================] - 51s 842us/step - loss: 0.1128 - val_loss: 0.1111\n",
      "Epoch 22/50\n",
      "60000/60000 [==============================] - 50s 841us/step - loss: 0.1119 - val_loss: 0.1086\n",
      "Epoch 23/50\n",
      "60000/60000 [==============================] - 52s 860us/step - loss: 0.1113 - val_loss: 0.1105\n",
      "Epoch 24/50\n",
      "60000/60000 [==============================] - 51s 844us/step - loss: 0.1112 - val_loss: 0.1085\n",
      "Epoch 25/50\n",
      "60000/60000 [==============================] - 50s 835us/step - loss: 0.1102 - val_loss: 0.1097\n",
      "Epoch 26/50\n",
      "60000/60000 [==============================] - 51s 842us/step - loss: 0.1099 - val_loss: 0.1069\n",
      "Epoch 27/50\n",
      "60000/60000 [==============================] - 55s 912us/step - loss: 0.1094 - val_loss: 0.1144\n",
      "Epoch 28/50\n",
      "60000/60000 [==============================] - 54s 896us/step - loss: 0.1090 - val_loss: 0.1152\n",
      "Epoch 29/50\n",
      "60000/60000 [==============================] - 52s 873us/step - loss: 0.1085 - val_loss: 0.1049\n",
      "Epoch 30/50\n",
      "60000/60000 [==============================] - 51s 849us/step - loss: 0.1082 - val_loss: 0.1040\n",
      "Epoch 31/50\n",
      "60000/60000 [==============================] - 53s 879us/step - loss: 0.1078 - val_loss: 0.1075\n",
      "Epoch 32/50\n",
      "60000/60000 [==============================] - 50s 842us/step - loss: 0.1076 - val_loss: 0.1053\n",
      "Epoch 33/50\n",
      "60000/60000 [==============================] - 50s 827us/step - loss: 0.1073 - val_loss: 0.1058\n",
      "Epoch 34/50\n",
      "60000/60000 [==============================] - 50s 827us/step - loss: 0.1067 - val_loss: 0.1069\n",
      "Epoch 35/50\n",
      "60000/60000 [==============================] - 50s 830us/step - loss: 0.1065 - val_loss: 0.1070\n",
      "Epoch 36/50\n",
      "60000/60000 [==============================] - 50s 830us/step - loss: 0.1062 - val_loss: 0.1048\n",
      "Epoch 37/50\n",
      "60000/60000 [==============================] - 50s 830us/step - loss: 0.1059 - val_loss: 0.1046\n",
      "Epoch 38/50\n",
      "60000/60000 [==============================] - 50s 840us/step - loss: 0.1058 - val_loss: 0.1031\n",
      "Epoch 39/50\n",
      "60000/60000 [==============================] - 51s 853us/step - loss: 0.1055 - val_loss: 0.1032\n",
      "Epoch 40/50\n",
      "60000/60000 [==============================] - 51s 857us/step - loss: 0.1052 - val_loss: 0.1058\n",
      "Epoch 41/50\n",
      "60000/60000 [==============================] - 50s 836us/step - loss: 0.1049 - val_loss: 0.1019\n",
      "Epoch 42/50\n",
      "60000/60000 [==============================] - 51s 845us/step - loss: 0.1048 - val_loss: 0.1045\n",
      "Epoch 43/50\n",
      "60000/60000 [==============================] - 51s 847us/step - loss: 0.1046 - val_loss: 0.1016\n",
      "Epoch 44/50\n",
      "60000/60000 [==============================] - 50s 832us/step - loss: 0.1042 - val_loss: 0.1078\n",
      "Epoch 45/50\n",
      "60000/60000 [==============================] - 51s 843us/step - loss: 0.1039 - val_loss: 0.1056\n",
      "Epoch 46/50\n",
      "60000/60000 [==============================] - 52s 870us/step - loss: 0.1041 - val_loss: 0.1008\n",
      "Epoch 47/50\n",
      "60000/60000 [==============================] - 51s 857us/step - loss: 0.1038 - val_loss: 0.1035\n",
      "Epoch 48/50\n",
      "60000/60000 [==============================] - 52s 860us/step - loss: 0.1032 - val_loss: 0.1019\n",
      "Epoch 49/50\n",
      "60000/60000 [==============================] - 50s 837us/step - loss: 0.1028 - val_loss: 0.1028\n",
      "Epoch 50/50\n",
      "60000/60000 [==============================] - 52s 867us/step - loss: 0.1032 - val_loss: 0.1017\n"
     ]
    },
    {
     "data": {
      "text/plain": [
       "<keras.callbacks.History at 0x1c3a28adbe0>"
      ]
     },
     "execution_count": 11,
     "metadata": {},
     "output_type": "execute_result"
    }
   ],
   "source": [
    "autoencoder.fit(x_train, x_train, epochs=50, batch_size=256, shuffle=True, validation_data=(x_test, x_test))"
   ]
  },
  {
   "cell_type": "code",
   "execution_count": 12,
   "metadata": {},
   "outputs": [],
   "source": [
    "decoded_imgs = autoencoder.predict(x_test)"
   ]
  },
  {
   "cell_type": "code",
   "execution_count": 14,
   "metadata": {},
   "outputs": [
    {
     "data": {
      "image/png": "[encoded data removed]",
      "text/plain": [
       "<Figure size 1440x288 with 20 Axes>"
      ]
     },
     "metadata": {
      "needs_background": "light"
     },
     "output_type": "display_data"
    }
   ],
   "source": [
    "# use Matplotlib (don't ask)\n",
    "import matplotlib.pyplot as plt\n",
    "\n",
    "n = 10  # how many digits we will display\n",
    "plt.figure(figsize=(20, 4))\n",
    "for i in range(n):\n",
    "    # display original\n",
    "    ax = plt.subplot(2, n, i + 1)\n",
    "    plt.imshow(x_test[i].reshape(28, 28))\n",
    "    plt.gray()\n",
    "    ax.get_xaxis().set_visible(False)\n",
    "    ax.get_yaxis().set_visible(False)\n",
    "\n",
    "    # display reconstruction\n",
    "    ax = plt.subplot(2, n, i + 1 + n)\n",
    "    plt.imshow(decoded_imgs[i].reshape(28, 28))\n",
    "    plt.gray()\n",
    "    ax.get_xaxis().set_visible(False)\n",
    "    ax.get_yaxis().set_visible(False)\n",
    "plt.show()"
   ]
  },
  {
   "cell_type": "code",
   "execution_count": null,
   "metadata": {},
   "outputs": [],
   "source": []
  }
 ],
 "metadata": {
  "kernelspec": {
   "display_name": "Python 3",
   "language": "python",
   "name": "python3"
  },
  "language_info": {
   "codemirror_mode": {
    "name": "ipython",
    "version": 3
   },
   "file_extension": ".py",
   "mimetype": "text/x-python",
   "name": "python",
   "nbconvert_exporter": "python",
   "pygments_lexer": "ipython3",
   "version": "3.7.3"
  }
 },
 "nbformat": 4,
 "nbformat_minor": 4
}
