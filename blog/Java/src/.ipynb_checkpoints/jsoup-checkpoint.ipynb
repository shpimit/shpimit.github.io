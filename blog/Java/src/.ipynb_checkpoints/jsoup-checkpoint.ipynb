{
 "cells": [
  {
   "cell_type": "code",
   "execution_count": 6,
   "metadata": {},
   "outputs": [],
   "source": [
    "%%loadFromPOM\n",
    "<repository>\n",
    "  <id>oss-sonatype-snapshots</id>\n",
    "  <url>https://oss.sonatype.org/content/repositories/snapshots/</url>\n",
    "</repository>\n",
    "\n",
    "\t\t<dependency>\n",
    "\t\t\t<!-- jsoup HTML parser library @ https://jsoup.org/ -->\n",
    "\t\t\t<groupId>org.jsoup</groupId>\n",
    "\t\t\t<artifactId>jsoup</artifactId>\n",
    "\t\t\t<version>1.11.3</version>\n",
    "\t\t</dependency>"
   ]
  },
  {
   "cell_type": "code",
   "execution_count": 7,
   "metadata": {},
   "outputs": [],
   "source": [
    "# https 통신\n",
    "import java.security.SecureRandom;\n",
    "import java.security.cert.X509Certificate;\n",
    "\n",
    "import javax.net.ssl.HttpsURLConnection;\n",
    "import javax.net.ssl.SSLContext;\n",
    "import javax.net.ssl.TrustManager;\n",
    "import javax.net.ssl.X509TrustManager;\n",
    "import org.jsoup.Jsoup;\n",
    "import org.jsoup.nodes.Document;\n",
    "import org.jsoup.nodes.Element;\n",
    "import org.jsoup.select.Elements;\n",
    "\n",
    "\n",
    "TrustManager[] trustAllCerts = new TrustManager[]{new X509TrustManager(){\n",
    "    public X509Certificate[] getAcceptedIssuers(){return new X509Certificate[0];}\n",
    "    public void checkClientTrusted(X509Certificate[] certs, String authType){}\n",
    "    public void checkServerTrusted(X509Certificate[] certs, String authType){}\n",
    "}};\n",
    "\n",
    "SSLContext sc = SSLContext.getInstance(\"TLS\");\n",
    "sc.init(null, trustAllCerts, new SecureRandom());\n",
    "HttpsURLConnection.setDefaultSSLSocketFactory(sc.getSocketFactory());\n",
    "\n",
    "\n",
    "// Document doc = Jsoup.connect(\"https://news.naver.com\").data(\"query\", \"Java\").userAgent(\"Mozilla\").cookie(\"auth\", \"token\").timeout(3000).post();\n",
    "Document doc = Jsoup.connect(\"https://news.naver.com\").get();\n",
    "System.out.println(doc.title())\n",
    "\n",
    "// Elements newsHeadlines = doc.select(\".main_hotissu a\");\n",
    "// for (Element headline : newsHeadlines) {\n",
    "// //     log(\"%s\\n\\t%s\", headline.attr(\"title\"), headline.absUrl(\"href\"));\n",
    "//     System.out.println(headline.attr(\"title\"))    \n",
    "//     System.out.println(headline.absUrl(\"href\"))    \n",
    "// }"
   ]
  },
  {
   "cell_type": "code",
   "execution_count": 8,
   "metadata": {},
   "outputs": [
    {
     "name": "stdout",
     "output_type": "stream",
     "text": [
      "Hello World\n"
     ]
    }
   ],
   "source": [
    "System.out.println(\"Hello World\")"
   ]
  },
  {
   "cell_type": "code",
   "execution_count": null,
   "metadata": {},
   "outputs": [],
   "source": []
  }
 ],
 "metadata": {
  "kernelspec": {
   "display_name": "Java",
   "language": "java",
   "name": "java"
  },
  "language_info": {
   "codemirror_mode": "java",
   "file_extension": ".java",
   "mimetype": "text/x-java-source",
   "name": "Java",
   "pygments_lexer": "java",
   "version": "9+181"
  }
 },
 "nbformat": 4,
 "nbformat_minor": 2
}
