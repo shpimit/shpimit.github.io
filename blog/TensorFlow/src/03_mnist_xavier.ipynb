{
 "cells": [
  {
   "cell_type": "code",
   "execution_count": 1,
   "metadata": {},
   "outputs": [],
   "source": [
    "import tensorflow as tf\n",
    "import random\n",
    "import matplotlib.pyplot as plt\n",
    "\n",
    "from tensorflow.examples.tutorials.mnist import input_data"
   ]
  },
  {
   "cell_type": "code",
   "execution_count": 2,
   "metadata": {},
   "outputs": [
    {
     "name": "stdout",
     "output_type": "stream",
     "text": [
      "WARNING:tensorflow:From <ipython-input-2-962b16018e11>:1: read_data_sets (from tensorflow.contrib.learn.python.learn.datasets.mnist) is deprecated and will be removed in a future version.\n",
      "Instructions for updating:\n",
      "Please use alternatives such as official/mnist/dataset.py from tensorflow/models.\n",
      "WARNING:tensorflow:From C:\\ProgramData\\Anaconda3\\lib\\site-packages\\tensorflow\\contrib\\learn\\python\\learn\\datasets\\mnist.py:260: maybe_download (from tensorflow.contrib.learn.python.learn.datasets.base) is deprecated and will be removed in a future version.\n",
      "Instructions for updating:\n",
      "Please write your own downloading logic.\n",
      "WARNING:tensorflow:From C:\\ProgramData\\Anaconda3\\lib\\site-packages\\tensorflow\\contrib\\learn\\python\\learn\\datasets\\mnist.py:262: extract_images (from tensorflow.contrib.learn.python.learn.datasets.mnist) is deprecated and will be removed in a future version.\n",
      "Instructions for updating:\n",
      "Please use tf.data to implement this functionality.\n",
      "Extracting mnist_data/train-images-idx3-ubyte.gz\n",
      "WARNING:tensorflow:From C:\\ProgramData\\Anaconda3\\lib\\site-packages\\tensorflow\\contrib\\learn\\python\\learn\\datasets\\mnist.py:267: extract_labels (from tensorflow.contrib.learn.python.learn.datasets.mnist) is deprecated and will be removed in a future version.\n",
      "Instructions for updating:\n",
      "Please use tf.data to implement this functionality.\n",
      "Extracting mnist_data/train-labels-idx1-ubyte.gz\n",
      "WARNING:tensorflow:From C:\\ProgramData\\Anaconda3\\lib\\site-packages\\tensorflow\\contrib\\learn\\python\\learn\\datasets\\mnist.py:110: dense_to_one_hot (from tensorflow.contrib.learn.python.learn.datasets.mnist) is deprecated and will be removed in a future version.\n",
      "Instructions for updating:\n",
      "Please use tf.one_hot on tensors.\n",
      "Extracting mnist_data/t10k-images-idx3-ubyte.gz\n",
      "Extracting mnist_data/t10k-labels-idx1-ubyte.gz\n",
      "WARNING:tensorflow:From C:\\ProgramData\\Anaconda3\\lib\\site-packages\\tensorflow\\contrib\\learn\\python\\learn\\datasets\\mnist.py:290: DataSet.__init__ (from tensorflow.contrib.learn.python.learn.datasets.mnist) is deprecated and will be removed in a future version.\n",
      "Instructions for updating:\n",
      "Please use alternatives such as official/mnist/dataset.py from tensorflow/models.\n"
     ]
    }
   ],
   "source": [
    "mnist = input_data.read_data_sets('mnist_data/', one_hot=True)"
   ]
  },
  {
   "cell_type": "code",
   "execution_count": 3,
   "metadata": {},
   "outputs": [],
   "source": [
    "seed = 777\n",
    "tf.set_random_seed(seed)"
   ]
  },
  {
   "cell_type": "code",
   "execution_count": 4,
   "metadata": {},
   "outputs": [],
   "source": [
    "def predictAccuracy(H, Y): # 예측치와 정확도 함수\n",
    "    prediction = tf.equal(tf.argmax(H, axis=1), tf.argmax(Y, axis=1))\n",
    "    accuracy   = tf.reduce_mean(tf.cast(prediction, tf.float32))\n",
    "    return prediction, accuracy\n",
    "\n",
    "def getCost(mylogits, mylabel): # 비용 함수를 구해주는 함수\n",
    "    diff = tf.nn.softmax_cross_entropy_with_logits(logits= mylogits, labels = mylabel)\n",
    "    cost = tf.reduce_mean(diff)\n",
    "    return cost\n",
    "\n",
    "def getOptimizer(learn_rate): # 옵티마이저 구하기\n",
    "    optimizer = tf.train.AdamOptimizer(learning_rate = learn_rate)\n",
    "    train     = optimizer.minimize(cost)\n",
    "    return train"
   ]
  },
  {
   "cell_type": "code",
   "execution_count": 5,
   "metadata": {},
   "outputs": [
    {
     "name": "stdout",
     "output_type": "stream",
     "text": [
      "WARNING:tensorflow:From <ipython-input-4-f1d66b7bcd17>:7: softmax_cross_entropy_with_logits (from tensorflow.python.ops.nn_ops) is deprecated and will be removed in a future version.\n",
      "Instructions for updating:\n",
      "\n",
      "Future major versions of TensorFlow will allow gradients to flow\n",
      "into the labels input on backprop by default.\n",
      "\n",
      "See @{tf.nn.softmax_cross_entropy_with_logits_v2}.\n",
      "\n"
     ]
    }
   ],
   "source": [
    "learn_rate = 0.001\n",
    "training_epochs = 15\n",
    "batch_size = 100\n",
    "\n",
    "nb_classes = 10\n",
    "img_row    = 28\n",
    "img_column = 28\n",
    "mnistimg   = img_row * img_column\n",
    "\n",
    "X = tf.placeholder(tf.float32, shape=[None, mnistimg])\n",
    "Y = tf.placeholder(tf.float32, shape=[None, nb_classes])\n",
    "\n",
    "# W1 = tf.Variable(tf.random_normal(shape=[mnistimg, 256]))\n",
    "W1 = tf.get_variable('W1', shape=[mnistimg,256], initializer=tf.contrib.layers.xavier_initializer())\n",
    "b1 = tf.Variable(tf.random_normal(shape=[256]))\n",
    "H1 = tf.nn.relu(tf.matmul(X, W1) + b1)\n",
    "\n",
    "# W2 = tf.Variable(tf.random_normal(shape=[256, 256]))\n",
    "W2 = tf.get_variable('W2', shape=[256,256], initializer=tf.contrib.layers.xavier_initializer())\n",
    "b2 = tf.Variable(tf.random_normal(shape=[256]))\n",
    "H2 = tf.nn.relu(tf.matmul(H1, W2) + b2)\n",
    "\n",
    "# W3 = tf.Variable(tf.random_normal(shape=[256, nb_classes]))\n",
    "W3 = tf.get_variable('W3', shape=[256,nb_classes], initializer=tf.contrib.layers.xavier_initializer())\n",
    "b3 = tf.Variable(tf.random_normal(shape=[nb_classes]))\n",
    "\n",
    "logits = tf.matmul(H2, W3) + b3\n",
    "H = tf.nn.softmax(logits)\n",
    "\n",
    "cost = getCost(logits, Y)\n",
    "\n",
    "train = getOptimizer( learn_rate )"
   ]
  },
  {
   "cell_type": "code",
   "execution_count": 6,
   "metadata": {},
   "outputs": [
    {
     "name": "stdout",
     "output_type": "stream",
     "text": [
      "0.295800496\n",
      "0.109386513\n",
      "0.072574809\n",
      "0.052423166\n",
      "0.038775900\n",
      "0.028971497\n",
      "0.022830626\n",
      "0.018693901\n",
      "0.016179172\n",
      "0.013660492\n",
      "0.014822432\n",
      "0.011872054\n",
      "0.011175655\n",
      "0.009888903\n",
      "0.008912352\n",
      "training finished\n"
     ]
    }
   ],
   "source": [
    "sess = tf.Session()\n",
    "sess.run(tf.global_variables_initializer())\n",
    "\n",
    "total_batch = int(mnist.train._num_examples / batch_size)\n",
    "\n",
    "for epoch in range(training_epochs):\n",
    "    \n",
    "    total_cost = 0 #비용 전체의 합\n",
    "    \n",
    "    for i in range(total_batch):\n",
    "        batch_xs, batch_ys = mnist.train.next_batch(batch_size)\n",
    "        \n",
    "        feed_data = {X:batch_xs, Y:batch_ys}\n",
    "        _cost, _train = sess.run([cost, train], feed_dict=feed_data)\n",
    "        \n",
    "        total_cost += _cost\n",
    "        \n",
    "    # avg_cost : 평균비용\n",
    "    avg_cost = total_cost / total_batch\n",
    "    \n",
    "    print('{:.9f}'.format(avg_cost))\n",
    "    \n",
    "print('training finished')    \n"
   ]
  },
  {
   "cell_type": "code",
   "execution_count": 7,
   "metadata": {},
   "outputs": [
    {
     "name": "stdout",
     "output_type": "stream",
     "text": [
      "\n",
      " 정확도:[0.9779]\n",
      "\n",
      "라벨(Label) : [2]\n",
      "\n",
      "예측(Prediction) : [7 2 1 ... 4 5 6]\n"
     ]
    },
    {
     "data": {
      "image/png": "[encoded data removed]",
      "text/plain": [
       "<Figure size 432x288 with 1 Axes>"
      ]
     },
     "metadata": {},
     "output_type": "display_data"
    }
   ],
   "source": [
    "# 모델 테스트와 정확도 체크하기\n",
    "prediction, accuracy = predictAccuracy(H, Y)\n",
    "\n",
    "print('\\n 정확도:', end='')\n",
    "\n",
    "feed_data = {X:mnist.test.images, Y:mnist.test.labels}\n",
    "\n",
    "print(sess.run([accuracy], feed_dict= feed_data))\n",
    "\n",
    "# 임의의 그림 1개를 구하고, 예측하기\n",
    "randitem  = random.randint(0, mnist.test.num_examples -1)\n",
    "print('\\n라벨(Label) :', end=' ')\n",
    "print(sess.run(tf.argmax(mnist.test.labels[randitem:randitem+1], axis=1)))\n",
    "\n",
    "print('\\n예측(Prediction) :', end=' ')\n",
    "feed_data={X:mnist.test.images, Y:mnist.test.labels}\n",
    "print(sess.run(tf.argmax(H, axis=1), feed_dict = feed_data))\n",
    "\n",
    "plt.imshow(mnist.test.images[randitem:randitem+1].reshape(img_row, img_column), cmap='Greys', interpolation='nearest')\n",
    "plt.show()"
   ]
  },
  {
   "cell_type": "code",
   "execution_count": null,
   "metadata": {},
   "outputs": [],
   "source": []
  }
 ],
 "metadata": {
  "kernelspec": {
   "display_name": "Python 3",
   "language": "python",
   "name": "python3"
  },
  "language_info": {
   "codemirror_mode": {
    "name": "ipython",
    "version": 3
   },
   "file_extension": ".py",
   "mimetype": "text/x-python",
   "name": "python",
   "nbconvert_exporter": "python",
   "pygments_lexer": "ipython3",
   "version": "3.6.6"
  }
 },
 "nbformat": 4,
 "nbformat_minor": 2
}
