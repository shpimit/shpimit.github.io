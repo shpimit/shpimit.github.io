{
 "cells": [
  {
   "cell_type": "code",
   "execution_count": 27,
   "metadata": {},
   "outputs": [],
   "source": [
    "import numpy as np\n",
    "import copy"
   ]
  },
  {
   "cell_type": "code",
   "execution_count": 30,
   "metadata": {},
   "outputs": [],
   "source": [
    "def GEPP(mat, arr):\n",
    "    \n",
    "    A = copy.deepcopy(mat).astype(float)\n",
    "    b = copy.deepcopy(arr).astype(float)\n",
    "    n = len(A)\n",
    "    \n",
    "    if len(b) != n:\n",
    "        raise ValueError(\"Incompatible sizes between A & b\")\n",
    "\n",
    "    for k in range(n-1):\n",
    "        #k열 중 k행 이하의 최대 원소를 pivot으로 지정\n",
    "        maxindex = abs(A[k:,k]).argmax() + k\n",
    "        if A[maxindex, k] == 0:\n",
    "            raise ValueError(\"Singular Matrix\")\n",
    "        #permutation\n",
    "        if maxindex != k:\n",
    "            A[[k,maxindex]] = A[[maxindex, k]]\n",
    "            b[[k,maxindex]] = b[[maxindex, k]]\n",
    "        #forward\n",
    "        for row in range(k+1, n):\n",
    "            mul = A[row][k]/A[k][k]\n",
    "            A[row][k:] -= A[k][k:]*mul \n",
    "            if b[k]!=0:\n",
    "                b[row] -= mul*b[k]\n",
    "    #back\n",
    "    x = np.zeros(n)\n",
    "    k = n-1\n",
    "    x[k] = b[k]/A[k,k]\n",
    "    while k >= 0:\n",
    "        x[k] = (b[k] - np.dot(A[k,k+1:],x[k+1:]))/A[k,k]\n",
    "        k = k-1\n",
    "    return x"
   ]
  },
  {
   "cell_type": "code",
   "execution_count": 31,
   "metadata": {},
   "outputs": [
    {
     "name": "stdout",
     "output_type": "stream",
     "text": [
      "[-1.16666667 -1.5         1.5       ]\n"
     ]
    }
   ],
   "source": [
    "mat = np.array([[3,-1,2],[6,-1,5],[0,-1,1]])\n",
    "arr = np.array([1,2,3])\n",
    "print(GEPP(mat, arr))"
   ]
  },
  {
   "cell_type": "code",
   "execution_count": null,
   "metadata": {},
   "outputs": [],
   "source": [
    "def GEPP(mat, arr):\n",
    "    \n",
    "    A = copy.deepcopy(mat).astype(float)\n",
    "    b = copy.deepcopy(arr).astype(float)\n",
    "    n = len(A)\n",
    "    \n",
    "    if len(b) != n:\n",
    "        raise ValueError(\"Incompatible sizes between A & b\")\n",
    "\n",
    "    for k in range(n-1):\n",
    "        #k열 중 k행 이하의 최대 원소를 pivot으로 지정\n",
    "        maxindex = abs(A[k:,k]).argmax() + k\n",
    "        if A[maxindex, k] == 0:\n",
    "            raise ValueError(\"Singular Matrix\")\n",
    "        #permutation\n",
    "        if maxindex != k:\n",
    "            A[[k,maxindex]] = A[[maxindex, k]]\n",
    "            b[[k,maxindex]] = b[[maxindex, k]]\n",
    "        #forward\n",
    "        \n",
    "    #back\n",
    "    x = np.zeros(n)\n",
    "    \n",
    "    return x"
   ]
  }
 ],
 "metadata": {
  "kernelspec": {
   "display_name": "Python 3",
   "language": "python",
   "name": "python3"
  },
  "language_info": {
   "codemirror_mode": {
    "name": "ipython",
    "version": 3
   },
   "file_extension": ".py",
   "mimetype": "text/x-python",
   "name": "python",
   "nbconvert_exporter": "python",
   "pygments_lexer": "ipython3",
   "version": "3.6.6"
  }
 },
 "nbformat": 4,
 "nbformat_minor": 2
}
