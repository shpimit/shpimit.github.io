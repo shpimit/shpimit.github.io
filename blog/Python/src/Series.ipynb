{
 "cells": [
  {
   "cell_type": "code",
   "execution_count": 2,
   "metadata": {},
   "outputs": [
    {
     "name": "stdout",
     "output_type": "stream",
     "text": [
      "<class 'pandas.core.series.Series'>\n",
      "0    10\n",
      "1    20\n",
      "2    30\n",
      "3    40\n",
      "dtype: int64\n"
     ]
    }
   ],
   "source": [
    "from pandas import Series\n",
    "\n",
    "myseries = Series([10,20,30,40])\n",
    "print(type(myseries))\n",
    "print(myseries) # 색인을 명하지 않았음으로 0부터 색인 자동 부여"
   ]
  },
  {
   "cell_type": "code",
   "execution_count": 3,
   "metadata": {},
   "outputs": [
    {
     "name": "stdout",
     "output_type": "stream",
     "text": [
      "<class 'pandas.core.series.Series'>\n",
      "강감찬    10\n",
      "이순신    20\n",
      "김유신    30\n",
      "광해군    40\n",
      "dtype: int64\n",
      "--------------------------------------------------\n"
     ]
    }
   ],
   "source": [
    "myseries = Series([10,20,30,40], index=['강감찬','이순신','김유신','광해군'])\n",
    "print(type(myseries))\n",
    "print(myseries) \n",
    "print('-'*50)\n",
    "myseries.name = '호호호'\n",
    "myseries.index.name ='abcd'\n"
   ]
  },
  {
   "cell_type": "code",
   "execution_count": 4,
   "metadata": {},
   "outputs": [
    {
     "name": "stdout",
     "output_type": "stream",
     "text": [
      "30\n"
     ]
    }
   ],
   "source": [
    "print(myseries['김유신']) "
   ]
  },
  {
   "cell_type": "code",
   "execution_count": 5,
   "metadata": {},
   "outputs": [
    {
     "name": "stdout",
     "output_type": "stream",
     "text": [
      "abcd\n",
      "강감찬     10\n",
      "이순신     20\n",
      "김유신     30\n",
      "광해군    100\n",
      "Name: 호호호, dtype: int64\n"
     ]
    }
   ],
   "source": [
    "myseries['광해군']=100\n",
    "print(myseries) "
   ]
  },
  {
   "cell_type": "code",
   "execution_count": 6,
   "metadata": {},
   "outputs": [
    {
     "name": "stdout",
     "output_type": "stream",
     "text": [
      "abcd\n",
      "김유신    30\n",
      "이순신    20\n",
      "Name: 호호호, dtype: int64\n"
     ]
    }
   ],
   "source": [
    "print(myseries[['김유신','이순신']]) "
   ]
  },
  {
   "cell_type": "code",
   "execution_count": 7,
   "metadata": {},
   "outputs": [
    {
     "name": "stdout",
     "output_type": "stream",
     "text": [
      "abcd\n",
      "강감찬    10\n",
      "이순신    20\n",
      "김유신    30\n",
      "Name: 호호호, dtype: int64\n"
     ]
    }
   ],
   "source": [
    "print(myseries[myseries < 50]) "
   ]
  },
  {
   "cell_type": "code",
   "execution_count": 8,
   "metadata": {},
   "outputs": [
    {
     "name": "stdout",
     "output_type": "stream",
     "text": [
      "True\n"
     ]
    }
   ],
   "source": [
    "print('이순신' in myseries) "
   ]
  },
  {
   "cell_type": "code",
   "execution_count": 9,
   "metadata": {},
   "outputs": [
    {
     "name": "stdout",
     "output_type": "stream",
     "text": [
      "False\n"
     ]
    }
   ],
   "source": [
    "print('을지문덕' in myseries) "
   ]
  },
  {
   "cell_type": "code",
   "execution_count": 10,
   "metadata": {},
   "outputs": [
    {
     "name": "stdout",
     "output_type": "stream",
     "text": [
      "yes\n"
     ]
    }
   ],
   "source": [
    "if '이순신' in myseries:\n",
    "    print('yes')\n",
    "else:\n",
    "    print('no')"
   ]
  },
  {
   "cell_type": "code",
   "execution_count": 11,
   "metadata": {},
   "outputs": [
    {
     "name": "stdout",
     "output_type": "stream",
     "text": [
      "서울    2000\n",
      "부산    3000\n",
      "울산    4000\n",
      "광주    5000\n",
      "dtype: int64\n"
     ]
    }
   ],
   "source": [
    "sdata = {'서울':2000, '부산':3000, '울산':4000, '광주':5000}\n",
    "dseries = Series(sdata)\n",
    "print(dseries)"
   ]
  },
  {
   "cell_type": "code",
   "execution_count": 12,
   "metadata": {},
   "outputs": [
    {
     "name": "stdout",
     "output_type": "stream",
     "text": [
      "서울    2000.0\n",
      "부산    3000.0\n",
      "울산    4000.0\n",
      "목포       NaN\n",
      "dtype: float64\n"
     ]
    }
   ],
   "source": [
    "city = ['서울','부산','울산','목포']\n",
    "diseries = Series(sdata, index=city)\n",
    "print(diseries)"
   ]
  },
  {
   "cell_type": "code",
   "execution_count": 13,
   "metadata": {},
   "outputs": [
    {
     "name": "stdout",
     "output_type": "stream",
     "text": [
      "서울    False\n",
      "부산    False\n",
      "울산    False\n",
      "목포     True\n",
      "dtype: bool\n"
     ]
    }
   ],
   "source": [
    "import pandas as pd\n",
    "print(pd.isnull(diseries))"
   ]
  },
  {
   "cell_type": "code",
   "execution_count": 14,
   "metadata": {},
   "outputs": [
    {
     "name": "stdout",
     "output_type": "stream",
     "text": [
      "서울     True\n",
      "부산     True\n",
      "울산     True\n",
      "목포    False\n",
      "dtype: bool\n"
     ]
    }
   ],
   "source": [
    "print(pd.notnull(diseries))"
   ]
  },
  {
   "cell_type": "code",
   "execution_count": 15,
   "metadata": {},
   "outputs": [
    {
     "name": "stdout",
     "output_type": "stream",
     "text": [
      "광주       NaN\n",
      "목포       NaN\n",
      "부산    6000.0\n",
      "서울    4000.0\n",
      "울산    8000.0\n",
      "dtype: float64\n"
     ]
    }
   ],
   "source": [
    "print(dseries + diseries)"
   ]
  },
  {
   "cell_type": "code",
   "execution_count": 16,
   "metadata": {},
   "outputs": [
    {
     "name": "stdout",
     "output_type": "stream",
     "text": [
      "ㅋㅋㅋ\n",
      "서울    2000.0\n",
      "부산    3000.0\n",
      "울산    4000.0\n",
      "목포       NaN\n",
      "Name: 호호호, dtype: float64\n"
     ]
    }
   ],
   "source": [
    "diseries.name = '호호호'\n",
    "diseries.index.name = 'ㅋㅋㅋ'\n",
    "print(diseries)"
   ]
  },
  {
   "cell_type": "code",
   "execution_count": 17,
   "metadata": {},
   "outputs": [
    {
     "name": "stdout",
     "output_type": "stream",
     "text": [
      "Index(['a', 'b', 'c'], dtype='object')\n"
     ]
    }
   ],
   "source": [
    "myseries = Series(range(3), index=['a','b','c'])\n",
    "myindex = myseries.index\n",
    "print(myindex)"
   ]
  },
  {
   "cell_type": "code",
   "execution_count": 18,
   "metadata": {},
   "outputs": [
    {
     "name": "stdout",
     "output_type": "stream",
     "text": [
      "강감찬    10\n",
      "이순신    20\n",
      "김유신    30\n",
      "광해군    40\n",
      "dtype: int64\n"
     ]
    }
   ],
   "source": [
    "myseries = Series([10,20,30,40],index=['강감찬','이순신','김유신','광해군'])\n",
    "print(myseries)"
   ]
  },
  {
   "cell_type": "code",
   "execution_count": 19,
   "metadata": {},
   "outputs": [
    {
     "name": "stdout",
     "output_type": "stream",
     "text": [
      "강감찬    10.0\n",
      "이순신    20.0\n",
      "김유신    30.0\n",
      "광해군    40.0\n",
      "연산군     NaN\n",
      "dtype: float64\n"
     ]
    }
   ],
   "source": [
    "myseries2 = myseries.reindex(['강감찬','이순신','김유신','광해군','연산군'])\n",
    "print(myseries2)"
   ]
  },
  {
   "cell_type": "code",
   "execution_count": 20,
   "metadata": {},
   "outputs": [
    {
     "name": "stdout",
     "output_type": "stream",
     "text": [
      "강감찬    10\n",
      "이순신    20\n",
      "김유신    30\n",
      "광해군    40\n",
      "연산군     0\n",
      "dtype: int64\n"
     ]
    }
   ],
   "source": [
    "myseries3 = myseries.reindex(['강감찬','이순신','김유신','광해군','연산군'], fill_value=0)\n",
    "print(myseries3)"
   ]
  },
  {
   "cell_type": "code",
   "execution_count": 21,
   "metadata": {},
   "outputs": [
    {
     "name": "stdout",
     "output_type": "stream",
     "text": [
      "0      bule\n",
      "2    purple\n",
      "4    yellow\n",
      "dtype: object\n",
      "----------------------------------------\n",
      "0      bule\n",
      "1      bule\n",
      "2    purple\n",
      "3    purple\n",
      "4    yellow\n",
      "5    yellow\n",
      "dtype: object\n"
     ]
    }
   ],
   "source": [
    "# 보간이란 변량의 아는 값을 이용하여 그 사이에 놓일 값을 근사치로 계산해 내는 공식을 말한다.\n",
    "myseries4 = Series(['bule','purple','yellow'], index=[0,2,4])\n",
    "print(myseries4)\n",
    "print('-' * 40)\n",
    "myseries4=myseries4.reindex(range(6), method='ffill')\n",
    "print(myseries4)"
   ]
  },
  {
   "cell_type": "code",
   "execution_count": 22,
   "metadata": {},
   "outputs": [
    {
     "name": "stdout",
     "output_type": "stream",
     "text": [
      "0    10\n",
      "2    20\n",
      "4    30\n",
      "dtype: int64\n",
      "----------------------------------------\n",
      "0    10\n",
      "1    10\n",
      "2    20\n",
      "3    20\n",
      "4    30\n",
      "5    30\n",
      "dtype: int64\n"
     ]
    }
   ],
   "source": [
    "myseries5 = Series([10,20,30], index=[0,2,4])\n",
    "print(myseries5)\n",
    "print('-' * 40)\n",
    "myseries5=myseries5.reindex(range(6), method='ffill')\n",
    "print(myseries5)"
   ]
  },
  {
   "cell_type": "code",
   "execution_count": 24,
   "metadata": {},
   "outputs": [
    {
     "name": "stdout",
     "output_type": "stream",
     "text": [
      "서울    0.0\n",
      "부산    1.0\n",
      "광주    2.0\n",
      "대구    3.0\n",
      "dtype: float64\n"
     ]
    }
   ],
   "source": [
    "# 색인하기, 선택하기, 거르기\n",
    "import numpy as np\n",
    "obj = Series(np.arange(4.), index=['서울','부산','광주','대구'])\n",
    "print(obj)"
   ]
  },
  {
   "cell_type": "code",
   "execution_count": 26,
   "metadata": {},
   "outputs": [
    {
     "name": "stdout",
     "output_type": "stream",
     "text": [
      "1.0\n"
     ]
    }
   ],
   "source": [
    "print(obj['부산'])"
   ]
  },
  {
   "cell_type": "code",
   "execution_count": 27,
   "metadata": {},
   "outputs": [
    {
     "name": "stdout",
     "output_type": "stream",
     "text": [
      "1.0\n"
     ]
    }
   ],
   "source": [
    "print(obj[1])"
   ]
  },
  {
   "cell_type": "code",
   "execution_count": 28,
   "metadata": {},
   "outputs": [
    {
     "name": "stdout",
     "output_type": "stream",
     "text": [
      "광주    2.0\n",
      "대구    3.0\n",
      "dtype: float64\n"
     ]
    }
   ],
   "source": [
    "print(obj[2:4])"
   ]
  },
  {
   "cell_type": "code",
   "execution_count": 29,
   "metadata": {},
   "outputs": [
    {
     "name": "stdout",
     "output_type": "stream",
     "text": [
      "부산    1.0\n",
      "서울    0.0\n",
      "대구    3.0\n",
      "dtype: float64\n"
     ]
    }
   ],
   "source": [
    "print(obj[['부산','서울','대구']]) "
   ]
  },
  {
   "cell_type": "code",
   "execution_count": 30,
   "metadata": {},
   "outputs": [
    {
     "name": "stdout",
     "output_type": "stream",
     "text": [
      "부산    1.0\n",
      "대구    3.0\n",
      "dtype: float64\n"
     ]
    }
   ],
   "source": [
    "print(obj[[1,3]])"
   ]
  },
  {
   "cell_type": "code",
   "execution_count": 31,
   "metadata": {},
   "outputs": [
    {
     "name": "stdout",
     "output_type": "stream",
     "text": [
      "서울    0.0\n",
      "부산    1.0\n",
      "dtype: float64\n"
     ]
    }
   ],
   "source": [
    "print(obj[obj < 2])"
   ]
  },
  {
   "cell_type": "code",
   "execution_count": 32,
   "metadata": {},
   "outputs": [
    {
     "name": "stdout",
     "output_type": "stream",
     "text": [
      "부산    1.0\n",
      "광주    2.0\n",
      "dtype: float64\n"
     ]
    }
   ],
   "source": [
    "# 라벨이름으로 슬라이싱 하는것은 시작점과 끝점을 포함한다는 것이 일반 파이썬과의 슬라이싱과 다른점\n",
    "print(obj['부산':'광주'])"
   ]
  },
  {
   "cell_type": "code",
   "execution_count": 34,
   "metadata": {},
   "outputs": [],
   "source": [
    "myseries = Series( (np.arange(9)+ 1) * 10,\n",
    "                   index = [\n",
    "                       ['주니어','주니어','주니어','테일러','테일러','테일러','톰','톰','톰'],\n",
    "                       ['kor','eng','math','kor','eng','math','kor','eng','math']\n",
    "                       ])"
   ]
  },
  {
   "cell_type": "code",
   "execution_count": 35,
   "metadata": {},
   "outputs": [
    {
     "data": {
      "text/plain": [
       "주니어  kor     10\n",
       "     eng     20\n",
       "     math    30\n",
       "테일러  kor     40\n",
       "     eng     50\n",
       "     math    60\n",
       "톰    kor     70\n",
       "     eng     80\n",
       "     math    90\n",
       "dtype: int32"
      ]
     },
     "execution_count": 35,
     "metadata": {},
     "output_type": "execute_result"
    }
   ],
   "source": [
    "myseries"
   ]
  },
  {
   "cell_type": "code",
   "execution_count": null,
   "metadata": {},
   "outputs": [],
   "source": []
  }
 ],
 "metadata": {
  "kernelspec": {
   "display_name": "Python 3",
   "language": "python",
   "name": "python3"
  },
  "language_info": {
   "codemirror_mode": {
    "name": "ipython",
    "version": 3
   },
   "file_extension": ".py",
   "mimetype": "text/x-python",
   "name": "python",
   "nbconvert_exporter": "python",
   "pygments_lexer": "ipython3",
   "version": "3.6.6"
  }
 },
 "nbformat": 4,
 "nbformat_minor": 2
}
