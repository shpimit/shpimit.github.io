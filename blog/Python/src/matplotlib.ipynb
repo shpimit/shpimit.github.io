{
 "cells": [
  {
   "cell_type": "markdown",
   "metadata": {},
   "source": [
    "# [matplotlib](https://matplotlib.org/gallery/index.html)"
   ]
  },
  {
   "cell_type": "code",
   "execution_count": 1,
   "metadata": {},
   "outputs": [
    {
     "data": {
      "text/plain": [
       "<Figure size 640x480 with 1 Axes>"
      ]
     },
     "metadata": {},
     "output_type": "display_data"
    }
   ],
   "source": [
    "# font_manager 글꼴 관리자\n",
    "# rc 함수 : 전역적으로 사용하고 싶을때\n",
    "# 예을 들어서, Figure의 크기를(10, 10)으로 전역 설정하고 싶다면 다음과 같이 코딩한다.\n",
    "# plt.rc('figure',figsize=(10,10))\n",
    "\n",
    "from matplotlib import font_manager, rc\n",
    "import matplotlib.pyplot as plt\n",
    "\n",
    "# 더 많은 설정과 옵션의 종류는 matplotlib/mpl-data폴더의 matplotlibrc 파일에 저장되어 있다.\n",
    "# 예시) 파이썬 설치 경로\\Lib\\site-packages\\matplotlib\\mpl-data\\matplotlibrc \n",
    "font_location = 'c:/Windows/Fonts/malgun.ttf'  # \\는 \\\\를 사용한다\n",
    "font_name = font_manager.FontProperties(fname=font_location).get_name()\n",
    "plt.rc('font',family=font_name)\n",
    "\n",
    "xdata = [1, 2, 3, 4]\n",
    "ydata = [5, 6, 7, 8]\n",
    "\n",
    "plt.plot(xdata, ydata)  # 백그라운에 그린다.\n",
    "plt.xlabel('x축 한글 표시')\n",
    "plt.ylabel('y축 한글 표시')\n",
    "plt.title('matplotlib 활용')\n",
    "plt.show()  # 그린것을  보여준다.."
   ]
  },
  {
   "cell_type": "code",
   "execution_count": null,
   "metadata": {},
   "outputs": [],
   "source": []
  }
 ],
 "metadata": {
  "kernelspec": {
   "display_name": "Python 3",
   "language": "python",
   "name": "python3"
  },
  "language_info": {
   "codemirror_mode": {
    "name": "ipython",
    "version": 3
   },
   "file_extension": ".py",
   "mimetype": "text/x-python",
   "name": "python",
   "nbconvert_exporter": "python",
   "pygments_lexer": "ipython3",
   "version": "3.6.6"
  }
 },
 "nbformat": 4,
 "nbformat_minor": 2
}
