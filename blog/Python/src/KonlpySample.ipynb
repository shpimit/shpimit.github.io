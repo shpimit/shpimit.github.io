{
 "cells": [
  {
   "cell_type": "markdown",
   "metadata": {},
   "source": [
    "## KoNLPy의 경우 JAVA로 작성된 모듈을 로드하여야 하기 때문에 'JPype1 0.5.7' 이상이 설치되어야 한다."
   ]
  },
  {
   "cell_type": "markdown",
   "metadata": {},
   "source": [
    "[JPype1‑0.6.3‑cp36‑cp36m‑win_amd64.whl](https://www.lfd.uci.edu/~gohlke/pythonlibs/#jpype)"
   ]
  },
  {
   "cell_type": "markdown",
   "metadata": {},
   "source": [
    "cmd 창에서 해당 폴더로 이동 후 pip install JPype1-0.6.3-cp36-cp36m-win_amd64.whl 엔터"
   ]
  },
  {
   "cell_type": "markdown",
   "metadata": {},
   "source": [
    "> pip install JPype1-0.6.3-cp36-cp36m-win_amd64.whl\n",
    "\n",
    "> pip install KoNLPy"
   ]
  },
  {
   "cell_type": "code",
   "execution_count": 1,
   "metadata": {},
   "outputs": [
    {
     "name": "stderr",
     "output_type": "stream",
     "text": [
      "C:\\Users\\shpim\\Anaconda3\\lib\\site-packages\\konlpy\\tag\\_okt.py:16: UserWarning: \"Twitter\" has changed to \"Okt\" since KoNLPy v0.4.5.\n",
      "  warn('\"Twitter\" has changed to \"Okt\" since KoNLPy v0.4.5.')\n"
     ]
    },
    {
     "data": {
      "text/plain": [
       "[('아름답다', 'Adjective'),\n",
       " ('그녀', 'Noun'),\n",
       " ('가', 'Josa'),\n",
       " ('아버지', 'Noun'),\n",
       " ('가방', 'Noun'),\n",
       " ('에', 'Josa'),\n",
       " ('들어가다', 'Verb'),\n",
       " ('.', 'Punctuation')]"
      ]
     },
     "execution_count": 1,
     "metadata": {},
     "output_type": "execute_result"
    }
   ],
   "source": [
    "from konlpy.tag import Twitter\n",
    "\n",
    "twitter = Twitter()\n",
    "\n",
    "text = \"아름다운그녀가아버지가방에들어가신다.\"\n",
    "\n",
    "# stem = True 이면, 형용사/동산의 기본원형으로 바꿔준다.\n",
    "# 아름다운 -> 아름답다, 들어가신다 -=> 들어간다.\n",
    "# norm = 정규화로 바꾸어 준다.\n",
    "malist = twitter.pos(text, norm=True, stem=True)\n",
    "malist"
   ]
  },
  {
   "cell_type": "code",
   "execution_count": 2,
   "metadata": {},
   "outputs": [
    {
     "data": {
      "text/plain": [
       "[('아름답다', 'Adjective'),\n",
       " ('그녀', 'Noun'),\n",
       " ('가', 'Josa'),\n",
       " ('아버지', 'Noun'),\n",
       " ('가방', 'Noun'),\n",
       " ('에', 'Josa'),\n",
       " ('들어가다', 'Verb'),\n",
       " ('.', 'Punctuation')]"
      ]
     },
     "execution_count": 2,
     "metadata": {},
     "output_type": "execute_result"
    }
   ],
   "source": [
    "malist = twitter.pos(text, norm=False, stem=True)\n",
    "malist"
   ]
  },
  {
   "cell_type": "code",
   "execution_count": 3,
   "metadata": {},
   "outputs": [
    {
     "data": {
      "text/plain": [
       "[('아름다운', 'Adjective'),\n",
       " ('그녀', 'Noun'),\n",
       " ('가', 'Josa'),\n",
       " ('아버지', 'Noun'),\n",
       " ('가방', 'Noun'),\n",
       " ('에', 'Josa'),\n",
       " ('들어가신다', 'Verb'),\n",
       " ('.', 'Punctuation')]"
      ]
     },
     "execution_count": 3,
     "metadata": {},
     "output_type": "execute_result"
    }
   ],
   "source": [
    "malist = twitter.pos(text, norm=True, stem=False)\n",
    "malist"
   ]
  },
  {
   "cell_type": "code",
   "execution_count": 4,
   "metadata": {},
   "outputs": [
    {
     "data": {
      "text/plain": [
       "[('아름다운', 'Adjective'),\n",
       " ('그녀', 'Noun'),\n",
       " ('가', 'Josa'),\n",
       " ('아버지', 'Noun'),\n",
       " ('가방', 'Noun'),\n",
       " ('에', 'Josa'),\n",
       " ('들어가신다', 'Verb'),\n",
       " ('.', 'Punctuation')]"
      ]
     },
     "execution_count": 4,
     "metadata": {},
     "output_type": "execute_result"
    }
   ],
   "source": [
    "malist = twitter.pos(text, norm=False, stem=False)\n",
    "malist"
   ]
  },
  {
   "cell_type": "code",
   "execution_count": 5,
   "metadata": {},
   "outputs": [
    {
     "data": {
      "text/plain": [
       "list"
      ]
     },
     "execution_count": 5,
     "metadata": {},
     "output_type": "execute_result"
    }
   ],
   "source": [
    "type(malist) # type을 알기 위해서 하는것"
   ]
  },
  {
   "cell_type": "code",
   "execution_count": 6,
   "metadata": {},
   "outputs": [
    {
     "name": "stdout",
     "output_type": "stream",
     "text": [
      "단어: 아름다운\n",
      "픔사: Adjective\n",
      "단어: 그녀\n",
      "픔사: Noun\n",
      "단어: 가\n",
      "픔사: Josa\n",
      "단어: 아버지\n",
      "픔사: Noun\n",
      "단어: 가방\n",
      "픔사: Noun\n",
      "단어: 에\n",
      "픔사: Josa\n",
      "단어: 들어가신다\n",
      "픔사: Verb\n",
      "단어: .\n",
      "픔사: Punctuation\n"
     ]
    }
   ],
   "source": [
    "for myitem in malist:\n",
    "    print(\"단어:\", myitem[0])\n",
    "    print(\"픔사:\", myitem[1])"
   ]
  },
  {
   "cell_type": "code",
   "execution_count": null,
   "metadata": {},
   "outputs": [],
   "source": []
  }
 ],
 "metadata": {
  "kernelspec": {
   "display_name": "Python 3",
   "language": "python",
   "name": "python3"
  },
  "language_info": {
   "codemirror_mode": {
    "name": "ipython",
    "version": 3
   },
   "file_extension": ".py",
   "mimetype": "text/x-python",
   "name": "python",
   "nbconvert_exporter": "python",
   "pygments_lexer": "ipython3",
   "version": "3.6.6"
  }
 },
 "nbformat": 4,
 "nbformat_minor": 2
}
